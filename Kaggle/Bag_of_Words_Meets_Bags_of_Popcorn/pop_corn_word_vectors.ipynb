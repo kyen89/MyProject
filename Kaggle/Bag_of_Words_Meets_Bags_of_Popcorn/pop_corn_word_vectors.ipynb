{
 "cells": [
  {
   "cell_type": "markdown",
   "metadata": {},
   "source": [
    "# 2. Bag of Words Meets Bags of Popcorn : Word2Vec"
   ]
  },
  {
   "cell_type": "markdown",
   "metadata": {},
   "source": [
    "## Table of Contents"
   ]
  },
  {
   "cell_type": "markdown",
   "metadata": {},
   "source": [
    "1. [Introduction](#intro)<br><br>\n",
    "2. [Reading the Data](#reading)<br><br>\n",
    "3. [Data Cleaning and Text Preprocessing](#dctp)<br> - [3.1. Splitting a Sentence to Words](#ssw)<br> - [3.2. Splitting a Paragraph to Sentences](#sps)<br> - [3.3. Combining Labeled and Unlabeled Reviews](#clur)<br><br>\n",
    "4. [Word2Vec](#word2vec)<br><br>\n",
    "5. [Visualization](#viz)<br><br>\n",
    "6. [From Words to Paragraph](#fwp)<br> - [6.1. Vector Averaging](#vaveraging)<br> - [6.2. Clustering](#clustering)<br> - [6.2.1 KMeans Clustering](#kmc)<br> - [6.2.2. Mapping Vocabulary to Cluster](#mvc)<br> - [6.2.3. Bag of Centroids](#boc)<br><br>\n",
    "7. [Modeling](#modeling)<br>- [7.1. Modeling for Vector Averaging](#mva)<br> - [7.1.1. Linear Support Vector Machine](#svm1)<br>- [7.1.2. Bernoulli Naive Bayes Classifier](#bnb1)<br>- [7.1.3. Perceptron](#perceptron1)<br> - [7.1.4. Logistic Regression](#logi1)<br> - [7.2. Modeling for Clustering](#mc)<br> - [7.2.1. Linear Support Vector Machine](#svm2)<br> - [7.2.2. Bernoulli Naive Bayes Classifier](#bnb2)<br> - [7.2.3. Perceptron](#perceptron2)<br> - [7.2.4. Logistic Regression](#logi2)<br><br>\n",
    "8. [Submission](#submission)<br><br>\n",
    "9. [Conclusion](#conclusion)<br><br>\n",
    "\n",
    "First notebook: [Bag of Words Meets Bags of Popcorn: CountVectorizer](https://www.kaggle.com/kyen89/0-sentiment-analysis-countvectorizer/)<br>\n",
    "Second notebook: [Bag of Words Meets Bags of Popcorn: TF-IDF](https://www.kaggle.com/kyen89/1-sentiment-analysis-tf-idf)"
   ]
  },
  {
   "cell_type": "code",
   "execution_count": null,
   "metadata": {
    "collapsed": true
   },
   "outputs": [],
   "source": []
  },
  {
   "cell_type": "markdown",
   "metadata": {},
   "source": [
    "## 1. Introduction <a id = \"intro\"></a>"
   ]
  },
  {
   "cell_type": "markdown",
   "metadata": {},
   "source": [
    "This is the third notebook for IMDb sentiment analysis (First notebook: [Bag of Words Meets Bags of Popcorn: CountVectorizer](url_here), Second notebook: [Bag of Words Meets Bags of Popcorn: TF-IDF](url_here)). In this notebook, for a bit deeper sentiment analysis, we will be using Word2Vec to train a model. Word2Vec is a neural network based algorithm that creates distributed word vectors.\n",
    "One of the advantages of Word2Vec over Bag Of Words, it understands meaning and semantic relationships among words. Also, it does not require labels in order to create meaningful representations. In addition that in a aspect of speed, it learns quickly compared to other methods. Once the Word2Vec is created, we will visualize the vectorized data by t-SNE. Before we dive into modeling, there is one more step to prepare two different matrices created by using Word2Vec by vector averaging method and clustering method. We will test them independently and choose the best one among the results predicted by different methods including 'bag of words' and 'TF-IDF."
   ]
  },
  {
   "cell_type": "code",
   "execution_count": null,
   "metadata": {
    "collapsed": true
   },
   "outputs": [],
   "source": []
  },
  {
   "cell_type": "markdown",
   "metadata": {},
   "source": [
    "## 2. Reading the Data <a id = \"reading\"></a>"
   ]
  },
  {
   "cell_type": "code",
   "execution_count": 1,
   "metadata": {
    "collapsed": true
   },
   "outputs": [],
   "source": [
    "import pandas as pd\n",
    "import numpy as np\n",
    "import warnings\n",
    "warnings.filterwarnings('ignore')"
   ]
  },
  {
   "cell_type": "code",
   "execution_count": 2,
   "metadata": {
    "collapsed": false
   },
   "outputs": [],
   "source": [
    "# Read the labeled training and test data\n",
    "# Header = 0 indicates that the first line of the file contains column names, \n",
    "# delimiter = \\t indicates that the fields are seperated by tabs, and \n",
    "# quoting = 3 tells python to ignore doubled quotes\n",
    "\n",
    "train = pd.read_csv('labeledTrainData.tsv', header = 0, delimiter = '\\t', quoting = 3)\n",
    "test = pd.read_csv('testData.tsv', header = 0, delimiter = '\\t', quoting = 3)\n",
    "unlabel_train = pd.read_csv('unlabeledTrainData.tsv', header = 0, delimiter = '\\t', quoting = 3)"
   ]
  },
  {
   "cell_type": "code",
   "execution_count": 3,
   "metadata": {
    "collapsed": false
   },
   "outputs": [
    {
     "data": {
      "text/plain": [
       "'train dim:(25000, 3), unlabeled train dim:(50000, 2), test dim:(25000, 2)'"
      ]
     },
     "execution_count": 3,
     "metadata": {},
     "output_type": "execute_result"
    }
   ],
   "source": [
    "'train dim:{}, unlabeled train dim:{}, test dim:{}'.format(train.shape, unlabel_train.shape, test.shape)"
   ]
  },
  {
   "cell_type": "markdown",
   "metadata": {},
   "source": [
    "One thing to notice is that unlike the previous two notebook, now we can use a unlabeled data set since as mentioned to the introduction, word2vec can learn from unlabeled data."
   ]
  },
  {
   "cell_type": "code",
   "execution_count": null,
   "metadata": {
    "collapsed": true
   },
   "outputs": [],
   "source": []
  },
  {
   "cell_type": "markdown",
   "metadata": {},
   "source": [
    "## 3. Data Cleaning and Text Preprocessing <a id='dctp'></a>\n"
   ]
  },
  {
   "cell_type": "code",
   "execution_count": 4,
   "metadata": {
    "collapsed": false
   },
   "outputs": [],
   "source": [
    "# Import the libraries for data cleaning.\n",
    "\n",
    "from bs4 import BeautifulSoup\n",
    "import re\n",
    "import nltk"
   ]
  },
  {
   "cell_type": "code",
   "execution_count": null,
   "metadata": {
    "collapsed": true
   },
   "outputs": [],
   "source": []
  },
  {
   "cell_type": "markdown",
   "metadata": {},
   "source": [
    "### 3.1 Splitting a Sentence to Words <a id='ssw'></a>"
   ]
  },
  {
   "cell_type": "code",
   "execution_count": 5,
   "metadata": {
    "collapsed": false
   },
   "outputs": [],
   "source": [
    "def preprocess_wordlist(data, stopwords = False):\n",
    "    \n",
    "    # Remove HTML tag\n",
    "    review = BeautifulSoup(data,'html.parser').get_text()\n",
    "    \n",
    "    # Remove non-letters\n",
    "    review = re.sub('[^a-zA-Z]', ' ', review)\n",
    "    \n",
    "    # Convert to lower case\n",
    "    review = review.lower()\n",
    "    \n",
    "    # Tokenize\n",
    "    word = nltk.word_tokenize(review)\n",
    "    \n",
    "    # Optional: Remove stop words (false by default)\n",
    "    if stopwords:\n",
    "        stops = set(nltk.corpus.stopwords.words(\"english\"))\n",
    "        \n",
    "        words = [w for w in word if not w in stops]\n",
    "    \n",
    "    return word\n"
   ]
  },
  {
   "cell_type": "markdown",
   "metadata": {},
   "source": [
    "For creating a model, unlike Bag Of Words method, it is not necessary to remove the stopwords such as \"the\", \"a\", \"and\", etc as the algorithm relies on the broader context of the sentence in order to produce high-quality word vectors. Another thing to mention is that it may improve the accuracy to keep numbers from the data but for the simplicity, I decide to delete everything except alphabet characters."
   ]
  },
  {
   "cell_type": "code",
   "execution_count": null,
   "metadata": {
    "collapsed": true
   },
   "outputs": [],
   "source": []
  },
  {
   "cell_type": "markdown",
   "metadata": {},
   "source": [
    "### 3.2 Splitting a Paragraph to Sentences <a id='sps'></a>"
   ]
  },
  {
   "cell_type": "code",
   "execution_count": 6,
   "metadata": {
    "collapsed": false
   },
   "outputs": [],
   "source": [
    "def preprocess_sent(data, stopwords = False):\n",
    "    \n",
    "    # Split the paragraph into sentences\n",
    "    \n",
    "    #raw = tokenizer.tokenize(data.strip())\n",
    "    raw = nltk.sent_tokenize(data.strip())\n",
    "    \n",
    "    # If the length of the sentence is greater than 0, plug the sentence in the function preprocess_wordlist (clean the sentence)\n",
    "    sentences = [preprocess_wordlist(sent, stopwords) for sent in raw if len(sent) > 0]\n",
    "    \n",
    "    return sentences"
   ]
  },
  {
   "cell_type": "markdown",
   "metadata": {},
   "source": [
    "The most important thing to notice is splitting sentences by sentences __prior to__ splitting them to single word because you will lose the information which words have formed a sentence if you split into words first. Some may question that simple split function might be enough to split up a paragraph to sentences; however, English sentences can end with many punctuations and it is not strange that anything can be placed at the end of the sentences. For this reason, when we split text into sentences, we need to use NLTK's punkt tokenizer (sent_tokenize function uses an instance of a punkt tokenizer). The punkt tokenizer is an unsupervised trainable model ,which enables that the tokenizer uses to decide where to cut or learn abbreviations in text."
   ]
  },
  {
   "cell_type": "code",
   "execution_count": null,
   "metadata": {
    "collapsed": true
   },
   "outputs": [],
   "source": []
  },
  {
   "cell_type": "markdown",
   "metadata": {},
   "source": [
    "### 3.3 Combining Labeled and Unlabeled Reviews <a id='clur'></a>"
   ]
  },
  {
   "cell_type": "code",
   "execution_count": 7,
   "metadata": {
    "collapsed": false
   },
   "outputs": [],
   "source": [
    "sentence = []\n",
    "\n",
    "# Append labeled reviews first\n",
    "for review in train['review']:\n",
    "    sentence += preprocess_sent(review)\n",
    "    \n",
    "# Append unlabeled reviews\n",
    "for review in unlabel_train['review']:\n",
    "    sentence += preprocess_sent(review)\n"
   ]
  },
  {
   "cell_type": "code",
   "execution_count": 8,
   "metadata": {
    "collapsed": false
   },
   "outputs": [
    {
     "name": "stdout",
     "output_type": "stream",
     "text": [
      "795538\n",
      "\n",
      "[['with', 'all', 'this', 'stuff', 'going', 'down', 'at', 'the', 'moment', 'with', 'mj', 'i', 've', 'started', 'listening', 'to', 'his', 'music', 'watching', 'the', 'odd', 'documentary', 'here', 'and', 'there', 'watched', 'the', 'wiz', 'and', 'watched', 'moonwalker', 'again'], ['maybe', 'i', 'just', 'want', 'to', 'get', 'a', 'certain', 'insight', 'into', 'this', 'guy', 'who', 'i', 'thought', 'was', 'really', 'cool', 'in', 'the', 'eighties', 'just', 'to', 'maybe', 'make', 'up', 'my', 'mind', 'whether', 'he', 'is', 'guilty', 'or', 'innocent']]\n"
     ]
    }
   ],
   "source": [
    "print(len(sentence))\n",
    "print()\n",
    "print(sentence[:2])"
   ]
  },
  {
   "cell_type": "code",
   "execution_count": 9,
   "metadata": {
    "collapsed": false
   },
   "outputs": [
    {
     "data": {
      "text/plain": [
       "'\"With all this stuff going down at the moment with MJ i\\'ve started listening to his music, watching the odd documentary here and there, watched The Wiz and watched Moonwalker again. Maybe i just want to get a certain insight into this guy who i thought was really cool in the eighties just to maybe make up my mind whether he is guilty or innocent. Moonwalker is part biography, part feature film which i remember going to see at the cinema when it was originally released. Some of it has subtle messages about MJ\\'s feeling towards the press and also the obvious message of drugs are bad m\\'kay.<br /><br />Visually impressive but of course this is all about Michael Jackson so unless you remotely like MJ in anyway then you are going to hate this and find it boring. Some may call MJ an egotist for consenting to the making of this movie BUT MJ and most of his fans would say that he made it for the fans which if true is really nice of him.<br /><br />The actual feature film bit when it finally starts is only on for 20 minutes or so excluding the Smooth Criminal sequence and Joe Pesci is convincing as a psychopathic all powerful drug lord. Why he wants MJ dead so bad is beyond me. Because MJ overheard his plans? Nah, Joe Pesci\\'s character ranted that he wanted people to know it is he who is supplying drugs etc so i dunno, maybe he just hates MJ\\'s music.<br /><br />Lots of cool things in this like MJ turning into a car and a robot and the whole Speed Demon sequence. Also, the director must have had the patience of a saint when it came to filming the kiddy Bad sequence as usually directors hate working with one kid let alone a whole bunch of them performing a complex dance scene.<br /><br />Bottom line, this movie is for people who like MJ on one level or another (which i think is most people). If not, then stay away. It does try and give off a wholesome message and ironically MJ\\'s bestest buddy in this movie is a girl! Michael Jackson is truly one of the most talented people ever to grace this planet but is he guilty? Well, with all the attention i\\'ve gave this subject....hmmm well i don\\'t know because people can be different behind closed doors, i know this for a fact. He is either an extremely nice but stupid guy or one of the most sickest liars. I hope he is not the latter.\"'"
      ]
     },
     "execution_count": 9,
     "metadata": {},
     "output_type": "execute_result"
    }
   ],
   "source": [
    "train['review'][0]"
   ]
  },
  {
   "cell_type": "code",
   "execution_count": null,
   "metadata": {
    "collapsed": true
   },
   "outputs": [],
   "source": []
  },
  {
   "cell_type": "markdown",
   "metadata": {},
   "source": [
    "## 4. Word2Vec <a id='word2vec'></a>"
   ]
  },
  {
   "cell_type": "markdown",
   "metadata": {},
   "source": [
    "In general, there are two types of architecture options: skip-gram (default) and CBOW (continuous bag of words). Most of time, skip-gram is little bit slower but has more accuracy than CBOW. CBOW is the method to predict one word by whole text; therefore, small set of data is more favorable. On the other hand, skip-gram is totally opposite to CBOW. With the target word, skip-gram is the method to predict the words around the target words. The more data we have, the better it performs. As the architecture, there are two training algorithms for Word2Vec: Hierarchical softmax (default) and negative sampling. We will be using the default."
   ]
  },
  {
   "cell_type": "code",
   "execution_count": 10,
   "metadata": {
    "collapsed": true
   },
   "outputs": [],
   "source": [
    "from gensim.models import word2vec"
   ]
  },
  {
   "cell_type": "code",
   "execution_count": 11,
   "metadata": {
    "collapsed": true
   },
   "outputs": [],
   "source": [
    "num_features = 250 #400\n",
    "min_count = 40\n",
    "num_processor = 4\n",
    "context = 10\n",
    "downsampling = 0.001"
   ]
  },
  {
   "cell_type": "code",
   "execution_count": 12,
   "metadata": {
    "collapsed": true
   },
   "outputs": [],
   "source": [
    "# Plug in the sentence variable first.\n",
    "\n",
    "model = word2vec.Word2Vec(sentence, workers = num_processor, \n",
    "                         size = num_features, min_count = min_count,\n",
    "                         window = context, sample = downsampling)"
   ]
  },
  {
   "cell_type": "markdown",
   "metadata": {},
   "source": [
    "Worker threads : Number of parallel processes to run. One thing to remember here is that unlike sklearn, it does not accept -1 option to use all the processors. <br>\n",
    "\n",
    "Downsampling of frequent words : According to the Google documentation, values between 0.00001 and 0.001 would suffice. <br>\n",
    "\n",
    "Context : How many words around the target word will be used? <br>\n",
    "\n",
    "Minimum word count: This helps limit the size of the vocabulary to meaningful words. Any word that does not occur at least this many times across all documents is ignored. Reasonable values could be between 10 and 100. The reason why I chose 40 is that there are 30 reviews in each movie and repeat the title 30 times; therefore in order to avoid attaching too much importance to individual movie titles, I set to 40. <br>\n",
    "\n",
    "Word vector dimensionality: Self-explanatory. \n"
   ]
  },
  {
   "cell_type": "code",
   "execution_count": null,
   "metadata": {
    "collapsed": true
   },
   "outputs": [],
   "source": []
  },
  {
   "cell_type": "code",
   "execution_count": 13,
   "metadata": {
    "collapsed": true
   },
   "outputs": [],
   "source": [
    "# Unload unneccessary memory once the learning process is done.\n",
    "\n",
    "model.init_sims(replace = True)"
   ]
  },
  {
   "cell_type": "code",
   "execution_count": 14,
   "metadata": {
    "collapsed": true
   },
   "outputs": [],
   "source": [
    "model_name = \"250features_40minwords_20context\"\n",
    "model.save(model_name)"
   ]
  },
  {
   "cell_type": "code",
   "execution_count": 15,
   "metadata": {
    "collapsed": false
   },
   "outputs": [
    {
     "data": {
      "text/plain": [
       "[('lion', 0.627491295337677),\n",
       " ('prince', 0.6185480952262878),\n",
       " ('kings', 0.5733351707458496),\n",
       " ('aladdin', 0.5512279868125916),\n",
       " ('kingdom', 0.5376026034355164),\n",
       " ('dorff', 0.5352180600166321),\n",
       " ('stephen', 0.5336683988571167),\n",
       " ('solomon', 0.5302910804748535),\n",
       " ('arthur', 0.5255468487739563),\n",
       " ('narnia', 0.5098666548728943)]"
      ]
     },
     "execution_count": 15,
     "metadata": {},
     "output_type": "execute_result"
    }
   ],
   "source": [
    "model.most_similar(\"king\")"
   ]
  },
  {
   "cell_type": "markdown",
   "metadata": {},
   "source": [
    "Due to the constraint of memory and CPU power, num_features option was reduced from what I first intend to use 400 to 250. If your system is sustainable enough to run K-Means clustering with 400 features or even more, feel free to change the number and try out."
   ]
  },
  {
   "cell_type": "code",
   "execution_count": null,
   "metadata": {
    "collapsed": true
   },
   "outputs": [],
   "source": []
  },
  {
   "cell_type": "markdown",
   "metadata": {},
   "source": [
    "## 5. Visualization <a id='viz'></a>\n",
    "\n",
    "As the Word2Vec has more than two features, it is hard to directly plot the whole data. We will be using the technique called t-SNE so that we can reduce the dimensions from 250 to 2, which enables to visualize more human-friendly and see the relationship among points (words)."
   ]
  },
  {
   "cell_type": "code",
   "execution_count": 16,
   "metadata": {
    "collapsed": false
   },
   "outputs": [],
   "source": [
    "# Import libraries\n",
    "from sklearn.manifold import TSNE\n",
    "import matplotlib as mpl\n",
    "import matplotlib.pyplot as plt"
   ]
  },
  {
   "cell_type": "code",
   "execution_count": 17,
   "metadata": {
    "collapsed": false
   },
   "outputs": [
    {
     "name": "stdout",
     "output_type": "stream",
     "text": [
      "Total Number of Vocab: 16487\n",
      "\n",
      "[ 0.09009505  0.02024101 -0.07583417  0.01187313  0.01057337  0.12763973\n",
      "  0.09455144 -0.05439864 -0.01137526 -0.01077319]\n"
     ]
    }
   ],
   "source": [
    "# List of vocabulary.\n",
    "\n",
    "vocab = list(model.wv.vocab)\n",
    "\n",
    "# index vector values by corresponding vocab list\n",
    "\n",
    "X = model[vocab]\n",
    "\n",
    "print(\"Total Number of Vocab:\", len(X))\n",
    "print()\n",
    "print(X[0][:10])\n",
    "\n",
    "# Visualize only 100 words.\n",
    "\n",
    "tsne = TSNE(n_components = 2)\n",
    "X_tsne = tsne.fit_transform(X[:100,:])"
   ]
  },
  {
   "cell_type": "code",
   "execution_count": 18,
   "metadata": {
    "collapsed": false
   },
   "outputs": [
    {
     "data": {
      "text/html": [
       "<div>\n",
       "<style>\n",
       "    .dataframe thead tr:only-child th {\n",
       "        text-align: right;\n",
       "    }\n",
       "\n",
       "    .dataframe thead th {\n",
       "        text-align: left;\n",
       "    }\n",
       "\n",
       "    .dataframe tbody tr th {\n",
       "        vertical-align: top;\n",
       "    }\n",
       "</style>\n",
       "<table border=\"1\" class=\"dataframe\">\n",
       "  <thead>\n",
       "    <tr style=\"text-align: right;\">\n",
       "      <th></th>\n",
       "      <th>X</th>\n",
       "      <th>Y</th>\n",
       "    </tr>\n",
       "  </thead>\n",
       "  <tbody>\n",
       "    <tr>\n",
       "      <th>with</th>\n",
       "      <td>-2.872645</td>\n",
       "      <td>-9.582815</td>\n",
       "    </tr>\n",
       "    <tr>\n",
       "      <th>all</th>\n",
       "      <td>0.723662</td>\n",
       "      <td>-4.539122</td>\n",
       "    </tr>\n",
       "    <tr>\n",
       "      <th>this</th>\n",
       "      <td>-0.770226</td>\n",
       "      <td>-5.038066</td>\n",
       "    </tr>\n",
       "    <tr>\n",
       "      <th>stuff</th>\n",
       "      <td>1.007757</td>\n",
       "      <td>-5.927763</td>\n",
       "    </tr>\n",
       "    <tr>\n",
       "      <th>going</th>\n",
       "      <td>-2.208923</td>\n",
       "      <td>-0.926091</td>\n",
       "    </tr>\n",
       "  </tbody>\n",
       "</table>\n",
       "</div>"
      ],
      "text/plain": [
       "              X         Y\n",
       "with  -2.872645 -9.582815\n",
       "all    0.723662 -4.539122\n",
       "this  -0.770226 -5.038066\n",
       "stuff  1.007757 -5.927763\n",
       "going -2.208923 -0.926091"
      ]
     },
     "execution_count": 18,
     "metadata": {},
     "output_type": "execute_result"
    }
   ],
   "source": [
    "df = pd.DataFrame(X_tsne, index = vocab[:100], columns = ['X','Y'])\n",
    "df.head()"
   ]
  },
  {
   "cell_type": "code",
   "execution_count": 19,
   "metadata": {
    "collapsed": false
   },
   "outputs": [
    {
     "data": {
      "image/png": "[encoded data removed]",
      "text/plain": [
       "<matplotlib.figure.Figure at 0x16a8047b8>"
      ]
     },
     "metadata": {},
     "output_type": "display_data"
    }
   ],
   "source": [
    "fig = plt.figure()\n",
    "fig.set_size_inches(30,20)\n",
    "\n",
    "ax = fig.add_subplot(1,1,1)\n",
    "ax.scatter(df['X'], df['Y'])\n",
    "\n",
    "# Put the label on each point.\n",
    "for word, pos in df.iterrows():\n",
    "    ax.annotate(word, pos, fontsize = 30)\n",
    "plt.show()"
   ]
  },
  {
   "cell_type": "markdown",
   "metadata": {
    "collapsed": false
   },
   "source": [
    "The above plot indicates a lot of information about the movie. First, some groups consist of very similar words. \"michael\", \"jackson\" and \"mj\" are located very closely and \"his\", \"he\", and \"guy\" are also very close to each other or \"bad\" and \"boring\". On the other hand, some words are grouped with totally opposite words such as \"innocent\" and \"guilty\" or \"want\" and \"hate\". From this fact, without even reading the actual reviews, we can presume that many positive reviews came from Michael Jackson fans and many negative reviews came from non-Micael Jackson fans because as mentioned above, the totally opposite meaning of words are clustered very closely like \"hate\" and \"like\".<br> \n",
    "\n",
    "We can find some very informative words describing the movie including \"eighties\", \"music\", \"documentary\", \"biography\", \"remember\", \"unless\". By these words, we can easily infer that the first review is about Michael Jackson biographical documentary. Also, this move would be bad or boring unless you are a fan of Michael Jackson.<br>\n",
    "\n",
    "Lastly, one more pattern to notice is stopword groups: \"the\", \"a\", \"an\" and \"is\", \"was\", \"are\", \"s\", \"ve\", \"has\". Even though they do not give any information about the review, the fact that the stopwords are clustered together closely shows how well the t-sne performed.<br>\n",
    "\n",
    "Compared to the previous methods' (CountVectorizer, TF-IDF) WordCloud, it appears more informative and based on the above plot, we can capture the general shape of the first review."
   ]
  },
  {
   "cell_type": "code",
   "execution_count": null,
   "metadata": {
    "collapsed": true
   },
   "outputs": [],
   "source": []
  },
  {
   "cell_type": "markdown",
   "metadata": {},
   "source": [
    "## 6. From Words to Paragraph <a id='fwp'></a>"
   ]
  },
  {
   "cell_type": "markdown",
   "metadata": {},
   "source": [
    "### 6.1 Vector Averaging <a id='vaveraging'></a>"
   ]
  },
  {
   "cell_type": "code",
   "execution_count": 20,
   "metadata": {
    "collapsed": false
   },
   "outputs": [],
   "source": [
    "''' \n",
    "\n",
    "The purpose of this function is to combine all the word2vec vector values of each word in each review\n",
    "if each review is given as input and divide by the total number of words.\n",
    "\n",
    "Each word can be represented as number of feature dimension space vector. ex) model['flower'] = array([0.1, 0.2, ...]).\n",
    "(You can think of it as extended xy coordinate.) Therefore, it enables vectorizing each review by \n",
    "combining all the words' vector values.\n",
    "\n",
    "Illustration example:\n",
    "\n",
    "'I' = [0.1, 0.2, ...]\n",
    "'have' = [0.2, 0.3, ...]\n",
    "'a car' = [0.1, 0.2, ...]\n",
    "'I have a car' = [0.1 + 0.2 + 0.1, 0.2 + 0.3 + 0.2,  ...]\n",
    "\n",
    "\n",
    "ex) review1 = ['he', 'has', 'a', 'cat']\n",
    "\n",
    "First word : If the word 'he' is in the word2vec, index the vector values from word2vec model by model['he']\n",
    "(the dimension of the matrix would be, in this case, (400,) ) and add them to predefined zero matrix.\n",
    "\n",
    "Second word: Check if there is the word 'has' in the word2vec model and if there is, index the vector values and \n",
    "add them on top of the added vector values from the first word.\n",
    "\n",
    "The rest: Iterate the above steps for the rest of words and lastly, divide by the total number of words. \n",
    "\n",
    "Illustration example: \n",
    "\n",
    "zero : [0,    0,   0,   ....]\n",
    "word1: [0.2,  0.3, 0.4, ....]\n",
    "word2: [0.1,  0.2, 0.3, ....]\n",
    "\n",
    "word(1~2): [0.3, 0.5, 0.7, ....]\n",
    "\n",
    "'''\n",
    "\n",
    "def makeFeatureVec(review, model, num_features):\n",
    "    \n",
    "    featureVec = np.zeros((num_features,), dtype = \"float32\")\n",
    "    \n",
    "    # Unique word set\n",
    "    word_index = set(model.wv.index2word)\n",
    "    \n",
    "    # For division we need to count the number of words\n",
    "    nword = 0\n",
    "    \n",
    "    # Iterate words in a review and if the word is in the unique wordset, add the vector values for each word.\n",
    "    for word in review:\n",
    "        if word in word_index:\n",
    "            nword += 1\n",
    "            featureVec = np.add(featureVec, model[word])\n",
    "    \n",
    "    # Divide the sum of vector values by total number of word in a review.\n",
    "    featureVec = np.divide(featureVec, nword)        \n",
    "    \n",
    "    return featureVec"
   ]
  },
  {
   "cell_type": "code",
   "execution_count": 21,
   "metadata": {
    "collapsed": true
   },
   "outputs": [],
   "source": [
    "''' \n",
    "\n",
    "While iterating over reviews, add the vector sums of each review from the function \"makeFeatureVec\" to \n",
    "the predefined vector whose size is the number of total reviews and the number of features in word2vec.\n",
    "The working principle is basically same with \"makeFeatureVec\" but this is a review basis and \n",
    "makeFeatureVec is word basis (or each word's vector basis)\n",
    "\n",
    "\n",
    "return matrix:\n",
    "\n",
    "            'V1'    'V2'    'V3'     'V4'\n",
    "review 1    0.1      0.2     0.1     0.5\n",
    "review 2    0.5      0.4     0.05    0.05\n",
    "\n",
    "'''\n",
    "\n",
    "def getAvgFeatureVec(clean_reviews, model, num_features):\n",
    "    \n",
    "    # Keep track of the sequence of reviews, create the number \"th\" variable.\n",
    "    review_th = 0\n",
    "    \n",
    "    # Row: number of total reviews, Column: number of vector spaces (num_features = 250 we set this in Word2Vec step).\n",
    "    reviewFeatureVecs = np.zeros((len(clean_reviews), num_features), dtype = \"float32\")\n",
    "    \n",
    "    # Iterate over reviews and add the result of makeFeatureVec.\n",
    "    for review in clean_reviews:\n",
    "        reviewFeatureVecs[int(review_th)] = makeFeatureVec(review, model, num_features)\n",
    "        \n",
    "        # Once the vector values are added, increase the one for the review_th variable.\n",
    "        review_th += 1\n",
    "    \n",
    "    return reviewFeatureVecs"
   ]
  },
  {
   "cell_type": "code",
   "execution_count": 22,
   "metadata": {
    "collapsed": false
   },
   "outputs": [],
   "source": [
    "clean_train_reviews = []\n",
    "\n",
    "# Clean the reviews by preprocessing function with stopwords option \"on\".\n",
    "for review in train[\"review\"]:\n",
    "    clean_train_reviews.append(preprocess_wordlist(review, stopwords = True))\n",
    "\n",
    "# Apply \"getAvgFeatureVec\" function.\n",
    "trainDataAvg = getAvgFeatureVec(clean_train_reviews, model, num_features)\n",
    "    \n",
    "    \n",
    "# Same steps repeats as we did for train_set.    \n",
    "clean_test_reviews = []\n",
    "\n",
    "for review in test[\"review\"]:\n",
    "    clean_test_reviews.append(preprocess_wordlist(review, stopwords = True))\n",
    "\n",
    "testDataAvg = getAvgFeatureVec(clean_test_reviews, model, num_features)"
   ]
  },
  {
   "cell_type": "markdown",
   "metadata": {},
   "source": [
    "Notice that we use stop word removal, which would just add noise.<br>\n",
    "We will compare the performance of vector averaging method and the next method. "
   ]
  },
  {
   "cell_type": "code",
   "execution_count": null,
   "metadata": {
    "collapsed": true
   },
   "outputs": [],
   "source": []
  },
  {
   "cell_type": "markdown",
   "metadata": {},
   "source": [
    "### 6.2 Clustering <a id='clustering'></a>\n",
    "\n",
    "Word2Vec creates clusters of semantically related words, so we can try to use the similarity of words within a cluster. To achieve this, we will be using one of the most commonly used clustering technique called K-Means."
   ]
  },
  {
   "cell_type": "code",
   "execution_count": 23,
   "metadata": {
    "collapsed": false
   },
   "outputs": [],
   "source": [
    "from sklearn.cluster import KMeans\n",
    "import time"
   ]
  },
  {
   "cell_type": "code",
   "execution_count": null,
   "metadata": {
    "collapsed": true
   },
   "outputs": [],
   "source": []
  },
  {
   "cell_type": "markdown",
   "metadata": {},
   "source": [
    "#### 6.2.1 KMeans Clustering <a id='kmc'></a>"
   ]
  },
  {
   "cell_type": "code",
   "execution_count": 24,
   "metadata": {
    "collapsed": false
   },
   "outputs": [
    {
     "name": "stdout",
     "output_type": "stream",
     "text": [
      "(16487, 250)\n"
     ]
    }
   ],
   "source": [
    "print(model.wv.syn0.shape)"
   ]
  },
  {
   "cell_type": "code",
   "execution_count": 25,
   "metadata": {
    "collapsed": false
   },
   "outputs": [],
   "source": [
    "num_clusters = model.wv.syn0.shape[0] // 5"
   ]
  },
  {
   "cell_type": "markdown",
   "metadata": {},
   "source": [
    "Based on what I have experimented, small clusters, with an average of only 5 words or so per cluster, gave better results than large clusters with many words. Feel free to change it to improve the score."
   ]
  },
  {
   "cell_type": "code",
   "execution_count": 26,
   "metadata": {
    "collapsed": false
   },
   "outputs": [
    {
     "name": "stdout",
     "output_type": "stream",
     "text": [
      "Time taken for K-Means clustering:  487.3845820426941 seconds.\n"
     ]
    }
   ],
   "source": [
    "start = time.time()\n",
    "\n",
    "kmean = KMeans(n_clusters = num_clusters)\n",
    "index = kmean.fit_predict(model.wv.syn0)\n",
    "\n",
    "end = time.time()\n",
    "print(\"Time taken for K-Means clustering: \", end - start, \"seconds.\")"
   ]
  },
  {
   "cell_type": "markdown",
   "metadata": {},
   "source": [
    "word2vec's each row represents each word appeared in data after cleaning process. The column represents each variable of vector value. In other word, words * features matrix."
   ]
  },
  {
   "cell_type": "code",
   "execution_count": null,
   "metadata": {
    "collapsed": false
   },
   "outputs": [],
   "source": []
  },
  {
   "cell_type": "markdown",
   "metadata": {},
   "source": [
    "#### 6.2.2 Mapping Vocabulary to Cluster <a id='mvc'></a>"
   ]
  },
  {
   "cell_type": "code",
   "execution_count": 27,
   "metadata": {
    "collapsed": true
   },
   "outputs": [],
   "source": [
    "index = list(index)\n",
    "voca_list = model.wv.index2word\n",
    "\n",
    "# dictionary format -  word : the cluster where the key word belongs.\n",
    "voca_cluster = {voca_list[i]: index[i] for i in range(len(voca_list))}"
   ]
  },
  {
   "cell_type": "markdown",
   "metadata": {},
   "source": [
    "Check whether the clustering model that we created works by printing words belongs to the first ten clusters"
   ]
  },
  {
   "cell_type": "code",
   "execution_count": 28,
   "metadata": {
    "collapsed": false
   },
   "outputs": [
    {
     "name": "stdout",
     "output_type": "stream",
     "text": [
      "['gable', 'loy', 'myrna', 'blandings', 'withers']\n",
      "['mississippi', 'biko', 'apartheid']\n",
      "['rubbing', 'spilling', 'stuffing', 'shoving']\n",
      "['jewel', 'abu', 'tobacco', 'sierra', 'journalism', 'commission', 'hoax', 'anderton', 'racket', 'covert', 'investigative', 'bureau', 'ga', 'syndicate', 'tanz']\n",
      "['knox', 'cunningham', 'finch', 'atwill', 'davidson', 'mcshane', 'bernsen', 'corbin', 'visibly', 'donovan', 'kessler', 'murdoch', 'hoyt', 'feinstone', 'sutton', 'xavier', 'manuel', 'kellogg', 'shanks', 'britt', 'auteuil', 'houseman', 'petulia']\n",
      "['bodies', 'poison', 'fruit', 'pigs', 'bats', 'worms', 'organs', 'slaughterhouse', 'chambers', 'beans', 'poisonous', 'maggots', 'chickens', 'gunshots', 'freshly', 'cockroaches', 'fingerprints']\n",
      "['unusual', 'unconventional', 'atypical', 'inconsistency']\n",
      "['according', 'contributed', 'attributed']\n",
      "['genre', 'genres', 'styles', 'extremes', 'categories']\n",
      "['seth', 'brady', 'pepper', 'dane', 'dillon', 'rufus', 'atkins', 'dorff', 'sewell', 'robby', 'lillard', 'damien']\n"
     ]
    }
   ],
   "source": [
    "# Check the first 10 clusters in voca_cluster we created.\n",
    "\n",
    "# Loop from 0 to 9th cluster \n",
    "for cluster in range(10):\n",
    "    \n",
    "    word = []\n",
    "    \n",
    "    # Iterate over the number of total words. \n",
    "    for i in range(len(voca_cluster.values())):\n",
    "        \n",
    "        # If the cluster (0~10) corresponds to iterating i th voca_cluster values (cluster),\n",
    "        if(list(voca_cluster.values())[i] == cluster):\n",
    "            \n",
    "            # Append the words.\n",
    "            word.append(list(voca_cluster.keys())[i])\n",
    "    \n",
    "    print(word)"
   ]
  },
  {
   "cell_type": "code",
   "execution_count": null,
   "metadata": {
    "collapsed": true
   },
   "outputs": [],
   "source": []
  },
  {
   "cell_type": "markdown",
   "metadata": {},
   "source": [
    "#### 6.2.3 Bag of Centroids <a id='boc'></a>"
   ]
  },
  {
   "cell_type": "code",
   "execution_count": 29,
   "metadata": {
    "collapsed": true
   },
   "outputs": [],
   "source": [
    "# Preprocess data for input as before\n",
    "\n",
    "train_review = []\n",
    "\n",
    "for review in train['review']:\n",
    "    train_review.append(preprocess_wordlist(review, stopwords= True))\n",
    "\n",
    "test_review = []\n",
    "\n",
    "for review in test['review']:\n",
    "    test_review.append(preprocess_wordlist(review, stopwords = True))"
   ]
  },
  {
   "cell_type": "code",
   "execution_count": 30,
   "metadata": {
    "collapsed": false
   },
   "outputs": [],
   "source": [
    "train_centroid = np.zeros((len(train['review']), num_clusters), dtype = 'float32')\n",
    "test_centroid = np.zeros((len(test['review']), num_clusters), dtype = 'float32')"
   ]
  },
  {
   "cell_type": "code",
   "execution_count": 31,
   "metadata": {
    "collapsed": false
   },
   "outputs": [],
   "source": [
    "'''\n",
    "The array that we are going to create looks like this:\n",
    "\n",
    "cl1 cl2 cl3 cl4 ....\n",
    " 3   10  5   30 ...\n",
    "\n",
    "As usual we will be creating the empty array having the number of clusters dimension space.\n",
    "While Iterating over words, if there is any word found in the voca_cluster, find the cluster where the word belongs to\n",
    "and add one to the feature corresponding to the cluster.\n",
    "\n",
    "( ex) if 'cat' assigned to cluster 10 then add one to 10th feature in the empty array. )  \n",
    "\n",
    "'''\n",
    "\n",
    "def create_boc(wordlist, voca_cluster):\n",
    "    \n",
    "    # The number of cluster == the maximum number of values in voca_cluster\n",
    "    boc = np.zeros(max(voca_cluster.values()) + 1, dtype='float32')\n",
    "    \n",
    "    # Iterate over words and increase by one to the cluster if any word in the voca_cluster we created\n",
    "    for word in wordlist:\n",
    "        if word in voca_cluster:\n",
    "            index = voca_cluster[word]\n",
    "            boc[index] += 1\n",
    "            \n",
    "    return boc\n",
    "    "
   ]
  },
  {
   "cell_type": "code",
   "execution_count": 32,
   "metadata": {
    "collapsed": false
   },
   "outputs": [],
   "source": [
    "# Transform the training and test set reviews into bags of centroid.\n",
    "\n",
    "count = 0\n",
    "\n",
    "for review in train_review:\n",
    "    train_centroid[count] = create_boc(review, voca_cluster)\n",
    "    count += 1\n",
    "    \n",
    "count = 0\n",
    "\n",
    "for review in test_review:\n",
    "    test_centroid[count] = create_boc(review, voca_cluster)\n",
    "    count += 1\n",
    "    "
   ]
  },
  {
   "cell_type": "code",
   "execution_count": 33,
   "metadata": {
    "collapsed": false
   },
   "outputs": [
    {
     "name": "stdout",
     "output_type": "stream",
     "text": [
      "Train Dimension (avg): (25000, 250) , Train Dimension (centroid): (25000, 3297)\n"
     ]
    }
   ],
   "source": [
    "print(\"Train Dimension (avg):\",trainDataAvg.shape,\",\", \"Train Dimension (centroid):\",train_centroid.shape)"
   ]
  },
  {
   "cell_type": "code",
   "execution_count": null,
   "metadata": {
    "collapsed": true
   },
   "outputs": [],
   "source": []
  },
  {
   "cell_type": "markdown",
   "metadata": {},
   "source": [
    "## 7. Modeling <a id='modeling'></a>"
   ]
  },
  {
   "cell_type": "markdown",
   "metadata": {},
   "source": [
    "We will be evaluating below algorithms' cross validation means and errors. \n",
    "\n",
    "- Linear Support Vector Machine\n",
    "- Bernoulli Naive Bayes\n",
    "- Perceptron\n",
    "- Logistic Regression"
   ]
  },
  {
   "cell_type": "code",
   "execution_count": 34,
   "metadata": {
    "collapsed": false
   },
   "outputs": [],
   "source": [
    "from sklearn.svm import LinearSVC\n",
    "from sklearn.naive_bayes import BernoulliNB\n",
    "from sklearn.model_selection import GridSearchCV, StratifiedKFold, learning_curve\n",
    "from sklearn.linear_model import LogisticRegression\n",
    "from sklearn.ensemble import VotingClassifier\n",
    "from sklearn.neural_network import MLPClassifier"
   ]
  },
  {
   "cell_type": "code",
   "execution_count": 35,
   "metadata": {
    "collapsed": true
   },
   "outputs": [],
   "source": [
    "kfold = StratifiedKFold(n_splits=5, random_state = 2018)"
   ]
  },
  {
   "cell_type": "code",
   "execution_count": null,
   "metadata": {
    "collapsed": true
   },
   "outputs": [],
   "source": []
  },
  {
   "cell_type": "markdown",
   "metadata": {},
   "source": [
    "### 7.1 Modeling for Vector Averaging <a id='mva'></a>"
   ]
  },
  {
   "cell_type": "markdown",
   "metadata": {},
   "source": [
    "#### 7.11 Support Vector Machine <a id='svm1'></a>"
   ]
  },
  {
   "cell_type": "code",
   "execution_count": 36,
   "metadata": {
    "collapsed": false
   },
   "outputs": [
    {
     "name": "stdout",
     "output_type": "stream",
     "text": [
      "Fitting 5 folds for each of 1 candidates, totalling 5 fits\n"
     ]
    },
    {
     "name": "stderr",
     "output_type": "stream",
     "text": [
      "[Parallel(n_jobs=1)]: Done   5 out of   5 | elapsed:   54.6s finished\n"
     ]
    },
    {
     "name": "stdout",
     "output_type": "stream",
     "text": [
      "{'C': 20, 'class_weight': {1: 2}, 'loss': 'squared_hinge', 'penalty': 'l2'}\n"
     ]
    }
   ],
   "source": [
    "# LinearSVC\n",
    "\n",
    "sv = LinearSVC(random_state=2018)\n",
    "\n",
    "param_grid1 = {\n",
    "    'loss':['squared_hinge'],\n",
    "    'class_weight':[{1:2}],\n",
    "    'C': [20],\n",
    "    'penalty':['l2']\n",
    "}\n",
    "\n",
    "gs_sv = GridSearchCV(sv, param_grid = [param_grid1], verbose = 1, cv = kfold, n_jobs = 1, scoring = 'roc_auc' )\n",
    "gs_sv.fit(trainDataAvg, train['sentiment'])\n",
    "gs_sv_best = gs_sv.best_estimator_\n",
    "print(gs_sv.best_params_)\n",
    "\n",
    "# {'C': 20, 'class_weight': {1: 2}, 'loss': 'squared_hinge', 'penalty': 'l2'} - 86.30"
   ]
  },
  {
   "cell_type": "code",
   "execution_count": 37,
   "metadata": {
    "collapsed": true
   },
   "outputs": [],
   "source": [
    "y_submission1 = gs_sv.predict(testDataAvg)"
   ]
  },
  {
   "cell_type": "code",
   "execution_count": 38,
   "metadata": {
    "collapsed": false
   },
   "outputs": [
    {
     "name": "stdout",
     "output_type": "stream",
     "text": [
      "0.943428928\n"
     ]
    }
   ],
   "source": [
    "print(gs_sv.best_score_)"
   ]
  },
  {
   "cell_type": "code",
   "execution_count": null,
   "metadata": {
    "collapsed": true
   },
   "outputs": [],
   "source": []
  },
  {
   "cell_type": "markdown",
   "metadata": {},
   "source": [
    "#### 7.12 Bernoulli Naive Bayes <a id='bnb1'></a>"
   ]
  },
  {
   "cell_type": "code",
   "execution_count": 39,
   "metadata": {
    "collapsed": false
   },
   "outputs": [
    {
     "name": "stdout",
     "output_type": "stream",
     "text": [
      "Fitting 5 folds for each of 1 candidates, totalling 5 fits\n",
      "{'alpha': 0.002, 'binarize': 0.001}\n"
     ]
    },
    {
     "name": "stderr",
     "output_type": "stream",
     "text": [
      "[Parallel(n_jobs=1)]: Done   5 out of   5 | elapsed:    1.4s finished\n"
     ]
    }
   ],
   "source": [
    "bnb = BernoulliNB()\n",
    "gs_bnb = GridSearchCV(bnb, param_grid = {'alpha': [0.002],\n",
    "                                         'binarize': [0.001]}, verbose = 1, cv = kfold, n_jobs = 1, scoring = 'roc_auc')\n",
    "gs_bnb.fit(trainDataAvg, train['sentiment'])\n",
    "gs_bnb_best = gs_bnb.best_estimator_\n",
    "print(gs_bnb.best_params_)\n",
    "\n",
    "# {'alpha': 0.002, 'binarize': 0.001} - 68.348"
   ]
  },
  {
   "cell_type": "raw",
   "metadata": {
    "collapsed": true
   },
   "source": [
    "y_submission2 = gs_bnb.predict(testDataAvg)"
   ]
  },
  {
   "cell_type": "code",
   "execution_count": 40,
   "metadata": {
    "collapsed": false
   },
   "outputs": [
    {
     "name": "stdout",
     "output_type": "stream",
     "text": [
      "0.766064656\n"
     ]
    }
   ],
   "source": [
    "print(gs_bnb.best_score_)"
   ]
  },
  {
   "cell_type": "code",
   "execution_count": null,
   "metadata": {
    "collapsed": true
   },
   "outputs": [],
   "source": []
  },
  {
   "cell_type": "markdown",
   "metadata": {},
   "source": [
    "#### 7.13 Perceptron <a id='perceptron1'></a>"
   ]
  },
  {
   "cell_type": "code",
   "execution_count": 41,
   "metadata": {
    "collapsed": false
   },
   "outputs": [
    {
     "name": "stdout",
     "output_type": "stream",
     "text": [
      "Fitting 5 folds for each of 1 candidates, totalling 5 fits\n"
     ]
    },
    {
     "name": "stderr",
     "output_type": "stream",
     "text": [
      "[Parallel(n_jobs=1)]: Done   5 out of   5 | elapsed:   26.8s finished\n"
     ]
    },
    {
     "name": "stdout",
     "output_type": "stream",
     "text": [
      "{'activation': 'tanh', 'alpha': 0.01, 'hidden_layer_sizes': (10, 10), 'learning_rate': 'constant', 'max_iter': 1000, 'solver': 'adam'}\n"
     ]
    }
   ],
   "source": [
    "MLP = MLPClassifier(random_state = 2018)\n",
    "\n",
    "mlp_param_grid = {\n",
    "    'hidden_layer_sizes':[(10,10)],\n",
    "    'activation':['tanh'],\n",
    "    'solver':['adam'],\n",
    "    'alpha':[0.01],\n",
    "    'learning_rate':['constant'],\n",
    "    'max_iter':[1000]\n",
    "}\n",
    "\n",
    "gsMLP = GridSearchCV(MLP, param_grid = mlp_param_grid, cv = kfold, scoring = 'roc_auc', n_jobs= 1, verbose = 1)\n",
    "gsMLP.fit(trainDataAvg,train['sentiment'])\n",
    "print(gsMLP.best_params_)\n",
    "mlp_best0 = gsMLP.best_estimator_\n",
    "\n",
    "# {'activation': 'tanh', 'alpha': 0.01, 'hidden_layer_sizes': (1,), 'learning_rate': 'constant', 'max_iter': 1000, 'solver': 'adam'} - 87.012\n",
    "# {'activation': 'tanh', 'alpha': 0.01, 'hidden_layer_sizes': (2,), 'learning_rate': 'constant', 'max_iter': 1000, 'solver': 'adam'} - 86.960\n",
    "# {'activation': 'tanh', 'alpha': 0.01, 'hidden_layer_sizes': (5,), 'learning_rate': 'constant', 'max_iter': 1000, 'solver': 'adam'} - 87.020\n",
    "# {'activation': 'tanh', 'alpha': 0.009, 'hidden_layer_sizes': (5,), 'learning_rate': 'constant', 'max_iter': 1000, 'solver': 'adam'} - 87.004\n",
    "# {'activation': 'tanh', 'alpha': 0.01, 'hidden_layer_sizes': (10, 10), 'learning_rate': 'constant', 'max_iter': 1000, 'solver': 'adam'} - 87.108"
   ]
  },
  {
   "cell_type": "code",
   "execution_count": 42,
   "metadata": {
    "collapsed": false
   },
   "outputs": [],
   "source": [
    "y_submission3 = gsMLP.predict(testDataAvg)"
   ]
  },
  {
   "cell_type": "code",
   "execution_count": 43,
   "metadata": {
    "collapsed": false
   },
   "outputs": [
    {
     "name": "stdout",
     "output_type": "stream",
     "text": [
      "0.943023104\n"
     ]
    }
   ],
   "source": [
    "print(gsMLP.best_score_)"
   ]
  },
  {
   "cell_type": "code",
   "execution_count": null,
   "metadata": {
    "collapsed": true
   },
   "outputs": [],
   "source": []
  },
  {
   "cell_type": "markdown",
   "metadata": {},
   "source": [
    "#### 7.14 Logistic Regression <a id='logi1'></a>"
   ]
  },
  {
   "cell_type": "code",
   "execution_count": 44,
   "metadata": {
    "collapsed": false
   },
   "outputs": [
    {
     "name": "stdout",
     "output_type": "stream",
     "text": [
      "Fitting 5 folds for each of 1 candidates, totalling 5 fits\n"
     ]
    },
    {
     "name": "stderr",
     "output_type": "stream",
     "text": [
      "[Parallel(n_jobs=1)]: Done   5 out of   5 | elapsed:   48.6s finished\n"
     ]
    },
    {
     "name": "stdout",
     "output_type": "stream",
     "text": [
      "{'C': 40, 'class_weight': 'balanced', 'dual': False, 'penalty': 'l1', 'solver': 'saga'}\n"
     ]
    }
   ],
   "source": [
    "lr = LogisticRegression(random_state = 2018)\n",
    "\n",
    "\n",
    "lr_param2 = {\n",
    "    'penalty':['l1'],\n",
    "    'dual':[False],\n",
    "    'C':[40],\n",
    "    'class_weight':['balanced'],\n",
    "    'solver':['saga']\n",
    "    \n",
    "}\n",
    "\n",
    "lr_CV = GridSearchCV(lr, param_grid = [lr_param2], cv = kfold, scoring = 'roc_auc', n_jobs = 1, verbose = 1)\n",
    "lr_CV.fit(trainDataAvg,train['sentiment'])\n",
    "print(lr_CV.best_params_)\n",
    "logi_best = lr_CV.best_estimator_\n",
    "\n",
    "\n",
    "# {'C': 100, 'class_weight': 'balanced', 'dual': False, 'penalty': 'l1', 'solver': 'saga'} - 87.376\n",
    "# {'C': 50, 'class_weight': 'balanced', 'dual': False, 'penalty': 'l1', 'solver': 'saga'} - 87.380\n",
    "# {'C': 40, 'class_weight': 'balanced', 'dual': False, 'penalty': 'l1', 'solver': 'saga'} - 87.424"
   ]
  },
  {
   "cell_type": "code",
   "execution_count": 45,
   "metadata": {
    "collapsed": false
   },
   "outputs": [],
   "source": [
    "y_submission4 = lr_CV.predict(testDataAvg)"
   ]
  },
  {
   "cell_type": "code",
   "execution_count": 46,
   "metadata": {
    "collapsed": false
   },
   "outputs": [
    {
     "name": "stdout",
     "output_type": "stream",
     "text": [
      "0.94359712\n"
     ]
    }
   ],
   "source": [
    "print(lr_CV.best_score_)"
   ]
  },
  {
   "cell_type": "code",
   "execution_count": null,
   "metadata": {
    "collapsed": true
   },
   "outputs": [],
   "source": []
  },
  {
   "cell_type": "markdown",
   "metadata": {
    "collapsed": false
   },
   "source": [
    "### 7.2 Modeling for Clustering <a id='mc'></a>"
   ]
  },
  {
   "cell_type": "markdown",
   "metadata": {
    "collapsed": true
   },
   "source": [
    "#### 7.21 Support Vector Machine <a id='svm2'></a>"
   ]
  },
  {
   "cell_type": "code",
   "execution_count": 47,
   "metadata": {
    "collapsed": false
   },
   "outputs": [
    {
     "name": "stdout",
     "output_type": "stream",
     "text": [
      "Fitting 5 folds for each of 1 candidates, totalling 5 fits\n"
     ]
    },
    {
     "name": "stderr",
     "output_type": "stream",
     "text": [
      "[Parallel(n_jobs=1)]: Done   5 out of   5 | elapsed:   15.7s finished\n"
     ]
    },
    {
     "name": "stdout",
     "output_type": "stream",
     "text": [
      "{'C': 0.001, 'class_weight': 'balanced', 'loss': 'squared_hinge', 'penalty': 'l2'}\n"
     ]
    }
   ],
   "source": [
    "# LinearSVC\n",
    "\n",
    "sv = LinearSVC(random_state=2018)\n",
    "\n",
    "param_grid1 = {\n",
    "    'loss':['squared_hinge'],\n",
    "    'class_weight':['balanced'],\n",
    "    'C': [0.001],\n",
    "    'penalty':['l2']\n",
    "}\n",
    "\n",
    "gs_sv = GridSearchCV(sv, param_grid = [param_grid1], verbose = 1, cv = kfold, n_jobs = 1, scoring = 'roc_auc' )\n",
    "gs_sv.fit(train_centroid, train['sentiment'])\n",
    "gs_sv_best = gs_sv.best_estimator_\n",
    "print(gs_sv.best_params_)\n",
    "\n",
    "# {'C': 0.001, 'class_weight': 'balanced', 'loss': 'squared_hinge', 'penalty': 'l2'} - 87.256 "
   ]
  },
  {
   "cell_type": "code",
   "execution_count": null,
   "metadata": {
    "collapsed": true
   },
   "outputs": [],
   "source": [
    "y_submission11 = gs_sv.predict(test_centroid)"
   ]
  },
  {
   "cell_type": "code",
   "execution_count": 48,
   "metadata": {
    "collapsed": false
   },
   "outputs": [
    {
     "name": "stdout",
     "output_type": "stream",
     "text": [
      "0.9413656\n"
     ]
    }
   ],
   "source": [
    "print(gs_sv.best_score_)"
   ]
  },
  {
   "cell_type": "code",
   "execution_count": null,
   "metadata": {
    "collapsed": true
   },
   "outputs": [],
   "source": []
  },
  {
   "cell_type": "markdown",
   "metadata": {},
   "source": [
    "#### 7.22 Bernoulli Naive Bayes <a id='bnb2'></a>"
   ]
  },
  {
   "cell_type": "code",
   "execution_count": 49,
   "metadata": {
    "collapsed": false,
    "scrolled": true
   },
   "outputs": [
    {
     "name": "stdout",
     "output_type": "stream",
     "text": [
      "Fitting 5 folds for each of 1 candidates, totalling 5 fits\n"
     ]
    },
    {
     "name": "stderr",
     "output_type": "stream",
     "text": [
      "[Parallel(n_jobs=1)]: Done   5 out of   5 | elapsed:   14.9s finished\n"
     ]
    },
    {
     "name": "stdout",
     "output_type": "stream",
     "text": [
      "{'alpha': 0.01, 'binarize': 0.001}\n"
     ]
    }
   ],
   "source": [
    "bnb = BernoulliNB()\n",
    "gs_bnb = GridSearchCV(bnb, param_grid = {'alpha': [0.01],\n",
    "                                         'binarize': [0.001]}, verbose = 1, cv = kfold, n_jobs = 1, scoring = 'roc_auc')\n",
    "gs_bnb.fit(train_centroid, train['sentiment'])\n",
    "gs_bnb_best = gs_bnb.best_estimator_\n",
    "print(gs_bnb.best_params_)\n",
    "\n",
    "# {'alpha': 0.01, 'binarize': 0.001} - 81.87"
   ]
  },
  {
   "cell_type": "code",
   "execution_count": 50,
   "metadata": {
    "collapsed": false
   },
   "outputs": [],
   "source": [
    "y_submission22 = gs_bnb.predict(test_centroid)"
   ]
  },
  {
   "cell_type": "code",
   "execution_count": 51,
   "metadata": {
    "collapsed": false
   },
   "outputs": [
    {
     "name": "stdout",
     "output_type": "stream",
     "text": [
      "0.901803952\n"
     ]
    }
   ],
   "source": [
    "print(gs_bnb.best_score_)"
   ]
  },
  {
   "cell_type": "code",
   "execution_count": null,
   "metadata": {
    "collapsed": true
   },
   "outputs": [],
   "source": []
  },
  {
   "cell_type": "markdown",
   "metadata": {
    "collapsed": false
   },
   "source": [
    "#### 7.23 Perceptron <a id='perceptron2'></a>"
   ]
  },
  {
   "cell_type": "code",
   "execution_count": 52,
   "metadata": {
    "collapsed": false
   },
   "outputs": [
    {
     "name": "stdout",
     "output_type": "stream",
     "text": [
      "Fitting 5 folds for each of 1 candidates, totalling 5 fits\n"
     ]
    },
    {
     "name": "stderr",
     "output_type": "stream",
     "text": [
      "[Parallel(n_jobs=1)]: Done   5 out of   5 | elapsed: 12.0min finished\n"
     ]
    },
    {
     "name": "stdout",
     "output_type": "stream",
     "text": [
      "{'activation': 'tanh', 'alpha': 1, 'hidden_layer_sizes': (5,), 'learning_rate': 'adaptive', 'max_iter': 1000, 'solver': 'sgd'}\n"
     ]
    }
   ],
   "source": [
    "MLP = MLPClassifier(random_state = 2018)\n",
    "\n",
    "mlp_param_grid = {\n",
    "    'hidden_layer_sizes':[(5,)],\n",
    "    'activation':['tanh'],\n",
    "    'solver':['sgd'],\n",
    "    'alpha':[1],\n",
    "    'learning_rate':['adaptive'],\n",
    "    'max_iter':[1000]\n",
    "}\n",
    "\n",
    "\n",
    "gsMLP = GridSearchCV(MLP, param_grid = mlp_param_grid, cv = kfold, scoring = 'roc_auc', n_jobs= 1, verbose = 1)\n",
    "gsMLP.fit(train_centroid, train['sentiment'])\n",
    "print(gsMLP.best_params_)\n",
    "mlp_best0 = gsMLP.best_estimator_\n",
    "\n",
    "# {'activation': 'tanh', 'alpha': 1, 'hidden_layer_sizes': (1,), 'learning_rate': 'adaptive', 'max_iter': 1000, 'solver': 'sgd'} - 87.092\n",
    "# {'activation': 'tanh', 'alpha': 1, 'hidden_layer_sizes': (5,), 'learning_rate': 'adaptive', 'max_iter': 1000, 'solver': 'sgd'} - 87.068\n",
    "# {'activation': 'tanh', 'alpha': 1, 'hidden_layer_sizes': (5,), 'learning_rate': 'adaptive', 'max_iter': 1000, 'solver': 'sgd'} - 87.068"
   ]
  },
  {
   "cell_type": "code",
   "execution_count": 53,
   "metadata": {
    "collapsed": true
   },
   "outputs": [],
   "source": [
    "y_submission33 = gsMLP.predict(test_centroid)"
   ]
  },
  {
   "cell_type": "code",
   "execution_count": 54,
   "metadata": {
    "collapsed": false
   },
   "outputs": [
    {
     "name": "stdout",
     "output_type": "stream",
     "text": [
      "0.943142304\n"
     ]
    }
   ],
   "source": [
    "print(gsMLP.best_score_)"
   ]
  },
  {
   "cell_type": "code",
   "execution_count": null,
   "metadata": {
    "collapsed": false
   },
   "outputs": [],
   "source": []
  },
  {
   "cell_type": "markdown",
   "metadata": {
    "collapsed": false
   },
   "source": [
    "#### 7.24 Logistic Regression <a id='logi2'></a>"
   ]
  },
  {
   "cell_type": "code",
   "execution_count": 55,
   "metadata": {
    "collapsed": false
   },
   "outputs": [
    {
     "name": "stdout",
     "output_type": "stream",
     "text": [
      "Fitting 5 folds for each of 1 candidates, totalling 5 fits\n"
     ]
    },
    {
     "name": "stderr",
     "output_type": "stream",
     "text": [
      "[Parallel(n_jobs=1)]: Done   5 out of   5 | elapsed:  9.9min finished\n"
     ]
    },
    {
     "name": "stdout",
     "output_type": "stream",
     "text": [
      "{'C': 100, 'class_weight': {1: 2}, 'dual': False, 'penalty': 'l1', 'solver': 'saga'}\n"
     ]
    }
   ],
   "source": [
    "lr = LogisticRegression(random_state = 2018)\n",
    "\n",
    "lr_param2 = {\n",
    "    'penalty':['l1'],\n",
    "    'dual':[False],\n",
    "    'class_weight':[{1:2}],\n",
    "    'C': [100],\n",
    "    'solver':['saga']\n",
    "    \n",
    "}\n",
    "\n",
    "lr_CV = GridSearchCV(lr, param_grid = [lr_param2], cv = kfold, scoring = 'roc_auc', n_jobs = 1, verbose = 1)\n",
    "lr_CV.fit(train_centroid,train['sentiment'])\n",
    "print(lr_CV.best_params_)\n",
    "logi_best = lr_CV.best_estimator_\n",
    "\n",
    "\n",
    "# {'C': 100, 'class_weight': {1: 2}, 'dual': False, 'penalty': 'l1', 'solver': 'saga'} - 85.968\n",
    "# {'C': 100, 'class_weight': {1: 2}, 'dual': False, 'penalty': 'l1', 'solver': 'saga'} - 85.968"
   ]
  },
  {
   "cell_type": "code",
   "execution_count": 56,
   "metadata": {
    "collapsed": true
   },
   "outputs": [],
   "source": [
    "y_submission44 = lr_CV.predict(test_centroid)"
   ]
  },
  {
   "cell_type": "code",
   "execution_count": 57,
   "metadata": {
    "collapsed": false
   },
   "outputs": [
    {
     "name": "stdout",
     "output_type": "stream",
     "text": [
      "0.940076384\n"
     ]
    }
   ],
   "source": [
    "print(lr_CV.best_score_)"
   ]
  },
  {
   "cell_type": "code",
   "execution_count": null,
   "metadata": {
    "collapsed": false
   },
   "outputs": [],
   "source": []
  },
  {
   "cell_type": "markdown",
   "metadata": {},
   "source": [
    "## 8. Submission <a id='submission'></a>"
   ]
  },
  {
   "cell_type": "code",
   "execution_count": 58,
   "metadata": {
    "collapsed": false
   },
   "outputs": [],
   "source": [
    "result = pd.DataFrame(data = {'id':test['id'], 'sentiment': y_submission4})\n",
    "result.to_csv('submission_29.csv', index = False, quoting = 3)"
   ]
  },
  {
   "cell_type": "code",
   "execution_count": null,
   "metadata": {
    "collapsed": true
   },
   "outputs": [],
   "source": []
  },
  {
   "cell_type": "markdown",
   "metadata": {},
   "source": [
    "## 9. Conclusion <a id='conclusion'></a>"
   ]
  },
  {
   "cell_type": "markdown",
   "metadata": {},
   "source": [
    "The best result in this notebook is 87.424% performed by Logistic Regression in Vector Averaging. You may wonder why the result of the bag of words method (CountVectorizer/TF-IDF) performs better. The main reason is that while making the average vector and centroid matrices, the order of words were lost, which makes it very similar to the concept of bag of words. You may try Paragraph Vectors instead of Word Vector to fix the problem of word order since the paragraph vector preserves word order information. Another reason is that as mentioned earlier, due to constraint of my laptop's memory and CPU power, using more than 250 features throws a memory error. If your system is sustainable enough, you can improve the result by increasing the number of features or use more complex models such as XG Boost.<br>\n",
    "\n",
    "Among the all methods that I attempted, the best result is 90.36% performed by Logistic Regression in TF-IDF. As you notice, all the best results come from Logistic Regression and the worst come from Naive Bayes.<br>"
   ]
  },
  {
   "cell_type": "code",
   "execution_count": null,
   "metadata": {
    "collapsed": true
   },
   "outputs": [],
   "source": []
  }
 ],
 "metadata": {
  "kernelspec": {
   "display_name": "Python 3",
   "language": "python",
   "name": "python3"
  },
  "language_info": {
   "codemirror_mode": {
    "name": "ipython",
    "version": 3
   },
   "file_extension": ".py",
   "mimetype": "text/x-python",
   "name": "python",
   "nbconvert_exporter": "python",
   "pygments_lexer": "ipython3",
   "version": "3.6.0"
  }
 },
 "nbformat": 4,
 "nbformat_minor": 1
}
