{
 "cells": [
  {
   "cell_type": "markdown",
   "metadata": {},
   "source": [
    "# Bag of Words Meets Bags of Popcorn : TF-IDF"
   ]
  },
  {
   "cell_type": "markdown",
   "metadata": {},
   "source": [
    "## Table of Contents"
   ]
  },
  {
   "cell_type": "code",
   "execution_count": null,
   "metadata": {
    "collapsed": true
   },
   "outputs": [],
   "source": []
  },
  {
   "cell_type": "markdown",
   "metadata": {},
   "source": [
    "## 1. Introduction"
   ]
  },
  {
   "cell_type": "markdown",
   "metadata": {
    "collapsed": true
   },
   "source": [
    "For this notebook, "
   ]
  },
  {
   "cell_type": "code",
   "execution_count": 1,
   "metadata": {
    "collapsed": true
   },
   "outputs": [],
   "source": [
    "# Install a Drive FUSE wrapper.\n",
    "# https://github.com/astrada/google-drive-ocamlfuse\n",
    "\n",
    "#!apt-get install -y -qq software-properties-common python-software-properties module-init-tools\n",
    "#!add-apt-repository -y ppa:alessandro-strada/ppa 2>&1 > /dev/null\n",
    "#!apt-get update -qq 2>&1 > /dev/null\n",
    "#!apt-get -y install -qq google-drive-ocamlfuse fuse"
   ]
  },
  {
   "cell_type": "code",
   "execution_count": 2,
   "metadata": {
    "collapsed": true
   },
   "outputs": [],
   "source": [
    "#from google.colab import auth\n",
    "#auth.authenticate_user()"
   ]
  },
  {
   "cell_type": "code",
   "execution_count": 3,
   "metadata": {
    "collapsed": true
   },
   "outputs": [],
   "source": [
    "#from oauth2client.client import GoogleCredentials\n",
    "#creds = GoogleCredentials.get_application_default()\n",
    "#import getpass\n",
    "#!google-drive-ocamlfuse -headless -id={creds.client_id} -secret={creds.client_secret} < /dev/null 2>&1 | grep URL\n",
    "#vcode = getpass.getpass()\n",
    "#!echo {vcode} | google-drive-ocamlfuse -headless -id={creds.client_id} -secret={creds.client_secret}"
   ]
  },
  {
   "cell_type": "code",
   "execution_count": 4,
   "metadata": {
    "collapsed": true
   },
   "outputs": [],
   "source": [
    "#!mkdir -p my_drive\n",
    "#!google-drive-ocamlfuse my_drive"
   ]
  },
  {
   "cell_type": "code",
   "execution_count": 5,
   "metadata": {
    "collapsed": true
   },
   "outputs": [],
   "source": [
    "#!mkdir -p my_drive/BOW_kaggle"
   ]
  },
  {
   "cell_type": "code",
   "execution_count": null,
   "metadata": {
    "collapsed": true
   },
   "outputs": [],
   "source": []
  },
  {
   "cell_type": "code",
   "execution_count": null,
   "metadata": {
    "collapsed": true
   },
   "outputs": [],
   "source": []
  },
  {
   "cell_type": "markdown",
   "metadata": {},
   "source": [
    "## 2. Read the Data"
   ]
  },
  {
   "cell_type": "code",
   "execution_count": 6,
   "metadata": {
    "collapsed": true
   },
   "outputs": [],
   "source": [
    "# Import libraries\n",
    "\n",
    "import pandas as pd\n",
    "import numpy as np"
   ]
  },
  {
   "cell_type": "code",
   "execution_count": 7,
   "metadata": {
    "collapsed": false
   },
   "outputs": [],
   "source": [
    "# Read the data \n",
    "\n",
    "X_train = pd.read_csv(\"labeledTrainData.tsv\",quoting = 3, delimiter = \"\\t\", header= 0)\n",
    "X_test = pd.read_csv(\"testData.tsv\", quoting = 3, delimiter = \"\\t\", header = 0)"
   ]
  },
  {
   "cell_type": "code",
   "execution_count": 8,
   "metadata": {
    "collapsed": false
   },
   "outputs": [
    {
     "data": {
      "text/plain": [
       "'\"With all this stuff going down at the moment with MJ i\\'ve started listening to his music, watching the odd documentary here and there, watched The Wiz and watched Moonwalker again. Maybe i just want to get a certain insight into this guy who i thought was really cool in the eighties just to maybe make up my mind whether he is guilty or innocent. Moonwalker is part biography, part feature film which i remember going to see at the cinema when it was originally released. Some of it has subtle messages about MJ\\'s feeling towards the press and also the obvious message of drugs are bad m\\'kay.<br />'"
      ]
     },
     "execution_count": 8,
     "metadata": {},
     "output_type": "execute_result"
    }
   ],
   "source": [
    "# Read only the first 600 sentences of the first review.\n",
    "\n",
    "X_train['review'][0][:600]"
   ]
  },
  {
   "cell_type": "code",
   "execution_count": 9,
   "metadata": {
    "collapsed": false
   },
   "outputs": [
    {
     "name": "stdout",
     "output_type": "stream",
     "text": [
      "Training set dimension: (25000, 3)\n",
      "Test set dimension: (25000, 2)\n"
     ]
    }
   ],
   "source": [
    "print('Training set dimension:',X_train.shape)\n",
    "print('Test set dimension:',X_test.shape)"
   ]
  },
  {
   "cell_type": "code",
   "execution_count": 10,
   "metadata": {
    "collapsed": false
   },
   "outputs": [
    {
     "data": {
      "text/html": [
       "<div>\n",
       "<style>\n",
       "    .dataframe thead tr:only-child th {\n",
       "        text-align: right;\n",
       "    }\n",
       "\n",
       "    .dataframe thead th {\n",
       "        text-align: left;\n",
       "    }\n",
       "\n",
       "    .dataframe tbody tr th {\n",
       "        vertical-align: top;\n",
       "    }\n",
       "</style>\n",
       "<table border=\"1\" class=\"dataframe\">\n",
       "  <thead>\n",
       "    <tr style=\"text-align: right;\">\n",
       "      <th></th>\n",
       "      <th>id</th>\n",
       "      <th>sentiment</th>\n",
       "      <th>review</th>\n",
       "    </tr>\n",
       "  </thead>\n",
       "  <tbody>\n",
       "    <tr>\n",
       "      <th>0</th>\n",
       "      <td>\"5814_8\"</td>\n",
       "      <td>1</td>\n",
       "      <td>\"With all this stuff going down at the moment ...</td>\n",
       "    </tr>\n",
       "    <tr>\n",
       "      <th>1</th>\n",
       "      <td>\"2381_9\"</td>\n",
       "      <td>1</td>\n",
       "      <td>\"\\\"The Classic War of the Worlds\\\" by Timothy ...</td>\n",
       "    </tr>\n",
       "    <tr>\n",
       "      <th>2</th>\n",
       "      <td>\"7759_3\"</td>\n",
       "      <td>0</td>\n",
       "      <td>\"The film starts with a manager (Nicholas Bell...</td>\n",
       "    </tr>\n",
       "    <tr>\n",
       "      <th>3</th>\n",
       "      <td>\"3630_4\"</td>\n",
       "      <td>0</td>\n",
       "      <td>\"It must be assumed that those who praised thi...</td>\n",
       "    </tr>\n",
       "    <tr>\n",
       "      <th>4</th>\n",
       "      <td>\"9495_8\"</td>\n",
       "      <td>1</td>\n",
       "      <td>\"Superbly trashy and wondrously unpretentious ...</td>\n",
       "    </tr>\n",
       "  </tbody>\n",
       "</table>\n",
       "</div>"
      ],
      "text/plain": [
       "         id  sentiment                                             review\n",
       "0  \"5814_8\"          1  \"With all this stuff going down at the moment ...\n",
       "1  \"2381_9\"          1  \"\\\"The Classic War of the Worlds\\\" by Timothy ...\n",
       "2  \"7759_3\"          0  \"The film starts with a manager (Nicholas Bell...\n",
       "3  \"3630_4\"          0  \"It must be assumed that those who praised thi...\n",
       "4  \"9495_8\"          1  \"Superbly trashy and wondrously unpretentious ..."
      ]
     },
     "execution_count": 10,
     "metadata": {},
     "output_type": "execute_result"
    }
   ],
   "source": [
    "X_train.head()"
   ]
  },
  {
   "cell_type": "markdown",
   "metadata": {},
   "source": [
    "## 3. Preprocess the text"
   ]
  },
  {
   "cell_type": "code",
   "execution_count": 11,
   "metadata": {
    "collapsed": false
   },
   "outputs": [],
   "source": [
    "from bs4 import BeautifulSoup\n",
    "import re\n",
    "import nltk"
   ]
  },
  {
   "cell_type": "code",
   "execution_count": 12,
   "metadata": {
    "collapsed": false
   },
   "outputs": [],
   "source": [
    "def prep(review):\n",
    "    \n",
    "    # Remove HTML tags.\n",
    "    review = BeautifulSoup(review,'html.parser').get_text()\n",
    "    \n",
    "    # Remove non-letters\n",
    "    review = re.sub(\"[^a-zA-Z]\", \" \", review)\n",
    "    \n",
    "    # Lower case\n",
    "    review = review.lower()\n",
    "    \n",
    "    # Tokenize to each word.\n",
    "    token = nltk.word_tokenize(review)\n",
    "    \n",
    "    # Stemming\n",
    "    review = [nltk.stem.SnowballStemmer('english').stem(w) for w in token]\n",
    "    \n",
    "    # Join the words back into one string separated by space, and return the result.\n",
    "    return \" \".join(review)\n",
    "    "
   ]
  },
  {
   "cell_type": "code",
   "execution_count": 13,
   "metadata": {
    "collapsed": false
   },
   "outputs": [
    {
     "data": {
      "text/plain": [
       "'with all this stuff go down at the moment with mj i ve start listen to his music watch the odd documentari here and there watch the wiz and watch moonwalk again mayb i just want to get a certain insight into this guy who i thought was realli cool in the eighti just to mayb make up my mind whether he is guilti or innoc moonwalk is part biographi part featur film which i rememb go to see at the cinema when it was origin releas some of it has subtl messag about mj s feel toward the press and also the obvious messag of drug are bad m kay visual impress but of cours this is all about michael jackson so unless you remot like mj in anyway then you are go to hate this and find it bore some may call mj an egotist for consent to the make of this movi but mj and most of his fan would say that he made it for the fan which if true is realli nice of him the actual featur film bit when it final start is onli on for minut or so exclud the smooth crimin sequenc and joe pesci is convinc as a psychopath all power drug lord whi he want mj dead so bad is beyond me becaus mj overheard his plan nah joe pesci s charact rant that he want peopl to know it is he who is suppli drug etc so i dunno mayb he just hate mj s music lot of cool thing in this like mj turn into a car and a robot and the whole speed demon sequenc also the director must have had the patienc of a saint when it came to film the kiddi bad sequenc as usual director hate work with one kid let alon a whole bunch of them perform a complex danc scene bottom line this movi is for peopl who like mj on one level or anoth which i think is most peopl if not then stay away it doe tri and give off a wholesom messag and iron mj s bestest buddi in this movi is a girl michael jackson is truli one of the most talent peopl ever to grace this planet but is he guilti well with all the attent i ve gave this subject hmmm well i don t know becaus peopl can be differ behind close door i know this for a fact he is either an extrem nice but stupid guy or one of the most sickest liar i hope he is not the latter'"
      ]
     },
     "execution_count": 13,
     "metadata": {},
     "output_type": "execute_result"
    }
   ],
   "source": [
    "X_train['review'].iloc[:2].apply(prep).iloc[0]"
   ]
  },
  {
   "cell_type": "code",
   "execution_count": null,
   "metadata": {
    "collapsed": true
   },
   "outputs": [],
   "source": []
  },
  {
   "cell_type": "code",
   "execution_count": 14,
   "metadata": {
    "collapsed": false
   },
   "outputs": [],
   "source": [
    "# If there is no problem at the previous cell, let's apply to all the rows.\n",
    "X_train['clean'] = X_train['review'].apply(prep)\n",
    "X_test['clean'] = X_test['review'].apply(prep)"
   ]
  },
  {
   "cell_type": "code",
   "execution_count": 15,
   "metadata": {
    "collapsed": false
   },
   "outputs": [
    {
     "data": {
      "text/plain": [
       "'with all this stuff go down at the moment with mj i ve start listen to his music watch the odd documentari here and there watch the wiz and watch moonwalk again mayb i just want to get a certain insight into this guy who i thought was realli cool in the eighti just to mayb make up my mind whether he is guilti or innoc moonwalk is part biographi part featur film which i rememb go to see at the cinema when it was origin releas some of it has subtl messag about mj s feel toward the press and also the obvious messag of drug are bad m kay visual impress but of cours this is all about michael jackson so unless you remot like mj in anyway then you are go to hate this and find it bore some may call mj an egotist for consent to the make of this movi but mj and most of his fan would say that he made it for the fan which if true is realli nice of him the actual featur film bit when it final start is onli on for minut or so exclud the smooth crimin sequenc and joe pesci is convinc as a psychopath all power drug lord whi he want mj dead so bad is beyond me becaus mj overheard his plan nah joe pesci s charact rant that he want peopl to know it is he who is suppli drug etc so i dunno mayb he just hate mj s music lot of cool thing in this like mj turn into a car and a robot and the whole speed demon sequenc also the director must have had the patienc of a saint when it came to film the kiddi bad sequenc as usual director hate work with one kid let alon a whole bunch of them perform a complex danc scene bottom line this movi is for peopl who like mj on one level or anoth which i think is most peopl if not then stay away it doe tri and give off a wholesom messag and iron mj s bestest buddi in this movi is a girl michael jackson is truli one of the most talent peopl ever to grace this planet but is he guilti well with all the attent i ve gave this subject hmmm well i don t know becaus peopl can be differ behind close door i know this for a fact he is either an extrem nice but stupid guy or one of the most sickest liar i hope he is not the latter'"
      ]
     },
     "execution_count": 15,
     "metadata": {},
     "output_type": "execute_result"
    }
   ],
   "source": [
    "X_train['clean'].iloc[0]"
   ]
  },
  {
   "cell_type": "code",
   "execution_count": 16,
   "metadata": {
    "collapsed": false
   },
   "outputs": [
    {
     "name": "stdout",
     "output_type": "stream",
     "text": [
      "Training dim: (25000, 4) Test dim: (25000, 3)\n"
     ]
    }
   ],
   "source": [
    "print('Training dim:',X_train.shape, 'Test dim:', X_test.shape)"
   ]
  },
  {
   "cell_type": "code",
   "execution_count": null,
   "metadata": {
    "collapsed": true
   },
   "outputs": [],
   "source": []
  },
  {
   "cell_type": "markdown",
   "metadata": {},
   "source": [
    "## 4. TF-IDF\n",
    "\n",
    "TF-IDF (Term Frequency - Inverse Document Frequency) can be represented tf(d,t) X idf(t). TF-IDF uses the method diminishing the weight (importance) of words appeared in many documents in common, considered them incapable of discerning the documents, rather than simply counting the frequency of words as CountVectorizer does. The outcome matrix consists of each document (row) and each word (column) and the importance (weight) computed by tf * idf (values of the matrix).\n"
   ]
  },
  {
   "cell_type": "code",
   "execution_count": 17,
   "metadata": {
    "collapsed": false
   },
   "outputs": [],
   "source": [
    "from sklearn.feature_extraction.text import TfidfVectorizer\n",
    "from nltk.corpus import words"
   ]
  },
  {
   "cell_type": "code",
   "execution_count": 18,
   "metadata": {
    "collapsed": true
   },
   "outputs": [],
   "source": [
    "# analyzer is the parameter that the vectorizer reads the input data in word unit or character unit to create a matrix\n",
    "# vocabulary is the parameter that the vectorizer creates the matrix by using only input data or some other source \n",
    "# Other parameters are self-explanatory and already mentioned in other notebooks.\n",
    "\n",
    "tv = TfidfVectorizer(min_df = 3,\n",
    "                    stop_words = 'english',\n",
    "                    lowercase = True,\n",
    "                    ngram_range = (1,3),\n",
    "                    analyzer = 'word',\n",
    "                    vocabulary = set(words.words()),\n",
    "                    max_features = 100000)"
   ]
  },
  {
   "cell_type": "code",
   "execution_count": 19,
   "metadata": {
    "collapsed": false
   },
   "outputs": [],
   "source": [
    "# Handle with care especially when you transform the test dataset. (Wrong: fit_transform(X_test))\n",
    "\n",
    "train_tv = tv.fit_transform(X_train['clean'])\n",
    "test_tv = tv.transform(X_test['clean'])"
   ]
  },
  {
   "cell_type": "code",
   "execution_count": 20,
   "metadata": {
    "collapsed": false
   },
   "outputs": [
    {
     "name": "stdout",
     "output_type": "stream",
     "text": [
      "['A', 'Aani', 'Aaron', 'Aaronic', 'Aaronical']\n"
     ]
    }
   ],
   "source": [
    "# Create the list of vocabulary used for the vectorizer.\n",
    "\n",
    "vocab = tv.get_feature_names()\n",
    "print(vocab[:5])"
   ]
  },
  {
   "cell_type": "code",
   "execution_count": 21,
   "metadata": {
    "collapsed": false
   },
   "outputs": [
    {
     "name": "stdout",
     "output_type": "stream",
     "text": [
      "Vocabulary length: 235892\n"
     ]
    }
   ],
   "source": [
    "print(\"Vocabulary length:\", len(vocab))"
   ]
  },
  {
   "cell_type": "code",
   "execution_count": 22,
   "metadata": {
    "collapsed": false
   },
   "outputs": [],
   "source": [
    "dist = np.sum(train_tv, axis=0)\n",
    "checking = pd.DataFrame(dist,columns = vocab)"
   ]
  },
  {
   "cell_type": "code",
   "execution_count": 23,
   "metadata": {
    "collapsed": false
   },
   "outputs": [
    {
     "name": "stdout",
     "output_type": "stream",
     "text": [
      "Training dim: (25000, 235892) Test dim: (25000, 235892)\n"
     ]
    }
   ],
   "source": [
    "print('Training dim:',train_tv.shape, 'Test dim:', test_tv.shape)"
   ]
  },
  {
   "cell_type": "markdown",
   "metadata": {},
   "source": [
    "## 5. Modeling <a id= 'modeling'></a>"
   ]
  },
  {
   "cell_type": "code",
   "execution_count": 24,
   "metadata": {
    "collapsed": true
   },
   "outputs": [],
   "source": [
    "from sklearn.svm import LinearSVC\n",
    "from sklearn.naive_bayes import BernoulliNB\n",
    "from sklearn.model_selection import GridSearchCV, StratifiedKFold, learning_curve\n",
    "from sklearn.linear_model import LogisticRegression\n",
    "from sklearn.ensemble import VotingClassifier\n",
    "from sklearn.neural_network import MLPClassifier"
   ]
  },
  {
   "cell_type": "code",
   "execution_count": 25,
   "metadata": {
    "collapsed": true
   },
   "outputs": [],
   "source": [
    "kfold = StratifiedKFold( n_splits = 5, random_state = 2018 )"
   ]
  },
  {
   "cell_type": "code",
   "execution_count": null,
   "metadata": {
    "collapsed": true
   },
   "outputs": [],
   "source": []
  },
  {
   "cell_type": "markdown",
   "metadata": {},
   "source": [
    "### 5.1 Support Vector Machine <a id= 'svm'></a>"
   ]
  },
  {
   "cell_type": "code",
   "execution_count": 26,
   "metadata": {
    "collapsed": false
   },
   "outputs": [
    {
     "name": "stdout",
     "output_type": "stream",
     "text": [
      "Fitting 5 folds for each of 1 candidates, totalling 5 fits\n"
     ]
    },
    {
     "name": "stderr",
     "output_type": "stream",
     "text": [
      "[Parallel(n_jobs=-1)]: Done   5 out of   5 | elapsed:    0.9s finished\n"
     ]
    },
    {
     "name": "stdout",
     "output_type": "stream",
     "text": [
      "{'C': 0.3, 'class_weight': 'balanced', 'loss': 'hinge'}\n"
     ]
    }
   ],
   "source": [
    "# LinearSVC\n",
    "\n",
    "sv = LinearSVC(random_state=2018)\n",
    "\n",
    "param_grid = {\n",
    "    'loss':['hinge'],\n",
    "    'class_weight':['balanced'],\n",
    "    'C': [0.3]\n",
    "}\n",
    "\n",
    "gs_sv = GridSearchCV(sv, param_grid = param_grid, verbose = 1, cv = kfold, n_jobs = -1, scoring = 'roc_auc')\n",
    "gs_sv.fit(train_tv, X_train['sentiment'])\n",
    "gs_sv_best = gs_sv.best_estimator_\n",
    "print(gs_sv.best_params_)\n",
    "\n",
    "# {'C': 0.1, 'class_weight': {1: 1}, 'penalty': 'l2','loss':'squared_hinge'} - 0.85408\n",
    "# {'C': 0.3, 'class_weight': 'balanced', 'loss': 'hinge'} - 0.85456 (309/578)\n",
    "## "
   ]
  },
  {
   "cell_type": "code",
   "execution_count": 27,
   "metadata": {
    "collapsed": true
   },
   "outputs": [],
   "source": [
    "submission1 = gs_sv.predict(test_tv)"
   ]
  },
  {
   "cell_type": "code",
   "execution_count": null,
   "metadata": {
    "collapsed": true
   },
   "outputs": [],
   "source": []
  },
  {
   "cell_type": "markdown",
   "metadata": {},
   "source": [
    "### 5.2 Bernoulli Naive Bayes Classifier <a id= 'bnb'></a>"
   ]
  },
  {
   "cell_type": "code",
   "execution_count": 28,
   "metadata": {
    "collapsed": false
   },
   "outputs": [],
   "source": [
    "#bnb = BernoulliNB()\n",
    "#gs_bnb = GridSearchCV(bnb, param_grid = {'alpha': 3.0000000000000004,\n",
    "#                                         'binarize': 0.10000000000000001}, verbose = 1, cv = kfold, n_jobs = -1, scoring = \"roc_auc\")\n",
    "#gs_bnb.fit(train_tv, X_train['sentiment'])\n",
    "#gs_bnb_best = gs_bnb.best_estimator_\n",
    "#print(gs_bnb.best_params_)\n",
    "\n",
    "# max_features = 100000, 552/578 - 0.80476\n",
    "# alpha - 3.0000000000000004, binarize - 0.10000000000000001\n"
   ]
  },
  {
   "cell_type": "code",
   "execution_count": 29,
   "metadata": {
    "collapsed": true
   },
   "outputs": [],
   "source": [
    "#submission2 = gs_bnb.predict(test_tv)"
   ]
  },
  {
   "cell_type": "code",
   "execution_count": null,
   "metadata": {
    "collapsed": true
   },
   "outputs": [],
   "source": []
  },
  {
   "cell_type": "markdown",
   "metadata": {},
   "source": [
    "### 5.3 Perceptron"
   ]
  },
  {
   "cell_type": "code",
   "execution_count": 30,
   "metadata": {
    "collapsed": false
   },
   "outputs": [
    {
     "name": "stdout",
     "output_type": "stream",
     "text": [
      "Fitting 5 folds for each of 1 candidates, totalling 5 fits\n"
     ]
    },
    {
     "name": "stderr",
     "output_type": "stream",
     "text": [
      "[Parallel(n_jobs=-1)]: Done   5 out of   5 | elapsed: 22.4min finished\n"
     ]
    },
    {
     "name": "stdout",
     "output_type": "stream",
     "text": [
      "{'activation': 'tanh', 'alpha': 0.1, 'hidden_layer_sizes': (1,), 'learning_rate': 'constant', 'max_iter': 1000, 'solver': 'sgd'}\n"
     ]
    }
   ],
   "source": [
    "MLP = MLPClassifier(random_state = 2018)\n",
    "\n",
    "mlp_param_grid = {\n",
    "    'hidden_layer_sizes':[(1,)],\n",
    "    'activation':['tanh'],\n",
    "    'solver':['sgd'],\n",
    "    'alpha':[0.1], # 만약에 여기도 없으면 0.1~1까지 해봐야함\n",
    "    'learning_rate':['constant'],\n",
    "    'max_iter':[1000]\n",
    "}\n",
    "\n",
    "\n",
    "gsMLP = GridSearchCV(MLP, param_grid = mlp_param_grid, cv = kfold, scoring = 'roc_auc', n_jobs= -1, verbose = 1)\n",
    "gsMLP.fit(train_tv,X_train['sentiment'])\n",
    "print(gsMLP.best_params_)\n",
    "mlp_best0 = gsMLP.best_estimator_\n",
    "\n",
    "# {'activation': 'tanh', 'alpha': 0.1, 'hidden_layer_sizes': (1,), 'learning_rate': 'constant', 'max_iter': 1000, 'solver': 'sgd'} - 85.560(304/578)\n",
    "# {'activation': 'tanh', 'alpha': 0.1, 'hidden_layer_sizes': (5,), 'learning_rate': 'constant', 'max_iter': 1000, 'solver': 'sgd'} - 85.552\n",
    "# {'activation': 'tanh', 'alpha': 0.07, 'hidden_layer_sizes': (5,), 'learning_rate': 'constant', 'max_iter': 1000, 'solver': 'sgd'} - 85.452"
   ]
  },
  {
   "cell_type": "code",
   "execution_count": 31,
   "metadata": {
    "collapsed": true
   },
   "outputs": [],
   "source": [
    "submission3 = gsMLP.predict(test_tv)"
   ]
  },
  {
   "cell_type": "code",
   "execution_count": null,
   "metadata": {
    "collapsed": true
   },
   "outputs": [],
   "source": []
  },
  {
   "cell_type": "markdown",
   "metadata": {},
   "source": [
    "### 5.4 Logistic Regression"
   ]
  },
  {
   "cell_type": "code",
   "execution_count": 32,
   "metadata": {
    "collapsed": false
   },
   "outputs": [
    {
     "name": "stdout",
     "output_type": "stream",
     "text": [
      "Fitting 5 folds for each of 1 candidates, totalling 5 fits\n"
     ]
    },
    {
     "name": "stderr",
     "output_type": "stream",
     "text": [
      "[Parallel(n_jobs=-1)]: Done   5 out of   5 | elapsed:    1.2s finished\n"
     ]
    },
    {
     "name": "stdout",
     "output_type": "stream",
     "text": [
      "{'C': 1, 'class_weight': {1: 2}, 'dual': True, 'penalty': 'l2'}\n"
     ]
    }
   ],
   "source": [
    "lr = LogisticRegression(random_state = 2018)\n",
    "\n",
    "lr2_param = {\n",
    "    'penalty':['l2'],\n",
    "    'dual':[True],\n",
    "    'C':[1],\n",
    "    'class_weight':[{1:2}]\n",
    "    }\n",
    "\n",
    "lr_CV = GridSearchCV(lr, param_grid = [lr2_param], cv = kfold, scoring = 'roc_auc', n_jobs = -1, verbose = 1)\n",
    "lr_CV.fit(train_tv, X_train['sentiment'])\n",
    "print(lr_CV.best_params_)\n",
    "logi_best = lr_CV.best_estimator_\n",
    "\n",
    "# {'C': 1, 'class_weight': {1: 2}, 'dual': True, 'penalty': 'l2'} - 83.932"
   ]
  },
  {
   "cell_type": "code",
   "execution_count": 33,
   "metadata": {
    "collapsed": true
   },
   "outputs": [],
   "source": [
    "submission6 = lr_CV.predict(test_tv)"
   ]
  },
  {
   "cell_type": "code",
   "execution_count": null,
   "metadata": {
    "collapsed": true
   },
   "outputs": [],
   "source": []
  },
  {
   "cell_type": "markdown",
   "metadata": {},
   "source": [
    "### Ensemble"
   ]
  },
  {
   "cell_type": "code",
   "execution_count": 51,
   "metadata": {
    "collapsed": false
   },
   "outputs": [],
   "source": [
    "from sklearn.ensemble import VotingClassifier\n",
    "\n",
    "votingC = VotingClassifier(estimators = [('mlp0',mlp_best0), #('mlp1',mlp_best1), ('mlp2',mlp_best2), \n",
    "                                         ('svm',gs_sv_best)], voting='hard',n_jobs=-1)\n",
    "\n",
    "votingC = votingC.fit(train_tv,X_train['sentiment'])\n",
    "\n",
    "submission = votingC.predict(test_tv)\n",
    "\n",
    "# mlp + svm + logi, [3,2,1] - 85.560\n",
    "# mlp + svm + logi, [2,2,1] - 85.452\n",
    "# mlp + svm + logi, [0.41,0.39,0.2] - 85.452\n",
    "# mlp + svm, no weight - 85.572"
   ]
  },
  {
   "cell_type": "code",
   "execution_count": 54,
   "metadata": {
    "collapsed": false
   },
   "outputs": [
    {
     "name": "stdout",
     "output_type": "stream",
     "text": [
      "Training Score: 0.89812\n"
     ]
    }
   ],
   "source": [
    "print('Training Score:',votingC.score(train_tv,X_train['sentiment']))"
   ]
  },
  {
   "cell_type": "code",
   "execution_count": null,
   "metadata": {
    "collapsed": true
   },
   "outputs": [],
   "source": []
  },
  {
   "cell_type": "markdown",
   "metadata": {},
   "source": [
    "## 6. Submission <a id= 'submission'></a>"
   ]
  },
  {
   "cell_type": "code",
   "execution_count": 55,
   "metadata": {
    "collapsed": false
   },
   "outputs": [],
   "source": [
    "output = pd.DataFrame( data = {'id': X_test['id'], 'sentiment': submission })\n",
    "output.to_csv('submission16.csv', index = False, quoting = 3)"
   ]
  },
  {
   "cell_type": "code",
   "execution_count": null,
   "metadata": {
    "collapsed": true
   },
   "outputs": [],
   "source": []
  }
 ],
 "metadata": {
  "kernelspec": {
   "display_name": "Python 3",
   "language": "python",
   "name": "python3"
  },
  "language_info": {
   "codemirror_mode": {
    "name": "ipython",
    "version": 3
   },
   "file_extension": ".py",
   "mimetype": "text/x-python",
   "name": "python",
   "nbconvert_exporter": "python",
   "pygments_lexer": "ipython3",
   "version": "3.6.0"
  }
 },
 "nbformat": 4,
 "nbformat_minor": 1
}
