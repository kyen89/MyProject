{
 "cells": [
  {
   "cell_type": "markdown",
   "metadata": {},
   "source": [
    "## Table of Contents\n",
    "\n",
    "1. [Introduction](#intro)\n",
    "2. [Data Exploration](#data_exploration)\n",
    "3. [Feature Engineering](#feature_engineering)\n",
    "4. [Modeling](#modeling)\n",
    "5. [Submission](#submission)\n",
    "\n",
    "\n",
    "\n"
   ]
  },
  {
   "cell_type": "markdown",
   "metadata": {},
   "source": [
    "## 1. Introduction\n",
    "<a id='intro'></a>\n",
    "This kernel consists of three parts. For the first part, Data Exploration, in order to explain the relationship between independent features and dependent feature, we will explore the dataset by visualizing and using various statistical methods. This step can give you some insight which features play an important role in prediction. For the second part, Feature Engineering, based on the result of analysis in the first part, we will manipulate and clean the dataset for the next step, modeling. In the last step, we will be working on popular machine learning algorithms (models) for prediction. Lastly, I am excited to share my first kernel with Kagglers and I hope this notebook helpful !    "
   ]
  },
  {
   "cell_type": "markdown",
   "metadata": {
    "collapsed": true
   },
   "source": [
    "## 2. Data Exploration\n",
    "<a id='data_exploration'></a>\n",
    "-  Data Extraction\n",
    "-  Visualization\n",
    "-  Analysis"
   ]
  },
  {
   "cell_type": "code",
   "execution_count": 1,
   "metadata": {
    "collapsed": true
   },
   "outputs": [],
   "source": [
    "# Import libraries\n",
    "\n",
    "import pandas as pd\n",
    "import numpy as np\n",
    "import matplotlib.pyplot as plt\n",
    "from matplotlib import gridspec\n",
    "plt.style.use('seaborn-colorblind')\n",
    "import seaborn as sns\n",
    "%matplotlib inline\n",
    "\n",
    "import warnings\n",
    "warnings.filterwarnings('ignore')\n",
    "warnings.filterwarnings('ignore',category=DeprecationWarning)\n",
    "\n",
    "from IPython.display import Image\n",
    "from collections import Counter\n",
    "from scipy.stats.mstats import normaltest\n",
    "from sklearn.preprocessing import StandardScaler,LabelEncoder,OneHotEncoder"
   ]
  },
  {
   "cell_type": "code",
   "execution_count": 2,
   "metadata": {
    "collapsed": true
   },
   "outputs": [],
   "source": [
    "# Before we dive into the main game, let's take a look at the training set.\n",
    "\n",
    "df = pd.read_csv(\"train.csv\")"
   ]
  },
  {
   "cell_type": "code",
   "execution_count": 3,
   "metadata": {
    "collapsed": false
   },
   "outputs": [
    {
     "name": "stdout",
     "output_type": "stream",
     "text": [
      "Dimension: (891, 12)\n"
     ]
    },
    {
     "data": {
      "text/html": [
       "<div>\n",
       "<style>\n",
       "    .dataframe thead tr:only-child th {\n",
       "        text-align: right;\n",
       "    }\n",
       "\n",
       "    .dataframe thead th {\n",
       "        text-align: left;\n",
       "    }\n",
       "\n",
       "    .dataframe tbody tr th {\n",
       "        vertical-align: top;\n",
       "    }\n",
       "</style>\n",
       "<table border=\"1\" class=\"dataframe\">\n",
       "  <thead>\n",
       "    <tr style=\"text-align: right;\">\n",
       "      <th></th>\n",
       "      <th>PassengerId</th>\n",
       "      <th>Survived</th>\n",
       "      <th>Pclass</th>\n",
       "      <th>Name</th>\n",
       "      <th>Sex</th>\n",
       "      <th>Age</th>\n",
       "      <th>SibSp</th>\n",
       "      <th>Parch</th>\n",
       "      <th>Ticket</th>\n",
       "      <th>Fare</th>\n",
       "      <th>Cabin</th>\n",
       "      <th>Embarked</th>\n",
       "    </tr>\n",
       "  </thead>\n",
       "  <tbody>\n",
       "    <tr>\n",
       "      <th>0</th>\n",
       "      <td>1</td>\n",
       "      <td>0</td>\n",
       "      <td>3</td>\n",
       "      <td>Braund, Mr. Owen Harris</td>\n",
       "      <td>male</td>\n",
       "      <td>22.0</td>\n",
       "      <td>1</td>\n",
       "      <td>0</td>\n",
       "      <td>A/5 21171</td>\n",
       "      <td>7.2500</td>\n",
       "      <td>NaN</td>\n",
       "      <td>S</td>\n",
       "    </tr>\n",
       "    <tr>\n",
       "      <th>1</th>\n",
       "      <td>2</td>\n",
       "      <td>1</td>\n",
       "      <td>1</td>\n",
       "      <td>Cumings, Mrs. John Bradley (Florence Briggs Th...</td>\n",
       "      <td>female</td>\n",
       "      <td>38.0</td>\n",
       "      <td>1</td>\n",
       "      <td>0</td>\n",
       "      <td>PC 17599</td>\n",
       "      <td>71.2833</td>\n",
       "      <td>C85</td>\n",
       "      <td>C</td>\n",
       "    </tr>\n",
       "    <tr>\n",
       "      <th>2</th>\n",
       "      <td>3</td>\n",
       "      <td>1</td>\n",
       "      <td>3</td>\n",
       "      <td>Heikkinen, Miss. Laina</td>\n",
       "      <td>female</td>\n",
       "      <td>26.0</td>\n",
       "      <td>0</td>\n",
       "      <td>0</td>\n",
       "      <td>STON/O2. 3101282</td>\n",
       "      <td>7.9250</td>\n",
       "      <td>NaN</td>\n",
       "      <td>S</td>\n",
       "    </tr>\n",
       "    <tr>\n",
       "      <th>3</th>\n",
       "      <td>4</td>\n",
       "      <td>1</td>\n",
       "      <td>1</td>\n",
       "      <td>Futrelle, Mrs. Jacques Heath (Lily May Peel)</td>\n",
       "      <td>female</td>\n",
       "      <td>35.0</td>\n",
       "      <td>1</td>\n",
       "      <td>0</td>\n",
       "      <td>113803</td>\n",
       "      <td>53.1000</td>\n",
       "      <td>C123</td>\n",
       "      <td>S</td>\n",
       "    </tr>\n",
       "    <tr>\n",
       "      <th>4</th>\n",
       "      <td>5</td>\n",
       "      <td>0</td>\n",
       "      <td>3</td>\n",
       "      <td>Allen, Mr. William Henry</td>\n",
       "      <td>male</td>\n",
       "      <td>35.0</td>\n",
       "      <td>0</td>\n",
       "      <td>0</td>\n",
       "      <td>373450</td>\n",
       "      <td>8.0500</td>\n",
       "      <td>NaN</td>\n",
       "      <td>S</td>\n",
       "    </tr>\n",
       "  </tbody>\n",
       "</table>\n",
       "</div>"
      ],
      "text/plain": [
       "   PassengerId  Survived  Pclass  \\\n",
       "0            1         0       3   \n",
       "1            2         1       1   \n",
       "2            3         1       3   \n",
       "3            4         1       1   \n",
       "4            5         0       3   \n",
       "\n",
       "                                                Name     Sex   Age  SibSp  \\\n",
       "0                            Braund, Mr. Owen Harris    male  22.0      1   \n",
       "1  Cumings, Mrs. John Bradley (Florence Briggs Th...  female  38.0      1   \n",
       "2                             Heikkinen, Miss. Laina  female  26.0      0   \n",
       "3       Futrelle, Mrs. Jacques Heath (Lily May Peel)  female  35.0      1   \n",
       "4                           Allen, Mr. William Henry    male  35.0      0   \n",
       "\n",
       "   Parch            Ticket     Fare Cabin Embarked  \n",
       "0      0         A/5 21171   7.2500   NaN        S  \n",
       "1      0          PC 17599  71.2833   C85        C  \n",
       "2      0  STON/O2. 3101282   7.9250   NaN        S  \n",
       "3      0            113803  53.1000  C123        S  \n",
       "4      0            373450   8.0500   NaN        S  "
      ]
     },
     "execution_count": 3,
     "metadata": {},
     "output_type": "execute_result"
    }
   ],
   "source": [
    "# check the dimension and first five rows of training set\n",
    "\n",
    "print(\"Dimension:\",df.shape)\n",
    "df.head()"
   ]
  },
  {
   "cell_type": "code",
   "execution_count": 4,
   "metadata": {
    "collapsed": false
   },
   "outputs": [
    {
     "name": "stdout",
     "output_type": "stream",
     "text": [
      "<class 'pandas.core.frame.DataFrame'>\n",
      "RangeIndex: 891 entries, 0 to 890\n",
      "Data columns (total 12 columns):\n",
      "PassengerId    891 non-null int64\n",
      "Survived       891 non-null int64\n",
      "Pclass         891 non-null int64\n",
      "Name           891 non-null object\n",
      "Sex            891 non-null object\n",
      "Age            714 non-null float64\n",
      "SibSp          891 non-null int64\n",
      "Parch          891 non-null int64\n",
      "Ticket         891 non-null object\n",
      "Fare           891 non-null float64\n",
      "Cabin          204 non-null object\n",
      "Embarked       889 non-null object\n",
      "dtypes: float64(2), int64(5), object(5)\n",
      "memory usage: 83.6+ KB\n"
     ]
    },
    {
     "data": {
      "text/plain": [
       "PassengerId      0\n",
       "Survived         0\n",
       "Pclass           0\n",
       "Name             0\n",
       "Sex              0\n",
       "Age            177\n",
       "SibSp            0\n",
       "Parch            0\n",
       "Ticket           0\n",
       "Fare             0\n",
       "Cabin          687\n",
       "Embarked         2\n",
       "dtype: int64"
      ]
     },
     "execution_count": 4,
     "metadata": {},
     "output_type": "execute_result"
    }
   ],
   "source": [
    "# Let's see if there is any missing value in dataset and useful information for further analysis\n",
    "df.info()\n",
    "df.isnull().sum()"
   ]
  },
  {
   "cell_type": "markdown",
   "metadata": {},
   "source": [
    "Age and Cabin features get a large share of the missing values"
   ]
  },
  {
   "cell_type": "code",
   "execution_count": 5,
   "metadata": {
    "collapsed": false
   },
   "outputs": [
    {
     "data": {
      "text/html": [
       "<div>\n",
       "<style>\n",
       "    .dataframe thead tr:only-child th {\n",
       "        text-align: right;\n",
       "    }\n",
       "\n",
       "    .dataframe thead th {\n",
       "        text-align: left;\n",
       "    }\n",
       "\n",
       "    .dataframe tbody tr th {\n",
       "        vertical-align: top;\n",
       "    }\n",
       "</style>\n",
       "<table border=\"1\" class=\"dataframe\">\n",
       "  <thead>\n",
       "    <tr style=\"text-align: right;\">\n",
       "      <th></th>\n",
       "      <th>PassengerId</th>\n",
       "      <th>Survived</th>\n",
       "      <th>Pclass</th>\n",
       "      <th>Age</th>\n",
       "      <th>SibSp</th>\n",
       "      <th>Parch</th>\n",
       "      <th>Fare</th>\n",
       "    </tr>\n",
       "  </thead>\n",
       "  <tbody>\n",
       "    <tr>\n",
       "      <th>count</th>\n",
       "      <td>891.000000</td>\n",
       "      <td>891.000000</td>\n",
       "      <td>891.000000</td>\n",
       "      <td>891.000000</td>\n",
       "      <td>891.000000</td>\n",
       "      <td>891.000000</td>\n",
       "      <td>891.000000</td>\n",
       "    </tr>\n",
       "    <tr>\n",
       "      <th>mean</th>\n",
       "      <td>446.000000</td>\n",
       "      <td>0.383838</td>\n",
       "      <td>2.308642</td>\n",
       "      <td>29.361582</td>\n",
       "      <td>0.523008</td>\n",
       "      <td>0.381594</td>\n",
       "      <td>32.204208</td>\n",
       "    </tr>\n",
       "    <tr>\n",
       "      <th>std</th>\n",
       "      <td>257.353842</td>\n",
       "      <td>0.486592</td>\n",
       "      <td>0.836071</td>\n",
       "      <td>13.019697</td>\n",
       "      <td>1.102743</td>\n",
       "      <td>0.806057</td>\n",
       "      <td>49.693429</td>\n",
       "    </tr>\n",
       "    <tr>\n",
       "      <th>min</th>\n",
       "      <td>1.000000</td>\n",
       "      <td>0.000000</td>\n",
       "      <td>1.000000</td>\n",
       "      <td>0.420000</td>\n",
       "      <td>0.000000</td>\n",
       "      <td>0.000000</td>\n",
       "      <td>0.000000</td>\n",
       "    </tr>\n",
       "    <tr>\n",
       "      <th>25%</th>\n",
       "      <td>223.500000</td>\n",
       "      <td>0.000000</td>\n",
       "      <td>2.000000</td>\n",
       "      <td>22.000000</td>\n",
       "      <td>0.000000</td>\n",
       "      <td>0.000000</td>\n",
       "      <td>7.910400</td>\n",
       "    </tr>\n",
       "    <tr>\n",
       "      <th>50%</th>\n",
       "      <td>446.000000</td>\n",
       "      <td>0.000000</td>\n",
       "      <td>3.000000</td>\n",
       "      <td>28.000000</td>\n",
       "      <td>0.000000</td>\n",
       "      <td>0.000000</td>\n",
       "      <td>14.454200</td>\n",
       "    </tr>\n",
       "    <tr>\n",
       "      <th>75%</th>\n",
       "      <td>668.500000</td>\n",
       "      <td>1.000000</td>\n",
       "      <td>3.000000</td>\n",
       "      <td>35.000000</td>\n",
       "      <td>1.000000</td>\n",
       "      <td>0.000000</td>\n",
       "      <td>31.000000</td>\n",
       "    </tr>\n",
       "    <tr>\n",
       "      <th>max</th>\n",
       "      <td>891.000000</td>\n",
       "      <td>1.000000</td>\n",
       "      <td>3.000000</td>\n",
       "      <td>80.000000</td>\n",
       "      <td>8.000000</td>\n",
       "      <td>6.000000</td>\n",
       "      <td>512.329200</td>\n",
       "    </tr>\n",
       "  </tbody>\n",
       "</table>\n",
       "</div>"
      ],
      "text/plain": [
       "       PassengerId    Survived      Pclass         Age       SibSp  \\\n",
       "count   891.000000  891.000000  891.000000  891.000000  891.000000   \n",
       "mean    446.000000    0.383838    2.308642   29.361582    0.523008   \n",
       "std     257.353842    0.486592    0.836071   13.019697    1.102743   \n",
       "min       1.000000    0.000000    1.000000    0.420000    0.000000   \n",
       "25%     223.500000    0.000000    2.000000   22.000000    0.000000   \n",
       "50%     446.000000    0.000000    3.000000   28.000000    0.000000   \n",
       "75%     668.500000    1.000000    3.000000   35.000000    1.000000   \n",
       "max     891.000000    1.000000    3.000000   80.000000    8.000000   \n",
       "\n",
       "            Parch        Fare  \n",
       "count  891.000000  891.000000  \n",
       "mean     0.381594   32.204208  \n",
       "std      0.806057   49.693429  \n",
       "min      0.000000    0.000000  \n",
       "25%      0.000000    7.910400  \n",
       "50%      0.000000   14.454200  \n",
       "75%      0.000000   31.000000  \n",
       "max      6.000000  512.329200  "
      ]
     },
     "execution_count": 5,
     "metadata": {},
     "output_type": "execute_result"
    }
   ],
   "source": [
    "df.Age.fillna(df.Age.median(),inplace=True)\n",
    "df.describe()"
   ]
  },
  {
   "cell_type": "markdown",
   "metadata": {},
   "source": [
    "In order to analyze without missing values and see the general picture of dataset, it may be a good idea to choose the median over mean to replace missing values in Age column with the median ages since **the median is more robust to outliers.**"
   ]
  },
  {
   "cell_type": "code",
   "execution_count": null,
   "metadata": {
    "collapsed": true
   },
   "outputs": [],
   "source": []
  },
  {
   "cell_type": "markdown",
   "metadata": {},
   "source": [
    "##### Sex"
   ]
  },
  {
   "cell_type": "code",
   "execution_count": 6,
   "metadata": {
    "collapsed": false
   },
   "outputs": [
    {
     "data": {
      "text/plain": [
       "<matplotlib.text.Text at 0x1138ec128>"
      ]
     },
     "execution_count": 6,
     "metadata": {},
     "output_type": "execute_result"
    },
    {
     "data": {
      "image/png": "[encoded data removed]",
      "text/plain": [
       "<matplotlib.figure.Figure at 0x112ed5eb8>"
      ]
     },
     "metadata": {},
     "output_type": "display_data"
    }
   ],
   "source": [
    "df['Died'] = (df['Survived'] == 0).map(lambda x: 1 if x == True else 0)\n",
    "df.groupby('Sex').agg('sum')[['Survived','Died']].plot(kind='bar',stacked=True,colors=['red','grey'],figsize=(13,5))\n",
    "plt.legend(frameon=False)\n",
    "\n",
    "ax = plt.gca()\n",
    "for item in ax.xaxis.get_ticklabels():\n",
    "    item.set_rotation(0)\n",
    "    \n",
    "plt.ylabel(\"Passengers\")"
   ]
  },
  {
   "cell_type": "code",
   "execution_count": 7,
   "metadata": {
    "collapsed": false
   },
   "outputs": [
    {
     "data": {
      "text/html": [
       "<div>\n",
       "<style>\n",
       "    .dataframe thead tr:only-child th {\n",
       "        text-align: right;\n",
       "    }\n",
       "\n",
       "    .dataframe thead th {\n",
       "        text-align: left;\n",
       "    }\n",
       "\n",
       "    .dataframe tbody tr th {\n",
       "        vertical-align: top;\n",
       "    }\n",
       "</style>\n",
       "<table border=\"1\" class=\"dataframe\">\n",
       "  <thead>\n",
       "    <tr style=\"text-align: right;\">\n",
       "      <th></th>\n",
       "      <th>Survived</th>\n",
       "    </tr>\n",
       "    <tr>\n",
       "      <th>Sex</th>\n",
       "      <th></th>\n",
       "    </tr>\n",
       "  </thead>\n",
       "  <tbody>\n",
       "    <tr>\n",
       "      <th>female</th>\n",
       "      <td>0.742038</td>\n",
       "    </tr>\n",
       "    <tr>\n",
       "      <th>male</th>\n",
       "      <td>0.188908</td>\n",
       "    </tr>\n",
       "  </tbody>\n",
       "</table>\n",
       "</div>"
      ],
      "text/plain": [
       "        Survived\n",
       "Sex             \n",
       "female  0.742038\n",
       "male    0.188908"
      ]
     },
     "execution_count": 7,
     "metadata": {},
     "output_type": "execute_result"
    }
   ],
   "source": [
    "df.groupby('Sex').agg('mean')[['Survived']]"
   ]
  },
  {
   "cell_type": "markdown",
   "metadata": {},
   "source": [
    ">-  The plots and mean table clearly shows that **female passengers are more likely to survive.**<br>\n",
    ">-  **Sex variable may be very useful to predict the survival** "
   ]
  },
  {
   "cell_type": "code",
   "execution_count": null,
   "metadata": {
    "collapsed": true
   },
   "outputs": [],
   "source": []
  },
  {
   "cell_type": "markdown",
   "metadata": {},
   "source": [
    "##### Age"
   ]
  },
  {
   "cell_type": "code",
   "execution_count": 8,
   "metadata": {
    "collapsed": false
   },
   "outputs": [
    {
     "data": {
      "image/png": "[encoded data removed]",
      "text/plain": [
       "<matplotlib.figure.Figure at 0x112eb7e10>"
      ]
     },
     "metadata": {},
     "output_type": "display_data"
    }
   ],
   "source": [
    "a = sns.factorplot(x='Sex',y='Age',hue='Survived',data=df,split=True,palette={0:\"grey\",1:'red'},size=6,kind='violin',aspect=2)"
   ]
  },
  {
   "cell_type": "markdown",
   "metadata": {},
   "source": [
    "Factorplot is used in order to show multiple distributions of three variables 'Sex', 'Age', and 'Survived'.<br>\n",
    "The plot above validates that,\n",
    ">-  The shape of the distributions are roughly Gaussian.\n",
    ">-  Especially, a large number of passengers between 20 to 30 died\n",
    ">-  **By just looking at the male red plot, we can see that younger male are more likely to survive than old male.**\n",
    ">-  Unlike old male passengers, a large number of old female passengers could survive.\n",
    ">-  **Appearently, the age variable does not greatly affect the female survival as much as that of male's**"
   ]
  },
  {
   "cell_type": "code",
   "execution_count": null,
   "metadata": {
    "collapsed": true
   },
   "outputs": [],
   "source": []
  },
  {
   "cell_type": "markdown",
   "metadata": {},
   "source": [
    "##### Fare"
   ]
  },
  {
   "cell_type": "code",
   "execution_count": 9,
   "metadata": {
    "collapsed": false
   },
   "outputs": [
    {
     "name": "stdout",
     "output_type": "stream",
     "text": [
      "NormaltestResult(statistic=904.58727053269263, pvalue=3.727091062842147e-197)\n"
     ]
    }
   ],
   "source": [
    "print(normaltest(df.Fare))"
   ]
  },
  {
   "cell_type": "markdown",
   "metadata": {},
   "source": [
    "The p-value of the normal test for Fare is 0, which means we can expect the distribution would be very skewed. (If the p-value is very small, it means it is unlikely that the data came from a normal distribution.)"
   ]
  },
  {
   "cell_type": "code",
   "execution_count": 10,
   "metadata": {
    "collapsed": false
   },
   "outputs": [
    {
     "data": {
      "text/plain": [
       "<matplotlib.legend.Legend at 0x113fd6f28>"
      ]
     },
     "execution_count": 10,
     "metadata": {},
     "output_type": "execute_result"
    },
    {
     "data": {
      "image/png": "[encoded data removed]",
      "text/plain": [
       "<matplotlib.figure.Figure at 0x112fca7f0>"
      ]
     },
     "metadata": {},
     "output_type": "display_data"
    }
   ],
   "source": [
    "fig, (axis1,axis2) = plt.subplots(ncols=2, figsize=(17,6))\n",
    "gs = gridspec.GridSpec(1,2,width_ratios=[1,3])\n",
    "ax1 = plt.subplot(gs[0])\n",
    "sns.kdeplot(df['Fare'],color='red',shade=True,ax=ax1)\n",
    "\n",
    "ax2 = plt.subplot(gs[1])\n",
    "ax2.hist([df[df['Survived']==1]['Fare'],df[df['Survived']==0]['Fare']],stacked=True,bins=40,color=['red','grey'],label=['Survived','Died'])\n",
    "\n",
    "plt.xlabel(\"Fare\")\n",
    "plt.ylabel(\"passengers\")\n",
    "plt.legend()\n"
   ]
  },
  {
   "cell_type": "markdown",
   "metadata": {},
   "source": [
    ">- The plot above shows clearly that **the number of deaths is decreasing as the fare price increases.**\n",
    ">- We can infer that passengers who could afford **expensive fare tickets are more likely men of high social standing and could be rescued by priority.**"
   ]
  },
  {
   "cell_type": "code",
   "execution_count": null,
   "metadata": {
    "collapsed": true
   },
   "outputs": [],
   "source": []
  },
  {
   "cell_type": "markdown",
   "metadata": {},
   "source": [
    "##### SibSp"
   ]
  },
  {
   "cell_type": "code",
   "execution_count": 11,
   "metadata": {
    "collapsed": false
   },
   "outputs": [
    {
     "data": {
      "image/png": "[encoded data removed]",
      "text/plain": [
       "<matplotlib.figure.Figure at 0x112f6f780>"
      ]
     },
     "metadata": {},
     "output_type": "display_data"
    }
   ],
   "source": [
    "plt.figure(figsize=(10,5))\n",
    "ss = sns.barplot(x='SibSp',y='Survived',data=df,ci=None)\n",
    "ss = ss.set(ylabel='prob of Survival')"
   ]
  },
  {
   "cell_type": "markdown",
   "metadata": {},
   "source": [
    ">- **Single passenger or passengers with a few siblings/spouses (<3) aboard the Titanic tend to survive.**\n",
    ">- **From SibSp2, as the number of SibSp increases, the chance to survive abruptly decreases and even the probability of survival of very large families passengers (5 and 8) is zero.**"
   ]
  },
  {
   "cell_type": "code",
   "execution_count": null,
   "metadata": {
    "collapsed": true
   },
   "outputs": [],
   "source": []
  },
  {
   "cell_type": "markdown",
   "metadata": {},
   "source": [
    "##### Parch"
   ]
  },
  {
   "cell_type": "code",
   "execution_count": 12,
   "metadata": {
    "collapsed": false
   },
   "outputs": [
    {
     "data": {
      "image/png": "[encoded data removed]",
      "text/plain": [
       "<matplotlib.figure.Figure at 0x114626ac8>"
      ]
     },
     "metadata": {},
     "output_type": "display_data"
    }
   ],
   "source": [
    "plt.figure(figsize=(10,5))\n",
    "pc = sns.barplot(x='Parch',y='Survived',data=df,ci=None)\n",
    "pc = pc.set(ylabel='prob of Survival')\n"
   ]
  },
  {
   "cell_type": "markdown",
   "metadata": {},
   "source": [
    "The result is somewhat very similar to that of SibSp.\n",
    ">- **Large families have less chance to survive.**\n",
    ">- **Small families have even more chance to survive than single passengers.**"
   ]
  },
  {
   "cell_type": "code",
   "execution_count": null,
   "metadata": {
    "collapsed": true
   },
   "outputs": [],
   "source": []
  },
  {
   "cell_type": "markdown",
   "metadata": {},
   "source": [
    "##### Embarked"
   ]
  },
  {
   "cell_type": "code",
   "execution_count": 13,
   "metadata": {
    "collapsed": false
   },
   "outputs": [
    {
     "data": {
      "text/plain": [
       "2"
      ]
     },
     "execution_count": 13,
     "metadata": {},
     "output_type": "execute_result"
    }
   ],
   "source": [
    "# Let's check if there is any null value in the feature.\n",
    "df.Embarked.isnull().sum()"
   ]
  },
  {
   "cell_type": "code",
   "execution_count": 14,
   "metadata": {
    "collapsed": false
   },
   "outputs": [
    {
     "name": "stdout",
     "output_type": "stream",
     "text": [
      "Counter({'S': 646, 'C': 168, 'Q': 77})\n"
     ]
    }
   ],
   "source": [
    "df.Embarked.fillna(df.Embarked.mode()[0],inplace=True)\n",
    "print(Counter(df.Embarked))"
   ]
  },
  {
   "cell_type": "markdown",
   "metadata": {},
   "source": [
    "There were two missing values in Embarked so I filled them with the most frequent value 'S'"
   ]
  },
  {
   "cell_type": "code",
   "execution_count": 15,
   "metadata": {
    "collapsed": false
   },
   "outputs": [
    {
     "data": {
      "image/png": "[encoded data removed]",
      "text/plain": [
       "<matplotlib.figure.Figure at 0x112f85da0>"
      ]
     },
     "metadata": {},
     "output_type": "display_data"
    }
   ],
   "source": [
    "fig, (axis1,axis2) = plt.subplots(1,2,figsize=(15,5))\n",
    "sns.barplot(x='Embarked', y='Survived',data=df, ci=None,ax=axis1)\n",
    "axis2.set(ylabel='prob of Survival')\n",
    "\n",
    "em = sns.factorplot(x='Embarked',y='Fare',hue='Survived',data=df,kind='violin',palette={0:'grey',1:'red'}, size=6,split=True,ax=axis2)\n",
    "plt.close(2)"
   ]
  },
  {
   "cell_type": "markdown",
   "metadata": {},
   "source": [
    "On the left plot, the port which has the highest survival probability among three ports is 'C', Cherbourg but it seems it is still not clear and feels like we do not have enough information ,so we can get a bit more information by plotting one more figure (on the right plot). This plot shows the interactions among 'Embarked', 'Fare', and 'Survived'. One thing to note is that the tail of the 'C' distribution is particularly longer than other two, which means most of expensive fare tickets were sold at the port 'C' Cherbourg; consequently, passengers who can afford to it, as seen earlier in 'Fare' part, are more likely to survive."
   ]
  },
  {
   "cell_type": "code",
   "execution_count": null,
   "metadata": {
    "collapsed": true
   },
   "outputs": [],
   "source": []
  },
  {
   "cell_type": "markdown",
   "metadata": {},
   "source": [
    "##### Pclass"
   ]
  },
  {
   "cell_type": "code",
   "execution_count": 16,
   "metadata": {
    "collapsed": false
   },
   "outputs": [
    {
     "data": {
      "image/png": "[encoded data removed]",
      "text/plain": [
       "<matplotlib.figure.Figure at 0x1140a66a0>"
      ]
     },
     "metadata": {},
     "output_type": "display_data"
    }
   ],
   "source": [
    "fig, axs = plt.subplots(ncols=2, figsize=(15,6))\n",
    "sns.barplot(x='Pclass',y='Fare',data=df,ax=axs[0])\n",
    "ps = sns.barplot(x='Pclass',y='Survived',data=df,ax=axs[1])\n",
    "ps.set(ylabel='prob of Survival')\n",
    "sns.despine(ax=axs[1], right=True, left=False)\n",
    "sns.despine(ax=axs[0], right=True, left=False)\n"
   ]
  },
  {
   "cell_type": "markdown",
   "metadata": {},
   "source": [
    "As the ticket class is higher (1st is the highest), Fare is more expensive and they have more chance to survive."
   ]
  },
  {
   "cell_type": "code",
   "execution_count": 17,
   "metadata": {
    "collapsed": false
   },
   "outputs": [
    {
     "data": {
      "text/html": [
       "<div>\n",
       "<style>\n",
       "    .dataframe thead tr:only-child th {\n",
       "        text-align: right;\n",
       "    }\n",
       "\n",
       "    .dataframe thead th {\n",
       "        text-align: left;\n",
       "    }\n",
       "\n",
       "    .dataframe tbody tr th {\n",
       "        vertical-align: top;\n",
       "    }\n",
       "</style>\n",
       "<table border=\"1\" class=\"dataframe\">\n",
       "  <thead>\n",
       "    <tr style=\"text-align: right;\">\n",
       "      <th></th>\n",
       "      <th>Fare</th>\n",
       "      <th>Pclass</th>\n",
       "      <th>Survived</th>\n",
       "    </tr>\n",
       "  </thead>\n",
       "  <tbody>\n",
       "    <tr>\n",
       "      <th>Fare</th>\n",
       "      <td>1.000000</td>\n",
       "      <td>-0.549500</td>\n",
       "      <td>0.257307</td>\n",
       "    </tr>\n",
       "    <tr>\n",
       "      <th>Pclass</th>\n",
       "      <td>-0.549500</td>\n",
       "      <td>1.000000</td>\n",
       "      <td>-0.338481</td>\n",
       "    </tr>\n",
       "    <tr>\n",
       "      <th>Survived</th>\n",
       "      <td>0.257307</td>\n",
       "      <td>-0.338481</td>\n",
       "      <td>1.000000</td>\n",
       "    </tr>\n",
       "  </tbody>\n",
       "</table>\n",
       "</div>"
      ],
      "text/plain": [
       "              Fare    Pclass  Survived\n",
       "Fare      1.000000 -0.549500  0.257307\n",
       "Pclass   -0.549500  1.000000 -0.338481\n",
       "Survived  0.257307 -0.338481  1.000000"
      ]
     },
     "execution_count": 17,
     "metadata": {},
     "output_type": "execute_result"
    }
   ],
   "source": [
    "df[['Fare','Pclass','Survived']].corr()"
   ]
  },
  {
   "cell_type": "markdown",
   "metadata": {
    "collapsed": true
   },
   "source": [
    "As we expected, three features are correlated each other and they would be useful to predict survivals. "
   ]
  },
  {
   "cell_type": "code",
   "execution_count": null,
   "metadata": {
    "collapsed": true
   },
   "outputs": [],
   "source": []
  },
  {
   "cell_type": "markdown",
   "metadata": {},
   "source": [
    "##### Family Size"
   ]
  },
  {
   "cell_type": "markdown",
   "metadata": {},
   "source": [
    "Instead of two seperate features 'Parch' and 'SibSp', we can combine two things in one feature 'Family_Size' and look into the relationship between family size and survivals in detail."
   ]
  },
  {
   "cell_type": "code",
   "execution_count": 18,
   "metadata": {
    "collapsed": false
   },
   "outputs": [
    {
     "data": {
      "image/png": "[encoded data removed]",
      "text/plain": [
       "<matplotlib.figure.Figure at 0x114023c18>"
      ]
     },
     "metadata": {},
     "output_type": "display_data"
    }
   ],
   "source": [
    "df['Family_Size'] = df['Parch'] + df['SibSp'] + 1\n",
    "\n",
    "fs = sns.factorplot(x='Family_Size',y='Survived',kind='bar',data=df,size=7)\n",
    "fs = fs.set(ylabel='prob of Survival')"
   ]
  },
  {
   "cell_type": "markdown",
   "metadata": {},
   "source": [
    "It is not surprising that as seen before, small or medium size families have the best chance to survive. One difference between this and the previous analysis (Parch and SibSp) is that single has slightly lower probability of survivals than that of 7 member family. In my opinion, large families were more likely to get noticed by rescue teams than people traveling alone. Nevertheless, in general, large families have less chance to survive."
   ]
  },
  {
   "cell_type": "code",
   "execution_count": null,
   "metadata": {
    "collapsed": true
   },
   "outputs": [],
   "source": []
  },
  {
   "cell_type": "markdown",
   "metadata": {},
   "source": [
    "##### Cabin"
   ]
  },
  {
   "cell_type": "code",
   "execution_count": 19,
   "metadata": {
    "collapsed": false
   },
   "outputs": [
    {
     "name": "stdout",
     "output_type": "stream",
     "text": [
      "number of missing values: 687\n"
     ]
    },
    {
     "data": {
      "text/plain": [
       "count     204\n",
       "unique    147\n",
       "top        G6\n",
       "freq        4\n",
       "Name: Cabin, dtype: object"
      ]
     },
     "execution_count": 19,
     "metadata": {},
     "output_type": "execute_result"
    }
   ],
   "source": [
    "print(\"number of missing values:\",df.Cabin.isnull().sum())\n",
    "df.Cabin.describe()"
   ]
  },
  {
   "cell_type": "code",
   "execution_count": 20,
   "metadata": {
    "collapsed": true
   },
   "outputs": [],
   "source": [
    "# Extract only the first letter if it is not nan else replace it with 'X'\n",
    "df['Cabin'].fillna('X',inplace=True)\n",
    "df['Cabin'] = df['Cabin'].map(lambda x:x[0])"
   ]
  },
  {
   "cell_type": "code",
   "execution_count": 21,
   "metadata": {
    "collapsed": false
   },
   "outputs": [
    {
     "data": {
      "image/png": "[encoded data removed]",
      "text/plain": [
       "<matplotlib.figure.Figure at 0x115013c88>"
      ]
     },
     "metadata": {},
     "output_type": "display_data"
    }
   ],
   "source": [
    "fig, (axis1,axis2) = plt.subplots(1,2,figsize=(16,5))\n",
    "\n",
    "# Distribution of cabin locations.\n",
    "sns.factorplot(x='Cabin',data=df,size=6,kind='count',ci=None, order=['X','A','B','C','D','E','F','G','T'],ax=axis1)\n",
    "\n",
    "# Survival rate according to cabin locations.\n",
    "sns.factorplot(x='Cabin',y= 'Survived',data=df,size=6,kind='bar',order=['X','A','B','C','D','E','F','G','T'],ax=axis2)\n",
    "axis2.set(ylabel='prob of Survival')\n",
    "plt.close(2)\n",
    "plt.close(3)"
   ]
  },
  {
   "cell_type": "markdown",
   "metadata": {},
   "source": [
    "This feature may not be important because there are many missing values; nevertheless, the above plot shows the passengers who have cabin numbers, are more likely to survive than the passengers without them. Perhaps some location of the ship might be safer, sink later than other parts or has easier access to life boats. This can give us a hint of prediction."
   ]
  },
  {
   "cell_type": "code",
   "execution_count": null,
   "metadata": {
    "collapsed": false
   },
   "outputs": [],
   "source": []
  },
  {
   "cell_type": "markdown",
   "metadata": {},
   "source": [
    "##### Ticket"
   ]
  },
  {
   "cell_type": "code",
   "execution_count": 22,
   "metadata": {
    "collapsed": false
   },
   "outputs": [
    {
     "data": {
      "image/png": "[encoded data removed]",
      "text/plain": [
       "<matplotlib.figure.Figure at 0x112eb5898>"
      ]
     },
     "metadata": {},
     "output_type": "display_data"
    }
   ],
   "source": [
    "df['Ticket'] = df['Ticket'].map(lambda x:x.replace('/',''))\n",
    "df['Ticket'] = df['Ticket'].map(lambda x:x.replace('.',''))\n",
    "df['Ticket'] = df['Ticket'].map(lambda x: 'XX' if x.isdigit() else x.split(' ')[0])\n",
    "\n",
    "t = sns.factorplot(x='Ticket',data=df,size=6,kind='count',ci=None)\n",
    "t = t.set_xticklabels(rotation=90)"
   ]
  },
  {
   "cell_type": "code",
   "execution_count": 23,
   "metadata": {
    "collapsed": false
   },
   "outputs": [
    {
     "name": "stdout",
     "output_type": "stream",
     "text": [
      "source: https://daily.social/this-is-how-you-choose-the-safest-seat-when-travelling-through-these-6-means-of-transport/\n"
     ]
    },
    {
     "data": {
      "image/jpeg": "[encoded data removed]",
      "text/plain": [
       "<IPython.core.display.Image object>"
      ]
     },
     "execution_count": 23,
     "metadata": {},
     "output_type": "execute_result"
    }
   ],
   "source": [
    "print(\"source: https://daily.social/this-is-how-you-choose-the-safest-seat-when-travelling-through-these-6-means-of-transport/\")\n",
    "Image(filename='safe_seats.jpg')"
   ]
  },
  {
   "cell_type": "markdown",
   "metadata": {},
   "source": [
    "We need to extract meaningful data and replace digits with 'XX' so that it can greatly reduce noise. As mentioned in the cabin section, some location of the ship might be safer, sink later than other parts or has easier access to life boats. In my opinion, any information that provides location of the ship (e.g cabin, ticket number) can be useful to make a prediction of survivals. "
   ]
  },
  {
   "cell_type": "code",
   "execution_count": null,
   "metadata": {
    "collapsed": true
   },
   "outputs": [],
   "source": []
  },
  {
   "cell_type": "markdown",
   "metadata": {},
   "source": [
    "##### Name"
   ]
  },
  {
   "cell_type": "markdown",
   "metadata": {},
   "source": [
    "Name feature seems to have too many distinct values which can cause overfitting so in order to avoid that, either we remove the feature or refine it for modeling. What we are going to do is extracting the only title part and converting to a binary variable (later in feature engineering part). Title contains social status and sex information which may play an important role in predicting survivals as we pointed out previously. "
   ]
  },
  {
   "cell_type": "code",
   "execution_count": 24,
   "metadata": {
    "collapsed": true
   },
   "outputs": [],
   "source": [
    "df['Title'] = df['Name'].map(lambda x:x.split(',')[1].split('.')[0].strip())"
   ]
  },
  {
   "cell_type": "code",
   "execution_count": 25,
   "metadata": {
    "collapsed": false
   },
   "outputs": [
    {
     "data": {
      "text/plain": [
       "array(['Mr', 'Mrs', 'Miss', 'Master', 'Don', 'Rev', 'Dr', 'Mme', 'Ms',\n",
       "       'Major', 'Lady', 'Sir', 'Mlle', 'Col', 'Capt', 'the Countess',\n",
       "       'Jonkheer'], dtype=object)"
      ]
     },
     "execution_count": 25,
     "metadata": {},
     "output_type": "execute_result"
    }
   ],
   "source": [
    "df.Title.unique()"
   ]
  },
  {
   "cell_type": "code",
   "execution_count": 26,
   "metadata": {
    "collapsed": false
   },
   "outputs": [
    {
     "data": {
      "image/png": "[encoded data removed]",
      "text/plain": [
       "<matplotlib.figure.Figure at 0x113fd6a58>"
      ]
     },
     "metadata": {},
     "output_type": "display_data"
    }
   ],
   "source": [
    "n = sns.factorplot(kind='count',x='Title',data=df,size=7)\n",
    "n = n.set_xticklabels(rotation=45)"
   ]
  },
  {
   "cell_type": "markdown",
   "metadata": {
    "collapsed": true
   },
   "source": [
    "The distribution of the title shows that most of them are mr, mrs, miss, and master and most of other titles are minor"
   ]
  },
  {
   "cell_type": "code",
   "execution_count": 27,
   "metadata": {
    "collapsed": false
   },
   "outputs": [
    {
     "data": {
      "text/html": [
       "<div>\n",
       "<style>\n",
       "    .dataframe thead tr:only-child th {\n",
       "        text-align: right;\n",
       "    }\n",
       "\n",
       "    .dataframe thead th {\n",
       "        text-align: left;\n",
       "    }\n",
       "\n",
       "    .dataframe tbody tr th {\n",
       "        vertical-align: top;\n",
       "    }\n",
       "</style>\n",
       "<table border=\"1\" class=\"dataframe\">\n",
       "  <thead>\n",
       "    <tr style=\"text-align: right;\">\n",
       "      <th>Title</th>\n",
       "      <th>Capt</th>\n",
       "      <th>Col</th>\n",
       "      <th>Don</th>\n",
       "      <th>Dr</th>\n",
       "      <th>Jonkheer</th>\n",
       "      <th>Lady</th>\n",
       "      <th>Major</th>\n",
       "      <th>Master</th>\n",
       "      <th>Miss</th>\n",
       "      <th>Mlle</th>\n",
       "      <th>Mme</th>\n",
       "      <th>Mr</th>\n",
       "      <th>Mrs</th>\n",
       "      <th>Ms</th>\n",
       "      <th>Rev</th>\n",
       "      <th>Sir</th>\n",
       "      <th>the Countess</th>\n",
       "    </tr>\n",
       "    <tr>\n",
       "      <th>Survived</th>\n",
       "      <th></th>\n",
       "      <th></th>\n",
       "      <th></th>\n",
       "      <th></th>\n",
       "      <th></th>\n",
       "      <th></th>\n",
       "      <th></th>\n",
       "      <th></th>\n",
       "      <th></th>\n",
       "      <th></th>\n",
       "      <th></th>\n",
       "      <th></th>\n",
       "      <th></th>\n",
       "      <th></th>\n",
       "      <th></th>\n",
       "      <th></th>\n",
       "      <th></th>\n",
       "    </tr>\n",
       "  </thead>\n",
       "  <tbody>\n",
       "    <tr>\n",
       "      <th>0</th>\n",
       "      <td>1</td>\n",
       "      <td>1</td>\n",
       "      <td>1</td>\n",
       "      <td>4</td>\n",
       "      <td>1</td>\n",
       "      <td>0</td>\n",
       "      <td>1</td>\n",
       "      <td>17</td>\n",
       "      <td>55</td>\n",
       "      <td>0</td>\n",
       "      <td>0</td>\n",
       "      <td>436</td>\n",
       "      <td>26</td>\n",
       "      <td>0</td>\n",
       "      <td>6</td>\n",
       "      <td>0</td>\n",
       "      <td>0</td>\n",
       "    </tr>\n",
       "    <tr>\n",
       "      <th>1</th>\n",
       "      <td>0</td>\n",
       "      <td>1</td>\n",
       "      <td>0</td>\n",
       "      <td>3</td>\n",
       "      <td>0</td>\n",
       "      <td>1</td>\n",
       "      <td>1</td>\n",
       "      <td>23</td>\n",
       "      <td>127</td>\n",
       "      <td>2</td>\n",
       "      <td>1</td>\n",
       "      <td>81</td>\n",
       "      <td>99</td>\n",
       "      <td>1</td>\n",
       "      <td>0</td>\n",
       "      <td>1</td>\n",
       "      <td>1</td>\n",
       "    </tr>\n",
       "  </tbody>\n",
       "</table>\n",
       "</div>"
      ],
      "text/plain": [
       "Title     Capt  Col  Don  Dr  Jonkheer  Lady  Major  Master  Miss  Mlle  Mme  \\\n",
       "Survived                                                                       \n",
       "0            1    1    1   4         1     0      1      17    55     0    0   \n",
       "1            0    1    0   3         0     1      1      23   127     2    1   \n",
       "\n",
       "Title      Mr  Mrs  Ms  Rev  Sir  the Countess  \n",
       "Survived                                        \n",
       "0         436   26   0    6    0             0  \n",
       "1          81   99   1    0    1             1  "
      ]
     },
     "execution_count": 27,
     "metadata": {},
     "output_type": "execute_result"
    }
   ],
   "source": [
    "pd.crosstab(df['Survived'],df['Title'])"
   ]
  },
  {
   "cell_type": "code",
   "execution_count": 28,
   "metadata": {
    "collapsed": false
   },
   "outputs": [],
   "source": [
    "df['Title'].replace(['Miss','Mlle','Mme','Mrs','Ms'],'Ms',inplace=True)\n",
    "df['Title'].replace({'Mr':0,'Ms':1,'Master':2},inplace=True)\n",
    "df['Title'] = df['Title'].map(lambda x:3 if type(x)==str else x)"
   ]
  },
  {
   "cell_type": "code",
   "execution_count": 29,
   "metadata": {
    "collapsed": false,
    "scrolled": true
   },
   "outputs": [
    {
     "data": {
      "image/png": "[encoded data removed]",
      "text/plain": [
       "<matplotlib.figure.Figure at 0x11469ae80>"
      ]
     },
     "metadata": {},
     "output_type": "display_data"
    }
   ],
   "source": [
    "fig, (axis1,axis2) = plt.subplots(1,2,figsize=(16,5))\n",
    "\n",
    "# Distribution of titles.\n",
    "sns.factorplot(x='Title',kind='count',size=6,data=df,ax=axis1)\n",
    "axis1.set_xticklabels(['Mr','Ms,Miss,Mme,Mlle,Mrs', 'Master','Minor'])\n",
    "\n",
    "# Survival rate categorized by titles.\n",
    "sns.factorplot(x='Title',y='Survived',data=df, kind='bar',size=6,ax=axis2)\n",
    "axis2.set_xticklabels(['Mr','Ms,Miss,Mme,Mlle,Mrs', 'Master','Minor'])\n",
    "axis2.set(ylabel='prob of Survival')\n",
    "plt.close(2)\n",
    "plt.close(3)"
   ]
  },
  {
   "cell_type": "markdown",
   "metadata": {},
   "source": [
    "As we can see, women and children (master is used as a title prefixed to the name of a boy not old enough to be callled mr) have high chance to survive and men have the lowest as expected. One thing to note is that Minor is high enough not to ignore."
   ]
  },
  {
   "cell_type": "code",
   "execution_count": null,
   "metadata": {
    "collapsed": true
   },
   "outputs": [],
   "source": []
  },
  {
   "cell_type": "markdown",
   "metadata": {},
   "source": [
    "## 3. Feature Engineering\n",
    "<a id='feature_engineering'></a>"
   ]
  },
  {
   "cell_type": "markdown",
   "metadata": {},
   "source": [
    "Based on the analysis result, we will manipulate and clean the data in order to run our model efficiently."
   ]
  },
  {
   "cell_type": "markdown",
   "metadata": {},
   "source": [
    "### Correlation check"
   ]
  },
  {
   "cell_type": "code",
   "execution_count": 30,
   "metadata": {
    "collapsed": false,
    "scrolled": true
   },
   "outputs": [
    {
     "data": {
      "text/plain": [
       "<matplotlib.axes._subplots.AxesSubplot at 0x114ecc470>"
      ]
     },
     "execution_count": 30,
     "metadata": {},
     "output_type": "execute_result"
    },
    {
     "data": {
      "image/png": "[encoded data removed]",
      "text/plain": [
       "<matplotlib.figure.Figure at 0x114b9a518>"
      ]
     },
     "metadata": {},
     "output_type": "display_data"
    }
   ],
   "source": [
    "plt.figure(figsize=(15,5))\n",
    "sns.heatmap(df[['Survived','Parch','Fare','Age','SibSp']].corr(),annot=True,linewidth=3,linecolor='yellow')"
   ]
  },
  {
   "cell_type": "markdown",
   "metadata": {},
   "source": [
    "Except Fare, all the numerical variables in the map are weakly correlated with Survived feature; however, that does not mean that these features are not important or we should get rid of them. The method used for computing the correlation is Pearson method which shows only linear relationship between variables. We still do not know these variables may have some other relationship other than linear so just leave them and let's move on to the next step. "
   ]
  },
  {
   "cell_type": "markdown",
   "metadata": {
    "collapsed": true
   },
   "source": [
    "### Combining train & test set\n",
    "\n",
    "In order to avoid repeating unnecessary codes, for our convenience, let's combine the train and test set."
   ]
  },
  {
   "cell_type": "code",
   "execution_count": 31,
   "metadata": {
    "collapsed": false,
    "scrolled": true
   },
   "outputs": [
    {
     "name": "stdout",
     "output_type": "stream",
     "text": [
      "TrainSet: (891, 12) TestSet: (418, 11) CombinedSet: (1309, 10)\n"
     ]
    }
   ],
   "source": [
    "train = pd.read_csv(\"train.csv\")\n",
    "test = pd.read_csv(\"test.csv\")\n",
    "\n",
    "y_id = test.iloc[:,0]\n",
    "y = train.iloc[:,1]\n",
    "\n",
    "last_train_index = len(train)\n",
    "first_test_index = len(train)\n",
    "\n",
    "comb = pd.concat([train,test]).reset_index()\n",
    "comb.drop(['PassengerId','Survived','index'],inplace=True, axis=1)\n",
    "\n",
    "print(\"TrainSet:\",train.shape,\"TestSet:\",test.shape,\"CombinedSet:\",comb.shape)"
   ]
  },
  {
   "cell_type": "code",
   "execution_count": null,
   "metadata": {
    "collapsed": true
   },
   "outputs": [],
   "source": []
  },
  {
   "cell_type": "markdown",
   "metadata": {
    "collapsed": false
   },
   "source": [
    "### Feature by feature"
   ]
  },
  {
   "cell_type": "markdown",
   "metadata": {
    "collapsed": true
   },
   "source": [
    "##### Embarked"
   ]
  },
  {
   "cell_type": "code",
   "execution_count": 32,
   "metadata": {
    "collapsed": false
   },
   "outputs": [
    {
     "data": {
      "text/plain": [
       "Counter({'S': 914, 'C': 270, 'Q': 123, nan: 2})"
      ]
     },
     "execution_count": 32,
     "metadata": {},
     "output_type": "execute_result"
    }
   ],
   "source": [
    "# Let's see if there is any missing value in Embarked column.\n",
    "Counter(comb.Embarked)"
   ]
  },
  {
   "cell_type": "code",
   "execution_count": 33,
   "metadata": {
    "collapsed": false
   },
   "outputs": [],
   "source": [
    "# Fill the missing values with the most frequent 'S'.\n",
    "comb['Embarked'].fillna(comb.Embarked.mode()[0],inplace=True)\n",
    "\n",
    "# Dummy encoding.\n",
    "embarked_dummy = pd.get_dummies(comb['Embarked'],prefix='EM')\n",
    "\n",
    "# Concatenate the combined with dummy variables.\n",
    "comb = pd.concat([comb,embarked_dummy],axis=1)"
   ]
  },
  {
   "cell_type": "code",
   "execution_count": null,
   "metadata": {
    "collapsed": false
   },
   "outputs": [],
   "source": []
  },
  {
   "cell_type": "markdown",
   "metadata": {},
   "source": [
    "##### Family Size"
   ]
  },
  {
   "cell_type": "code",
   "execution_count": 34,
   "metadata": {
    "collapsed": false
   },
   "outputs": [],
   "source": [
    "# In this time, create new feature in combined dataset\n",
    "comb['Family_Size'] = comb['Parch'] + comb['SibSp'] + 1\n",
    "\n",
    "# Categorize according to the size of family\n",
    "comb['FS_single'] = comb['Family_Size'].map(lambda x: 1 if x==1 else 0)\n",
    "comb['FS_small'] = comb['Family_Size'].map(lambda x: 1 if x==2 else 0)\n",
    "comb['FS_medium'] = comb['Family_Size'].map(lambda x: 1 if 3<=x<=4 else 0)\n",
    "comb['FS_large'] = comb['Family_Size'].map(lambda x: 1 if x>=5 else 0)\n"
   ]
  },
  {
   "cell_type": "markdown",
   "metadata": {
    "collapsed": true
   },
   "source": [
    "We repeated the exactly samething as we did in analysis part but in this time we added one more step \"Categorization\" "
   ]
  },
  {
   "cell_type": "markdown",
   "metadata": {},
   "source": [
    "##### Sex"
   ]
  },
  {
   "cell_type": "code",
   "execution_count": 35,
   "metadata": {
    "collapsed": false
   },
   "outputs": [],
   "source": [
    "# convert to male:1, female:0\n",
    "comb['Sex'] = comb.Sex.map(lambda x: 1 if x =='male' else 0)\n"
   ]
  },
  {
   "cell_type": "code",
   "execution_count": null,
   "metadata": {
    "collapsed": true
   },
   "outputs": [],
   "source": []
  },
  {
   "cell_type": "markdown",
   "metadata": {},
   "source": [
    "##### Fare"
   ]
  },
  {
   "cell_type": "code",
   "execution_count": 36,
   "metadata": {
    "collapsed": false
   },
   "outputs": [
    {
     "name": "stdout",
     "output_type": "stream",
     "text": [
      "Missing Age Values : 1\n"
     ]
    }
   ],
   "source": [
    "print('Missing Age Values :',comb.Fare.isnull().sum())"
   ]
  },
  {
   "cell_type": "code",
   "execution_count": 37,
   "metadata": {
    "collapsed": true
   },
   "outputs": [],
   "source": [
    "comb['Fare'].fillna(comb['Fare'].median(),inplace=True)"
   ]
  },
  {
   "cell_type": "code",
   "execution_count": null,
   "metadata": {
    "collapsed": true
   },
   "outputs": [],
   "source": []
  },
  {
   "cell_type": "markdown",
   "metadata": {},
   "source": [
    "##### Pclass"
   ]
  },
  {
   "cell_type": "code",
   "execution_count": 38,
   "metadata": {
    "collapsed": false
   },
   "outputs": [],
   "source": [
    "# Create new dummy variables for each Pclass\n",
    "pclass_dummy = pd.get_dummies(comb['Pclass'],prefix='PC')\n",
    "\n",
    "# Concatenate the combined with dummy variables.\n",
    "comb = pd.concat([comb,pclass_dummy],axis=1)"
   ]
  },
  {
   "cell_type": "code",
   "execution_count": null,
   "metadata": {
    "collapsed": true
   },
   "outputs": [],
   "source": []
  },
  {
   "cell_type": "markdown",
   "metadata": {},
   "source": [
    "##### Cabin"
   ]
  },
  {
   "cell_type": "code",
   "execution_count": 39,
   "metadata": {
    "collapsed": false
   },
   "outputs": [
    {
     "name": "stdout",
     "output_type": "stream",
     "text": [
      "number of missing values: 1014\n"
     ]
    },
    {
     "data": {
      "text/plain": [
       "count             295\n",
       "unique            186\n",
       "top       C23 C25 C27\n",
       "freq                6\n",
       "Name: Cabin, dtype: object"
      ]
     },
     "execution_count": 39,
     "metadata": {},
     "output_type": "execute_result"
    }
   ],
   "source": [
    "print(\"number of missing values:\",comb.Cabin.isnull().sum())\n",
    "comb.Cabin.describe()"
   ]
  },
  {
   "cell_type": "code",
   "execution_count": 40,
   "metadata": {
    "collapsed": false
   },
   "outputs": [],
   "source": [
    "# If there are any missing values, fill them with 'X'.\n",
    "comb['Cabin'].fillna('X',inplace=True)\n",
    "\n",
    "# Extract only the first letter.\n",
    "comb['Cabin'] = comb['Cabin'].map(lambda x:x[0])\n",
    "\n",
    "# Create new dummy variables for each refined values.\n",
    "cabin_dummy = pd.get_dummies(comb['Cabin'],prefix='CB')\n",
    "\n",
    "# Concatenate the combined with dummy variables.\n",
    "comb = pd.concat([comb,cabin_dummy],axis=1)"
   ]
  },
  {
   "cell_type": "code",
   "execution_count": null,
   "metadata": {
    "collapsed": true
   },
   "outputs": [],
   "source": []
  },
  {
   "cell_type": "markdown",
   "metadata": {},
   "source": [
    "##### Ticket"
   ]
  },
  {
   "cell_type": "code",
   "execution_count": 41,
   "metadata": {
    "collapsed": false
   },
   "outputs": [
    {
     "data": {
      "text/plain": [
       "0           A/5 21171\n",
       "1            PC 17599\n",
       "2    STON/O2. 3101282\n",
       "3              113803\n",
       "4              373450\n",
       "Name: Ticket, dtype: object"
      ]
     },
     "execution_count": 41,
     "metadata": {},
     "output_type": "execute_result"
    }
   ],
   "source": [
    "comb.Ticket.head()"
   ]
  },
  {
   "cell_type": "code",
   "execution_count": 42,
   "metadata": {
    "collapsed": false
   },
   "outputs": [],
   "source": [
    "# If the ticket is only a digit, replace them with XX else extract each prefix.\n",
    "comb['Ticket'] = comb['Ticket'].map(lambda x:x.replace('/',''))\n",
    "comb['Ticket'] = comb['Ticket'].map(lambda x:x.replace('.',''))\n",
    "comb['Ticket'] = comb['Ticket'].map(lambda x: 'XX' if x.isdigit() else x.split(' ')[0])\n",
    "\n",
    "# Create new dummy variables for each refined values.\n",
    "ticket_dummy = pd.get_dummies(comb['Ticket'],prefix='TK')\n",
    "\n",
    "# Concatenate the combined with dummy variables.\n",
    "comb = pd.concat([comb,ticket_dummy],axis=1)"
   ]
  },
  {
   "cell_type": "code",
   "execution_count": null,
   "metadata": {
    "collapsed": false,
    "scrolled": false
   },
   "outputs": [],
   "source": []
  },
  {
   "cell_type": "markdown",
   "metadata": {},
   "source": [
    "##### Name"
   ]
  },
  {
   "cell_type": "code",
   "execution_count": 43,
   "metadata": {
    "collapsed": false
   },
   "outputs": [],
   "source": [
    "comb['Title'] = comb['Name'].map(lambda x:x.split(',')[1].split('.')[0].strip())"
   ]
  },
  {
   "cell_type": "code",
   "execution_count": 44,
   "metadata": {
    "collapsed": false
   },
   "outputs": [
    {
     "data": {
      "text/plain": [
       "Counter({'Capt': 1,\n",
       "         'Col': 4,\n",
       "         'Don': 1,\n",
       "         'Dona': 1,\n",
       "         'Dr': 8,\n",
       "         'Jonkheer': 1,\n",
       "         'Lady': 1,\n",
       "         'Major': 2,\n",
       "         'Master': 61,\n",
       "         'Miss': 260,\n",
       "         'Mlle': 2,\n",
       "         'Mme': 1,\n",
       "         'Mr': 757,\n",
       "         'Mrs': 197,\n",
       "         'Ms': 2,\n",
       "         'Rev': 8,\n",
       "         'Sir': 1,\n",
       "         'the Countess': 1})"
      ]
     },
     "execution_count": 44,
     "metadata": {},
     "output_type": "execute_result"
    }
   ],
   "source": [
    "Counter(comb['Title'])"
   ]
  },
  {
   "cell_type": "code",
   "execution_count": 45,
   "metadata": {
    "collapsed": false
   },
   "outputs": [],
   "source": [
    "# Convert equivalent female prefixes to Ms\n",
    "comb['Title'].replace(['Miss','Mlle','Mme','Mrs','Ms'],'Ms',inplace=True)\n",
    "\n",
    "# Convert titles to numeric values\n",
    "comb['Title'].replace({'Mr':0,'Ms':1,'Master':2},inplace=True)\n",
    "comb['Title'] = comb['Title'].map(lambda x:3 if type(x)==str else x)\n",
    "\n",
    "# Create new dummy variables.\n",
    "title_dummy = pd.get_dummies(comb['Title'],prefix='TLE')\n",
    "\n",
    "# Concatenate the combined with dummy variables.\n",
    "comb = pd.concat([comb,title_dummy],axis=1)"
   ]
  },
  {
   "cell_type": "code",
   "execution_count": null,
   "metadata": {
    "collapsed": false
   },
   "outputs": [],
   "source": []
  },
  {
   "cell_type": "markdown",
   "metadata": {},
   "source": [
    "##### Age"
   ]
  },
  {
   "cell_type": "code",
   "execution_count": 46,
   "metadata": {
    "collapsed": false
   },
   "outputs": [
    {
     "name": "stdout",
     "output_type": "stream",
     "text": [
      "Missing Age Values : 263\n",
      "MissingAgeValues / Total : 0.200916730328\n"
     ]
    }
   ],
   "source": [
    "print('Missing Age Values :',comb.Age.isnull().sum())\n",
    "print('MissingAgeValues / Total :', comb.Age.isnull().sum()/len(comb))"
   ]
  },
  {
   "cell_type": "markdown",
   "metadata": {},
   "source": [
    ">- There are **263 missing values** in Age column, which consists of **20%** of total number of data; Therefore, simply filling nan values with median of age is not enough. \n",
    ">- Instead, **pick the most correlated features with Age** and compute the median age by grouping by chosen features. "
   ]
  },
  {
   "cell_type": "code",
   "execution_count": 47,
   "metadata": {
    "collapsed": false
   },
   "outputs": [
    {
     "data": {
      "image/png": "[encoded data removed]",
      "text/plain": [
       "<matplotlib.figure.Figure at 0x1165339b0>"
      ]
     },
     "metadata": {},
     "output_type": "display_data"
    }
   ],
   "source": [
    "plt.figure(figsize=(9,6))\n",
    "\n",
    "# Exclude PassengerID and Survived\n",
    "col = ['Pclass','Sex','SibSp','Age','Parch','Title']\n",
    "\n",
    "# Heatmap\n",
    "a = sns.heatmap(comb[col].corr(),annot=True,linewidth=3,cmap='RdBu_r')"
   ]
  },
  {
   "cell_type": "markdown",
   "metadata": {},
   "source": [
    "Pclass, SibSp, Parch and Title seem to be correlated with Age. The result makes sense since old passengers tend to have less siblings/spouses and parents (Parch and SibSp) and tend to be financially stable; therefore they pay more on better tickets (Pclass). Needless to say the title is also informative. "
   ]
  },
  {
   "cell_type": "code",
   "execution_count": 48,
   "metadata": {
    "collapsed": false
   },
   "outputs": [],
   "source": [
    "comb['old_age'] = comb['Age']\n",
    "\n",
    "comb['Age'] = comb.groupby(['Pclass','SibSp','Parch','Title'])['Age'].transform(lambda x: x.fillna(x.median()))\n",
    "comb['Age'].fillna(comb['Age'].median(),inplace=True)"
   ]
  },
  {
   "cell_type": "code",
   "execution_count": 49,
   "metadata": {
    "collapsed": false
   },
   "outputs": [
    {
     "data": {
      "text/plain": [
       "<matplotlib.text.Text at 0x115480d68>"
      ]
     },
     "execution_count": 49,
     "metadata": {},
     "output_type": "execute_result"
    },
    {
     "data": {
      "image/png": "[encoded data removed]",
      "text/plain": [
       "<matplotlib.figure.Figure at 0x1162b9358>"
      ]
     },
     "metadata": {},
     "output_type": "display_data"
    }
   ],
   "source": [
    "fig, (ax1,ax2) = plt.subplots(1,2,figsize=(15,5))\n",
    "oa = sns.distplot(comb['old_age'].dropna(),ax=ax1,kde=True,bins=70)\n",
    "a = sns.distplot(comb['Age'].dropna(),ax=ax2,kde=True,bins=70,color='red')\n",
    "ax1.set_xlabel('old_Age')\n",
    "ax1.set_ylabel('Count')\n",
    "ax2.set_xlabel('Age')\n",
    "ax2.set_ylabel('Count')"
   ]
  },
  {
   "cell_type": "markdown",
   "metadata": {},
   "source": [
    "The left blue plot is the distribution of the age from original dataset after simply omitting missing values and the right red plot is the distribution of the age after filling missing values with the median ages of similar rows. As you can see, the distributions are almost identical."
   ]
  },
  {
   "cell_type": "code",
   "execution_count": null,
   "metadata": {
    "collapsed": true
   },
   "outputs": [],
   "source": []
  },
  {
   "cell_type": "markdown",
   "metadata": {},
   "source": [
    "##### Remove redundant features"
   ]
  },
  {
   "cell_type": "code",
   "execution_count": 50,
   "metadata": {
    "collapsed": false
   },
   "outputs": [],
   "source": [
    "comb.drop(['Cabin','Embarked','Name','Ticket','Title','old_age'],axis=1,inplace=True)"
   ]
  },
  {
   "cell_type": "code",
   "execution_count": null,
   "metadata": {
    "collapsed": false
   },
   "outputs": [],
   "source": []
  },
  {
   "cell_type": "markdown",
   "metadata": {},
   "source": [
    "## 4. Modeling\n",
    "<a id='modeling'></a>\n",
    "-  Model Selection\n",
    "-  Tuning Hyperparameters\n",
    "-  Feature Importances"
   ]
  },
  {
   "cell_type": "code",
   "execution_count": 51,
   "metadata": {
    "collapsed": false
   },
   "outputs": [],
   "source": [
    "# Split the combined dataset into two: train and test\n",
    "\n",
    "X_train = comb[:last_train_index]\n",
    "X_test = comb[first_test_index:]"
   ]
  },
  {
   "cell_type": "code",
   "execution_count": 52,
   "metadata": {
    "collapsed": false
   },
   "outputs": [],
   "source": [
    "# Import the libraries we will be using\n",
    "\n",
    "from sklearn.model_selection import train_test_split,GridSearchCV,cross_val_score,StratifiedKFold,learning_curve\n",
    "from sklearn.preprocessing import StandardScaler,LabelEncoder,OneHotEncoder,Imputer\n",
    "from sklearn.svm import SVC\n",
    "from sklearn.neighbors import KNeighborsClassifier\n",
    "from sklearn.ensemble import RandomForestClassifier, GradientBoostingClassifier,VotingClassifier,ExtraTreesClassifier,AdaBoostClassifier\n",
    "from sklearn.metrics import accuracy_score\n",
    "from sklearn.tree import DecisionTreeClassifier\n",
    "from sklearn.linear_model import LogisticRegression\n",
    "from sklearn.feature_selection import SelectFromModel\n",
    "\n",
    "from mlxtend.classifier import StackingClassifier\n",
    "from xgboost import XGBClassifier"
   ]
  },
  {
   "cell_type": "markdown",
   "metadata": {},
   "source": [
    "### Model Selection"
   ]
  },
  {
   "cell_type": "markdown",
   "metadata": {
    "collapsed": true
   },
   "source": [
    "We will be evaluating below algorithms' cross validation means and errors. \n",
    "\n",
    "> - Support Vector Machine\n",
    "> - Decision Tree\n",
    "> - AdaBoost\n",
    "> - Random Forest\n",
    "> - Extra Trees\n",
    "> - Gradient Boosting\n",
    "> - XG Boosting"
   ]
  },
  {
   "cell_type": "code",
   "execution_count": 53,
   "metadata": {
    "collapsed": true
   },
   "outputs": [],
   "source": [
    "kfold = StratifiedKFold(n_splits=20, random_state = 2018)\n"
   ]
  },
  {
   "cell_type": "code",
   "execution_count": 54,
   "metadata": {
    "collapsed": true
   },
   "outputs": [],
   "source": [
    "scaler = StandardScaler()\n",
    "X_train = scaler.fit_transform(X_train)\n",
    "X_test = scaler.fit_transform(X_test)"
   ]
  },
  {
   "cell_type": "code",
   "execution_count": 55,
   "metadata": {
    "collapsed": false
   },
   "outputs": [],
   "source": [
    "#algorithms = []\n",
    "#random_seed = 1\n",
    "\n",
    "#algorithms.append(KNeighborsClassifier())\n",
    "#algorithms.append(LogisticRegression(random_state = random_seed))\n",
    "#algorithms.append(MLPClassifier(random_state = random_seed))\n",
    "#algorithms.append(SVC(random_state = random_seed))\n",
    "#algorithms.append(DecisionTreeClassifier(random_state = random_seed))\n",
    "#algorithms.append(AdaBoostClassifier(DecisionTreeClassifier(random_state = random_seed),random_state = random_seed, learning_rate = 0.01))\n",
    "#algorithms.append(RandomForestClassifier(random_state = random_seed))\n",
    "#algorithms.append(ExtraTreesClassifier(random_state = random_seed))\n",
    "#algorithms.append(GradientBoostingClassifier(random_state = random_seed))\n",
    "\n",
    "#scores = []\n",
    "#for al in algorithms:\n",
    "    #scores.append(cross_val_score(al, X_train, y, scoring=\"accuracy\", cv=kfold, n_jobs=-1))\n",
    "\n",
    "#cross_std = []\n",
    "#cross_mean = []\n",
    "#for score in scores:\n",
    "    #cross_mean.append(score.mean())\n",
    "    #cross_std.append(score.std())\n",
    "\n",
    "#cross_df = pd.DataFrame({'Algorithms':['KNN','LogisticReg','MLP','SVM','DecisionTree','AdaBoost','RandomForest','ExtraTrees','GradientBoosting'],\n",
    "#                        'CVmeans':cross_mean,'CVErr':cross_std})\n",
    "\n",
    "#cross_df['Upper'] = cross_df['CVmeans'] + cross_df['CVErr']\n",
    "#cross_df['Lower'] = cross_df['CVmeans'] - cross_df['CVErr']\n",
    "#cross_df.sort_values('Upper',ascending=False)\n"
   ]
  },
  {
   "cell_type": "code",
   "execution_count": 56,
   "metadata": {
    "collapsed": false,
    "scrolled": false
   },
   "outputs": [],
   "source": [
    "#cvp = sns.factorplot(x='CVmeans',y='Algorithms',data=cross_df,orient='h',size=8, kind='bar',**{'xerr':cross_std})\n",
    "#cvp.ax.set_title('Model Selection')"
   ]
  },
  {
   "cell_type": "code",
   "execution_count": null,
   "metadata": {
    "collapsed": true
   },
   "outputs": [],
   "source": []
  },
  {
   "cell_type": "markdown",
   "metadata": {
    "collapsed": true
   },
   "source": [
    "### Base Models"
   ]
  },
  {
   "cell_type": "markdown",
   "metadata": {
    "collapsed": true
   },
   "source": [
    "##### Gradient Boosting"
   ]
  },
  {
   "cell_type": "code",
   "execution_count": 75,
   "metadata": {
    "collapsed": false
   },
   "outputs": [
    {
     "name": "stdout",
     "output_type": "stream",
     "text": [
      "Fitting 20 folds for each of 1 candidates, totalling 20 fits\n"
     ]
    },
    {
     "name": "stderr",
     "output_type": "stream",
     "text": [
      "[Parallel(n_jobs=-1)]: Done  20 out of  20 | elapsed:   15.8s finished\n"
     ]
    },
    {
     "name": "stdout",
     "output_type": "stream",
     "text": [
      "{'learning_rate': 0.05, 'max_depth': 4, 'min_samples_leaf': 3, 'n_estimators': 540, 'subsample': 0.4}\n"
     ]
    }
   ],
   "source": [
    "GBC = GradientBoostingClassifier(random_state = 2018)\n",
    "gb_param_grid = {\n",
    "              'n_estimators' : [540],\n",
    "              'learning_rate': [0.05],\n",
    "              'max_depth': [4],\n",
    "              'min_samples_leaf': [3],\n",
    "              'subsample':[0.4]\n",
    "              }\n",
    "\n",
    "gsGBC = GridSearchCV(GBC,param_grid = gb_param_grid, cv=kfold, scoring=\"accuracy\", n_jobs= -1, verbose = 1)\n",
    "gsGBC.fit(X_train,y)\n",
    "GBC_best = gsGBC.best_estimator_\n",
    "print(gsGBC.best_params_)\n",
    "\n",
    "## cv = 20, random_state = 2018\n",
    "#  \n",
    "# ** {'learning_rate': 0.05, 'max_depth': 4, 'min_samples_leaf': 3, 'n_estimators': 540, 'subsample': 0.4}\n",
    "# * {'learning_rate': 0.05, 'max_depth': 4, 'min_samples_leaf': 3, 'n_estimators': 550, 'subsample': 0.4}\n",
    "\n",
    "## cv = 10, random_state = 1\n",
    "# ***{'learning_rate': 0.06, 'max_depth': 4, 'min_samples_leaf': 3, 'n_estimators': 400, 'subsample': 0.3}\n",
    "# **{'learning_rate': 0.07, 'max_depth': 4, 'min_samples_leaf': 3, 'n_estimators': 400, 'subsample': 0.3} \n",
    "# *{'learning_rate': 0.1, 'max_depth': 3, 'min_samples_leaf': 3, 'n_estimators': 500, 'subsample': 0.3} "
   ]
  },
  {
   "cell_type": "code",
   "execution_count": 76,
   "metadata": {
    "collapsed": false
   },
   "outputs": [
    {
     "data": {
      "text/plain": [
       "0.85072951739618408"
      ]
     },
     "execution_count": 76,
     "metadata": {},
     "output_type": "execute_result"
    }
   ],
   "source": [
    "gsGBC.best_score_\n",
    "#kfold=40일때 83.95%"
   ]
  },
  {
   "cell_type": "code",
   "execution_count": 72,
   "metadata": {
    "collapsed": true
   },
   "outputs": [],
   "source": [
    "#y_submission = gsGBC.predict(X_test)"
   ]
  },
  {
   "cell_type": "markdown",
   "metadata": {},
   "source": [
    "##### AdaBoost"
   ]
  },
  {
   "cell_type": "code",
   "execution_count": 83,
   "metadata": {
    "collapsed": false
   },
   "outputs": [
    {
     "name": "stdout",
     "output_type": "stream",
     "text": [
      "Fitting 20 folds for each of 6 candidates, totalling 120 fits\n"
     ]
    },
    {
     "name": "stderr",
     "output_type": "stream",
     "text": [
      "[Parallel(n_jobs=-1)]: Done  42 tasks      | elapsed:  4.3min\n",
      "[Parallel(n_jobs=-1)]: Done 120 out of 120 | elapsed: 14.7min finished\n"
     ]
    },
    {
     "name": "stdout",
     "output_type": "stream",
     "text": [
      "{'algorithm': 'SAMME.R', 'base_estimator__criterion': 'entropy', 'base_estimator__splitter': 'random', 'learning_rate': 0.0001, 'n_estimators': 3000}\n"
     ]
    }
   ],
   "source": [
    "DTC = DecisionTreeClassifier(random_state = 2018)\n",
    "\n",
    "adaDTC = AdaBoostClassifier(DTC, random_state = 2018)\n",
    "\n",
    "ada_param_grid = {\"base_estimator__criterion\" : [\"entropy\"],\n",
    "              \"base_estimator__splitter\" :   [\"random\"],\n",
    "              \"algorithm\" : [\"SAMME.R\"],\n",
    "              \"n_estimators\" :[3000],\n",
    "              \"learning_rate\":  [0.0001]}\n",
    "\n",
    "gsadaDTC = GridSearchCV(adaDTC,param_grid = ada_param_grid, cv=kfold, scoring=\"accuracy\", n_jobs= -1,verbose = 1)\n",
    "gsadaDTC.fit(X_train,y)\n",
    "ada_best = gsadaDTC.best_estimator_\n",
    "print(gsadaDTC.best_params_)\n",
    "\n",
    "## cv = 20, random_state = 2018\n",
    "# *** {'algorithm': 'SAMME.R', 'base_estimator__criterion': 'entropy', 'base_estimator__splitter': 'random', 'learning_rate': 0.0001, 'n_estimators': 3000}\n",
    "# ** {'algorithm': 'SAMME.R', 'base_estimator__criterion': 'entropy', 'base_estimator__splitter': 'random', 'learning_rate': 0.0001, 'n_estimators': 3000}\n",
    "# * {'algorithm': 'SAMME.R', 'base_estimator__criterion': 'entropy', 'base_estimator__splitter': 'random', 'learning_rate': 0.0001, 'n_estimators': 3000}\n",
    "\n",
    "\n",
    "## cv = 10, random_state = 1\n",
    "# **** {'algorithm': 'SAMME', 'base_estimator__criterion': 'entropy', 'base_estimator__splitter': 'random', 'learning_rate': 0.03, 'n_estimators': 2770}\n",
    "# *** {'algorithm': 'SAMME', 'base_estimator__criterion': 'entropy', 'base_estimator__splitter': 'random', 'learning_rate': 0.03, 'n_estimators': 2900}\n",
    "# ** {'algorithm': 'SAMME', 'base_estimator__criterion': 'entropy', 'base_estimator__splitter': 'random', 'learning_rate': 0.03, 'n_estimators': 5000}\n",
    "# * {'algorithm': 'SAMME', 'base_estimator__criterion': 'entropy', 'base_estimator__splitter': 'random', 'learning_rate': 0.01, 'n_estimators': 3000}"
   ]
  },
  {
   "cell_type": "code",
   "execution_count": 84,
   "metadata": {
    "collapsed": false
   },
   "outputs": [
    {
     "data": {
      "text/plain": [
       "0.8271604938271605"
      ]
     },
     "execution_count": 84,
     "metadata": {},
     "output_type": "execute_result"
    }
   ],
   "source": [
    "gsadaDTC.best_score_"
   ]
  },
  {
   "cell_type": "code",
   "execution_count": 85,
   "metadata": {
    "collapsed": true
   },
   "outputs": [],
   "source": [
    "#y_submission = gsadaDTC.predict(X_test)"
   ]
  },
  {
   "cell_type": "markdown",
   "metadata": {},
   "source": [
    "##### SVM"
   ]
  },
  {
   "cell_type": "code",
   "execution_count": 116,
   "metadata": {
    "collapsed": false
   },
   "outputs": [
    {
     "name": "stdout",
     "output_type": "stream",
     "text": [
      "Fitting 20 folds for each of 1 candidates, totalling 20 fits\n"
     ]
    },
    {
     "name": "stderr",
     "output_type": "stream",
     "text": [
      "[Parallel(n_jobs=-1)]: Done  20 out of  20 | elapsed:    2.1s finished\n"
     ]
    },
    {
     "name": "stdout",
     "output_type": "stream",
     "text": [
      "{'C': 0.15, 'class_weight': {1: 1}, 'gamma': 0.012, 'kernel': 'sigmoid'}\n"
     ]
    }
   ],
   "source": [
    "gammas = [0.012]\n",
    "Cs = [0.150]\n",
    "weight = [{1:1}]\n",
    "kernels = ['sigmoid']\n",
    "param_grid = dict(C=Cs,gamma=gammas,class_weight=weight, kernel=kernels)\n",
    "gsSVMC = GridSearchCV(SVC(probability=True, random_state = 2018),param_grid=param_grid,cv=kfold,scoring=\"accuracy\",n_jobs=-1,verbose=1)\n",
    "gsSVMC.fit(X_train,y)\n",
    "gsSVMC_best = gsSVMC.best_estimator_\n",
    "print(gsSVMC.best_params_)\n",
    "\n",
    "## cv = 20, random_state = 2018\n",
    "# **** {'C': 0.15, 'class_weight': {1: 1}, 'gamma': 0.012, 'kernel': 'sigmoid'}\n",
    "# *** {'C': 0.15, 'class_weight': {1: 1}, 'gamma': 0.012, 'kernel': 'sigmoid'}\n",
    "# ** {'C': 0.16, 'class_weight': {1: 1}, 'gamma': 0.011, 'kernel': 'sigmoid'}\n",
    "# * {'C': 0.165, 'class_weight': {1: 1}, 'gamma': 0.01, 'kernel': 'sigmoid'}\n",
    "\n",
    "## cv = 10, random_state = 1\n",
    "# *****{'C': 0.46, 'class_weight': 'balanced', 'gamma': 0.006}\n",
    "# **** {'C': 0.465, 'class_weight': 'balanced', 'gamma': 0.01}\n",
    "# *** {'C': 0.485, 'class_weight': 'balanced', 'gamma': 0.02}\n",
    "# **{'C': 0.49, 'class_weight': 'balanced', 'gamma': 0.02}\n",
    "# *{'C': 0.5, 'gamma': 0.03}\n"
   ]
  },
  {
   "cell_type": "code",
   "execution_count": 117,
   "metadata": {
    "collapsed": false
   },
   "outputs": [
    {
     "data": {
      "text/plain": [
       "0.82940516273849607"
      ]
     },
     "execution_count": 117,
     "metadata": {},
     "output_type": "execute_result"
    }
   ],
   "source": [
    "gsSVMC.best_score_"
   ]
  },
  {
   "cell_type": "code",
   "execution_count": 118,
   "metadata": {
    "collapsed": true
   },
   "outputs": [],
   "source": [
    "#y_submission = gsSVMC.predict(X_test)"
   ]
  },
  {
   "cell_type": "markdown",
   "metadata": {},
   "source": [
    "##### Random Forest"
   ]
  },
  {
   "cell_type": "code",
   "execution_count": 135,
   "metadata": {
    "collapsed": false,
    "scrolled": false
   },
   "outputs": [
    {
     "name": "stdout",
     "output_type": "stream",
     "text": [
      "Fitting 20 folds for each of 972 candidates, totalling 19440 fits\n"
     ]
    },
    {
     "name": "stderr",
     "output_type": "stream",
     "text": [
      "[Parallel(n_jobs=-1)]: Done  42 tasks      | elapsed:   13.1s\n",
      "[Parallel(n_jobs=-1)]: Done 192 tasks      | elapsed:   57.5s\n",
      "[Parallel(n_jobs=-1)]: Done 442 tasks      | elapsed:  2.2min\n",
      "[Parallel(n_jobs=-1)]: Done 792 tasks      | elapsed:  3.9min\n",
      "[Parallel(n_jobs=-1)]: Done 1242 tasks      | elapsed:  6.2min\n",
      "[Parallel(n_jobs=-1)]: Done 1792 tasks      | elapsed:  9.0min\n",
      "[Parallel(n_jobs=-1)]: Done 2442 tasks      | elapsed: 12.6min\n",
      "[Parallel(n_jobs=-1)]: Done 3192 tasks      | elapsed: 17.1min\n",
      "[Parallel(n_jobs=-1)]: Done 4042 tasks      | elapsed: 22.4min\n",
      "[Parallel(n_jobs=-1)]: Done 4992 tasks      | elapsed: 28.2min\n",
      "[Parallel(n_jobs=-1)]: Done 6042 tasks      | elapsed: 34.8min\n",
      "[Parallel(n_jobs=-1)]: Done 7192 tasks      | elapsed: 44.5min\n",
      "[Parallel(n_jobs=-1)]: Done 8442 tasks      | elapsed: 55.0min\n",
      "[Parallel(n_jobs=-1)]: Done 9792 tasks      | elapsed: 66.2min\n",
      "[Parallel(n_jobs=-1)]: Done 11242 tasks      | elapsed: 78.9min\n",
      "[Parallel(n_jobs=-1)]: Done 12792 tasks      | elapsed: 89.4min\n",
      "[Parallel(n_jobs=-1)]: Done 14442 tasks      | elapsed: 99.0min\n",
      "[Parallel(n_jobs=-1)]: Done 16192 tasks      | elapsed: 109.1min\n",
      "[Parallel(n_jobs=-1)]: Done 18042 tasks      | elapsed: 120.8min\n",
      "[Parallel(n_jobs=-1)]: Done 19440 out of 19440 | elapsed: 129.7min finished\n"
     ]
    },
    {
     "name": "stdout",
     "output_type": "stream",
     "text": [
      "{'max_depth': 7, 'max_features': 31, 'min_samples_leaf': 8, 'n_estimators': 349}\n"
     ]
    }
   ],
   "source": [
    "RFC = RandomForestClassifier(random_state = 2018)\n",
    "\n",
    "rf_param_grid = {\"max_depth\": [7],\n",
    "              \"max_features\": [31],\n",
    "              \"min_samples_leaf\": [8],\n",
    "              \"n_estimators\" :[349]\n",
    "                }\n",
    "\n",
    "gsRFC = GridSearchCV(RFC,param_grid = rf_param_grid, cv=kfold, scoring=\"accuracy\", n_jobs= -1, verbose = 1)\n",
    "gsRFC.fit(X_train,y)\n",
    "RFC_best = gsRFC.best_estimator_\n",
    "print(gsRFC.best_params_)\n",
    "\n",
    "## cv = 20, random_state = 2018\n",
    "# *** {'max_depth': 7, 'max_features': 31, 'min_samples_leaf': 8, 'n_estimators': 349} - 79.904\n",
    "# ** {'max_depth': 7, 'max_features': 31, 'min_samples_leaf': 8, 'n_estimators': 350} - 79.904\n",
    "# * {'max_depth': 7, 'max_features': 30, 'min_samples_leaf': 7, 'n_estimators': 410} - 78.947\n",
    "\n",
    "\n",
    "## cv = 10, random_state = 1\n",
    "# *** {'max_depth': 5, 'max_features': 16, 'min_samples_leaf': 1, 'n_estimators': 410}\n",
    "# ** {'max_depth': 5, 'max_features': 16, 'min_samples_leaf': 1, 'n_estimators': 400}\n",
    "# * {'max_depth': 5, 'max_features': 17, 'min_samples_leaf': 1, 'n_estimators': 500}\n",
    "\n",
    "# {'max_depth': 9, 'max_features': 30, 'min_samples_leaf': 1, 'n_estimators': 2000}\n",
    "# {'max_depth': 9, 'max_features': 30, 'min_samples_leaf': 7, 'n_estimators': 500}\n",
    "# {'bootstrap': True, 'criterion': 'gini', 'max_depth': None, 'max_features': 2, 'min_samples_leaf': 2, 'n_estimators': 500}\n",
    "# {'bootstrap': True, 'criterion': 'gini', 'max_depth': 90, 'max_features': 17, 'min_samples_leaf': 2, 'n_estimators': 1000}\n",
    "# {'bootstrap': True, 'criterion': 'gini', 'max_depth': None, 'max_features': 2, 'min_samples_leaf': 2, 'n_estimators': 500}\n",
    "# {'bootstrap': True, 'criterion': 'gini', 'max_depth': None, 'max_features': 17, 'min_samples_leaf': 5, 'n_estimators': 2000}"
   ]
  },
  {
   "cell_type": "code",
   "execution_count": 136,
   "metadata": {
    "collapsed": false
   },
   "outputs": [
    {
     "data": {
      "text/plain": [
       "0.84511784511784516"
      ]
     },
     "execution_count": 136,
     "metadata": {},
     "output_type": "execute_result"
    }
   ],
   "source": [
    "gsRFC.best_score_"
   ]
  },
  {
   "cell_type": "code",
   "execution_count": 137,
   "metadata": {
    "collapsed": true
   },
   "outputs": [],
   "source": [
    "y_submission = gsRFC.predict(X_test)"
   ]
  },
  {
   "cell_type": "markdown",
   "metadata": {
    "collapsed": false
   },
   "source": [
    "##### Logistic Regression"
   ]
  },
  {
   "cell_type": "code",
   "execution_count": null,
   "metadata": {
    "collapsed": false
   },
   "outputs": [],
   "source": [
    "#LR = LogisticRegression()\n",
    "\n",
    "#lr_param_grid = {'C':[0.001,0.10,0.30,0.50,10,25,35],\n",
    "#                'penalty' : ['l1','l2']}\n",
    "\n",
    "#gsLR = GridSearchCV(LR,param_grid=lr_param_grid,cv=kfold,scoring='accuracy',verbose=1,n_jobs=-1)\n",
    "#gsLR.fit(X_train,y)\n",
    "#LR_best = gsLR.best_estimator_\n",
    "#print(gsLR.best_params_)\n",
    "\n",
    "# * {'C': 0.5, 'penalty': 'l1'}\n",
    "#{'C': 0.5, 'penalty': 'l1'}\n",
    "#{'C': 0.5, 'penalty': 'l1'}"
   ]
  },
  {
   "cell_type": "code",
   "execution_count": null,
   "metadata": {
    "collapsed": false,
    "scrolled": true
   },
   "outputs": [],
   "source": [
    "#gsLR.best_score_"
   ]
  },
  {
   "cell_type": "code",
   "execution_count": null,
   "metadata": {
    "collapsed": true
   },
   "outputs": [],
   "source": [
    "#y_submission = gsLR.predict(X_test)"
   ]
  },
  {
   "cell_type": "code",
   "execution_count": null,
   "metadata": {
    "collapsed": true
   },
   "outputs": [],
   "source": []
  },
  {
   "cell_type": "markdown",
   "metadata": {},
   "source": [
    "##### Extra Tree"
   ]
  },
  {
   "cell_type": "code",
   "execution_count": 150,
   "metadata": {
    "collapsed": false
   },
   "outputs": [
    {
     "name": "stdout",
     "output_type": "stream",
     "text": [
      "Fitting 20 folds for each of 2592 candidates, totalling 51840 fits\n"
     ]
    },
    {
     "name": "stderr",
     "output_type": "stream",
     "text": [
      "[Parallel(n_jobs=-1)]: Done  42 tasks      | elapsed:   12.4s\n",
      "[Parallel(n_jobs=-1)]: Done 192 tasks      | elapsed:  1.2min\n",
      "[Parallel(n_jobs=-1)]: Done 442 tasks      | elapsed:  4.3min\n",
      "[Parallel(n_jobs=-1)]: Done 792 tasks      | elapsed:  7.4min\n",
      "[Parallel(n_jobs=-1)]: Done 1242 tasks      | elapsed: 10.0min\n",
      "[Parallel(n_jobs=-1)]: Done 1792 tasks      | elapsed: 13.0min\n",
      "[Parallel(n_jobs=-1)]: Done 2442 tasks      | elapsed: 16.1min\n",
      "[Parallel(n_jobs=-1)]: Done 3192 tasks      | elapsed: 19.5min\n",
      "[Parallel(n_jobs=-1)]: Done 4042 tasks      | elapsed: 23.5min\n",
      "[Parallel(n_jobs=-1)]: Done 4992 tasks      | elapsed: 28.1min\n",
      "[Parallel(n_jobs=-1)]: Done 6042 tasks      | elapsed: 33.2min\n",
      "[Parallel(n_jobs=-1)]: Done 7192 tasks      | elapsed: 38.9min\n",
      "[Parallel(n_jobs=-1)]: Done 8442 tasks      | elapsed: 45.1min\n",
      "[Parallel(n_jobs=-1)]: Done 9792 tasks      | elapsed: 51.9min\n",
      "[Parallel(n_jobs=-1)]: Done 11242 tasks      | elapsed: 59.5min\n",
      "[Parallel(n_jobs=-1)]: Done 12792 tasks      | elapsed: 67.6min\n",
      "[Parallel(n_jobs=-1)]: Done 14442 tasks      | elapsed: 75.4min\n",
      "[Parallel(n_jobs=-1)]: Done 16192 tasks      | elapsed: 83.6min\n",
      "[Parallel(n_jobs=-1)]: Done 18042 tasks      | elapsed: 92.5min\n",
      "[Parallel(n_jobs=-1)]: Done 19992 tasks      | elapsed: 102.2min\n",
      "[Parallel(n_jobs=-1)]: Done 22042 tasks      | elapsed: 112.8min\n",
      "[Parallel(n_jobs=-1)]: Done 24192 tasks      | elapsed: 124.2min\n",
      "[Parallel(n_jobs=-1)]: Done 26442 tasks      | elapsed: 136.2min\n",
      "[Parallel(n_jobs=-1)]: Done 28792 tasks      | elapsed: 147.1min\n",
      "[Parallel(n_jobs=-1)]: Done 31242 tasks      | elapsed: 159.2min\n",
      "[Parallel(n_jobs=-1)]: Done 33792 tasks      | elapsed: 172.2min\n",
      "[Parallel(n_jobs=-1)]: Done 36442 tasks      | elapsed: 186.5min\n",
      "[Parallel(n_jobs=-1)]: Done 39192 tasks      | elapsed: 203.1min\n",
      "[Parallel(n_jobs=-1)]: Done 42042 tasks      | elapsed: 218.9min\n",
      "[Parallel(n_jobs=-1)]: Done 44992 tasks      | elapsed: 233.4min\n",
      "[Parallel(n_jobs=-1)]: Done 48042 tasks      | elapsed: 250.4min\n",
      "[Parallel(n_jobs=-1)]: Done 51192 tasks      | elapsed: 269.4min\n",
      "[Parallel(n_jobs=-1)]: Done 51840 out of 51840 | elapsed: 273.1min finished\n"
     ]
    },
    {
     "name": "stdout",
     "output_type": "stream",
     "text": [
      "{'bootstrap': True, 'max_depth': 6, 'max_features': 'auto', 'min_samples_leaf': 1, 'n_estimators': 360}\n"
     ]
    }
   ],
   "source": [
    "ExtC = ExtraTreesClassifier(random_state = 2018)\n",
    "\n",
    "ex_param_grid = {\n",
    "              \"max_depth\": [6],\n",
    "              \"max_features\": ['auto'],\n",
    "              \"min_samples_leaf\": [1],\n",
    "              \"n_estimators\" :[360],\n",
    "                 \"bootstrap\":[True]\n",
    "                }\n",
    "                \n",
    "gsExtC = GridSearchCV(ExtC,param_grid = ex_param_grid, cv=kfold, scoring=\"accuracy\", n_jobs= -1, verbose = 1)\n",
    "gsExtC.fit(X_train,y)\n",
    "ExtC_best = gsExtC.best_estimator_\n",
    "print(gsExtC.best_params_)\n",
    "                \n",
    "## cv = 20, random_state = 2018\n",
    "# *** \n",
    "# ** {'bootstrap': True, 'max_depth': 6, 'max_features': 'auto', 'min_samples_leaf': 1, 'n_estimators': 360} - 78.947\n",
    "# * {'bootstrap': True, 'max_depth': 6, 'max_features': 'auto', 'min_samples_leaf': 1, 'n_estimators': 430} - 78.468\n",
    "\n",
    "## cv = 10, random_state = 1    \n",
    "# ** {'bootstrap': True, 'max_depth': 5, 'max_features': 27, 'min_samples_leaf': 1, 'n_estimators': 450}\n",
    "# * {'bootstrap': True, 'max_depth': 5, 'max_features': 20, 'min_samples_leaf': 1, 'n_estimators': 500}\n",
    "\n",
    "#{'bootstrap': True, 'max_depth': 5, 'max_features': 20, 'min_samples_leaf': 1, 'n_estimators': 500}\n",
    "#{'bootstrap': True, 'criterion': 'gini', 'max_depth': 100, 'max_features': 2, 'min_samples_leaf': 3, 'n_estimators': 500}\n",
    "#{'bootstrap': True, 'criterion': 'gini', 'max_depth': 50, 'max_features': 3, 'min_samples_leaf': 4, 'n_estimators': 1000}\n",
    "#{'bootstrap': False, 'criterion': 'gini', 'max_depth': 90, 'max_features': 3, 'min_samples_leaf': 2, 'n_estimators': 500}\n",
    "#{'bootstrap': False, 'criterion': 'gini', 'max_depth': 110, 'max_features': 3, 'min_samples_leaf': 2, 'n_estimators': 2000}"
   ]
  },
  {
   "cell_type": "code",
   "execution_count": 151,
   "metadata": {
    "collapsed": false
   },
   "outputs": [
    {
     "data": {
      "text/plain": [
       "0.83838383838383834"
      ]
     },
     "execution_count": 151,
     "metadata": {},
     "output_type": "execute_result"
    }
   ],
   "source": [
    "gsExtC.best_score_"
   ]
  },
  {
   "cell_type": "code",
   "execution_count": 152,
   "metadata": {
    "collapsed": true
   },
   "outputs": [],
   "source": [
    "y_submission = gsExtC.predict(X_test)"
   ]
  },
  {
   "cell_type": "code",
   "execution_count": null,
   "metadata": {
    "collapsed": true
   },
   "outputs": [],
   "source": []
  },
  {
   "cell_type": "markdown",
   "metadata": {},
   "source": [
    "##### XGboost"
   ]
  },
  {
   "cell_type": "code",
   "execution_count": 172,
   "metadata": {
    "collapsed": false
   },
   "outputs": [
    {
     "name": "stdout",
     "output_type": "stream",
     "text": [
      "Fitting 20 folds for each of 324 candidates, totalling 6480 fits\n"
     ]
    },
    {
     "name": "stderr",
     "output_type": "stream",
     "text": [
      "[Parallel(n_jobs=-1)]: Done  42 tasks      | elapsed:    3.4s\n",
      "[Parallel(n_jobs=-1)]: Done 192 tasks      | elapsed:   16.8s\n",
      "[Parallel(n_jobs=-1)]: Done 442 tasks      | elapsed:   37.6s\n",
      "[Parallel(n_jobs=-1)]: Done 792 tasks      | elapsed:  1.2min\n",
      "[Parallel(n_jobs=-1)]: Done 1242 tasks      | elapsed:  2.1min\n",
      "[Parallel(n_jobs=-1)]: Done 1792 tasks      | elapsed:  3.2min\n",
      "[Parallel(n_jobs=-1)]: Done 2442 tasks      | elapsed:  4.2min\n",
      "[Parallel(n_jobs=-1)]: Done 3192 tasks      | elapsed:  5.7min\n",
      "[Parallel(n_jobs=-1)]: Done 4042 tasks      | elapsed:  7.0min\n",
      "[Parallel(n_jobs=-1)]: Done 4992 tasks      | elapsed:  8.9min\n",
      "[Parallel(n_jobs=-1)]: Done 6042 tasks      | elapsed: 10.7min\n",
      "[Parallel(n_jobs=-1)]: Done 6480 out of 6480 | elapsed: 11.7min finished\n"
     ]
    },
    {
     "name": "stdout",
     "output_type": "stream",
     "text": [
      "{'gamma': 0, 'learning_rate': 0.2, 'max_depth': 3, 'min_child_weight': 4, 'n_estimators': 490, 'subsample': 0.2}\n"
     ]
    }
   ],
   "source": [
    "XGB = XGBClassifier(random_state = 2018)\n",
    "\n",
    "xg_param_grid = {\n",
    "              'min_child_weight':[4],\n",
    "              'n_estimators' : [490],\n",
    "              'learning_rate': [0.2],\n",
    "              'max_depth': [3],\n",
    "              'subsample':[0.2],\n",
    "              'gamma': [0]\n",
    "}\n",
    "\n",
    "\n",
    "gsXGB = GridSearchCV(XGB,param_grid = xg_param_grid, cv=kfold, scoring=\"accuracy\", n_jobs= -1, verbose = 1)\n",
    "gsXGB.fit(X_train,y)\n",
    "print(gsXGB.best_params_)\n",
    "\n",
    "\n",
    "## cv = 20, random_state = 2018\n",
    "\n",
    "# ** {'gamma': 0, 'learning_rate': 0.2, 'max_depth': 3, 'min_child_weight': 4, 'n_estimators': 490, 'subsample': 0.2} - 76.555\n",
    "# * {'gamma': 0, 'learning_rate': 0.2, 'max_depth': 3, 'min_child_weight': 3, 'n_estimators': 490, 'subsample': 0.3} - 76.076\n",
    "\n",
    "## cv = 10, random_state = 1\n",
    "# {'colsample_bytree': 0.5, 'learning_rate': 0.05, 'max_depth': 5, 'min_child_weight': 1, 'n_estimators': 500, 'subsample': 0.4}\n",
    "#{'colsample_bytree': 0.5, 'learning_rate': 0.05, 'max_depth': 5, 'min_child_weight': 1, 'n_estimators': 500, 'subsample': 0.4}"
   ]
  },
  {
   "cell_type": "code",
   "execution_count": 173,
   "metadata": {
    "collapsed": false
   },
   "outputs": [],
   "source": [
    "XGB_best = gsXGB.best_estimator_"
   ]
  },
  {
   "cell_type": "code",
   "execution_count": 174,
   "metadata": {
    "collapsed": false
   },
   "outputs": [
    {
     "data": {
      "text/plain": [
       "0.83950617283950613"
      ]
     },
     "execution_count": 174,
     "metadata": {},
     "output_type": "execute_result"
    }
   ],
   "source": [
    "gsXGB.best_score_"
   ]
  },
  {
   "cell_type": "code",
   "execution_count": 175,
   "metadata": {
    "collapsed": false
   },
   "outputs": [],
   "source": [
    "y_submission = gsXGB.predict(X_test)"
   ]
  },
  {
   "cell_type": "code",
   "execution_count": null,
   "metadata": {
    "collapsed": true
   },
   "outputs": [],
   "source": []
  },
  {
   "cell_type": "code",
   "execution_count": 180,
   "metadata": {
    "collapsed": true
   },
   "outputs": [],
   "source": [
    "votingC = VotingClassifier(estimators = [('rfc',RFC_best), ('extc',ExtC_best)\n",
    "                                        ], voting='hard',n_jobs=-1)\n",
    "votingC = votingC.fit(X_train,y)\n",
    "\n",
    "y_submission = votingC.predict(X_test)\n",
    "\n",
    "\n",
    "# 80.382\n",
    "#('lr',LR_best), ('svc',gsSVMC),('adac',ada_best),('gbc',GBC_best), ('xgb',XGB_best), ('rfc',RFC_best), ('extc',ExtC_best)"
   ]
  },
  {
   "cell_type": "code",
   "execution_count": null,
   "metadata": {
    "collapsed": true
   },
   "outputs": [],
   "source": []
  },
  {
   "cell_type": "code",
   "execution_count": 192,
   "metadata": {
    "collapsed": false,
    "scrolled": false
   },
   "outputs": [
    {
     "name": "stdout",
     "output_type": "stream",
     "text": [
      "Fitting 20 folds for each of 140 candidates, totalling 2800 fits\n"
     ]
    },
    {
     "name": "stderr",
     "output_type": "stream",
     "text": [
      "[Parallel(n_jobs=-1)]: Done  42 tasks      | elapsed:   33.6s\n",
      "[Parallel(n_jobs=-1)]: Done 192 tasks      | elapsed:  2.3min\n",
      "[Parallel(n_jobs=-1)]: Done 442 tasks      | elapsed:  5.1min\n",
      "[Parallel(n_jobs=-1)]: Done 792 tasks      | elapsed:  9.3min\n",
      "[Parallel(n_jobs=-1)]: Done 1242 tasks      | elapsed: 14.7min\n",
      "[Parallel(n_jobs=-1)]: Done 1792 tasks      | elapsed: 21.3min\n",
      "[Parallel(n_jobs=-1)]: Done 2442 tasks      | elapsed: 29.2min\n",
      "[Parallel(n_jobs=-1)]: Done 2800 out of 2800 | elapsed: 33.5min finished\n"
     ]
    },
    {
     "name": "stdout",
     "output_type": "stream",
     "text": [
      "{'extratreesclassifier__bootstrap': True, 'extratreesclassifier__max_depth': 6, 'extratreesclassifier__max_features': 'auto', 'extratreesclassifier__min_samples_leaf': 1, 'extratreesclassifier__n_estimators': 360, 'meta-xgbclassifier__learning_rate': 0.4, 'meta-xgbclassifier__max_depth': 2, 'meta-xgbclassifier__n_estimators': 430, 'randomforestclassifier__max_depth': 7, 'randomforestclassifier__max_features': 31, 'randomforestclassifier__min_samples_leaf': 8, 'randomforestclassifier__n_estimators': 349}\n"
     ]
    }
   ],
   "source": [
    "# RandomForest + ExtraTrees +  Meta(XGB)\n",
    "XGB = XGBClassifier(random_state = 2018)\n",
    "\n",
    "ExtC = ExtraTreesClassifier(random_state = 2018)\n",
    "RFC = RandomForestClassifier(random_state = 2018)\n",
    "\n",
    "stack = StackingClassifier(classifiers = [ExtC, RFC], meta_classifier = XGB)\n",
    "\n",
    "params = {\n",
    "              'meta-xgbclassifier__n_estimators' : [430],\n",
    "              'meta-xgbclassifier__learning_rate': [0.4],\n",
    "              'meta-xgbclassifier__max_depth': [2],\n",
    "    \n",
    "              'randomforestclassifier__max_depth':[7],\n",
    "              'randomforestclassifier__max_features':[31],\n",
    "              'randomforestclassifier__min_samples_leaf':[8],\n",
    "              'randomforestclassifier__n_estimators':[349],\n",
    "    \n",
    "              \"extratreesclassifier__max_depth\": [6],\n",
    "              \"extratreesclassifier__max_features\": ['auto'],\n",
    "              \"extratreesclassifier__min_samples_leaf\": [1],\n",
    "              \"extratreesclassifier__n_estimators\" :[360],\n",
    "              \"extratreesclassifier__bootstrap\":[True]\n",
    "\n",
    "        }\n",
    "\n",
    "grid = GridSearchCV(estimator = stack, param_grid=params,cv=kfold,refit=True, scoring=\"accuracy\", n_jobs= -1, verbose = 1)\n",
    "grid.fit(X_train, y)\n",
    "grid_best = grid.best_estimator_\n",
    "print(grid.best_params_)\n",
    "\n",
    "## cv = 20, random_state = 2018 (all below two 0.382)\n",
    "\n",
    "# **\n",
    "#'meta-xgbclassifier__learning_rate': 0.4, 'meta-xgbclassifier__max_depth': 2, 'meta-xgbclassifier__n_estimators': 430 }'\n",
    "\n",
    "# * {'extratreesclassifier__bootstrap': True, 'extratreesclassifier__max_depth': 6, \n",
    "#'extratreesclassifier__max_features': 'auto', 'extratreesclassifier__min_samples_leaf': 1, \n",
    "#'extratreesclassifier__n_estimators': 360, \n",
    "#'meta-xgbclassifier__learning_rate': 0.4, 'meta-xgbclassifier__max_depth': 2, 'meta-xgbclassifier__n_estimators': 500, \n",
    "#'randomforestclassifier__max_depth': 7, 'randomforestclassifier__max_features': 31, \n",
    "#'randomforestclassifier__min_samples_leaf': 8, 'randomforestclassifier__n_estimators': 349} - 80.382\n",
    "\n",
    "\n",
    "## cv = 10, random_state = 1\n",
    "# * {'meta-xgbclassifier__colsample_bytree': 1, \n",
    "#'meta-xgbclassifier__learning_rate': 0.2, 'meta-xgbclassifier__max_depth': 3, \n",
    "#'meta-xgbclassifier__min_child_weight': 0.3, 'meta-xgbclassifier__n_estimators': 300, \n",
    "#'meta-xgbclassifier__subsample': 0.5, 'randomforestclassifier__max_depth': 5, \n",
    "#'randomforestclassifier__max_features': 16, 'randomforestclassifier__min_samples_leaf': 1, \n",
    "#'randomforestclassifier__n_estimators': 410}\n",
    "\n",
    "# ** 결과"
   ]
  },
  {
   "cell_type": "code",
   "execution_count": 193,
   "metadata": {
    "collapsed": true
   },
   "outputs": [],
   "source": [
    "y_submission = grid.predict(X_test)"
   ]
  },
  {
   "cell_type": "code",
   "execution_count": null,
   "metadata": {
    "collapsed": true
   },
   "outputs": [],
   "source": []
  },
  {
   "cell_type": "code",
   "execution_count": 214,
   "metadata": {
    "collapsed": false,
    "scrolled": false
   },
   "outputs": [
    {
     "name": "stdout",
     "output_type": "stream",
     "text": [
      "Fitting 20 folds for each of 336 candidates, totalling 6720 fits\n"
     ]
    },
    {
     "name": "stderr",
     "output_type": "stream",
     "text": [
      "[Parallel(n_jobs=-1)]: Done  42 tasks      | elapsed:   37.4s\n",
      "[Parallel(n_jobs=-1)]: Done 192 tasks      | elapsed:  3.2min\n",
      "[Parallel(n_jobs=-1)]: Done 442 tasks      | elapsed:  7.1min\n",
      "[Parallel(n_jobs=-1)]: Done 792 tasks      | elapsed: 12.6min\n"
     ]
    },
    {
     "ename": "KeyboardInterrupt",
     "evalue": "",
     "output_type": "error",
     "traceback": [
      "\u001b[0;31m---------------------------------------------------------------------------\u001b[0m",
      "\u001b[0;31mKeyboardInterrupt\u001b[0m                         Traceback (most recent call last)",
      "\u001b[0;32m<ipython-input-214-b0f044c8e72d>\u001b[0m in \u001b[0;36m<module>\u001b[0;34m()\u001b[0m\n\u001b[1;32m     33\u001b[0m \u001b[0;34m\u001b[0m\u001b[0m\n\u001b[1;32m     34\u001b[0m \u001b[0mgrid\u001b[0m \u001b[0;34m=\u001b[0m \u001b[0mGridSearchCV\u001b[0m\u001b[0;34m(\u001b[0m\u001b[0mestimator\u001b[0m \u001b[0;34m=\u001b[0m \u001b[0mstack\u001b[0m\u001b[0;34m,\u001b[0m \u001b[0mparam_grid\u001b[0m\u001b[0;34m=\u001b[0m\u001b[0mparams\u001b[0m\u001b[0;34m,\u001b[0m\u001b[0mcv\u001b[0m\u001b[0;34m=\u001b[0m\u001b[0mkfold\u001b[0m\u001b[0;34m,\u001b[0m\u001b[0mrefit\u001b[0m\u001b[0;34m=\u001b[0m\u001b[0;32mTrue\u001b[0m\u001b[0;34m,\u001b[0m \u001b[0mscoring\u001b[0m\u001b[0;34m=\u001b[0m\u001b[0;34m\"accuracy\"\u001b[0m\u001b[0;34m,\u001b[0m \u001b[0mn_jobs\u001b[0m\u001b[0;34m=\u001b[0m \u001b[0;34m-\u001b[0m\u001b[0;36m1\u001b[0m\u001b[0;34m,\u001b[0m \u001b[0mverbose\u001b[0m \u001b[0;34m=\u001b[0m \u001b[0;36m1\u001b[0m\u001b[0;34m)\u001b[0m\u001b[0;34m\u001b[0m\u001b[0m\n\u001b[0;32m---> 35\u001b[0;31m \u001b[0mgrid\u001b[0m\u001b[0;34m.\u001b[0m\u001b[0mfit\u001b[0m\u001b[0;34m(\u001b[0m\u001b[0mX_train\u001b[0m\u001b[0;34m,\u001b[0m \u001b[0my\u001b[0m\u001b[0;34m)\u001b[0m\u001b[0;34m\u001b[0m\u001b[0m\n\u001b[0m\u001b[1;32m     36\u001b[0m \u001b[0mgrid_best\u001b[0m \u001b[0;34m=\u001b[0m \u001b[0mgrid\u001b[0m\u001b[0;34m.\u001b[0m\u001b[0mbest_estimator_\u001b[0m\u001b[0;34m\u001b[0m\u001b[0m\n\u001b[1;32m     37\u001b[0m \u001b[0mprint\u001b[0m\u001b[0;34m(\u001b[0m\u001b[0mgrid_best\u001b[0m\u001b[0;34m)\u001b[0m\u001b[0;34m\u001b[0m\u001b[0m\n",
      "\u001b[0;32m/Library/Frameworks/Python.framework/Versions/3.6/lib/python3.6/site-packages/sklearn/model_selection/_search.py\u001b[0m in \u001b[0;36mfit\u001b[0;34m(self, X, y, groups, **fit_params)\u001b[0m\n\u001b[1;32m    636\u001b[0m                                   error_score=self.error_score)\n\u001b[1;32m    637\u001b[0m           for parameters, (train, test) in product(candidate_params,\n\u001b[0;32m--> 638\u001b[0;31m                                                    cv.split(X, y, groups)))\n\u001b[0m\u001b[1;32m    639\u001b[0m \u001b[0;34m\u001b[0m\u001b[0m\n\u001b[1;32m    640\u001b[0m         \u001b[0;31m# if one choose to see train score, \"out\" will contain train score info\u001b[0m\u001b[0;34m\u001b[0m\u001b[0;34m\u001b[0m\u001b[0m\n",
      "\u001b[0;32m/Library/Frameworks/Python.framework/Versions/3.6/lib/python3.6/site-packages/sklearn/externals/joblib/parallel.py\u001b[0m in \u001b[0;36m__call__\u001b[0;34m(self, iterable)\u001b[0m\n\u001b[1;32m    787\u001b[0m                 \u001b[0;31m# consumption.\u001b[0m\u001b[0;34m\u001b[0m\u001b[0;34m\u001b[0m\u001b[0m\n\u001b[1;32m    788\u001b[0m                 \u001b[0mself\u001b[0m\u001b[0;34m.\u001b[0m\u001b[0m_iterating\u001b[0m \u001b[0;34m=\u001b[0m \u001b[0;32mFalse\u001b[0m\u001b[0;34m\u001b[0m\u001b[0m\n\u001b[0;32m--> 789\u001b[0;31m             \u001b[0mself\u001b[0m\u001b[0;34m.\u001b[0m\u001b[0mretrieve\u001b[0m\u001b[0;34m(\u001b[0m\u001b[0;34m)\u001b[0m\u001b[0;34m\u001b[0m\u001b[0m\n\u001b[0m\u001b[1;32m    790\u001b[0m             \u001b[0;31m# Make sure that we get a last message telling us we are done\u001b[0m\u001b[0;34m\u001b[0m\u001b[0;34m\u001b[0m\u001b[0m\n\u001b[1;32m    791\u001b[0m             \u001b[0melapsed_time\u001b[0m \u001b[0;34m=\u001b[0m \u001b[0mtime\u001b[0m\u001b[0;34m.\u001b[0m\u001b[0mtime\u001b[0m\u001b[0;34m(\u001b[0m\u001b[0;34m)\u001b[0m \u001b[0;34m-\u001b[0m \u001b[0mself\u001b[0m\u001b[0;34m.\u001b[0m\u001b[0m_start_time\u001b[0m\u001b[0;34m\u001b[0m\u001b[0m\n",
      "\u001b[0;32m/Library/Frameworks/Python.framework/Versions/3.6/lib/python3.6/site-packages/sklearn/externals/joblib/parallel.py\u001b[0m in \u001b[0;36mretrieve\u001b[0;34m(self)\u001b[0m\n\u001b[1;32m    697\u001b[0m             \u001b[0;32mtry\u001b[0m\u001b[0;34m:\u001b[0m\u001b[0;34m\u001b[0m\u001b[0m\n\u001b[1;32m    698\u001b[0m                 \u001b[0;32mif\u001b[0m \u001b[0mgetattr\u001b[0m\u001b[0;34m(\u001b[0m\u001b[0mself\u001b[0m\u001b[0;34m.\u001b[0m\u001b[0m_backend\u001b[0m\u001b[0;34m,\u001b[0m \u001b[0;34m'supports_timeout'\u001b[0m\u001b[0;34m,\u001b[0m \u001b[0;32mFalse\u001b[0m\u001b[0;34m)\u001b[0m\u001b[0;34m:\u001b[0m\u001b[0;34m\u001b[0m\u001b[0m\n\u001b[0;32m--> 699\u001b[0;31m                     \u001b[0mself\u001b[0m\u001b[0;34m.\u001b[0m\u001b[0m_output\u001b[0m\u001b[0;34m.\u001b[0m\u001b[0mextend\u001b[0m\u001b[0;34m(\u001b[0m\u001b[0mjob\u001b[0m\u001b[0;34m.\u001b[0m\u001b[0mget\u001b[0m\u001b[0;34m(\u001b[0m\u001b[0mtimeout\u001b[0m\u001b[0;34m=\u001b[0m\u001b[0mself\u001b[0m\u001b[0;34m.\u001b[0m\u001b[0mtimeout\u001b[0m\u001b[0;34m)\u001b[0m\u001b[0;34m)\u001b[0m\u001b[0;34m\u001b[0m\u001b[0m\n\u001b[0m\u001b[1;32m    700\u001b[0m                 \u001b[0;32melse\u001b[0m\u001b[0;34m:\u001b[0m\u001b[0;34m\u001b[0m\u001b[0m\n\u001b[1;32m    701\u001b[0m                     \u001b[0mself\u001b[0m\u001b[0;34m.\u001b[0m\u001b[0m_output\u001b[0m\u001b[0;34m.\u001b[0m\u001b[0mextend\u001b[0m\u001b[0;34m(\u001b[0m\u001b[0mjob\u001b[0m\u001b[0;34m.\u001b[0m\u001b[0mget\u001b[0m\u001b[0;34m(\u001b[0m\u001b[0;34m)\u001b[0m\u001b[0;34m)\u001b[0m\u001b[0;34m\u001b[0m\u001b[0m\n",
      "\u001b[0;32m/Library/Frameworks/Python.framework/Versions/3.6/lib/python3.6/multiprocessing/pool.py\u001b[0m in \u001b[0;36mget\u001b[0;34m(self, timeout)\u001b[0m\n\u001b[1;32m    600\u001b[0m \u001b[0;34m\u001b[0m\u001b[0m\n\u001b[1;32m    601\u001b[0m     \u001b[0;32mdef\u001b[0m \u001b[0mget\u001b[0m\u001b[0;34m(\u001b[0m\u001b[0mself\u001b[0m\u001b[0;34m,\u001b[0m \u001b[0mtimeout\u001b[0m\u001b[0;34m=\u001b[0m\u001b[0;32mNone\u001b[0m\u001b[0;34m)\u001b[0m\u001b[0;34m:\u001b[0m\u001b[0;34m\u001b[0m\u001b[0m\n\u001b[0;32m--> 602\u001b[0;31m         \u001b[0mself\u001b[0m\u001b[0;34m.\u001b[0m\u001b[0mwait\u001b[0m\u001b[0;34m(\u001b[0m\u001b[0mtimeout\u001b[0m\u001b[0;34m)\u001b[0m\u001b[0;34m\u001b[0m\u001b[0m\n\u001b[0m\u001b[1;32m    603\u001b[0m         \u001b[0;32mif\u001b[0m \u001b[0;32mnot\u001b[0m \u001b[0mself\u001b[0m\u001b[0;34m.\u001b[0m\u001b[0mready\u001b[0m\u001b[0;34m(\u001b[0m\u001b[0;34m)\u001b[0m\u001b[0;34m:\u001b[0m\u001b[0;34m\u001b[0m\u001b[0m\n\u001b[1;32m    604\u001b[0m             \u001b[0;32mraise\u001b[0m \u001b[0mTimeoutError\u001b[0m\u001b[0;34m\u001b[0m\u001b[0m\n",
      "\u001b[0;32m/Library/Frameworks/Python.framework/Versions/3.6/lib/python3.6/multiprocessing/pool.py\u001b[0m in \u001b[0;36mwait\u001b[0;34m(self, timeout)\u001b[0m\n\u001b[1;32m    597\u001b[0m \u001b[0;34m\u001b[0m\u001b[0m\n\u001b[1;32m    598\u001b[0m     \u001b[0;32mdef\u001b[0m \u001b[0mwait\u001b[0m\u001b[0;34m(\u001b[0m\u001b[0mself\u001b[0m\u001b[0;34m,\u001b[0m \u001b[0mtimeout\u001b[0m\u001b[0;34m=\u001b[0m\u001b[0;32mNone\u001b[0m\u001b[0;34m)\u001b[0m\u001b[0;34m:\u001b[0m\u001b[0;34m\u001b[0m\u001b[0m\n\u001b[0;32m--> 599\u001b[0;31m         \u001b[0mself\u001b[0m\u001b[0;34m.\u001b[0m\u001b[0m_event\u001b[0m\u001b[0;34m.\u001b[0m\u001b[0mwait\u001b[0m\u001b[0;34m(\u001b[0m\u001b[0mtimeout\u001b[0m\u001b[0;34m)\u001b[0m\u001b[0;34m\u001b[0m\u001b[0m\n\u001b[0m\u001b[1;32m    600\u001b[0m \u001b[0;34m\u001b[0m\u001b[0m\n\u001b[1;32m    601\u001b[0m     \u001b[0;32mdef\u001b[0m \u001b[0mget\u001b[0m\u001b[0;34m(\u001b[0m\u001b[0mself\u001b[0m\u001b[0;34m,\u001b[0m \u001b[0mtimeout\u001b[0m\u001b[0;34m=\u001b[0m\u001b[0;32mNone\u001b[0m\u001b[0;34m)\u001b[0m\u001b[0;34m:\u001b[0m\u001b[0;34m\u001b[0m\u001b[0m\n",
      "\u001b[0;32m/Library/Frameworks/Python.framework/Versions/3.6/lib/python3.6/threading.py\u001b[0m in \u001b[0;36mwait\u001b[0;34m(self, timeout)\u001b[0m\n\u001b[1;32m    549\u001b[0m             \u001b[0msignaled\u001b[0m \u001b[0;34m=\u001b[0m \u001b[0mself\u001b[0m\u001b[0;34m.\u001b[0m\u001b[0m_flag\u001b[0m\u001b[0;34m\u001b[0m\u001b[0m\n\u001b[1;32m    550\u001b[0m             \u001b[0;32mif\u001b[0m \u001b[0;32mnot\u001b[0m \u001b[0msignaled\u001b[0m\u001b[0;34m:\u001b[0m\u001b[0;34m\u001b[0m\u001b[0m\n\u001b[0;32m--> 551\u001b[0;31m                 \u001b[0msignaled\u001b[0m \u001b[0;34m=\u001b[0m \u001b[0mself\u001b[0m\u001b[0;34m.\u001b[0m\u001b[0m_cond\u001b[0m\u001b[0;34m.\u001b[0m\u001b[0mwait\u001b[0m\u001b[0;34m(\u001b[0m\u001b[0mtimeout\u001b[0m\u001b[0;34m)\u001b[0m\u001b[0;34m\u001b[0m\u001b[0m\n\u001b[0m\u001b[1;32m    552\u001b[0m             \u001b[0;32mreturn\u001b[0m \u001b[0msignaled\u001b[0m\u001b[0;34m\u001b[0m\u001b[0m\n\u001b[1;32m    553\u001b[0m \u001b[0;34m\u001b[0m\u001b[0m\n",
      "\u001b[0;32m/Library/Frameworks/Python.framework/Versions/3.6/lib/python3.6/threading.py\u001b[0m in \u001b[0;36mwait\u001b[0;34m(self, timeout)\u001b[0m\n\u001b[1;32m    293\u001b[0m         \u001b[0;32mtry\u001b[0m\u001b[0;34m:\u001b[0m    \u001b[0;31m# restore state no matter what (e.g., KeyboardInterrupt)\u001b[0m\u001b[0;34m\u001b[0m\u001b[0m\n\u001b[1;32m    294\u001b[0m             \u001b[0;32mif\u001b[0m \u001b[0mtimeout\u001b[0m \u001b[0;32mis\u001b[0m \u001b[0;32mNone\u001b[0m\u001b[0;34m:\u001b[0m\u001b[0;34m\u001b[0m\u001b[0m\n\u001b[0;32m--> 295\u001b[0;31m                 \u001b[0mwaiter\u001b[0m\u001b[0;34m.\u001b[0m\u001b[0macquire\u001b[0m\u001b[0;34m(\u001b[0m\u001b[0;34m)\u001b[0m\u001b[0;34m\u001b[0m\u001b[0m\n\u001b[0m\u001b[1;32m    296\u001b[0m                 \u001b[0mgotit\u001b[0m \u001b[0;34m=\u001b[0m \u001b[0;32mTrue\u001b[0m\u001b[0;34m\u001b[0m\u001b[0m\n\u001b[1;32m    297\u001b[0m             \u001b[0;32melse\u001b[0m\u001b[0;34m:\u001b[0m\u001b[0;34m\u001b[0m\u001b[0m\n",
      "\u001b[0;31mKeyboardInterrupt\u001b[0m: "
     ]
    }
   ],
   "source": [
    "# RandomForest + ExtraTrees + SVM + Meta(XGB)\n",
    "\n",
    "XGB = XGBClassifier(random_state = 2018)\n",
    "\n",
    "ExtC = ExtraTreesClassifier(random_state = 2018)\n",
    "RFC = RandomForestClassifier(random_state = 2018)\n",
    "SVMC = SVC(probability=True, random_state = 2018)\n",
    "\n",
    "stack = StackingClassifier(classifiers = [ExtC, RFC, SVMC], meta_classifier = XGB)\n",
    "\n",
    "params = {\n",
    "              'meta-xgbclassifier__n_estimators' : [200, 220, 230, 240, 250, 252, 253],\n",
    "              'meta-xgbclassifier__learning_rate': [1.5,1.0,0.99,0.98],\n",
    "              'meta-xgbclassifier__max_depth': [1,2,3],\n",
    "              \n",
    "              'randomforestclassifier__max_depth':[7],\n",
    "              'randomforestclassifier__max_features':[31],\n",
    "              'randomforestclassifier__min_samples_leaf':[8],\n",
    "              'randomforestclassifier__n_estimators':[349],\n",
    "    \n",
    "              \"extratreesclassifier__max_depth\": [6],\n",
    "              \"extratreesclassifier__max_features\": ['auto'],\n",
    "              \"extratreesclassifier__min_samples_leaf\": [1],\n",
    "              \"extratreesclassifier__n_estimators\" :[360],\n",
    "              \"extratreesclassifier__bootstrap\":[True],\n",
    "    \n",
    "              'svc__gamma': [0.012],\n",
    "              'svc__class_weight': ['balanced',{1:1}],\n",
    "              'svc__C':[0.15],\n",
    "              'svc__kernel':['sigmoid','rbf']\n",
    "\n",
    "        }\n",
    "\n",
    "grid = GridSearchCV(estimator = stack, param_grid=params,cv=kfold,refit=True, scoring=\"accuracy\", n_jobs= -1, verbose = 1)\n",
    "grid.fit(X_train, y)\n",
    "grid_best = grid.best_estimator_\n",
    "print(grid_best)\n",
    "\n",
    "\n",
    "## cv = 20, random_state = 2018\n",
    "\n",
    "# **** meta_classifier=XGBClassifier(base_score=0.5, booster='gbtree', colsample_bylevel=1,\n",
    "#       colsample_bytree=1, gamma=0, learning_rate=0.99, max_delta_step=0,\n",
    "#       max_depth=1, min_child_weight=1, missing=None, n_estimators=250,\n",
    "#       n_jobs=1, nthread=None, objective='binary:logistic',\n",
    "#       random_state=2018, reg_alpha=0, reg_lambda=1, scale_pos_weight=1,\n",
    "#       seed=None, silent=True, subsample=1, 0.80382\n",
    "\n",
    "# *** \n"
   ]
  },
  {
   "cell_type": "code",
   "execution_count": 212,
   "metadata": {
    "collapsed": true
   },
   "outputs": [],
   "source": [
    "y_submission = grid.predict(X_test)"
   ]
  },
  {
   "cell_type": "code",
   "execution_count": null,
   "metadata": {
    "collapsed": true
   },
   "outputs": [],
   "source": []
  },
  {
   "cell_type": "code",
   "execution_count": null,
   "metadata": {
    "collapsed": false
   },
   "outputs": [],
   "source": [
    "# RandomForest + ExtraTrees + Meta(SVM)\n",
    "\n",
    "ExtC = ExtraTreesClassifier(random_state = 2018)\n",
    "RFC = RandomForestClassifier(random_state = 2018)\n",
    "SVMC = SVC(probability = True, random_state = 2018)\n",
    "\n",
    "stack = StackingClassifier(classifiers = [ExtC, RFC], meta_classifier = SVMC)\n",
    "\n",
    "params = {    \n",
    "              'randomforestclassifier__max_depth':[7],\n",
    "              'randomforestclassifier__max_features':[31],\n",
    "              'randomforestclassifier__min_samples_leaf':[8],\n",
    "              'randomforestclassifier__n_estimators':[349],\n",
    "    \n",
    "              \"extratreesclassifier__max_depth\": [6],\n",
    "              \"extratreesclassifier__max_features\": ['auto'],\n",
    "              \"extratreesclassifier__min_samples_leaf\": [1],\n",
    "              \"extratreesclassifier__n_estimators\" :[360],\n",
    "              \"extratreesclassifier__bootstrap\":[True],\n",
    "    \n",
    "              'meta-svc__gamma': [0.01,0.02,0.03,0.04,0.05,0.06,0.07,0.08,0.09,0.1],\n",
    "              'meta-svc__class_weight': ['balanced',{1:1},{1:2}],\n",
    "              'meta-svc__kernel': ['rbf','sigmoid'],\n",
    "              'meta-svc__C':[0.001,0.003,0.005,0.007,0.009,0.10,0.30,0.50,1,3,5,10,25,35]\n",
    "        }\n",
    "\n",
    "grid = GridSearchCV(estimator = stack, param_grid = params,cv = kfold,refit = True, verbose = 1, n_jobs=-1)\n",
    "grid.fit(X_train, y)\n",
    "grid_best = grid.best_estimator_\n",
    "print(grid_best)\n",
    "\n",
    "\n",
    "## cv = 20, random_state = 2018\n",
    "#  \n",
    "#\n",
    "# *\n",
    "\n",
    "\n",
    "## cv = 10, random_state = 1\n",
    "#StackingClassifier(average_probas=False,\n",
    "        #classifiers=[ExtraTreesClassifier(bootstrap=True, class_weight=None, criterion='gini',\n",
    "        #max_depth=5, max_features=27, max_leaf_nodes=None,\n",
    "        #min_impurity_decrease=0.0, min_impurity_split=None,\n",
    "        #min_samples_leaf=1, min_samples_split=2,\n",
    "        #min_weight_fraction_leaf=...estimators=410, n_jobs=1,\n",
    "        #oob_score=False, random_state=1, verbose=0, warm_start=False)],\n",
    "        #meta_classifier=SVC(C=0.1, cache_size=200, class_weight={1: 4}, coef0=0.0,\n",
    "        #decision_function_shape='ovr', degree=3, gamma=0.04, kernel='rbf',\n",
    "        #max_iter=-1, probability=True, random_state=1, shrinking=True, tol=0.001,\n",
    "        #verbose=False),\n",
    "        #store_train_meta_features=False, use_clones=True,\n",
    "        #use_features_in_secondary=False, use_probas=False, verbose=0)\n",
    "        \n",
    "#결과 별루"
   ]
  },
  {
   "cell_type": "code",
   "execution_count": null,
   "metadata": {
    "collapsed": true
   },
   "outputs": [],
   "source": [
    "y_submission = grid.predict(X_test)"
   ]
  },
  {
   "cell_type": "code",
   "execution_count": null,
   "metadata": {
    "collapsed": true
   },
   "outputs": [],
   "source": []
  },
  {
   "cell_type": "markdown",
   "metadata": {},
   "source": [
    "### Learning Curve"
   ]
  },
  {
   "cell_type": "markdown",
   "metadata": {
    "collapsed": true
   },
   "source": [
    "A learning curve compares the performace of a model on training and testing data over a varying number of training instances. By plotting learning curves for each model, we can diagnose whether models are overfitted or underfitted"
   ]
  },
  {
   "cell_type": "code",
   "execution_count": null,
   "metadata": {
    "collapsed": true
   },
   "outputs": [],
   "source": []
  },
  {
   "cell_type": "code",
   "execution_count": null,
   "metadata": {
    "collapsed": false,
    "scrolled": false
   },
   "outputs": [],
   "source": [
    "def lcplot(model,X,y,title,train_sizes=np.linspace(0.1,1.0,5)):\n",
    "    \n",
    "    train_sizes, train_scores, test_scores = learning_curve(model,X,y,cv=kfold,n_jobs=-1,train_sizes=train_sizes)\n",
    "    \n",
    "    train_scores_mean = np.mean(train_scores,axis=1)\n",
    "    train_scores_std = np.std(train_scores,axis=1)\n",
    "    \n",
    "    test_scores_mean = np.mean(test_scores,axis=1)\n",
    "    test_scores_std = np.std(test_scores,axis=1)\n",
    "    \n",
    "    plt.figure()\n",
    "    plt.title(title)\n",
    "    plt.xlabel(\"Training size\")\n",
    "    plt.ylabel(\"Score\")\n",
    "    plt.grid()\n",
    "    \n",
    "    plt.fill_between(train_sizes, train_scores_mean - train_scores_std,\n",
    "                    train_scores_mean + train_scores_std, alpha = 0.1, color='b')\n",
    "    plt.fill_between(train_sizes, test_scores_mean - test_scores_std,\n",
    "                    test_scores_mean + test_scores_std, alpha = 0.1, color='g')\n",
    "    plt.plot(train_sizes,train_scores_mean, 'o-', color='b', label='Training Score')\n",
    "    plt.plot(train_sizes,test_scores_mean, 'o-', color='g', label='CV score')\n",
    "    plt.legend(loc='best')\n",
    "    return plt\n",
    "\n",
    "g = lcplot(gsadaDTC.best_estimator_,X_train,y,\"AdaBoost\")\n",
    "g = lcplot(gsGBC.best_estimator_,X_train,y,\"GradientBoost\")\n",
    "g = lcplot(gsRFC.best_estimator_,X_train,y,\"RandomForest\")\n",
    "g = lcplot(gsExtC.best_estimator_,X_train,y,\"ExtraTrees\")\n",
    "g = lcplot(gsSVMC.best_estimator_,X_train,y,\"SVM\")\n",
    "g = lcplot(gsXGB.best_estimator_,X_train,y,\"XGBoost\")\n"
   ]
  },
  {
   "cell_type": "code",
   "execution_count": null,
   "metadata": {
    "collapsed": false
   },
   "outputs": [],
   "source": [
    "# convert numpy array type to data frame in order to use the column names for feature selection\n",
    "# (on the process of normalization, the type of the data were converted)\n",
    "\n",
    "X_train = pd.DataFrame(X_train, columns=[comb.columns])\n",
    "X_test = pd.DataFrame(X_test, columns=[comb.columns])\n"
   ]
  },
  {
   "cell_type": "markdown",
   "metadata": {
    "collapsed": true
   },
   "source": [
    "### Feature Importance"
   ]
  },
  {
   "cell_type": "markdown",
   "metadata": {
    "collapsed": true
   },
   "source": [
    "Based on the result of optimization parameters of tree base models, we can plot regarding the feature importance which gives you a sense of which of your features have the most effect in these models. With the results, you can use that information to engineer new features, drop out features that look not informative, or just to inform you as you continue building models."
   ]
  },
  {
   "cell_type": "code",
   "execution_count": null,
   "metadata": {
    "collapsed": false
   },
   "outputs": [],
   "source": [
    "fig, axes = plt.subplots(2,2,sharex='all',figsize=(20,30))\n",
    "features = pd.DataFrame()\n",
    "\n",
    "estimators = [('ExtraTrees',ExtC_best),('GradientBoosting',GBC_best),('AdaBoosting',ada_best),('RandomForest',RFC_best)]#,('XGBoost',XGB_best)]\n",
    "init_dim = 231\n",
    "number = 0\n",
    "color = ['red','orange','green','blue','purple']\n",
    "for name,estimator in estimators:\n",
    "    features[name + '_feature'] = X_train.columns\n",
    "    features[name + '_importance'] = estimator.feature_importances_\n",
    "    features.sort_values(by=[name + '_importance'], ascending=True, inplace=True)\n",
    "    features.set_index(name + '_feature',inplace=True)\n",
    "    \n",
    "    g = features[name + '_importance'][-40:].plot(kind='barh',figsize=(25,25),ax=plt.subplot(init_dim),color=color[number])\n",
    "    g.tick_params(labelsize=10)\n",
    "    g.set_ylabel(name + ' Features',fontsize=18)\n",
    "    g.set_xlabel('Importace',fontsize=15)\n",
    "    g.spines['right'].set_visible(False)\n",
    "    g.spines['top'].set_visible(False)\n",
    "    init_dim += 1\n",
    "    number += 1"
   ]
  },
  {
   "cell_type": "code",
   "execution_count": null,
   "metadata": {
    "collapsed": false
   },
   "outputs": [],
   "source": [
    "features.index.names = ['feature']\n",
    "ET_40 = list(features.ExtraTrees_importance.sort_values(ascending=False)[:22].index)\n",
    "GB_40 = list(features.GradientBoosting_importance.sort_values(ascending=False)[:10].index)\n",
    "AB_40 = list(features.AdaBoosting_importance.sort_values(ascending=False)[:10].index)\n",
    "RF_40 = list(features.RandomForest_importance.sort_values(ascending=False)[:22].index)\n",
    "XB_40 = list(features.XGBoost_importance.sort_values(ascending=False)[:10].index)\n",
    "\n",
    "top_40 = list(set(ET_40 + RF_40))# GB_40 + AB_40 + XB_40))\n",
    "len(top_40)"
   ]
  },
  {
   "cell_type": "code",
   "execution_count": null,
   "metadata": {
    "collapsed": true
   },
   "outputs": [],
   "source": []
  },
  {
   "cell_type": "code",
   "execution_count": null,
   "metadata": {
    "collapsed": false
   },
   "outputs": [],
   "source": [
    "reduced_train = X_train[top_40]\n",
    "reduced_test = X_test[top_40]"
   ]
  },
  {
   "cell_type": "code",
   "execution_count": null,
   "metadata": {
    "collapsed": true
   },
   "outputs": [],
   "source": []
  },
  {
   "cell_type": "code",
   "execution_count": null,
   "metadata": {
    "collapsed": false
   },
   "outputs": [],
   "source": [
    "RFC = RandomForestClassifier(random_state = 2018)\n",
    "\n",
    "rf_param_grid = {\"max_depth\": [9],\n",
    "              \"max_features\": [35],\n",
    "              \"min_samples_leaf\": [3],\n",
    "              \"n_estimators\" :[10000]\n",
    "                }\n",
    "\n",
    "gsRFC = GridSearchCV(RFC,param_grid = rf_param_grid, cv=kfold, scoring=\"accuracy\", n_jobs= -1, verbose = 1)\n",
    "gsRFC.fit(reduced_train,y)\n",
    "RFC_best = gsRFC.best_estimator_\n",
    "print(gsRFC.best_params_)\n",
    "\n",
    "## cv = 20, random_state = 2018\n",
    "#  \n",
    "#\n",
    "# *\n",
    "\n",
    "\n",
    "## cv = 10, random_state = 1\n",
    "## *** {'max_depth': 9, 'max_features': 35, 'min_samples_leaf': 3, 'n_estimators': 1000} (ET + RF only)"
   ]
  },
  {
   "cell_type": "code",
   "execution_count": null,
   "metadata": {
    "collapsed": false
   },
   "outputs": [],
   "source": [
    "gsRFC.best_score_"
   ]
  },
  {
   "cell_type": "code",
   "execution_count": null,
   "metadata": {
    "collapsed": true
   },
   "outputs": [],
   "source": [
    "y_submission = gsRFC.predict(reduced_test)"
   ]
  },
  {
   "cell_type": "code",
   "execution_count": null,
   "metadata": {
    "collapsed": true
   },
   "outputs": [],
   "source": []
  },
  {
   "cell_type": "code",
   "execution_count": null,
   "metadata": {
    "collapsed": false,
    "scrolled": true
   },
   "outputs": [],
   "source": [
    "XGB = XGBClassifier(random_state = 2018)\n",
    "\n",
    "xg_param_grid = {\n",
    "              'min_child_weight':[0.5,0.7,1,1.2],\n",
    "              'n_estimators' : [100,300,500,1000,10000],\n",
    "              'learning_rate': [0.2,0.1, 0.05, 0.01,0.001],\n",
    "              'max_depth': [3,5,7,9,11],\n",
    "              'subsample':[0.3,0.4,0.5,0.7,0.9],\n",
    "              'colsample_bytree':[0.5,0.6,0.7,0.8,0.9]\n",
    "              }\n",
    "                \n",
    "gsXGB = GridSearchCV(XGB,param_grid = xg_param_grid, cv=kfold, scoring=\"accuracy\", n_jobs= -1, verbose = 1)\n",
    "gsXGB.fit(reduced_train,y)\n",
    "XGB_best = gsXGB.best_estimator_\n",
    "print(gsXGB.best_params_)\n",
    "\n"
   ]
  },
  {
   "cell_type": "code",
   "execution_count": null,
   "metadata": {
    "collapsed": false
   },
   "outputs": [],
   "source": [
    "gsXGB.best_score_"
   ]
  },
  {
   "cell_type": "code",
   "execution_count": null,
   "metadata": {
    "collapsed": true
   },
   "outputs": [],
   "source": [
    "#y_submission = gsXGB.predict(reduced_test)"
   ]
  },
  {
   "cell_type": "code",
   "execution_count": null,
   "metadata": {
    "collapsed": true
   },
   "outputs": [],
   "source": []
  },
  {
   "cell_type": "code",
   "execution_count": null,
   "metadata": {
    "collapsed": false,
    "scrolled": false
   },
   "outputs": [],
   "source": [
    "ExtC = ExtraTreesClassifier(random_state = 2018)\n",
    "\n",
    "ex_param_grid = {\"max_depth\": [5,6,7],\n",
    "              \"max_features\": [2,3,4,5,6,7,8,9,10,'log2'],\n",
    "              \"min_samples_leaf\": [1,2,3],\n",
    "              \"n_estimators\" :[300,330,350,400,430,450,470,500],\n",
    "                 \"bootstrap\":[True,False]\n",
    "                }\n",
    "                \n",
    "gsExtC = GridSearchCV(ExtC,param_grid = ex_param_grid, cv=kfold, scoring=\"accuracy\", n_jobs= -1, verbose = 1)\n",
    "gsExtC.fit(reduced_train,y)\n",
    "ExtC_best = gsExtC.best_estimator_\n",
    "print(gsExtC.best_params_)\n",
    "\n",
    "## cv = 20, random_state = 2018\n",
    "#  \n",
    "#\n",
    "# *\n",
    "\n",
    "## cv = 10, random_state = 1\n",
    "# {'bootstrap': False, 'max_depth': 7, 'max_features': 'log2', 'min_samples_leaf': 3, 'n_estimators': 500} (ET + RF only) 78.947\n",
    "## {'bootstrap': False, 'max_depth': 6, 'max_features': 6, 'min_samples_leaf': 2, 'n_estimators': 400} 78.947\n",
    "### {'bootstrap': True, 'max_depth': 6, 'max_features': 7, 'min_samples_leaf': 1, 'n_estimators': 330} 79.425"
   ]
  },
  {
   "cell_type": "code",
   "execution_count": null,
   "metadata": {
    "collapsed": false
   },
   "outputs": [],
   "source": [
    "gsExtC.best_score_"
   ]
  },
  {
   "cell_type": "code",
   "execution_count": null,
   "metadata": {
    "collapsed": true
   },
   "outputs": [],
   "source": [
    "y_submission = gsExtC.predict(reduced_test)"
   ]
  },
  {
   "cell_type": "code",
   "execution_count": null,
   "metadata": {
    "collapsed": true
   },
   "outputs": [],
   "source": []
  },
  {
   "cell_type": "code",
   "execution_count": null,
   "metadata": {
    "collapsed": false
   },
   "outputs": [],
   "source": [
    "gammas = [0.01]\n",
    "Cs = [3]\n",
    "weight = ['balanced']\n",
    "kernels = ['rbf']\n",
    "\n",
    "param_grid = dict(C=Cs,gamma=gammas,class_weight = weight, kernel = kernels)\n",
    "gsSVMC = GridSearchCV(SVC(probability=True, random_state = 2018),param_grid=param_grid,cv=kfold,scoring=\"accuracy\",n_jobs=-1,verbose=1)\n",
    "gsSVMC.fit(reduced_train,y)\n",
    "gsSVMC_best = gsSVMC.best_estimator_\n",
    "print(gsSVMC.best_params_)\n",
    "\n",
    "\n",
    "## cv = 20, random_state = 2018\n",
    "#  \n",
    "#\n",
    "# *\n",
    "\n",
    "## cv = 10, random_state = 1\n",
    "#{'C': 3, 'class_weight': 'balanced', 'gamma': 0.01, 'kernel': 'rbf'}"
   ]
  },
  {
   "cell_type": "code",
   "execution_count": null,
   "metadata": {
    "collapsed": false
   },
   "outputs": [],
   "source": [
    "gsSVMC.best_score_"
   ]
  },
  {
   "cell_type": "code",
   "execution_count": null,
   "metadata": {
    "collapsed": true
   },
   "outputs": [],
   "source": [
    "y_submission = gsSVMC.predict(reduced_test)"
   ]
  },
  {
   "cell_type": "code",
   "execution_count": null,
   "metadata": {
    "collapsed": true
   },
   "outputs": [],
   "source": []
  },
  {
   "cell_type": "code",
   "execution_count": null,
   "metadata": {
    "collapsed": false
   },
   "outputs": [],
   "source": [
    "DTC = DecisionTreeClassifier(random_state = 2018)\n",
    "\n",
    "adaDTC = AdaBoostClassifier(DTC, random_state = 2018)\n",
    "\n",
    "ada_param_grid = {\"base_estimator__criterion\" : [\"gini\", \"entropy\"],\n",
    "              \"base_estimator__splitter\" :   [\"best\", \"random\"],\n",
    "              \"algorithm\" : [\"SAMME\",\"SAMME.R\"],\n",
    "              \"n_estimators\" :[1000,2000,3000],\n",
    "              \"learning_rate\":  [0.0001, 0.001, 0.01, 0.1, 0.2, 0.3,1.5]}\n",
    "\n",
    "gsadaDTC = GridSearchCV(adaDTC,param_grid = ada_param_grid, cv=kfold, scoring=\"accuracy\", n_jobs= -1,verbose = 1)\n",
    "gsadaDTC.fit(reduced_train,y)\n",
    "ada_best = gsadaDTC.best_estimator_\n",
    "print(gsadaDTC.best_params_)\n",
    "\n",
    "## cv = 20, random_state = 2018\n",
    "#  \n",
    "#\n",
    "# *\n",
    "\n",
    "\n",
    "## cv = 10, random_state = 1\n",
    "#{'algorithm': 'SAMME', 'base_estimator__criterion': 'gini', 'base_estimator__splitter': 'random', 'learning_rate': 0.3, 'n_estimators': 1000}\n",
    "#{'algorithm': 'SAMME.R', 'base_estimator__criterion': 'gini', 'base_estimator__splitter': 'best', 'learning_rate': 0.0001, 'n_estimators': 2000}\n",
    "#{'algorithm': 'SAMME', 'base_estimator__criterion': 'entropy', 'base_estimator__splitter': 'best', 'learning_rate': 1.5, 'n_estimators': 1000}\n",
    "#{'algorithm': 'SAMME.R', 'base_estimator__criterion': 'entropy', 'base_estimator__splitter': 'best', 'learning_rate': 0.1, 'n_estimators': 1000}\n",
    "#{'algorithm': 'SAMME.R', 'base_estimator__criterion': 'gini', 'base_estimator__splitter': 'best', 'learning_rate': 0.01, 'n_estimators': 1000}\n",
    "#{'algorithm': 'SAMME.R', 'base_estimator__criterion': 'entropy', 'base_estimator__splitter': 'best', 'learning_rate': 0.01, 'n_estimators': 2000}"
   ]
  },
  {
   "cell_type": "code",
   "execution_count": null,
   "metadata": {
    "collapsed": false
   },
   "outputs": [],
   "source": [
    "gsadaDTC.best_score_"
   ]
  },
  {
   "cell_type": "code",
   "execution_count": null,
   "metadata": {
    "collapsed": true
   },
   "outputs": [],
   "source": [
    "#y_submission = gsadaDTC.predict(X_test)"
   ]
  },
  {
   "cell_type": "code",
   "execution_count": null,
   "metadata": {
    "collapsed": true
   },
   "outputs": [],
   "source": []
  },
  {
   "cell_type": "code",
   "execution_count": null,
   "metadata": {
    "collapsed": false
   },
   "outputs": [],
   "source": [
    "GBC = GradientBoostingClassifier(random_state = 2018)\n",
    "gb_param_grid = {\n",
    "              'n_estimators' : [500,1000,2000],\n",
    "              'learning_rate': [0.2,0.1, 0.05, 0.01,0.001],\n",
    "              'max_depth': [3,5,7,9,11],\n",
    "              'min_samples_leaf': [1,2,3,4,5],\n",
    "              'subsample':[0.3,0.4,0.5,0.7,0.9]\n",
    "              }\n",
    "\n",
    "gsGBC = GridSearchCV(GBC,param_grid = gb_param_grid, cv=kfold, scoring=\"accuracy\", n_jobs= -1, verbose = 1)\n",
    "gsGBC.fit(reduced_train,y)\n",
    "GBC_best = gsGBC.best_estimator_\n",
    "print(gsGBC.best_params_)\n",
    "\n",
    "\n",
    "## cv = 20, random_state = 2018\n",
    "#  \n",
    "#\n",
    "# *\n",
    "\n",
    "## cv = 10, random_state = 1\n",
    "#{'learning_rate': 0.05, 'max_depth': 3, 'min_samples_leaf': 1, 'n_estimators': 500, 'subsample': 0.9}\n",
    "#{'learning_rate': 0.05, 'max_depth': 3, 'min_samples_leaf': 5, 'n_estimators': 500, 'subsample': 0.5}\n",
    "#{'learning_rate': 0.1, 'loss': 'deviance', 'max_depth': 110, 'max_features': 17, 'min_samples_leaf': 100, 'n_estimators': 1000}\n",
    "#{'learning_rate': 0.01, 'max_depth': 5, 'min_samples_leaf': 1, 'n_estimators': 1000, 'subsample': 0.7}"
   ]
  },
  {
   "cell_type": "code",
   "execution_count": null,
   "metadata": {
    "collapsed": false
   },
   "outputs": [],
   "source": [
    "gsGBC.best_score_"
   ]
  },
  {
   "cell_type": "code",
   "execution_count": null,
   "metadata": {
    "collapsed": true
   },
   "outputs": [],
   "source": [
    "#y_submission = gsGBC.predict(X_test)"
   ]
  },
  {
   "cell_type": "code",
   "execution_count": null,
   "metadata": {
    "collapsed": true
   },
   "outputs": [],
   "source": []
  },
  {
   "cell_type": "code",
   "execution_count": null,
   "metadata": {
    "collapsed": false
   },
   "outputs": [],
   "source": [
    "def lcplot(model,X,y,title,train_sizes=np.linspace(0.1,1.0,5)):\n",
    "    \n",
    "    train_sizes, train_scores, test_scores = learning_curve(model,X,y,cv=kfold,n_jobs=-1,train_sizes=train_sizes)\n",
    "    \n",
    "    train_scores_mean = np.mean(train_scores,axis=1)\n",
    "    train_scores_std = np.std(train_scores,axis=1)\n",
    "    \n",
    "    test_scores_mean = np.mean(test_scores,axis=1)\n",
    "    test_scores_std = np.std(test_scores,axis=1)\n",
    "    \n",
    "    plt.figure()\n",
    "    plt.title(title)\n",
    "    plt.xlabel(\"Training size\")\n",
    "    plt.ylabel(\"Score\")\n",
    "    plt.grid()\n",
    "    \n",
    "    plt.fill_between(train_sizes, train_scores_mean - train_scores_std,\n",
    "                    train_scores_mean + train_scores_std, alpha = 0.1, color='b')\n",
    "    plt.fill_between(train_sizes, test_scores_mean - test_scores_std,\n",
    "                    test_scores_mean + test_scores_std, alpha = 0.1, color='g')\n",
    "    plt.plot(train_sizes,train_scores_mean, 'o-', color='b', label='Training Score')\n",
    "    plt.plot(train_sizes,test_scores_mean, 'o-', color='g', label='CV score')\n",
    "    plt.legend(loc='best')\n",
    "    return plt\n",
    "\n",
    "g = lcplot(gsadaDTC.best_estimator_,reduced_train,y,\"AdaBoost\")\n",
    "g = lcplot(gsGBC.best_estimator_,reduced_train,y,\"GradientBoost\")\n",
    "g = lcplot(gsRFC.best_estimator_,reduced_train,y,\"RandomForest\")\n",
    "g = lcplot(gsExtC.best_estimator_,reduced_train,y,\"ExtraTrees\")\n",
    "g = lcplot(gsSVMC.best_estimator_,reduced_train,y,\"SVM\")\n",
    "g = lcplot(gsXGB.best_estimator_,reduced_train,y,\"XGBoost\")\n",
    "\n"
   ]
  },
  {
   "cell_type": "code",
   "execution_count": null,
   "metadata": {
    "collapsed": true
   },
   "outputs": [],
   "source": []
  },
  {
   "cell_type": "markdown",
   "metadata": {},
   "source": [
    "##### Maximum Voting Ensemble"
   ]
  },
  {
   "cell_type": "code",
   "execution_count": 177,
   "metadata": {
    "collapsed": false
   },
   "outputs": [
    {
     "ename": "NameError",
     "evalue": "name 'reduced_train' is not defined",
     "output_type": "error",
     "traceback": [
      "\u001b[0;31m---------------------------------------------------------------------------\u001b[0m",
      "\u001b[0;31mNameError\u001b[0m                                 Traceback (most recent call last)",
      "\u001b[0;32m<ipython-input-177-6bb681d6e5fe>\u001b[0m in \u001b[0;36m<module>\u001b[0;34m()\u001b[0m\n\u001b[1;32m      1\u001b[0m votingC = VotingClassifier(estimators = [('rfc',RFC_best), ('extc',ExtC_best)\n\u001b[1;32m      2\u001b[0m                                         ], voting='soft',n_jobs=-1)\n\u001b[0;32m----> 3\u001b[0;31m \u001b[0mvotingC\u001b[0m \u001b[0;34m=\u001b[0m \u001b[0mvotingC\u001b[0m\u001b[0;34m.\u001b[0m\u001b[0mfit\u001b[0m\u001b[0;34m(\u001b[0m\u001b[0mreduced_train\u001b[0m\u001b[0;34m,\u001b[0m\u001b[0my\u001b[0m\u001b[0;34m)\u001b[0m\u001b[0;34m\u001b[0m\u001b[0m\n\u001b[0m\u001b[1;32m      4\u001b[0m \u001b[0;34m\u001b[0m\u001b[0m\n\u001b[1;32m      5\u001b[0m \u001b[0my_submission\u001b[0m \u001b[0;34m=\u001b[0m \u001b[0mvotingC\u001b[0m\u001b[0;34m.\u001b[0m\u001b[0mpredict\u001b[0m\u001b[0;34m(\u001b[0m\u001b[0mreduced_test\u001b[0m\u001b[0;34m)\u001b[0m\u001b[0;34m\u001b[0m\u001b[0m\n",
      "\u001b[0;31mNameError\u001b[0m: name 'reduced_train' is not defined"
     ]
    }
   ],
   "source": [
    "votingC = VotingClassifier(estimators = [('rfc',RFC_best), ('extc',ExtC_best)\n",
    "                                        ], voting='soft',n_jobs=-1)\n",
    "votingC = votingC.fit(reduced_train,y)\n",
    "\n",
    "y_submission = votingC.predict(reduced_test)\n",
    "\n",
    "#('lr',LR_best), ('svc',gsSVMC),('adac',ada_best),('gbc',GBC_best), ('xgb',XGB_best), ('rfc',RFC_best), ('extc',ExtC_best)"
   ]
  },
  {
   "cell_type": "code",
   "execution_count": null,
   "metadata": {
    "collapsed": false,
    "scrolled": true
   },
   "outputs": [],
   "source": [
    "votingC.scores = cross_val_score(votingC, reduced_train, y, cv=kfold)\n",
    "print(votingC.scores.mean())"
   ]
  },
  {
   "cell_type": "code",
   "execution_count": null,
   "metadata": {
    "collapsed": true
   },
   "outputs": [],
   "source": []
  },
  {
   "cell_type": "markdown",
   "metadata": {},
   "source": [
    "##### Stacking"
   ]
  },
  {
   "cell_type": "code",
   "execution_count": null,
   "metadata": {
    "collapsed": false,
    "scrolled": true
   },
   "outputs": [],
   "source": [
    "# RandomForest + ExtraTrees + Meta(XGB)\n",
    "\n",
    "XGB = XGBClassifier(random_state = 2018)\n",
    "\n",
    "ExtC = ExtraTreesClassifier(random_state = 2018)\n",
    "RFC = RandomForestClassifier(random_state = 2018)\n",
    "\n",
    "stack = StackingClassifier(classifiers = [ExtC, RFC], meta_classifier = XGB, random_state = 2018)\n",
    "\n",
    "params = {\n",
    "              'meta-xgbclassifier__min_child_weight':[0.5,0.7,1,1.2],\n",
    "              'meta-xgbclassifier__n_estimators' : [100,300,500,1000,5000,7000,10000],\n",
    "              'meta-xgbclassifier__learning_rate': [0.2,0.1, 0.05, 0.01,0.001],\n",
    "              'meta-xgbclassifier__max_depth': [3,5,7,9,11],\n",
    "              'meta-xgbclassifier__subsample':[0.3,0.4,0.5,0.7,0.9,1],\n",
    "              'meta-xgbclassifier__colsample_bytree':[0.5,0.6,0.7,0.8,0.9,1],\n",
    "              \n",
    "              'randomforestclassifier__max_depth':[None,3,5,7,9,11],\n",
    "              'randomforestclassifier__max_features':['auto','sqrt','log2',17,20,25,30,35],\n",
    "              'randomforestclassifier__min_samples_leaf':[1,2,3,4,5,7],\n",
    "              'randomforestclassifier__n_estimators':[500,1000,2000],\n",
    "    \n",
    "              'extratreesclassifier__max_depth':[None,3,5,7,9,11],\n",
    "              'extratreesclassifier__max_features':['auto','sqrt','log2',17,20,25,30,35],\n",
    "              'extratreesclassifier__min_samples_leaf':[1,2,3,4,5,7],\n",
    "              'extratreesclassifier__n_estimators':[500,1000,2000],\n",
    "              'extratreesclassifier__bootstrap':[True,False]\n",
    "        }\n",
    "\n",
    "grid = GridSearchCV(estimator = stack, param_grid=params,cv=kfold,refit=True)\n",
    "grid.fit(reduced_train, y)\n",
    "grid_best = grid.best_estimator_\n",
    "print(grid_best)"
   ]
  },
  {
   "cell_type": "code",
   "execution_count": null,
   "metadata": {
    "collapsed": true
   },
   "outputs": [],
   "source": [
    "#y_submission = stackC.predict(reduced_test)"
   ]
  },
  {
   "cell_type": "code",
   "execution_count": null,
   "metadata": {
    "collapsed": false
   },
   "outputs": [],
   "source": []
  },
  {
   "cell_type": "code",
   "execution_count": null,
   "metadata": {
    "collapsed": true
   },
   "outputs": [],
   "source": [
    "# RandomForest + ExtraTrees + SVM + Meta(XGB)\n",
    "\n",
    "XGB = XGBClassifier(random_state = 2018)\n",
    "\n",
    "ExtC = ExtraTreesClassifier(random_state = 2018)\n",
    "RFC = RandomForestClassifier(random_state = 2018)\n",
    "SVMC = SVC(kernel='rbf',probability=True, random_state = 2018)\n",
    "\n",
    "stack = StackingClassifier(classifiers = [ExtC, RFC, SVMC], meta_classifier = XGB, random_state = 2018)\n",
    "\n",
    "params = {\n",
    "              'meta-xgbclassifier__min_child_weight':[0.5,0.7,1,1.2],\n",
    "              'meta-xgbclassifier__n_estimators' : [100,300,500,1000,5000,7000,10000],\n",
    "              'meta-xgbclassifier__learning_rate': [0.2,0.1, 0.05, 0.01,0.001],\n",
    "              'meta-xgbclassifier__max_depth': [3,5,7,9,11],\n",
    "              'meta-xgbclassifier__subsample':[0.3,0.4,0.5,0.7,0.9,1],\n",
    "              'meta-xgbclassifier__colsample_bytree':[0.5,0.6,0.7,0.8,0.9,1],\n",
    "              \n",
    "              'randomforestclassifier__max_depth':[None,3,5,7,9,11],\n",
    "              'randomforestclassifier__max_features':['auto','sqrt','log2',17,20,25,30,35],\n",
    "              'randomforestclassifier__min_samples_leaf':[1,2,3,4,5,7],\n",
    "              'randomforestclassifier__n_estimators':[500,1000,2000],\n",
    "    \n",
    "              'extratreesclassifier__max_depth':[None,3,5,7,9,11],\n",
    "              'extratreesclassifier__max_features':['auto','sqrt','log2',17,20,25,30,35],\n",
    "              'extratreesclassifier__min_samples_leaf':[1,2,3,4,5,7],\n",
    "              'extratreesclassifier__n_estimators':[500,1000,2000],\n",
    "              'extratreesclassifier__bootstrap':[True,False],\n",
    "    \n",
    "              'svc__gamma': [0.01,0.03,0.05,0.1],\n",
    "              'svc__weight': ['balanced',{1:2},{1:3},{1:4},{1:5},{1:10}],\n",
    "              'svc__C':[0.001,0.10,0.30,0.50,1,3,5,10,25,35]\n",
    "        }\n",
    "\n",
    "grid = GridSearchCV(estimator = stack, param_grid=params,cv=kfold,refit=True)\n",
    "grid.fit(reduced_train, y)\n",
    "grid_best = grid.best_estimator_\n",
    "print(grid_best)"
   ]
  },
  {
   "cell_type": "code",
   "execution_count": null,
   "metadata": {
    "collapsed": true
   },
   "outputs": [],
   "source": [
    "#y_submission = stackC.predict(reduced_test)"
   ]
  },
  {
   "cell_type": "code",
   "execution_count": null,
   "metadata": {
    "collapsed": true
   },
   "outputs": [],
   "source": []
  },
  {
   "cell_type": "code",
   "execution_count": null,
   "metadata": {
    "collapsed": true
   },
   "outputs": [],
   "source": [
    "# RandomForest + ExtraTrees + Meta(SVM)\n",
    "\n",
    "XGB = XGBClassifier(random_state = 2018)\n",
    "\n",
    "ExtC = ExtraTreesClassifier(random_state = 2018)\n",
    "RFC = RandomForestClassifier(random_state = 2018)\n",
    "SVMC = SVC(kernel='rbf',probability = True, random_state = 2018)\n",
    "\n",
    "stack = StackingClassifier(classifiers = [ExtC, RFC], meta_classifier = SVMC, random_state = 2018)\n",
    "\n",
    "params = {    \n",
    "              'randomforestclassifier__max_depth':[None,3,5,7,9,11],\n",
    "              'randomforestclassifier__max_features':['auto','sqrt','log2',17,20,25,30,35],\n",
    "              'randomforestclassifier__min_samples_leaf':[1,2,3,4,5,7],\n",
    "              'randomforestclassifier__n_estimators':[500,1000,2000],\n",
    "    \n",
    "              'extratreesclassifier__max_depth':[None,3,5,7,9,11],\n",
    "              'extratreesclassifier__max_features':['auto','sqrt','log2',17,20,25,30,35],\n",
    "              'extratreesclassifier__min_samples_leaf':[1,2,3,4,5,7],\n",
    "              'extratreesclassifier__n_estimators':[500,1000,2000],\n",
    "              'extratreesclassifier__bootstrap':[True,False],\n",
    "    \n",
    "              'meta-svc__gamma': [0.01,0.03,0.05,0.1],\n",
    "              'meta-svc__weight': ['balanced',{1:2},{1:3},{1:4},{1:5},{1:10}],\n",
    "              'meta-svc__C':[0.001,0.10,0.30,0.50,1,3,5,10,25,35]\n",
    "        }\n",
    "\n",
    "grid = GridSearchCV(estimator = stack, param_grid = params,cv = kfold,refit = True)\n",
    "grid.fit(reduced_train, y)\n",
    "grid_best = grid.best_estimator_\n",
    "print(grid_best)"
   ]
  },
  {
   "cell_type": "code",
   "execution_count": null,
   "metadata": {
    "collapsed": true
   },
   "outputs": [],
   "source": [
    "#y_submission = stackC.predict(reduced_test)"
   ]
  },
  {
   "cell_type": "code",
   "execution_count": null,
   "metadata": {
    "collapsed": true
   },
   "outputs": [],
   "source": []
  },
  {
   "cell_type": "markdown",
   "metadata": {},
   "source": [
    "## Submission\n",
    "<a id='submission'></a>"
   ]
  },
  {
   "cell_type": "code",
   "execution_count": 213,
   "metadata": {
    "collapsed": false
   },
   "outputs": [],
   "source": [
    "my_submission = pd.DataFrame({'PassengerId':y_id,'Survived':y_submission})\n",
    "my_submission.to_csv('submission11.csv',index=False)  "
   ]
  },
  {
   "cell_type": "markdown",
   "metadata": {
    "collapsed": true
   },
   "source": [
    "Thank you for your time and I hope this notebook helpful ! "
   ]
  },
  {
   "cell_type": "code",
   "execution_count": null,
   "metadata": {
    "collapsed": true
   },
   "outputs": [],
   "source": []
  }
 ],
 "metadata": {
  "kernelspec": {
   "display_name": "Python 3",
   "language": "python",
   "name": "python3"
  },
  "language_info": {
   "codemirror_mode": {
    "name": "ipython",
    "version": 3
   },
   "file_extension": ".py",
   "mimetype": "text/x-python",
   "name": "python",
   "nbconvert_exporter": "python",
   "pygments_lexer": "ipython3",
   "version": "3.6.0"
  }
 },
 "nbformat": 4,
 "nbformat_minor": 1
}
