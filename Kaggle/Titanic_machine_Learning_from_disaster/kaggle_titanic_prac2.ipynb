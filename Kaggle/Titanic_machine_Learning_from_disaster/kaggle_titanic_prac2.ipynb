{
 "cells": [
  {
   "cell_type": "code",
   "execution_count": 1,
   "metadata": {
    "collapsed": true
   },
   "outputs": [],
   "source": [
    "# target accuracy: 81%"
   ]
  },
  {
   "cell_type": "markdown",
   "metadata": {},
   "source": [
    "# Kaggle: Titanic: Machine Learning from Disaster"
   ]
  },
  {
   "cell_type": "code",
   "execution_count": 2,
   "metadata": {
    "collapsed": false
   },
   "outputs": [],
   "source": [
    "# importing libraries\n",
    "import pandas as pd\n",
    "import numpy as np\n",
    "import matplotlib.pyplot as plt\n",
    "import seaborn as sns\n",
    "%matplotlib inline\n",
    "\n",
    "from collections import Counter\n",
    "from sklearn.model_selection import train_test_split,GridSearchCV,cross_val_score,StratifiedKFold,learning_curve\n",
    "from sklearn.preprocessing import StandardScaler,LabelEncoder,OneHotEncoder,Imputer\n",
    "from sklearn.svm import SVC\n",
    "from sklearn.neighbors import KNeighborsClassifier\n",
    "from sklearn.ensemble import RandomForestClassifier, GradientBoostingClassifier,VotingClassifier,ExtraTreesClassifier,AdaBoostClassifier\n",
    "from sklearn.metrics import accuracy_score\n",
    "from sklearn.tree import DecisionTreeClassifier"
   ]
  },
  {
   "cell_type": "code",
   "execution_count": 3,
   "metadata": {
    "collapsed": true
   },
   "outputs": [],
   "source": [
    "# read datasets\n",
    "df = pd.read_csv(\"train.csv\")\n",
    "ddf = pd.read_csv(\"test.csv\")"
   ]
  },
  {
   "cell_type": "code",
   "execution_count": 4,
   "metadata": {
    "collapsed": false,
    "scrolled": true
   },
   "outputs": [
    {
     "data": {
      "text/html": [
       "<div>\n",
       "<style>\n",
       "    .dataframe thead tr:only-child th {\n",
       "        text-align: right;\n",
       "    }\n",
       "\n",
       "    .dataframe thead th {\n",
       "        text-align: left;\n",
       "    }\n",
       "\n",
       "    .dataframe tbody tr th {\n",
       "        vertical-align: top;\n",
       "    }\n",
       "</style>\n",
       "<table border=\"1\" class=\"dataframe\">\n",
       "  <thead>\n",
       "    <tr style=\"text-align: right;\">\n",
       "      <th></th>\n",
       "      <th>PassengerId</th>\n",
       "      <th>Survived</th>\n",
       "      <th>Pclass</th>\n",
       "      <th>Name</th>\n",
       "      <th>Sex</th>\n",
       "      <th>Age</th>\n",
       "      <th>SibSp</th>\n",
       "      <th>Parch</th>\n",
       "      <th>Ticket</th>\n",
       "      <th>Fare</th>\n",
       "      <th>Cabin</th>\n",
       "      <th>Embarked</th>\n",
       "    </tr>\n",
       "  </thead>\n",
       "  <tbody>\n",
       "    <tr>\n",
       "      <th>0</th>\n",
       "      <td>1</td>\n",
       "      <td>0</td>\n",
       "      <td>3</td>\n",
       "      <td>Braund, Mr. Owen Harris</td>\n",
       "      <td>male</td>\n",
       "      <td>22.0</td>\n",
       "      <td>1</td>\n",
       "      <td>0</td>\n",
       "      <td>A/5 21171</td>\n",
       "      <td>7.2500</td>\n",
       "      <td>NaN</td>\n",
       "      <td>S</td>\n",
       "    </tr>\n",
       "    <tr>\n",
       "      <th>1</th>\n",
       "      <td>2</td>\n",
       "      <td>1</td>\n",
       "      <td>1</td>\n",
       "      <td>Cumings, Mrs. John Bradley (Florence Briggs Th...</td>\n",
       "      <td>female</td>\n",
       "      <td>38.0</td>\n",
       "      <td>1</td>\n",
       "      <td>0</td>\n",
       "      <td>PC 17599</td>\n",
       "      <td>71.2833</td>\n",
       "      <td>C85</td>\n",
       "      <td>C</td>\n",
       "    </tr>\n",
       "    <tr>\n",
       "      <th>2</th>\n",
       "      <td>3</td>\n",
       "      <td>1</td>\n",
       "      <td>3</td>\n",
       "      <td>Heikkinen, Miss. Laina</td>\n",
       "      <td>female</td>\n",
       "      <td>26.0</td>\n",
       "      <td>0</td>\n",
       "      <td>0</td>\n",
       "      <td>STON/O2. 3101282</td>\n",
       "      <td>7.9250</td>\n",
       "      <td>NaN</td>\n",
       "      <td>S</td>\n",
       "    </tr>\n",
       "    <tr>\n",
       "      <th>3</th>\n",
       "      <td>4</td>\n",
       "      <td>1</td>\n",
       "      <td>1</td>\n",
       "      <td>Futrelle, Mrs. Jacques Heath (Lily May Peel)</td>\n",
       "      <td>female</td>\n",
       "      <td>35.0</td>\n",
       "      <td>1</td>\n",
       "      <td>0</td>\n",
       "      <td>113803</td>\n",
       "      <td>53.1000</td>\n",
       "      <td>C123</td>\n",
       "      <td>S</td>\n",
       "    </tr>\n",
       "    <tr>\n",
       "      <th>4</th>\n",
       "      <td>5</td>\n",
       "      <td>0</td>\n",
       "      <td>3</td>\n",
       "      <td>Allen, Mr. William Henry</td>\n",
       "      <td>male</td>\n",
       "      <td>35.0</td>\n",
       "      <td>0</td>\n",
       "      <td>0</td>\n",
       "      <td>373450</td>\n",
       "      <td>8.0500</td>\n",
       "      <td>NaN</td>\n",
       "      <td>S</td>\n",
       "    </tr>\n",
       "  </tbody>\n",
       "</table>\n",
       "</div>"
      ],
      "text/plain": [
       "   PassengerId  Survived  Pclass  \\\n",
       "0            1         0       3   \n",
       "1            2         1       1   \n",
       "2            3         1       3   \n",
       "3            4         1       1   \n",
       "4            5         0       3   \n",
       "\n",
       "                                                Name     Sex   Age  SibSp  \\\n",
       "0                            Braund, Mr. Owen Harris    male  22.0      1   \n",
       "1  Cumings, Mrs. John Bradley (Florence Briggs Th...  female  38.0      1   \n",
       "2                             Heikkinen, Miss. Laina  female  26.0      0   \n",
       "3       Futrelle, Mrs. Jacques Heath (Lily May Peel)  female  35.0      1   \n",
       "4                           Allen, Mr. William Henry    male  35.0      0   \n",
       "\n",
       "   Parch            Ticket     Fare Cabin Embarked  \n",
       "0      0         A/5 21171   7.2500   NaN        S  \n",
       "1      0          PC 17599  71.2833   C85        C  \n",
       "2      0  STON/O2. 3101282   7.9250   NaN        S  \n",
       "3      0            113803  53.1000  C123        S  \n",
       "4      0            373450   8.0500   NaN        S  "
      ]
     },
     "execution_count": 4,
     "metadata": {},
     "output_type": "execute_result"
    }
   ],
   "source": [
    "# check the data\n",
    "df.head()\n",
    "#ddf.isnull().sum()\n",
    "#ddf.Embarked.unique()\n",
    "#Counter(ddf.Embarked)\n",
    "#ddf.Fare.unique()"
   ]
  },
  {
   "cell_type": "code",
   "execution_count": 5,
   "metadata": {
    "collapsed": false
   },
   "outputs": [],
   "source": [
    "# Save away the id columns for submission.\n",
    "y_id = ddf.PassengerId"
   ]
  },
  {
   "cell_type": "code",
   "execution_count": 6,
   "metadata": {
    "collapsed": false
   },
   "outputs": [],
   "source": [
    "# feature massage\n",
    "\n",
    "# Counter(df['Embarked'])\n",
    "# The majority of the column \"Embarked\" is 'S' so fill na with S\n",
    "df['Embarked'].fillna(value='S',inplace=True)\n",
    "ddf['Fare'].fillna(value= np.mean(ddf.Fare),inplace=True)\n",
    "\n",
    "for ff in [df,ddf]:\n",
    "    ff['family_size'] = ff['Parch'] + ff['SibSp']\n",
    "    ff['fare_pp'] = ff['Fare'] / (ff['family_size'] + 1) #+1 is for the him/her self\n",
    "    # Although the name itself does not appear to give some useful info, titles are worth investigating\n",
    "    # Split the names twice by ',' and '.'\n",
    "    ff['title'] = (ff['Name'].str.split(',').map(lambda x:x[1])).str.split('.').map(lambda x:x[0])\n",
    "    ff['Alone'] = ff['family_size'] == 0\n",
    "\n",
    "    # drop unnecessary columns.\n",
    "    #ff.drop(['PassengerId','Name','Ticket','Cabin','Parch','SibSp','Fare'],axis=1,inplace=True)\n",
    "    ff.drop(['PassengerId','Name','Ticket','Cabin','Fare'],axis=1,inplace=True)"
   ]
  },
  {
   "cell_type": "code",
   "execution_count": 7,
   "metadata": {
    "collapsed": false
   },
   "outputs": [
    {
     "data": {
      "text/plain": [
       "Pclass          0\n",
       "Sex             0\n",
       "Age            86\n",
       "SibSp           0\n",
       "Parch           0\n",
       "Embarked        0\n",
       "family_size     0\n",
       "fare_pp         0\n",
       "title           0\n",
       "Alone           0\n",
       "dtype: int64"
      ]
     },
     "execution_count": 7,
     "metadata": {},
     "output_type": "execute_result"
    }
   ],
   "source": [
    "# As you can see the below, there are many NaN in only Age column\n",
    "df.isnull().sum()\n",
    "ddf.isnull().sum()"
   ]
  },
  {
   "cell_type": "code",
   "execution_count": 8,
   "metadata": {
    "collapsed": false
   },
   "outputs": [
    {
     "data": {
      "image/png": "[encoded data removed]",
      "text/plain": [
       "<matplotlib.figure.Figure at 0x1138c2f28>"
      ]
     },
     "metadata": {},
     "output_type": "display_data"
    }
   ],
   "source": [
    "# Handle a histogram with care if data has any NaN value\n",
    "# Below histogram does not appear to follow a normal distribution.\n",
    "\n",
    "plt.figure(1)\n",
    "plt.subplot(211)\n",
    "plt.hist((df['Age'].dropna())**0.5,normed=True,bins=10)\n",
    "plt.title(\"train.csv_Age\",color='red')\n",
    "\n",
    "plt.subplot(212)\n",
    "plt.hist((ddf.Age.dropna())**0.5,normed=True,bins=20)\n",
    "plt.title(\"test.csv_Age\",color='orange')\n",
    "plt.show()"
   ]
  },
  {
   "cell_type": "code",
   "execution_count": 9,
   "metadata": {
    "collapsed": false
   },
   "outputs": [],
   "source": [
    "# Fill NaN with median which is more robust than mean\n",
    "\n",
    "for ff in [df,ddf]:\n",
    "    imputer = Imputer(missing_values='NaN',strategy='median')\n",
    "    ff['Age'] = imputer.fit_transform(np.array(ff['Age']).reshape(-1,1))\n"
   ]
  },
  {
   "cell_type": "code",
   "execution_count": 10,
   "metadata": {
    "collapsed": false
   },
   "outputs": [
    {
     "data": {
      "text/plain": [
       "(['Sex', 'Embarked', 'title', 'Alone'], ['Sex', 'Embarked', 'title', 'Alone'])"
      ]
     },
     "execution_count": 10,
     "metadata": {},
     "output_type": "execute_result"
    }
   ],
   "source": [
    "df_object = list(df.dtypes[(df.dtypes != 'int64') & (df.dtypes != 'float64')].index)\n",
    "ddf_object = list(ddf.dtypes[(df.dtypes != 'int64') & (ddf.dtypes != 'float64')].index)\n",
    "(df_object,ddf_object)"
   ]
  },
  {
   "cell_type": "code",
   "execution_count": 11,
   "metadata": {
    "collapsed": false
   },
   "outputs": [
    {
     "data": {
      "text/html": [
       "<div>\n",
       "<style>\n",
       "    .dataframe thead tr:only-child th {\n",
       "        text-align: right;\n",
       "    }\n",
       "\n",
       "    .dataframe thead th {\n",
       "        text-align: left;\n",
       "    }\n",
       "\n",
       "    .dataframe tbody tr th {\n",
       "        vertical-align: top;\n",
       "    }\n",
       "</style>\n",
       "<table border=\"1\" class=\"dataframe\">\n",
       "  <thead>\n",
       "    <tr style=\"text-align: right;\">\n",
       "      <th></th>\n",
       "      <th>Pclass</th>\n",
       "      <th>Sex</th>\n",
       "      <th>Age</th>\n",
       "      <th>SibSp</th>\n",
       "      <th>Parch</th>\n",
       "      <th>Embarked</th>\n",
       "      <th>family_size</th>\n",
       "      <th>fare_pp</th>\n",
       "      <th>title</th>\n",
       "      <th>Alone</th>\n",
       "    </tr>\n",
       "  </thead>\n",
       "  <tbody>\n",
       "    <tr>\n",
       "      <th>0</th>\n",
       "      <td>3</td>\n",
       "      <td>male</td>\n",
       "      <td>34.5</td>\n",
       "      <td>0</td>\n",
       "      <td>0</td>\n",
       "      <td>Q</td>\n",
       "      <td>0</td>\n",
       "      <td>7.829200</td>\n",
       "      <td>Mr</td>\n",
       "      <td>True</td>\n",
       "    </tr>\n",
       "    <tr>\n",
       "      <th>1</th>\n",
       "      <td>3</td>\n",
       "      <td>female</td>\n",
       "      <td>47.0</td>\n",
       "      <td>1</td>\n",
       "      <td>0</td>\n",
       "      <td>S</td>\n",
       "      <td>1</td>\n",
       "      <td>3.500000</td>\n",
       "      <td>Mrs</td>\n",
       "      <td>False</td>\n",
       "    </tr>\n",
       "    <tr>\n",
       "      <th>2</th>\n",
       "      <td>2</td>\n",
       "      <td>male</td>\n",
       "      <td>62.0</td>\n",
       "      <td>0</td>\n",
       "      <td>0</td>\n",
       "      <td>Q</td>\n",
       "      <td>0</td>\n",
       "      <td>9.687500</td>\n",
       "      <td>Mr</td>\n",
       "      <td>True</td>\n",
       "    </tr>\n",
       "    <tr>\n",
       "      <th>3</th>\n",
       "      <td>3</td>\n",
       "      <td>male</td>\n",
       "      <td>27.0</td>\n",
       "      <td>0</td>\n",
       "      <td>0</td>\n",
       "      <td>S</td>\n",
       "      <td>0</td>\n",
       "      <td>8.662500</td>\n",
       "      <td>Mr</td>\n",
       "      <td>True</td>\n",
       "    </tr>\n",
       "    <tr>\n",
       "      <th>4</th>\n",
       "      <td>3</td>\n",
       "      <td>female</td>\n",
       "      <td>22.0</td>\n",
       "      <td>1</td>\n",
       "      <td>1</td>\n",
       "      <td>S</td>\n",
       "      <td>2</td>\n",
       "      <td>4.095833</td>\n",
       "      <td>Mrs</td>\n",
       "      <td>False</td>\n",
       "    </tr>\n",
       "  </tbody>\n",
       "</table>\n",
       "</div>"
      ],
      "text/plain": [
       "   Pclass     Sex   Age  SibSp  Parch Embarked  family_size   fare_pp title  \\\n",
       "0       3    male  34.5      0      0        Q            0  7.829200    Mr   \n",
       "1       3  female  47.0      1      0        S            1  3.500000   Mrs   \n",
       "2       2    male  62.0      0      0        Q            0  9.687500    Mr   \n",
       "3       3    male  27.0      0      0        S            0  8.662500    Mr   \n",
       "4       3  female  22.0      1      1        S            2  4.095833   Mrs   \n",
       "\n",
       "   Alone  \n",
       "0   True  \n",
       "1  False  \n",
       "2   True  \n",
       "3   True  \n",
       "4  False  "
      ]
     },
     "execution_count": 11,
     "metadata": {},
     "output_type": "execute_result"
    }
   ],
   "source": [
    "ddf.head()"
   ]
  },
  {
   "cell_type": "code",
   "execution_count": 12,
   "metadata": {
    "collapsed": false
   },
   "outputs": [
    {
     "name": "stdout",
     "output_type": "stream",
     "text": [
      "test.csv types\n"
     ]
    },
    {
     "data": {
      "text/plain": [
       "Pclass           int64\n",
       "Sex             object\n",
       "Age            float64\n",
       "SibSp            int64\n",
       "Parch            int64\n",
       "Embarked        object\n",
       "family_size      int64\n",
       "fare_pp        float64\n",
       "title           object\n",
       "Alone             bool\n",
       "dtype: object"
      ]
     },
     "execution_count": 12,
     "metadata": {},
     "output_type": "execute_result"
    }
   ],
   "source": [
    "print(\"test.csv types\")\n",
    "ddf.dtypes"
   ]
  },
  {
   "cell_type": "markdown",
   "metadata": {},
   "source": [
    "### Title Extraction"
   ]
  },
  {
   "cell_type": "code",
   "execution_count": 13,
   "metadata": {
    "collapsed": false
   },
   "outputs": [
    {
     "data": {
      "text/plain": [
       "array([' Mr', ' Mrs', ' Miss', ' Master', ' Don', ' Rev', ' Dr', ' Mme',\n",
       "       ' Ms', ' Major', ' Lady', ' Sir', ' Mlle', ' Col', ' Capt',\n",
       "       ' the Countess', ' Jonkheer'], dtype=object)"
      ]
     },
     "execution_count": 13,
     "metadata": {},
     "output_type": "execute_result"
    }
   ],
   "source": [
    "df['Embarked'].unique()\n",
    "df['title'].unique()"
   ]
  },
  {
   "cell_type": "code",
   "execution_count": 14,
   "metadata": {
    "collapsed": false
   },
   "outputs": [
    {
     "data": {
      "text/html": [
       "<div>\n",
       "<style>\n",
       "    .dataframe thead tr:only-child th {\n",
       "        text-align: right;\n",
       "    }\n",
       "\n",
       "    .dataframe thead th {\n",
       "        text-align: left;\n",
       "    }\n",
       "\n",
       "    .dataframe tbody tr th {\n",
       "        vertical-align: top;\n",
       "    }\n",
       "</style>\n",
       "<table border=\"1\" class=\"dataframe\">\n",
       "  <thead>\n",
       "    <tr style=\"text-align: right;\">\n",
       "      <th>Sex</th>\n",
       "      <th>female</th>\n",
       "      <th>male</th>\n",
       "      <th>total</th>\n",
       "    </tr>\n",
       "    <tr>\n",
       "      <th>title</th>\n",
       "      <th></th>\n",
       "      <th></th>\n",
       "      <th></th>\n",
       "    </tr>\n",
       "  </thead>\n",
       "  <tbody>\n",
       "    <tr>\n",
       "      <th>Mr</th>\n",
       "      <td>0</td>\n",
       "      <td>517</td>\n",
       "      <td>517</td>\n",
       "    </tr>\n",
       "    <tr>\n",
       "      <th>Miss</th>\n",
       "      <td>182</td>\n",
       "      <td>0</td>\n",
       "      <td>182</td>\n",
       "    </tr>\n",
       "    <tr>\n",
       "      <th>Mrs</th>\n",
       "      <td>125</td>\n",
       "      <td>0</td>\n",
       "      <td>125</td>\n",
       "    </tr>\n",
       "    <tr>\n",
       "      <th>Master</th>\n",
       "      <td>0</td>\n",
       "      <td>40</td>\n",
       "      <td>40</td>\n",
       "    </tr>\n",
       "    <tr>\n",
       "      <th>Dr</th>\n",
       "      <td>1</td>\n",
       "      <td>6</td>\n",
       "      <td>7</td>\n",
       "    </tr>\n",
       "    <tr>\n",
       "      <th>Rev</th>\n",
       "      <td>0</td>\n",
       "      <td>6</td>\n",
       "      <td>6</td>\n",
       "    </tr>\n",
       "    <tr>\n",
       "      <th>Major</th>\n",
       "      <td>0</td>\n",
       "      <td>2</td>\n",
       "      <td>2</td>\n",
       "    </tr>\n",
       "    <tr>\n",
       "      <th>Col</th>\n",
       "      <td>0</td>\n",
       "      <td>2</td>\n",
       "      <td>2</td>\n",
       "    </tr>\n",
       "    <tr>\n",
       "      <th>Mlle</th>\n",
       "      <td>2</td>\n",
       "      <td>0</td>\n",
       "      <td>2</td>\n",
       "    </tr>\n",
       "    <tr>\n",
       "      <th>Sir</th>\n",
       "      <td>0</td>\n",
       "      <td>1</td>\n",
       "      <td>1</td>\n",
       "    </tr>\n",
       "    <tr>\n",
       "      <th>Ms</th>\n",
       "      <td>1</td>\n",
       "      <td>0</td>\n",
       "      <td>1</td>\n",
       "    </tr>\n",
       "    <tr>\n",
       "      <th>Capt</th>\n",
       "      <td>0</td>\n",
       "      <td>1</td>\n",
       "      <td>1</td>\n",
       "    </tr>\n",
       "    <tr>\n",
       "      <th>Mme</th>\n",
       "      <td>1</td>\n",
       "      <td>0</td>\n",
       "      <td>1</td>\n",
       "    </tr>\n",
       "    <tr>\n",
       "      <th>Lady</th>\n",
       "      <td>1</td>\n",
       "      <td>0</td>\n",
       "      <td>1</td>\n",
       "    </tr>\n",
       "    <tr>\n",
       "      <th>Jonkheer</th>\n",
       "      <td>0</td>\n",
       "      <td>1</td>\n",
       "      <td>1</td>\n",
       "    </tr>\n",
       "    <tr>\n",
       "      <th>Don</th>\n",
       "      <td>0</td>\n",
       "      <td>1</td>\n",
       "      <td>1</td>\n",
       "    </tr>\n",
       "    <tr>\n",
       "      <th>the Countess</th>\n",
       "      <td>1</td>\n",
       "      <td>0</td>\n",
       "      <td>1</td>\n",
       "    </tr>\n",
       "  </tbody>\n",
       "</table>\n",
       "</div>"
      ],
      "text/plain": [
       "Sex            female  male  total\n",
       "title                             \n",
       " Mr                 0   517    517\n",
       " Miss             182     0    182\n",
       " Mrs              125     0    125\n",
       " Master             0    40     40\n",
       " Dr                 1     6      7\n",
       " Rev                0     6      6\n",
       " Major              0     2      2\n",
       " Col                0     2      2\n",
       " Mlle               2     0      2\n",
       " Sir                0     1      1\n",
       " Ms                 1     0      1\n",
       " Capt               0     1      1\n",
       " Mme                1     0      1\n",
       " Lady               1     0      1\n",
       " Jonkheer           0     1      1\n",
       " Don                0     1      1\n",
       " the Countess       1     0      1"
      ]
     },
     "execution_count": 14,
     "metadata": {},
     "output_type": "execute_result"
    }
   ],
   "source": [
    "#Since the dim of the matrix for train and test dataset do not match due to the various title\n",
    "# we need to replace some titles with more common one.\n",
    "\n",
    "title_sex = pd.crosstab(df['title'], df['Sex'])\n",
    "title_sex['total'] = title_sex.female + title_sex.male\n",
    "title_sex.sort_values('total',ascending=False,inplace=True)\n",
    "title_sex"
   ]
  },
  {
   "cell_type": "code",
   "execution_count": 15,
   "metadata": {
    "collapsed": true
   },
   "outputs": [],
   "source": [
    "df['title'].replace('Mlle','Miss',inplace=True)\n",
    "df['title'].replace('Ms','Miss',inplace=True)\n",
    "df['title'].replace('Mme','Mrs',inplace=True)\n",
    "\n",
    "remove_list_df = list(title_sex.iloc[4:,:].index)\n",
    "df['title'].replace(remove_list_df,'Rare',inplace=True)"
   ]
  },
  {
   "cell_type": "code",
   "execution_count": 16,
   "metadata": {
    "collapsed": false
   },
   "outputs": [
    {
     "data": {
      "text/html": [
       "<div>\n",
       "<style>\n",
       "    .dataframe thead tr:only-child th {\n",
       "        text-align: right;\n",
       "    }\n",
       "\n",
       "    .dataframe thead th {\n",
       "        text-align: left;\n",
       "    }\n",
       "\n",
       "    .dataframe tbody tr th {\n",
       "        vertical-align: top;\n",
       "    }\n",
       "</style>\n",
       "<table border=\"1\" class=\"dataframe\">\n",
       "  <thead>\n",
       "    <tr style=\"text-align: right;\">\n",
       "      <th>Sex</th>\n",
       "      <th>female</th>\n",
       "      <th>male</th>\n",
       "      <th>total</th>\n",
       "    </tr>\n",
       "    <tr>\n",
       "      <th>title</th>\n",
       "      <th></th>\n",
       "      <th></th>\n",
       "      <th></th>\n",
       "    </tr>\n",
       "  </thead>\n",
       "  <tbody>\n",
       "    <tr>\n",
       "      <th>Mr</th>\n",
       "      <td>0</td>\n",
       "      <td>240</td>\n",
       "      <td>240</td>\n",
       "    </tr>\n",
       "    <tr>\n",
       "      <th>Miss</th>\n",
       "      <td>78</td>\n",
       "      <td>0</td>\n",
       "      <td>78</td>\n",
       "    </tr>\n",
       "    <tr>\n",
       "      <th>Mrs</th>\n",
       "      <td>72</td>\n",
       "      <td>0</td>\n",
       "      <td>72</td>\n",
       "    </tr>\n",
       "    <tr>\n",
       "      <th>Master</th>\n",
       "      <td>0</td>\n",
       "      <td>21</td>\n",
       "      <td>21</td>\n",
       "    </tr>\n",
       "    <tr>\n",
       "      <th>Col</th>\n",
       "      <td>0</td>\n",
       "      <td>2</td>\n",
       "      <td>2</td>\n",
       "    </tr>\n",
       "    <tr>\n",
       "      <th>Rev</th>\n",
       "      <td>0</td>\n",
       "      <td>2</td>\n",
       "      <td>2</td>\n",
       "    </tr>\n",
       "    <tr>\n",
       "      <th>Dona</th>\n",
       "      <td>1</td>\n",
       "      <td>0</td>\n",
       "      <td>1</td>\n",
       "    </tr>\n",
       "    <tr>\n",
       "      <th>Dr</th>\n",
       "      <td>0</td>\n",
       "      <td>1</td>\n",
       "      <td>1</td>\n",
       "    </tr>\n",
       "    <tr>\n",
       "      <th>Ms</th>\n",
       "      <td>1</td>\n",
       "      <td>0</td>\n",
       "      <td>1</td>\n",
       "    </tr>\n",
       "  </tbody>\n",
       "</table>\n",
       "</div>"
      ],
      "text/plain": [
       "Sex      female  male  total\n",
       "title                       \n",
       " Mr           0   240    240\n",
       " Miss        78     0     78\n",
       " Mrs         72     0     72\n",
       " Master       0    21     21\n",
       " Col          0     2      2\n",
       " Rev          0     2      2\n",
       " Dona         1     0      1\n",
       " Dr           0     1      1\n",
       " Ms           1     0      1"
      ]
     },
     "execution_count": 16,
     "metadata": {},
     "output_type": "execute_result"
    }
   ],
   "source": [
    "title_sex_ddf = pd.crosstab(ddf['title'], ddf['Sex'])\n",
    "title_sex_ddf['total'] = title_sex_ddf.female + title_sex_ddf.male\n",
    "title_sex_ddf.sort_values('total',ascending=False,inplace=True)\n",
    "title_sex_ddf\n"
   ]
  },
  {
   "cell_type": "code",
   "execution_count": 17,
   "metadata": {
    "collapsed": true
   },
   "outputs": [],
   "source": [
    "ddf['title'].replace('Ms','Miss',inplace=True)\n",
    "remove_list_ddf = list(title_sex_ddf.iloc[4:,:].index)\n",
    "ddf['title'].replace(remove_list_ddf,'Rare',inplace=True)"
   ]
  },
  {
   "cell_type": "code",
   "execution_count": null,
   "metadata": {
    "collapsed": true
   },
   "outputs": [],
   "source": []
  },
  {
   "cell_type": "markdown",
   "metadata": {
    "collapsed": true
   },
   "source": [
    "### Age & Fair & Family Size Cutting "
   ]
  },
  {
   "cell_type": "code",
   "execution_count": 18,
   "metadata": {
    "collapsed": false
   },
   "outputs": [],
   "source": [
    "#pd.crosstab(pd.cut(df['Age'],6),df['Survived'])\n",
    "#sorted(df['Age'].unique())"
   ]
  },
  {
   "cell_type": "code",
   "execution_count": null,
   "metadata": {
    "collapsed": true
   },
   "outputs": [],
   "source": []
  },
  {
   "cell_type": "code",
   "execution_count": 19,
   "metadata": {
    "collapsed": false
   },
   "outputs": [],
   "source": [
    "#df['Age_Cut'] = pd.cut(df.Age,6)\n",
    "#ddf['Age_Cut'] = pd.cut(ddf.Age,6)\n",
    "\n",
    "for ff in [df,ddf]:\n",
    "    #ff['Age_Cut_1'] = ff['Age'] < 5\n",
    "    #ff['Age_Cut_2'] = (5 <= ff['Age']) & (ff['Age'] < 18)\n",
    "    #ff['Age_Cut_3'] = (18 <= ff['Age']) & (ff['Age'] < 35)\n",
    "    #ff['Age_Cut_4'] = (35 <= ff['Age']) & (ff['Age'] < 50)\n",
    "    #ff['Age_Cut_5'] = (50 <= ff['Age']) & (ff['Age'] < 60)\n",
    "    #ff['Age_Cut_6'] = (60 <= ff['Age'])\n",
    "    \n",
    "    #ff['Fare_1'] = ff['fare_pp'] < 20\n",
    "    #ff['Fare_2'] = (20 <= ff['fare_pp']) & (ff['fare_pp'] < 40)\n",
    "    #ff['Fare_3'] = (40 <= ff['fare_pp']) & (ff['fare_pp'] < 100)\n",
    "    #ff['Fare_4'] = (100 <= ff['fare_pp'])\n",
    "\n",
    "    ff['Fsize_1'] = ff['family_size'].map(lambda f: 1 if f==0 else 0)\n",
    "    ff['Fsize_2'] = ff['family_size'].map(lambda f: 1 if f==1 else 0)\n",
    "    ff['Fsize_3'] = ff['family_size'].map(lambda f: 1 if (f==2)|(f==3) else 0)\n",
    "    ff['Fsize_4'] = ff['family_size'].map(lambda f: 1 if f>4 else 0)"
   ]
  },
  {
   "cell_type": "code",
   "execution_count": 20,
   "metadata": {
    "collapsed": false
   },
   "outputs": [],
   "source": [
    "#fare_list = ['Fare_' + str(number) for number in range(1,5)]\n",
    "#age_list = ['Age_Cut_' + str(number) for number in range(1,7)]\n",
    "family_list = ['Fsize_' + str(number) for number in range(1,5)]"
   ]
  },
  {
   "cell_type": "code",
   "execution_count": 21,
   "metadata": {
    "collapsed": false
   },
   "outputs": [
    {
     "data": {
      "text/plain": [
       "array([3, 2, 1])"
      ]
     },
     "execution_count": 21,
     "metadata": {},
     "output_type": "execute_result"
    }
   ],
   "source": [
    "ddf.head()\n",
    "ddf.Pclass.unique()"
   ]
  },
  {
   "cell_type": "code",
   "execution_count": 22,
   "metadata": {
    "collapsed": false
   },
   "outputs": [],
   "source": [
    "# convert object type to the type that pandas can process\n",
    "# LabelEncoder itself is not enough for converting for efficiency.\n",
    "# Since just converting the type using label encoder can lead the machine misunderstand that the bigger\n",
    "# number of label more important; therefore, OneHotEncoder process must be performed right after the label encoder.\n",
    "\n",
    "le = LabelEncoder()\n",
    "for ff in [df,ddf]:\n",
    "    #for name in df_object + ['Pclass'] + age_list + family_list:\n",
    "    for name in df_object + ['Pclass'] + family_list:\n",
    "        ff[name] = le.fit_transform(ff[name].astype(str))\n",
    "        ff[name] = ff[name].astype('category')\n",
    "        \n",
    "#for f_num in age_list + family_list:\n",
    "    #for ff in [df,ddf]:\n",
    "        #ff[f_num] = ff[f_num].astype('float64')"
   ]
  },
  {
   "cell_type": "code",
   "execution_count": 23,
   "metadata": {
    "collapsed": true
   },
   "outputs": [],
   "source": [
    "for ff in [df,ddf]:\n",
    "    ff.fare_pp.map(lambda x: np.log(x) if x>0 else 0)\n"
   ]
  },
  {
   "cell_type": "code",
   "execution_count": 24,
   "metadata": {
    "collapsed": true
   },
   "outputs": [],
   "source": [
    "#df['Parch_img'] = 0"
   ]
  },
  {
   "cell_type": "markdown",
   "metadata": {},
   "source": [
    "## OneHotEncoder"
   ]
  },
  {
   "cell_type": "code",
   "execution_count": 25,
   "metadata": {
    "collapsed": false
   },
   "outputs": [
    {
     "data": {
      "text/plain": [
       "['Pclass', 'Sex', 'Embarked', 'family_size', 'title', 'Alone']"
      ]
     },
     "execution_count": 25,
     "metadata": {},
     "output_type": "execute_result"
    }
   ],
   "source": [
    "# We could use an integer encoding directly, rescaled where needed. This may work for problems\n",
    "# where there is a natural ordinal relationship between the categories, and in turn the integer \n",
    "# values, such as labels for temperature 'cold','warm', and 'hot'. However, if there is \n",
    "# no ordinal relationship between the categories and allowing the representation to lean on any such\n",
    "# relationship might be damaging to learning to solve the problem, i.e) 'dog' and 'cat'\n",
    "df.dtypes\n",
    "#df_category = ['Pclass','Sex','Embarked','family_size','title','Alone','Age_Cut','Age','fare_pp']\n",
    "#df_category = ['Pclass','Sex','Embarked','family_size','title','Alone','Age']\n",
    "df_category = ['Pclass','Sex','Embarked','family_size','title','Alone']\n",
    "df_category"
   ]
  },
  {
   "cell_type": "code",
   "execution_count": 26,
   "metadata": {
    "collapsed": false
   },
   "outputs": [
    {
     "data": {
      "text/html": [
       "<div>\n",
       "<style>\n",
       "    .dataframe thead tr:only-child th {\n",
       "        text-align: right;\n",
       "    }\n",
       "\n",
       "    .dataframe thead th {\n",
       "        text-align: left;\n",
       "    }\n",
       "\n",
       "    .dataframe tbody tr th {\n",
       "        vertical-align: top;\n",
       "    }\n",
       "</style>\n",
       "<table border=\"1\" class=\"dataframe\">\n",
       "  <thead>\n",
       "    <tr style=\"text-align: right;\">\n",
       "      <th></th>\n",
       "      <th>Survived</th>\n",
       "      <th>Age</th>\n",
       "      <th>SibSp</th>\n",
       "      <th>Parch</th>\n",
       "      <th>fare_pp</th>\n",
       "      <th>Fsize_1</th>\n",
       "      <th>Fsize_2</th>\n",
       "      <th>Fsize_3</th>\n",
       "      <th>Fsize_4</th>\n",
       "      <th>0</th>\n",
       "      <th>1</th>\n",
       "      <th>2</th>\n",
       "      <th>3</th>\n",
       "      <th>4</th>\n",
       "      <th>5</th>\n",
       "      <th>6</th>\n",
       "      <th>7</th>\n",
       "      <th>8</th>\n",
       "      <th>9</th>\n",
       "      <th>10</th>\n",
       "    </tr>\n",
       "  </thead>\n",
       "  <tbody>\n",
       "    <tr>\n",
       "      <th>0</th>\n",
       "      <td>0</td>\n",
       "      <td>22.0</td>\n",
       "      <td>1</td>\n",
       "      <td>0</td>\n",
       "      <td>3.62500</td>\n",
       "      <td>0</td>\n",
       "      <td>1</td>\n",
       "      <td>0</td>\n",
       "      <td>0</td>\n",
       "      <td>0.0</td>\n",
       "      <td>0.0</td>\n",
       "      <td>1.0</td>\n",
       "      <td>0.0</td>\n",
       "      <td>0.0</td>\n",
       "      <td>1.0</td>\n",
       "      <td>0.0</td>\n",
       "      <td>0.0</td>\n",
       "      <td>1.0</td>\n",
       "      <td>0.0</td>\n",
       "      <td>0.0</td>\n",
       "    </tr>\n",
       "    <tr>\n",
       "      <th>1</th>\n",
       "      <td>1</td>\n",
       "      <td>38.0</td>\n",
       "      <td>1</td>\n",
       "      <td>0</td>\n",
       "      <td>35.64165</td>\n",
       "      <td>0</td>\n",
       "      <td>1</td>\n",
       "      <td>0</td>\n",
       "      <td>0</td>\n",
       "      <td>1.0</td>\n",
       "      <td>0.0</td>\n",
       "      <td>0.0</td>\n",
       "      <td>1.0</td>\n",
       "      <td>0.0</td>\n",
       "      <td>0.0</td>\n",
       "      <td>0.0</td>\n",
       "      <td>0.0</td>\n",
       "      <td>0.0</td>\n",
       "      <td>1.0</td>\n",
       "      <td>0.0</td>\n",
       "    </tr>\n",
       "    <tr>\n",
       "      <th>2</th>\n",
       "      <td>1</td>\n",
       "      <td>26.0</td>\n",
       "      <td>0</td>\n",
       "      <td>0</td>\n",
       "      <td>7.92500</td>\n",
       "      <td>1</td>\n",
       "      <td>0</td>\n",
       "      <td>0</td>\n",
       "      <td>0</td>\n",
       "      <td>0.0</td>\n",
       "      <td>0.0</td>\n",
       "      <td>1.0</td>\n",
       "      <td>0.0</td>\n",
       "      <td>0.0</td>\n",
       "      <td>1.0</td>\n",
       "      <td>0.0</td>\n",
       "      <td>1.0</td>\n",
       "      <td>0.0</td>\n",
       "      <td>0.0</td>\n",
       "      <td>0.0</td>\n",
       "    </tr>\n",
       "    <tr>\n",
       "      <th>3</th>\n",
       "      <td>1</td>\n",
       "      <td>35.0</td>\n",
       "      <td>1</td>\n",
       "      <td>0</td>\n",
       "      <td>26.55000</td>\n",
       "      <td>0</td>\n",
       "      <td>1</td>\n",
       "      <td>0</td>\n",
       "      <td>0</td>\n",
       "      <td>1.0</td>\n",
       "      <td>0.0</td>\n",
       "      <td>0.0</td>\n",
       "      <td>0.0</td>\n",
       "      <td>0.0</td>\n",
       "      <td>1.0</td>\n",
       "      <td>0.0</td>\n",
       "      <td>0.0</td>\n",
       "      <td>0.0</td>\n",
       "      <td>1.0</td>\n",
       "      <td>0.0</td>\n",
       "    </tr>\n",
       "    <tr>\n",
       "      <th>4</th>\n",
       "      <td>0</td>\n",
       "      <td>35.0</td>\n",
       "      <td>0</td>\n",
       "      <td>0</td>\n",
       "      <td>8.05000</td>\n",
       "      <td>1</td>\n",
       "      <td>0</td>\n",
       "      <td>0</td>\n",
       "      <td>0</td>\n",
       "      <td>0.0</td>\n",
       "      <td>0.0</td>\n",
       "      <td>1.0</td>\n",
       "      <td>0.0</td>\n",
       "      <td>0.0</td>\n",
       "      <td>1.0</td>\n",
       "      <td>0.0</td>\n",
       "      <td>0.0</td>\n",
       "      <td>1.0</td>\n",
       "      <td>0.0</td>\n",
       "      <td>0.0</td>\n",
       "    </tr>\n",
       "  </tbody>\n",
       "</table>\n",
       "</div>"
      ],
      "text/plain": [
       "   Survived   Age  SibSp  Parch   fare_pp Fsize_1 Fsize_2 Fsize_3 Fsize_4  \\\n",
       "0         0  22.0      1      0   3.62500       0       1       0       0   \n",
       "1         1  38.0      1      0  35.64165       0       1       0       0   \n",
       "2         1  26.0      0      0   7.92500       1       0       0       0   \n",
       "3         1  35.0      1      0  26.55000       0       1       0       0   \n",
       "4         0  35.0      0      0   8.05000       1       0       0       0   \n",
       "\n",
       "     0    1    2    3    4    5    6    7    8    9   10  \n",
       "0  0.0  0.0  1.0  0.0  0.0  1.0  0.0  0.0  1.0  0.0  0.0  \n",
       "1  1.0  0.0  0.0  1.0  0.0  0.0  0.0  0.0  0.0  1.0  0.0  \n",
       "2  0.0  0.0  1.0  0.0  0.0  1.0  0.0  1.0  0.0  0.0  0.0  \n",
       "3  1.0  0.0  0.0  0.0  0.0  1.0  0.0  0.0  0.0  1.0  0.0  \n",
       "4  0.0  0.0  1.0  0.0  0.0  1.0  0.0  0.0  1.0  0.0  0.0  "
      ]
     },
     "execution_count": 26,
     "metadata": {},
     "output_type": "execute_result"
    }
   ],
   "source": [
    "ohe = OneHotEncoder(sparse=False)\n",
    "\n",
    "arr_pclass = ohe.fit_transform(np.array(df['Pclass']).reshape(-1,1))\n",
    "#arr_gender = ohe.fit_transform(np.array(df['Sex']).reshape(-1,1))\n",
    "arr_embarked = ohe.fit_transform(np.array(df['Embarked']).reshape(-1,1))\n",
    "#arr_family = ohe.fit_transform(np.array(df['family_size']).reshape(-1,1))\n",
    "arr_title = ohe.fit_transform(np.array(df['title']).reshape(-1,1))\n",
    "#arr_alone = ohe.fit_transform(np.array(df['Alone']).reshape(-1,1))\n",
    "#arr_agecut = ohe.fit_transform(np.array(df['Age_Cut']).reshape(-1,1))\n",
    "#arr_parch = ohe.fit_transform(np.array(df['Parch']).reshape(-1,1))\n",
    "#arr_comb = np.concatenate([arr_pclass,arr_gender,arr_embarked,arr_family,arr_title,arr_alone,arr_agecut],axis=1)\n",
    "#arr_comb = np.concatenate([arr_pclass,arr_gender,arr_embarked,arr_family,arr_title,arr_alone],axis=1)\n",
    "arr_comb = np.concatenate([arr_pclass,arr_embarked,arr_title],axis=1)\n",
    "df = pd.concat([df,pd.DataFrame(arr_comb)], axis=1)\n",
    "df.drop(df_category,axis=1,inplace=True)\n",
    "df.head()"
   ]
  },
  {
   "cell_type": "code",
   "execution_count": 27,
   "metadata": {
    "collapsed": false
   },
   "outputs": [
    {
     "data": {
      "text/html": [
       "<div>\n",
       "<style>\n",
       "    .dataframe thead tr:only-child th {\n",
       "        text-align: right;\n",
       "    }\n",
       "\n",
       "    .dataframe thead th {\n",
       "        text-align: left;\n",
       "    }\n",
       "\n",
       "    .dataframe tbody tr th {\n",
       "        vertical-align: top;\n",
       "    }\n",
       "</style>\n",
       "<table border=\"1\" class=\"dataframe\">\n",
       "  <thead>\n",
       "    <tr style=\"text-align: right;\">\n",
       "      <th></th>\n",
       "      <th>Age</th>\n",
       "      <th>SibSp</th>\n",
       "      <th>Parch</th>\n",
       "      <th>fare_pp</th>\n",
       "      <th>Fsize_1</th>\n",
       "      <th>Fsize_2</th>\n",
       "      <th>Fsize_3</th>\n",
       "      <th>Fsize_4</th>\n",
       "      <th>0</th>\n",
       "      <th>1</th>\n",
       "      <th>2</th>\n",
       "      <th>3</th>\n",
       "      <th>4</th>\n",
       "      <th>5</th>\n",
       "      <th>6</th>\n",
       "      <th>7</th>\n",
       "      <th>8</th>\n",
       "      <th>9</th>\n",
       "      <th>10</th>\n",
       "    </tr>\n",
       "  </thead>\n",
       "  <tbody>\n",
       "    <tr>\n",
       "      <th>0</th>\n",
       "      <td>34.5</td>\n",
       "      <td>0</td>\n",
       "      <td>0</td>\n",
       "      <td>7.829200</td>\n",
       "      <td>1</td>\n",
       "      <td>0</td>\n",
       "      <td>0</td>\n",
       "      <td>0</td>\n",
       "      <td>0.0</td>\n",
       "      <td>0.0</td>\n",
       "      <td>1.0</td>\n",
       "      <td>0.0</td>\n",
       "      <td>1.0</td>\n",
       "      <td>0.0</td>\n",
       "      <td>0.0</td>\n",
       "      <td>0.0</td>\n",
       "      <td>1.0</td>\n",
       "      <td>0.0</td>\n",
       "      <td>0.0</td>\n",
       "    </tr>\n",
       "    <tr>\n",
       "      <th>1</th>\n",
       "      <td>47.0</td>\n",
       "      <td>1</td>\n",
       "      <td>0</td>\n",
       "      <td>3.500000</td>\n",
       "      <td>0</td>\n",
       "      <td>1</td>\n",
       "      <td>0</td>\n",
       "      <td>0</td>\n",
       "      <td>0.0</td>\n",
       "      <td>0.0</td>\n",
       "      <td>1.0</td>\n",
       "      <td>0.0</td>\n",
       "      <td>0.0</td>\n",
       "      <td>1.0</td>\n",
       "      <td>0.0</td>\n",
       "      <td>0.0</td>\n",
       "      <td>0.0</td>\n",
       "      <td>1.0</td>\n",
       "      <td>0.0</td>\n",
       "    </tr>\n",
       "    <tr>\n",
       "      <th>2</th>\n",
       "      <td>62.0</td>\n",
       "      <td>0</td>\n",
       "      <td>0</td>\n",
       "      <td>9.687500</td>\n",
       "      <td>1</td>\n",
       "      <td>0</td>\n",
       "      <td>0</td>\n",
       "      <td>0</td>\n",
       "      <td>0.0</td>\n",
       "      <td>1.0</td>\n",
       "      <td>0.0</td>\n",
       "      <td>0.0</td>\n",
       "      <td>1.0</td>\n",
       "      <td>0.0</td>\n",
       "      <td>0.0</td>\n",
       "      <td>0.0</td>\n",
       "      <td>1.0</td>\n",
       "      <td>0.0</td>\n",
       "      <td>0.0</td>\n",
       "    </tr>\n",
       "    <tr>\n",
       "      <th>3</th>\n",
       "      <td>27.0</td>\n",
       "      <td>0</td>\n",
       "      <td>0</td>\n",
       "      <td>8.662500</td>\n",
       "      <td>1</td>\n",
       "      <td>0</td>\n",
       "      <td>0</td>\n",
       "      <td>0</td>\n",
       "      <td>0.0</td>\n",
       "      <td>0.0</td>\n",
       "      <td>1.0</td>\n",
       "      <td>0.0</td>\n",
       "      <td>0.0</td>\n",
       "      <td>1.0</td>\n",
       "      <td>0.0</td>\n",
       "      <td>0.0</td>\n",
       "      <td>1.0</td>\n",
       "      <td>0.0</td>\n",
       "      <td>0.0</td>\n",
       "    </tr>\n",
       "    <tr>\n",
       "      <th>4</th>\n",
       "      <td>22.0</td>\n",
       "      <td>1</td>\n",
       "      <td>1</td>\n",
       "      <td>4.095833</td>\n",
       "      <td>0</td>\n",
       "      <td>0</td>\n",
       "      <td>1</td>\n",
       "      <td>0</td>\n",
       "      <td>0.0</td>\n",
       "      <td>0.0</td>\n",
       "      <td>1.0</td>\n",
       "      <td>0.0</td>\n",
       "      <td>0.0</td>\n",
       "      <td>1.0</td>\n",
       "      <td>0.0</td>\n",
       "      <td>0.0</td>\n",
       "      <td>0.0</td>\n",
       "      <td>1.0</td>\n",
       "      <td>0.0</td>\n",
       "    </tr>\n",
       "  </tbody>\n",
       "</table>\n",
       "</div>"
      ],
      "text/plain": [
       "    Age  SibSp  Parch   fare_pp Fsize_1 Fsize_2 Fsize_3 Fsize_4    0    1  \\\n",
       "0  34.5      0      0  7.829200       1       0       0       0  0.0  0.0   \n",
       "1  47.0      1      0  3.500000       0       1       0       0  0.0  0.0   \n",
       "2  62.0      0      0  9.687500       1       0       0       0  0.0  1.0   \n",
       "3  27.0      0      0  8.662500       1       0       0       0  0.0  0.0   \n",
       "4  22.0      1      1  4.095833       0       0       1       0  0.0  0.0   \n",
       "\n",
       "     2    3    4    5    6    7    8    9   10  \n",
       "0  1.0  0.0  1.0  0.0  0.0  0.0  1.0  0.0  0.0  \n",
       "1  1.0  0.0  0.0  1.0  0.0  0.0  0.0  1.0  0.0  \n",
       "2  0.0  0.0  1.0  0.0  0.0  0.0  1.0  0.0  0.0  \n",
       "3  1.0  0.0  0.0  1.0  0.0  0.0  1.0  0.0  0.0  \n",
       "4  1.0  0.0  0.0  1.0  0.0  0.0  0.0  1.0  0.0  "
      ]
     },
     "execution_count": 27,
     "metadata": {},
     "output_type": "execute_result"
    }
   ],
   "source": [
    "ohe = OneHotEncoder(sparse=False)\n",
    "\n",
    "ar_pclass = ohe.fit_transform(np.array(ddf['Pclass']).reshape(-1,1))\n",
    "#ar_gender = ohe.fit_transform(np.array(ddf['Sex']).reshape(-1,1))\n",
    "ar_embarked = ohe.fit_transform(np.array(ddf['Embarked']).reshape(-1,1))\n",
    "#ar_family = ohe.fit_transform(np.array(ddf['family_size']).reshape(-1,1))\n",
    "ar_title = ohe.fit_transform(np.array(ddf['title']).reshape(-1,1))\n",
    "#ar_alone = ohe.fit_transform(np.array(ddf['Alone']).reshape(-1,1))\n",
    "#ar_agecut = ohe.fit_transform(np.array(ddf['Age_Cut']).reshape(-1,1))\n",
    "#ar_parch = ohe.fit_transform(np.array(ddf['Parch']).reshape(-1,1))\n",
    "#ar_comb = np.concatenate([ar_pclass,ar_gender,ar_embarked,ar_family,ar_title,ar_alone,ar_agecut],axis=1)\n",
    "#ar_comb = np.concatenate([ar_pclass,ar_gender,ar_embarked,ar_family,ar_title,ar_alone],axis=1)\n",
    "ar_comb = np.concatenate([ar_pclass,ar_embarked,ar_title],axis=1)\n",
    "ddf = pd.concat([ddf,pd.DataFrame(ar_comb)], axis=1)\n",
    "ddf.drop(df_category,axis=1,inplace=True)\n",
    "ddf.head()"
   ]
  },
  {
   "cell_type": "code",
   "execution_count": 28,
   "metadata": {
    "collapsed": false,
    "scrolled": true
   },
   "outputs": [],
   "source": [
    "# check correlations and delete if there are highly correlated columns\n",
    "\n",
    "#abs(df.corr()['Survived']).sort_values(ascending=False)\n",
    "#sel_col = list(df.corr()['Survived'][(abs(df.corr()['Survived']).sort_values(ascending=False) >0.2)].index)\n",
    "#sel_col\n",
    "\n",
    "#abs(df.corr()['Survived']).sort_values(ascending=False)"
   ]
  },
  {
   "cell_type": "code",
   "execution_count": 29,
   "metadata": {
    "collapsed": false,
    "scrolled": true
   },
   "outputs": [],
   "source": [
    "# Full Columns\n",
    "# split the data into four pieces (X_train,test, y_train,test)\n",
    "y = df[\"Survived\"]\n",
    "X = df.loc[:,[x for x in df.columns if x !=\"Survived\"]]\n",
    "X_train,X_test,y_train,y_test = train_test_split(X,y)"
   ]
  },
  {
   "cell_type": "code",
   "execution_count": 30,
   "metadata": {
    "collapsed": false
   },
   "outputs": [],
   "source": [
    "#Selected Columns\n",
    "#y = df['Survived']\n",
    "#X = df.loc[:,[x for x in sel_col if x !=\"Survived\"]]\n",
    "#X_train,X_test,y_train,y_test = train_test_split(X,y)"
   ]
  },
  {
   "cell_type": "code",
   "execution_count": 31,
   "metadata": {
    "collapsed": false
   },
   "outputs": [],
   "source": [
    "#ddf = ddf.loc[:,[x for x in sel_col if x !=\"Survived\"]]"
   ]
  },
  {
   "cell_type": "code",
   "execution_count": 32,
   "metadata": {
    "collapsed": false
   },
   "outputs": [
    {
     "data": {
      "text/plain": [
       "(891, 20)"
      ]
     },
     "execution_count": 32,
     "metadata": {},
     "output_type": "execute_result"
    }
   ],
   "source": [
    "df.shape"
   ]
  },
  {
   "cell_type": "code",
   "execution_count": 33,
   "metadata": {
    "collapsed": false
   },
   "outputs": [
    {
     "data": {
      "text/html": [
       "<div>\n",
       "<style>\n",
       "    .dataframe thead tr:only-child th {\n",
       "        text-align: right;\n",
       "    }\n",
       "\n",
       "    .dataframe thead th {\n",
       "        text-align: left;\n",
       "    }\n",
       "\n",
       "    .dataframe tbody tr th {\n",
       "        vertical-align: top;\n",
       "    }\n",
       "</style>\n",
       "<table border=\"1\" class=\"dataframe\">\n",
       "  <thead>\n",
       "    <tr style=\"text-align: right;\">\n",
       "      <th></th>\n",
       "      <th>Age</th>\n",
       "      <th>SibSp</th>\n",
       "      <th>Parch</th>\n",
       "      <th>fare_pp</th>\n",
       "      <th>Fsize_1</th>\n",
       "      <th>Fsize_2</th>\n",
       "      <th>Fsize_3</th>\n",
       "      <th>Fsize_4</th>\n",
       "      <th>0</th>\n",
       "      <th>1</th>\n",
       "      <th>2</th>\n",
       "      <th>3</th>\n",
       "      <th>4</th>\n",
       "      <th>5</th>\n",
       "      <th>6</th>\n",
       "      <th>7</th>\n",
       "      <th>8</th>\n",
       "      <th>9</th>\n",
       "      <th>10</th>\n",
       "    </tr>\n",
       "  </thead>\n",
       "  <tbody>\n",
       "    <tr>\n",
       "      <th>0</th>\n",
       "      <td>34.5</td>\n",
       "      <td>0</td>\n",
       "      <td>0</td>\n",
       "      <td>7.829200</td>\n",
       "      <td>1</td>\n",
       "      <td>0</td>\n",
       "      <td>0</td>\n",
       "      <td>0</td>\n",
       "      <td>0.0</td>\n",
       "      <td>0.0</td>\n",
       "      <td>1.0</td>\n",
       "      <td>0.0</td>\n",
       "      <td>1.0</td>\n",
       "      <td>0.0</td>\n",
       "      <td>0.0</td>\n",
       "      <td>0.0</td>\n",
       "      <td>1.0</td>\n",
       "      <td>0.0</td>\n",
       "      <td>0.0</td>\n",
       "    </tr>\n",
       "    <tr>\n",
       "      <th>1</th>\n",
       "      <td>47.0</td>\n",
       "      <td>1</td>\n",
       "      <td>0</td>\n",
       "      <td>3.500000</td>\n",
       "      <td>0</td>\n",
       "      <td>1</td>\n",
       "      <td>0</td>\n",
       "      <td>0</td>\n",
       "      <td>0.0</td>\n",
       "      <td>0.0</td>\n",
       "      <td>1.0</td>\n",
       "      <td>0.0</td>\n",
       "      <td>0.0</td>\n",
       "      <td>1.0</td>\n",
       "      <td>0.0</td>\n",
       "      <td>0.0</td>\n",
       "      <td>0.0</td>\n",
       "      <td>1.0</td>\n",
       "      <td>0.0</td>\n",
       "    </tr>\n",
       "    <tr>\n",
       "      <th>2</th>\n",
       "      <td>62.0</td>\n",
       "      <td>0</td>\n",
       "      <td>0</td>\n",
       "      <td>9.687500</td>\n",
       "      <td>1</td>\n",
       "      <td>0</td>\n",
       "      <td>0</td>\n",
       "      <td>0</td>\n",
       "      <td>0.0</td>\n",
       "      <td>1.0</td>\n",
       "      <td>0.0</td>\n",
       "      <td>0.0</td>\n",
       "      <td>1.0</td>\n",
       "      <td>0.0</td>\n",
       "      <td>0.0</td>\n",
       "      <td>0.0</td>\n",
       "      <td>1.0</td>\n",
       "      <td>0.0</td>\n",
       "      <td>0.0</td>\n",
       "    </tr>\n",
       "    <tr>\n",
       "      <th>3</th>\n",
       "      <td>27.0</td>\n",
       "      <td>0</td>\n",
       "      <td>0</td>\n",
       "      <td>8.662500</td>\n",
       "      <td>1</td>\n",
       "      <td>0</td>\n",
       "      <td>0</td>\n",
       "      <td>0</td>\n",
       "      <td>0.0</td>\n",
       "      <td>0.0</td>\n",
       "      <td>1.0</td>\n",
       "      <td>0.0</td>\n",
       "      <td>0.0</td>\n",
       "      <td>1.0</td>\n",
       "      <td>0.0</td>\n",
       "      <td>0.0</td>\n",
       "      <td>1.0</td>\n",
       "      <td>0.0</td>\n",
       "      <td>0.0</td>\n",
       "    </tr>\n",
       "    <tr>\n",
       "      <th>4</th>\n",
       "      <td>22.0</td>\n",
       "      <td>1</td>\n",
       "      <td>1</td>\n",
       "      <td>4.095833</td>\n",
       "      <td>0</td>\n",
       "      <td>0</td>\n",
       "      <td>1</td>\n",
       "      <td>0</td>\n",
       "      <td>0.0</td>\n",
       "      <td>0.0</td>\n",
       "      <td>1.0</td>\n",
       "      <td>0.0</td>\n",
       "      <td>0.0</td>\n",
       "      <td>1.0</td>\n",
       "      <td>0.0</td>\n",
       "      <td>0.0</td>\n",
       "      <td>0.0</td>\n",
       "      <td>1.0</td>\n",
       "      <td>0.0</td>\n",
       "    </tr>\n",
       "  </tbody>\n",
       "</table>\n",
       "</div>"
      ],
      "text/plain": [
       "    Age  SibSp  Parch   fare_pp Fsize_1 Fsize_2 Fsize_3 Fsize_4    0    1  \\\n",
       "0  34.5      0      0  7.829200       1       0       0       0  0.0  0.0   \n",
       "1  47.0      1      0  3.500000       0       1       0       0  0.0  0.0   \n",
       "2  62.0      0      0  9.687500       1       0       0       0  0.0  1.0   \n",
       "3  27.0      0      0  8.662500       1       0       0       0  0.0  0.0   \n",
       "4  22.0      1      1  4.095833       0       0       1       0  0.0  0.0   \n",
       "\n",
       "     2    3    4    5    6    7    8    9   10  \n",
       "0  1.0  0.0  1.0  0.0  0.0  0.0  1.0  0.0  0.0  \n",
       "1  1.0  0.0  0.0  1.0  0.0  0.0  0.0  1.0  0.0  \n",
       "2  0.0  0.0  1.0  0.0  0.0  0.0  1.0  0.0  0.0  \n",
       "3  1.0  0.0  0.0  1.0  0.0  0.0  1.0  0.0  0.0  \n",
       "4  1.0  0.0  0.0  1.0  0.0  0.0  0.0  1.0  0.0  "
      ]
     },
     "execution_count": 33,
     "metadata": {},
     "output_type": "execute_result"
    }
   ],
   "source": [
    "ddf.head()"
   ]
  },
  {
   "cell_type": "code",
   "execution_count": 34,
   "metadata": {
    "collapsed": true
   },
   "outputs": [],
   "source": [
    "kfold = StratifiedKFold(n_splits=10)"
   ]
  },
  {
   "cell_type": "markdown",
   "metadata": {},
   "source": [
    "## RandomForest"
   ]
  },
  {
   "cell_type": "code",
   "execution_count": 35,
   "metadata": {
    "collapsed": false
   },
   "outputs": [
    {
     "name": "stdout",
     "output_type": "stream",
     "text": [
      "Fitting 20 folds for each of 420 candidates, totalling 8400 fits\n"
     ]
    },
    {
     "name": "stderr",
     "output_type": "stream",
     "text": [
      "[Parallel(n_jobs=-1)]: Done  42 tasks      | elapsed:   35.4s\n",
      "[Parallel(n_jobs=-1)]: Done 192 tasks      | elapsed:  3.2min\n",
      "[Parallel(n_jobs=-1)]: Done 442 tasks      | elapsed:  7.6min\n",
      "[Parallel(n_jobs=-1)]: Done 792 tasks      | elapsed: 14.1min\n",
      "[Parallel(n_jobs=-1)]: Done 1242 tasks      | elapsed: 22.8min\n",
      "[Parallel(n_jobs=-1)]: Done 1792 tasks      | elapsed: 35.1min\n",
      "[Parallel(n_jobs=-1)]: Done 2442 tasks      | elapsed: 46.8min\n",
      "[Parallel(n_jobs=-1)]: Done 3192 tasks      | elapsed: 61.6min\n",
      "[Parallel(n_jobs=-1)]: Done 4042 tasks      | elapsed: 77.1min\n",
      "[Parallel(n_jobs=-1)]: Done 4992 tasks      | elapsed: 97.4min\n",
      "[Parallel(n_jobs=-1)]: Done 6042 tasks      | elapsed: 116.3min\n",
      "[Parallel(n_jobs=-1)]: Done 7192 tasks      | elapsed: 138.1min\n",
      "[Parallel(n_jobs=-1)]: Done 8400 out of 8400 | elapsed: 161.0min finished\n"
     ]
    },
    {
     "name": "stdout",
     "output_type": "stream",
     "text": [
      "{'bootstrap': True, 'criterion': 'gini', 'max_depth': 80, 'max_features': 12, 'min_samples_leaf': 4, 'n_estimators': 500}\n"
     ]
    }
   ],
   "source": [
    "# RFC Parameters tunning \n",
    "RFC = RandomForestClassifier()\n",
    "\n",
    "rf_param_grid = {\"max_depth\": [None,80,90,100,110],\n",
    "              \"max_features\": [1,2,3,4,5,12,17],\n",
    "              #\"min_samples_split\": [1,3,8,10,12],\n",
    "              \"min_samples_leaf\": [2,3,4,5],\n",
    "              \"bootstrap\": [True],\n",
    "              \"n_estimators\" :[500,1000,2000],\n",
    "              \"criterion\": [\"gini\"]}\n",
    "\n",
    "gsRFC = GridSearchCV(RFC,param_grid = rf_param_grid, cv=kfold, scoring=\"accuracy\", n_jobs= -1, verbose = 1)\n",
    "gsRFC.fit(X_train,y_train)\n",
    "RFC_best = gsRFC.best_estimator_\n",
    "gsRFC.best_score_\n",
    "print(gsRFC.best_params_)\n",
    "\n",
    "# L {'max_depth': 35, 'min_samples_leaf': 3, 'n_estimators': 150} -> 0.83408\n",
    "# {'max_depth': 73, 'min_samples_leaf': 3, 'n_estimators': 170} -> 0.8609\n",
    "#{'bootstrap': True, 'criterion': 'gini', 'max_depth': None, 'max_features': 5, 'min_samples_leaf': 4, 'n_estimators': 2000}\n",
    "#{'bootstrap': True, 'criterion': 'gini', 'max_depth': 90, 'max_features': 17, 'min_samples_leaf': 5, 'n_estimators': 1000}\n",
    "#{'bootstrap': True, 'criterion': 'gini', 'max_depth': 110, 'max_features': 17, 'min_samples_leaf': 3, 'n_estimators': 1000}\n",
    "# {'bootstrap': True, 'criterion': 'gini', 'max_depth': 80, 'max_features': 12, 'min_samples_leaf': 4, 'n_estimators': 500}\n",
    "#y_predicted = clf.predict(X_test)\n",
    "#y_submission = clf.predict(ddf)\n",
    "#accuracy_score(y_test,y_predicted)"
   ]
  },
  {
   "cell_type": "code",
   "execution_count": 49,
   "metadata": {
    "collapsed": false
   },
   "outputs": [
    {
     "data": {
      "text/plain": [
       "0.820627802690583"
      ]
     },
     "execution_count": 49,
     "metadata": {},
     "output_type": "execute_result"
    }
   ],
   "source": [
    "y_predicted = gsRFC.predict(X_test)\n",
    "y_submission = gsRFC.predict(ddf)\n",
    "accuracy_score(y_test,y_predicted)"
   ]
  },
  {
   "cell_type": "code",
   "execution_count": 37,
   "metadata": {
    "collapsed": false
   },
   "outputs": [],
   "source": [
    "#optimized_forest = RandomForestClassifier(n_jobs = -1, max_features='sqrt',n_estimators=170)\n",
    "#optimized_forest.fit(X_train,y_train)\n",
    "#y_predicted = optimized_forest.predict(X_test)\n",
    "#accuracy_score(y_test,y_predicted)"
   ]
  },
  {
   "cell_type": "markdown",
   "metadata": {},
   "source": [
    "## AdaBoostClassifier"
   ]
  },
  {
   "cell_type": "code",
   "execution_count": 38,
   "metadata": {
    "collapsed": false
   },
   "outputs": [
    {
     "name": "stdout",
     "output_type": "stream",
     "text": [
      "Fitting 20 folds for each of 168 candidates, totalling 3360 fits\n"
     ]
    },
    {
     "name": "stderr",
     "output_type": "stream",
     "text": [
      "[Parallel(n_jobs=-1)]: Done  42 tasks      | elapsed:   52.1s\n",
      "[Parallel(n_jobs=-1)]: Done 192 tasks      | elapsed:  5.2min\n",
      "[Parallel(n_jobs=-1)]: Done 442 tasks      | elapsed: 13.6min\n",
      "[Parallel(n_jobs=-1)]: Done 792 tasks      | elapsed: 22.3min\n",
      "[Parallel(n_jobs=-1)]: Done 1242 tasks      | elapsed: 37.7min\n",
      "[Parallel(n_jobs=-1)]: Done 1792 tasks      | elapsed: 53.1min\n",
      "[Parallel(n_jobs=-1)]: Done 2442 tasks      | elapsed: 68.2min\n",
      "[Parallel(n_jobs=-1)]: Done 3192 tasks      | elapsed: 86.7min\n",
      "[Parallel(n_jobs=-1)]: Done 3360 out of 3360 | elapsed: 90.0min finished\n"
     ]
    },
    {
     "name": "stdout",
     "output_type": "stream",
     "text": [
      "{'algorithm': 'SAMME.R', 'base_estimator__criterion': 'gini', 'base_estimator__splitter': 'best', 'learning_rate': 0.01, 'n_estimators': 1000}\n"
     ]
    }
   ],
   "source": [
    "DTC = DecisionTreeClassifier()\n",
    "\n",
    "adaDTC = AdaBoostClassifier(DTC, random_state=7)\n",
    "\n",
    "ada_param_grid = {\"base_estimator__criterion\" : [\"gini\", \"entropy\"],\n",
    "              \"base_estimator__splitter\" :   [\"best\", \"random\"],\n",
    "              \"algorithm\" : [\"SAMME\",\"SAMME.R\"],\n",
    "              \"n_estimators\" :[500,1000,2000],\n",
    "              \"learning_rate\":  [0.0001, 0.001, 0.01, 0.1, 0.2, 0.3,1.5]}\n",
    "\n",
    "gsadaDTC = GridSearchCV(adaDTC,param_grid = ada_param_grid, cv=kfold, scoring=\"accuracy\", n_jobs= -1,verbose = 1)\n",
    "gsadaDTC.fit(X_train,y_train)\n",
    "ada_best = gsadaDTC.best_estimator_\n",
    "gsadaDTC.best_score_\n",
    "print(gsadaDTC.best_params_)\n",
    "\n",
    "#{'algorithm': 'SAMME.R', 'base_estimator__criterion': 'gini', 'base_estimator__splitter': 'best', 'learning_rate': 0.0001, 'n_estimators': 2000}\n",
    "#{'algorithm': 'SAMME', 'base_estimator__criterion': 'entropy', 'base_estimator__splitter': 'best', 'learning_rate': 1.5, 'n_estimators': 1000}\n",
    "#{'algorithm': 'SAMME.R', 'base_estimator__criterion': 'entropy', 'base_estimator__splitter': 'best', 'learning_rate': 0.1, 'n_estimators': 1000}\n",
    "#{'algorithm': 'SAMME.R', 'base_estimator__criterion': 'gini', 'base_estimator__splitter': 'best', 'learning_rate': 0.01, 'n_estimators': 1000}"
   ]
  },
  {
   "cell_type": "code",
   "execution_count": 51,
   "metadata": {
    "collapsed": false
   },
   "outputs": [
    {
     "data": {
      "text/plain": [
       "0.75784753363228696"
      ]
     },
     "execution_count": 51,
     "metadata": {},
     "output_type": "execute_result"
    }
   ],
   "source": [
    "y_predicted = gsadaDTC.predict(X_test)\n",
    "y_submission = gsadaDTC.predict(ddf)\n",
    "accuracy_score(y_test,y_predicted)"
   ]
  },
  {
   "cell_type": "markdown",
   "metadata": {},
   "source": [
    "## ExtraTreesClassifier"
   ]
  },
  {
   "cell_type": "code",
   "execution_count": 40,
   "metadata": {
    "collapsed": false
   },
   "outputs": [
    {
     "name": "stdout",
     "output_type": "stream",
     "text": [
      "Fitting 20 folds for each of 756 candidates, totalling 15120 fits\n"
     ]
    },
    {
     "name": "stderr",
     "output_type": "stream",
     "text": [
      "[Parallel(n_jobs=-1)]: Done  42 tasks      | elapsed:   27.8s\n",
      "[Parallel(n_jobs=-1)]: Done 192 tasks      | elapsed:  2.5min\n",
      "[Parallel(n_jobs=-1)]: Done 442 tasks      | elapsed:  6.0min\n",
      "[Parallel(n_jobs=-1)]: Done 792 tasks      | elapsed: 11.0min\n",
      "[Parallel(n_jobs=-1)]: Done 1242 tasks      | elapsed: 17.8min\n",
      "[Parallel(n_jobs=-1)]: Done 1792 tasks      | elapsed: 25.5min\n",
      "[Parallel(n_jobs=-1)]: Done 2442 tasks      | elapsed: 35.1min\n",
      "[Parallel(n_jobs=-1)]: Done 3192 tasks      | elapsed: 45.8min\n",
      "[Parallel(n_jobs=-1)]: Done 4042 tasks      | elapsed: 58.1min\n",
      "[Parallel(n_jobs=-1)]: Done 4992 tasks      | elapsed: 72.1min\n",
      "[Parallel(n_jobs=-1)]: Done 6042 tasks      | elapsed: 87.0min\n",
      "[Parallel(n_jobs=-1)]: Done 7192 tasks      | elapsed: 103.8min\n",
      "[Parallel(n_jobs=-1)]: Done 8442 tasks      | elapsed: 121.7min\n",
      "[Parallel(n_jobs=-1)]: Done 9792 tasks      | elapsed: 141.6min\n",
      "[Parallel(n_jobs=-1)]: Done 11242 tasks      | elapsed: 163.0min\n",
      "[Parallel(n_jobs=-1)]: Done 12792 tasks      | elapsed: 185.7min\n",
      "[Parallel(n_jobs=-1)]: Done 14442 tasks      | elapsed: 209.5min\n",
      "[Parallel(n_jobs=-1)]: Done 15120 out of 15120 | elapsed: 220.1min finished\n"
     ]
    },
    {
     "name": "stdout",
     "output_type": "stream",
     "text": [
      "{'bootstrap': True, 'criterion': 'gini', 'max_depth': 50, 'max_features': 3, 'min_samples_leaf': 4, 'n_estimators': 1000}\n"
     ]
    }
   ],
   "source": [
    "ExtC = ExtraTreesClassifier()\n",
    "\n",
    "ex_param_grid = {\"n_estimators\":[500,1000,2000],\n",
    "              \"max_depth\":[None,50,80,90,100,110],\n",
    "              \"min_samples_leaf\":[k for k in range(2,5)],\n",
    "            #\"min_samples_split\": [1,3,8,10,12],\n",
    "            \"max_features\": [1,2,3,4,5,12,17],\n",
    "            \"bootstrap\":[True,False],\n",
    "             \"criterion\":[\"gini\"]}\n",
    "                \n",
    "gsExtC = GridSearchCV(ExtC,param_grid = ex_param_grid, cv=kfold, scoring=\"accuracy\", n_jobs= -1, verbose = 1)\n",
    "gsExtC.fit(X_train,y_train)\n",
    "ExtC_best = gsExtC.best_estimator_\n",
    "gsExtC.best_score_\n",
    "print(gsExtC.best_params_)\n",
    "\n",
    "#{'bootstrap': True, 'criterion': 'gini', 'max_depth': 100, 'max_features': 2, 'min_samples_leaf': 3, 'n_estimators': 500}\n",
    "#{'bootstrap': True, 'criterion': 'gini', 'max_depth': 50, 'max_features': 3, 'min_samples_leaf': 4, 'n_estimators': 1000}"
   ]
  },
  {
   "cell_type": "code",
   "execution_count": 52,
   "metadata": {
    "collapsed": false
   },
   "outputs": [
    {
     "data": {
      "text/plain": [
       "0.82959641255605376"
      ]
     },
     "execution_count": 52,
     "metadata": {},
     "output_type": "execute_result"
    }
   ],
   "source": [
    "y_predicted = gsExtC.predict(X_test)\n",
    "y_submission = gsExtC.predict(ddf)\n",
    "accuracy_score(y_test,y_predicted)"
   ]
  },
  {
   "cell_type": "markdown",
   "metadata": {},
   "source": [
    "## GradientBoostingClassifier"
   ]
  },
  {
   "cell_type": "code",
   "execution_count": 42,
   "metadata": {
    "collapsed": false
   },
   "outputs": [
    {
     "name": "stdout",
     "output_type": "stream",
     "text": [
      "Fitting 20 folds for each of 1120 candidates, totalling 22400 fits\n"
     ]
    },
    {
     "name": "stderr",
     "output_type": "stream",
     "text": [
      "[Parallel(n_jobs=4)]: Done  76 tasks      | elapsed:    5.9s\n",
      "[Parallel(n_jobs=4)]: Done 232 tasks      | elapsed:   18.3s\n",
      "[Parallel(n_jobs=4)]: Done 511 tasks      | elapsed:   44.4s\n",
      "[Parallel(n_jobs=4)]: Done 861 tasks      | elapsed:  1.4min\n",
      "[Parallel(n_jobs=4)]: Done 1344 tasks      | elapsed:  2.3min\n",
      "[Parallel(n_jobs=4)]: Done 1924 tasks      | elapsed:  3.2min\n",
      "[Parallel(n_jobs=4)]: Done 2603 tasks      | elapsed:  4.4min\n",
      "[Parallel(n_jobs=4)]: Done 3353 tasks      | elapsed:  5.9min\n",
      "[Parallel(n_jobs=4)]: Done 4260 tasks      | elapsed:  7.4min\n",
      "[Parallel(n_jobs=4)]: Done 5324 tasks      | elapsed:  9.2min\n",
      "[Parallel(n_jobs=4)]: Done 6434 tasks      | elapsed: 11.2min\n",
      "[Parallel(n_jobs=4)]: Done 7660 tasks      | elapsed: 13.4min\n",
      "[Parallel(n_jobs=4)]: Done 8970 tasks      | elapsed: 15.8min\n",
      "[Parallel(n_jobs=4)]: Done 10452 tasks      | elapsed: 18.3min\n",
      "[Parallel(n_jobs=4)]: Done 11961 tasks      | elapsed: 21.0min\n",
      "[Parallel(n_jobs=4)]: Done 13609 tasks      | elapsed: 24.0min\n",
      "[Parallel(n_jobs=4)]: Done 15317 tasks      | elapsed: 26.9min\n",
      "[Parallel(n_jobs=4)]: Done 17197 tasks      | elapsed: 30.3min\n",
      "[Parallel(n_jobs=4)]: Done 19167 tasks      | elapsed: 33.7min\n",
      "[Parallel(n_jobs=4)]: Done 21237 tasks      | elapsed: 37.3min\n",
      "[Parallel(n_jobs=4)]: Done 22400 out of 22400 | elapsed: 39.4min finished\n"
     ]
    },
    {
     "name": "stdout",
     "output_type": "stream",
     "text": [
      "{'learning_rate': 0.1, 'loss': 'deviance', 'max_depth': None, 'max_features': 2, 'min_samples_leaf': 100, 'n_estimators': 1000}\n"
     ]
    }
   ],
   "source": [
    "# Gradient boosting tunning\n",
    "\n",
    "GBC = GradientBoostingClassifier()\n",
    "gb_param_grid = {'loss' : [\"deviance\"],\n",
    "              'n_estimators' : [100,300,500,1000],\n",
    "              'learning_rate': [0.1, 0.05, 0.01,0.001,],\n",
    "              'max_depth': [None,80,90,100,110],\n",
    "              'min_samples_leaf': [100,150],\n",
    "              'max_features': [1,2,3,4,5,12,17]\n",
    "              }\n",
    "\n",
    "gsGBC = GridSearchCV(GBC,param_grid = gb_param_grid, cv=kfold, scoring=\"accuracy\", n_jobs= 4, verbose = 1)\n",
    "gsGBC.fit(X_train,y_train)\n",
    "GBC_best = gsGBC.best_estimator_\n",
    "gsGBC.best_score_\n",
    "print(gsGBC.best_params_)\n",
    "#{'learning_rate': 0.1, 'loss': 'deviance', 'max_depth': None, 'max_features': 12, 'min_samples_leaf': 100, 'n_estimators': 1000}\n",
    "#{'learning_rate': 0.05, 'loss': 'deviance', 'max_depth': None, 'max_features': 4, 'min_samples_leaf': 100, 'n_estimators': 1000}\n",
    "#{'learning_rate': 0.1, 'loss': 'deviance', 'max_depth': None, 'max_features': 2, 'min_samples_leaf': 100, 'n_estimators': 1000}"
   ]
  },
  {
   "cell_type": "code",
   "execution_count": 54,
   "metadata": {
    "collapsed": false
   },
   "outputs": [
    {
     "data": {
      "text/plain": [
       "0.81614349775784756"
      ]
     },
     "execution_count": 54,
     "metadata": {},
     "output_type": "execute_result"
    }
   ],
   "source": [
    "y_predicted = gsGBC.predict(X_test)\n",
    "y_submission = gsGBC.predict(ddf)\n",
    "accuracy_score(y_test,y_predicted)"
   ]
  },
  {
   "cell_type": "markdown",
   "metadata": {},
   "source": [
    "## Kernelized SVM"
   ]
  },
  {
   "cell_type": "markdown",
   "metadata": {},
   "source": [
    "### rbf"
   ]
  },
  {
   "cell_type": "code",
   "execution_count": 44,
   "metadata": {
    "collapsed": false,
    "scrolled": true
   },
   "outputs": [
    {
     "name": "stdout",
     "output_type": "stream",
     "text": [
      "Fitting 20 folds for each of 28 candidates, totalling 560 fits\n"
     ]
    },
    {
     "name": "stderr",
     "output_type": "stream",
     "text": [
      "[Parallel(n_jobs=-1)]: Done  76 tasks      | elapsed:    2.5s\n",
      "[Parallel(n_jobs=-1)]: Done 376 tasks      | elapsed:   11.1s\n"
     ]
    },
    {
     "name": "stdout",
     "output_type": "stream",
     "text": [
      "{'C': 10, 'gamma': 0.01}\n"
     ]
    },
    {
     "name": "stderr",
     "output_type": "stream",
     "text": [
      "[Parallel(n_jobs=-1)]: Done 560 out of 560 | elapsed:   19.8s finished\n"
     ]
    }
   ],
   "source": [
    "scaler = StandardScaler()\n",
    "X_train = scaler.fit_transform(X_train)\n",
    "X_test = scaler.fit_transform(X_test)\n",
    "\n",
    "gammas = [0.01,0.03,0.05,0.1]\n",
    "Cs = [0.001,0.10,0.30,0.50,10,25,35]\n",
    "#weight = ['balanced',{1:2},{1:3},{1:4},{1:5},{1:10}]\n",
    "param_grid = dict(C=Cs,gamma=gammas)\n",
    "grid = GridSearchCV(SVC(kernel='rbf',probability=True),param_grid=param_grid,cv=kfold,scoring=\"accuracy\",n_jobs=-1,verbose=1)\n",
    "grid.fit(X_train,y_train)\n",
    "SVMC_best = grid.best_estimator_\n",
    "grid.best_score_\n",
    "print(grid.best_params_)\n",
    "\n",
    "#y_predicted = grid.predict(X_test)\n",
    "\n",
    "#ddf = scaler.fit_transform(ddf)\n",
    "#y_submission = grid.predict(ddf)\n",
    "#accuracy_score(y_test,y_predicted)\n",
    "\n",
    "# {'C': 25, 'gamma': 0.001, cv=4}\n",
    "#{'C': 0.3, 'gamma': 0.1}\n",
    "#{'C': 0.1, 'gamma': 0.01}\n",
    "#{'C': 10, 'gamma': 0.01}"
   ]
  },
  {
   "cell_type": "code",
   "execution_count": 56,
   "metadata": {
    "collapsed": false
   },
   "outputs": [
    {
     "data": {
      "text/plain": [
       "0.82511210762331844"
      ]
     },
     "execution_count": 56,
     "metadata": {},
     "output_type": "execute_result"
    }
   ],
   "source": [
    "y_predicted = grid.predict(X_test)\n",
    "y_submission = grid.predict(ddf)\n",
    "accuracy_score(y_test,y_predicted)"
   ]
  },
  {
   "cell_type": "code",
   "execution_count": 45,
   "metadata": {
    "collapsed": false
   },
   "outputs": [],
   "source": [
    "votingC = VotingClassifier(estimators = [('rfc',RFC_best), ('extc',ExtC_best),('svc',SVMC_best),\n",
    "                                        ('adac',ada_best),('gbc',GBC_best)], voting='soft',n_jobs=-1)\n",
    "votingC = votingC.fit(X_train,y_train)\n",
    "\n",
    "#y_predicted = votingC.predict(X_test)\n",
    "#accuracy_score(y_test,y_predicted)\n",
    "y_submission = votingC.predict(ddf)\n",
    "#accuracy_score(y_test,y_submission)"
   ]
  },
  {
   "cell_type": "code",
   "execution_count": null,
   "metadata": {
    "collapsed": true
   },
   "outputs": [],
   "source": []
  },
  {
   "cell_type": "markdown",
   "metadata": {},
   "source": [
    "### polynomial"
   ]
  },
  {
   "cell_type": "code",
   "execution_count": 46,
   "metadata": {
    "collapsed": false
   },
   "outputs": [],
   "source": [
    "#scaler = StandardScaler()\n",
    "#X_train = scaler.fit_transform(X_train)\n",
    "#X_test = scaler.fit_transform(X_test)\n",
    "#classifier = SVC(kernel = 'poly')\n",
    "#svm_quick = classifier.fit(X_train,y_train)\n",
    "#y_predicted = svm_quick.predict(X_test)\n",
    "#y_submission = classifier.predict(ddf)\n",
    "#accuracy_score(y_test,y_predicted)"
   ]
  },
  {
   "cell_type": "markdown",
   "metadata": {},
   "source": [
    "## KNN"
   ]
  },
  {
   "cell_type": "code",
   "execution_count": 47,
   "metadata": {
    "collapsed": false
   },
   "outputs": [],
   "source": [
    "#n_folds = 4\n",
    "#metrics = ['minkowski','euclidean','manhattan']\n",
    "#weights = ['uniform','distance']\n",
    "#numNeighbors = np.arange(5,10)\n",
    "#param_grid = dict(metric=metrics,weights=weights,n_neighbors=numNeighbors)\n",
    "#cv = StratifiedKFold(n_folds,shuffle=True)\n",
    "\n",
    "#grid = GridSearchCV(KNeighborsClassifier(),param_grid=param_grid,cv=cv)\n",
    "#grid.fit(X_train,y_train)\n",
    "#print(grid.best_params_)\n",
    "#y_predicted = grid.predict(X_test)\n",
    "#accuracy_score(y_test,y_predicted)\n",
    "\n",
    "#y_submission = grid.predict(ddf)"
   ]
  },
  {
   "cell_type": "code",
   "execution_count": null,
   "metadata": {
    "collapsed": true
   },
   "outputs": [],
   "source": []
  },
  {
   "cell_type": "markdown",
   "metadata": {},
   "source": [
    "# Submission"
   ]
  },
  {
   "cell_type": "code",
   "execution_count": 57,
   "metadata": {
    "collapsed": false
   },
   "outputs": [],
   "source": [
    "my_submission = pd.DataFrame({'PassengerId':y_id,'Survived':y_submission})\n",
    "my_submission.to_csv('submission0018.csv',index=False)"
   ]
  },
  {
   "cell_type": "code",
   "execution_count": null,
   "metadata": {
    "collapsed": true
   },
   "outputs": [],
   "source": []
  }
 ],
 "metadata": {
  "kernelspec": {
   "display_name": "Python 3",
   "language": "python",
   "name": "python3"
  },
  "language_info": {
   "codemirror_mode": {
    "name": "ipython",
    "version": 3
   },
   "file_extension": ".py",
   "mimetype": "text/x-python",
   "name": "python",
   "nbconvert_exporter": "python",
   "pygments_lexer": "ipython3",
   "version": "3.6.0"
  }
 },
 "nbformat": 4,
 "nbformat_minor": 1
}
