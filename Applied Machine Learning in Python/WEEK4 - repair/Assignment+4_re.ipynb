{
 "cells": [
  {
   "cell_type": "markdown",
   "metadata": {
    "colab_type": "text",
    "id": "kRrIWBuhl6dV"
   },
   "source": [
    "## Assignment 4 - Understanding and Predicting Property Maintenance Fines\n",
    "\n",
    "This assignment is based on a data challenge from the Michigan Data Science Team ([MDST](http://midas.umich.edu/mdst/)). \n",
    "\n",
    "The Michigan Data Science Team ([MDST](http://midas.umich.edu/mdst/)) and the Michigan Student Symposium for Interdisciplinary Statistical Sciences ([MSSISS](https://sites.lsa.umich.edu/mssiss/)) have partnered with the City of Detroit to help solve one of the most pressing problems facing Detroit - blight. [Blight violations](http://www.detroitmi.gov/How-Do-I/Report/Blight-Complaint-FAQs) are issued by the city to individuals who allow their properties to remain in a deteriorated condition. Every year, the city of Detroit issues millions of dollars in fines to residents and every year, many of these fines remain unpaid. Enforcing unpaid blight fines is a costly and tedious process, so the city wants to know: how can we increase blight ticket compliance?\n",
    "\n",
    "The first step in answering this question is understanding when and why a resident might fail to comply with a blight ticket. This is where predictive modeling comes in. For this assignment, your task is to predict whether a given blight ticket will be paid on time.\n",
    "\n",
    "All data for this assignment has been provided to us through the [Detroit Open Data Portal](https://data.detroitmi.gov/). **Only the data already included in your Coursera directory can be used for training the model for this assignment.** Nonetheless, we encourage you to look into data from other Detroit datasets to help inform feature creation and model selection. We recommend taking a look at the following related datasets:\n",
    "\n",
    "* [Building Permits](https://data.detroitmi.gov/Property-Parcels/Building-Permits/xw2a-a7tf)\n",
    "* [Trades Permits](https://data.detroitmi.gov/Property-Parcels/Trades-Permits/635b-dsgv)\n",
    "* [Improve Detroit: Submitted Issues](https://data.detroitmi.gov/Government/Improve-Detroit-Submitted-Issues/fwz3-w3yn)\n",
    "* [DPD: Citizen Complaints](https://data.detroitmi.gov/Public-Safety/DPD-Citizen-Complaints-2016/kahe-efs3)\n",
    "* [Parcel Map](https://data.detroitmi.gov/Property-Parcels/Parcel-Map/fxkw-udwf)\n",
    "\n",
    "___\n",
    "\n",
    "We provide you with two data files for use in training and validating your models: train.csv and test.csv. Each row in these two files corresponds to a single blight ticket, and includes information about when, why, and to whom each ticket was issued. The target variable is compliance, which is True if the ticket was paid early, on time, or within one month of the hearing data, False if the ticket was paid after the hearing date or not at all, and Null if the violator was found not responsible. Compliance, as well as a handful of other variables that will not be available at test-time, are only included in train.csv.\n",
    "\n",
    "Note: All tickets where the violators were found not responsible are not considered during evaluation. They are included in the training set as an additional source of data for visualization, and to enable unsupervised and semi-supervised approaches. However, they are not included in the test set.\n",
    "\n",
    "<br>\n",
    "\n",
    "**File descriptions** (Use only this data for training your model!)\n",
    "\n",
    "    train.csv - the training set (all tickets issued 2004-2011)\n",
    "    test.csv - the test set (all tickets issued 2012-2016)\n",
    "    addresses.csv & latlons.csv - mapping from ticket id to addresses, and from addresses to lat/lon coordinates. \n",
    "     Note: misspelled addresses may be incorrectly geolocated.\n",
    "\n",
    "<br>\n",
    "\n",
    "**Data fields**\n",
    "\n",
    "train.csv & test.csv\n",
    "\n",
    "    ticket_id - unique identifier for tickets\n",
    "    agency_name - Agency that issued the ticket\n",
    "    inspector_name - Name of inspector that issued the ticket\n",
    "    violator_name - Name of the person/organization that the ticket was issued to\n",
    "    violation_street_number, violation_street_name, violation_zip_code - Address where the violation occurred\n",
    "    mailing_address_str_number, mailing_address_str_name, city, state, zip_code, non_us_str_code, country - Mailing address of the violator\n",
    "    ticket_issued_date - Date and time the ticket was issued\n",
    "    hearing_date - Date and time the violator's hearing was scheduled\n",
    "    violation_code, violation_description - Type of violation\n",
    "    disposition - Judgment and judgement type\n",
    "    fine_amount - Violation fine amount, excluding fees\n",
    "    admin_fee - $20 fee assigned to responsible judgments\n",
    "state_fee - $10 fee assigned to responsible judgments\n",
    "    late_fee - 10% fee assigned to responsible judgments\n",
    "    discount_amount - discount applied, if any\n",
    "    clean_up_cost - DPW clean-up or graffiti removal cost\n",
    "    judgment_amount - Sum of all fines and fees\n",
    "    grafitti_status - Flag for graffiti violations\n",
    "    \n",
    "train.csv only\n",
    "\n",
    "    payment_amount - Amount paid, if any\n",
    "    payment_date - Date payment was made, if it was received\n",
    "    payment_status - Current payment status as of Feb 1 2017\n",
    "    balance_due - Fines and fees still owed\n",
    "    collection_status - Flag for payments in collections\n",
    "    compliance [target variable for prediction] \n",
    "     Null = Not responsible\n",
    "     0 = Responsible, non-compliant\n",
    "     1 = Responsible, compliant\n",
    "    compliance_detail - More information on why each ticket was marked compliant or non-compliant\n",
    "\n",
    "\n",
    "___\n",
    "\n",
    "## Evaluation\n",
    "\n",
    "Your predictions will be given as the probability that the corresponding blight ticket will be paid on time.\n",
    "\n",
    "The evaluation metric for this assignment is the Area Under the ROC Curve (AUC). \n",
    "\n",
    "Your grade will be based on the AUC score computed for your classifier. A model which with an AUROC of 0.7 passes this assignment, over 0.75 will recieve full points.\n",
    "___\n",
    "\n",
    "For this assignment, create a function that trains a model to predict blight ticket compliance in Detroit using `train.csv`. Using this model, return a series of length 61001 with the data being the probability that each corresponding ticket from `test.csv` will be paid, and the index being the ticket_id.\n",
    "\n",
    "Example:\n",
    "\n",
    "    ticket_id\n",
    "       284932    0.531842\n",
    "       285362    0.401958\n",
    "       285361    0.105928\n",
    "       285338    0.018572\n",
    "                 ...\n",
    "       376499    0.208567\n",
    "       376500    0.818759\n",
    "       369851    0.018528\n",
    "       Name: compliance, dtype: float32"
   ]
  },
  {
   "cell_type": "markdown",
   "metadata": {
    "colab_type": "text",
    "id": "Xz80k1qFldYG"
   },
   "source": [
    "## 0. Google Colaboratory\n",
    "\n",
    "This step is about how to open the files in my Google drive at Google Colaboratory. If you open the file at local machine, comment out the code and ignore this step."
   ]
  },
  {
   "cell_type": "code",
   "execution_count": 1,
   "metadata": {
    "colab": {
     "base_uri": "https://localhost:8080/",
     "height": 119
    },
    "colab_type": "code",
    "collapsed": false,
    "id": "UY04n4X2mICl",
    "outputId": "160ebc5f-b58e-4484-bca7-75cc3c6b3259"
   },
   "outputs": [
    {
     "name": "stdout",
     "output_type": "stream",
     "text": [
      "gpg: keybox '/tmp/tmp3lwp13ct/pubring.gpg' created\n",
      "gpg: /tmp/tmp3lwp13ct/trustdb.gpg: trustdb created\n",
      "gpg: key AD5F235DF639B041: public key \"Launchpad PPA for Alessandro Strada\" imported\n",
      "gpg: Total number processed: 1\n",
      "gpg:               imported: 1\n",
      "Warning: apt-key output should not be parsed (stdout is not a terminal)\n"
     ]
    }
   ],
   "source": [
    "# Install a Drive FUSE wrapper.\n",
    "# https://github.com/astrada/google-drive-ocamlfuse\n",
    "\n",
    "!apt-get install -y -qq software-properties-common python-software-properties module-init-tools\n",
    "!add-apt-repository -y ppa:alessandro-strada/ppa 2>&1 > /dev/null\n",
    "!apt-get update -qq 2>&1 > /dev/null\n",
    "!apt-get -y install -qq google-drive-ocamlfuse fuse"
   ]
  },
  {
   "cell_type": "code",
   "execution_count": 0,
   "metadata": {
    "colab": {},
    "colab_type": "code",
    "collapsed": true,
    "id": "gvPGNtUyrKMj"
   },
   "outputs": [],
   "source": [
    "from google.colab import auth\n",
    "auth.authenticate_user()"
   ]
  },
  {
   "cell_type": "code",
   "execution_count": 3,
   "metadata": {
    "colab": {
     "base_uri": "https://localhost:8080/",
     "height": 34
    },
    "colab_type": "code",
    "collapsed": false,
    "id": "lA53Mr9trMG5",
    "outputId": "37f5be0c-8b23-42d8-da88-a1dbc94b4ded"
   },
   "outputs": [
    {
     "name": "stdout",
     "output_type": "stream",
     "text": [
      "··········\n"
     ]
    }
   ],
   "source": [
    "from oauth2client.client import GoogleCredentials\n",
    "creds = GoogleCredentials.get_application_default()\n",
    "import getpass\n",
    "!google-drive-ocamlfuse -headless -id={creds.client_id} -secret={creds.client_secret} < /dev/null 2>&1 | grep URL\n",
    "vcode = getpass.getpass()\n",
    "!echo {vcode} | google-drive-ocamlfuse -headless -id={creds.client_id} -secret={creds.client_secret}"
   ]
  },
  {
   "cell_type": "code",
   "execution_count": 4,
   "metadata": {
    "colab": {
     "base_uri": "https://localhost:8080/",
     "height": 51
    },
    "colab_type": "code",
    "collapsed": false,
    "id": "qxbhkYcTrObd",
    "outputId": "f0e93fa4-fa4d-47e2-a0cf-58b7c63badaa"
   },
   "outputs": [
    {
     "name": "stdout",
     "output_type": "stream",
     "text": [
      "fuse: mountpoint is not empty\r\n",
      "fuse: if you are sure this is safe, use the 'nonempty' mount option\r\n"
     ]
    }
   ],
   "source": [
    "!mkdir -p my_drive\n",
    "!google-drive-ocamlfuse my_drive"
   ]
  },
  {
   "cell_type": "code",
   "execution_count": 0,
   "metadata": {
    "colab": {},
    "colab_type": "code",
    "collapsed": true,
    "id": "9L4PFDk_rRXU"
   },
   "outputs": [],
   "source": [
    "!mkdir -p my_drive/Detroit"
   ]
  },
  {
   "cell_type": "code",
   "execution_count": 0,
   "metadata": {
    "colab": {},
    "colab_type": "code",
    "collapsed": true,
    "id": "QOEmBWYhmZbq"
   },
   "outputs": [],
   "source": []
  },
  {
   "cell_type": "markdown",
   "metadata": {
    "colab_type": "text",
    "id": "m-cZwAuomUt1"
   },
   "source": [
    "## 1. Reading the data"
   ]
  },
  {
   "cell_type": "code",
   "execution_count": 6,
   "metadata": {
    "colab": {
     "base_uri": "https://localhost:8080/",
     "height": 34
    },
    "colab_type": "code",
    "collapsed": false,
    "id": "8q5jRC7UmLMo",
    "outputId": "d5cc1e85-e2e8-4e21-a465-c0450ce21371"
   },
   "outputs": [
    {
     "name": "stdout",
     "output_type": "stream",
     "text": [
      "training set: (250306, 34) , test set: (61001, 27) , latlons: (121769, 3) , address: (311307, 2)\n"
     ]
    }
   ],
   "source": [
    "# Import libraries\n",
    "import numpy as np\n",
    "import pandas as pd\n",
    "import warnings\n",
    "warnings.filterwarnings('ignore')\n",
    "import re\n",
    "\n",
    "from collections import Counter\n",
    "%matplotlib inline\n",
    "\n",
    "# Read files.\n",
    "# The training data is indeed not encoded as UTF-8 so note the encoding parameter.\n",
    "train = pd.read_csv('/content/my_drive/Detroit/train.csv', encoding='cp1252')\n",
    "test = pd.read_csv('/content/my_drive/Detroit/test.csv')\n",
    "\n",
    "latlons = pd.read_csv('/content/my_drive/Detroit/latlons.csv')\n",
    "address = pd.read_csv('/content/my_drive/Detroit/addresses.csv')\n",
    "\n",
    "print('training set:', train.shape,',', 'test set:', test.shape,',', 'latlons:',latlons.shape,',', 'address:',address.shape)"
   ]
  },
  {
   "cell_type": "code",
   "execution_count": 0,
   "metadata": {
    "colab": {},
    "colab_type": "code",
    "collapsed": true,
    "id": "-PboHcmPmLPY"
   },
   "outputs": [],
   "source": []
  },
  {
   "cell_type": "markdown",
   "metadata": {
    "colab_type": "text",
    "id": "Avf13U_Sl6dk"
   },
   "source": [
    "## 2. Data Cleaning"
   ]
  },
  {
   "cell_type": "markdown",
   "metadata": {
    "colab_type": "text",
    "id": "ID6jkAGgl6dm"
   },
   "source": [
    "### 2.1 Data Leakage\n",
    "\n",
    "We need to remove all data just prior to the event of interest, in our case, 'payment_amount','balance_due', 'payment_due', 'payment_status', etc. These columns will cause our model too optimistic, which leads to a overfitting problem since this kind of information will not be given with unseen data in practice. Also without knowing the result of the status of tickets will be paid on time, there is no way we can know them. "
   ]
  },
  {
   "cell_type": "code",
   "execution_count": 7,
   "metadata": {
    "colab": {
     "base_uri": "https://localhost:8080/",
     "height": 34
    },
    "colab_type": "code",
    "collapsed": false,
    "id": "4bEE1Iq3l6dn",
    "outputId": "5a4849c6-90c1-4185-c600-58bf9499adb3"
   },
   "outputs": [
    {
     "name": "stdout",
     "output_type": "stream",
     "text": [
      "['payment_amount', 'balance_due', 'payment_date', 'payment_status', 'collection_status', 'compliance_detail']\n"
     ]
    }
   ],
   "source": [
    "# In order to avoid either data leakage or too many missing values, remove some columns does not exist \n",
    "# in test dataset except for the target variable 'compliance'.\n",
    "elimi_col = [col for col in train.columns if(col not in test.columns)][:-1]\n",
    "print(elimi_col)\n",
    "\n",
    "train = train.drop(elimi_col, axis=1)"
   ]
  },
  {
   "cell_type": "code",
   "execution_count": 8,
   "metadata": {
    "colab": {
     "base_uri": "https://localhost:8080/",
     "height": 204
    },
    "colab_type": "code",
    "collapsed": false,
    "id": "PgC4Y0JWl6dt",
    "outputId": "c31c388c-51ac-43d9-b9ac-5a2aaa838bff"
   },
   "outputs": [
    {
     "data": {
      "text/html": [
       "<div>\n",
       "<style scoped>\n",
       "    .dataframe tbody tr th:only-of-type {\n",
       "        vertical-align: middle;\n",
       "    }\n",
       "\n",
       "    .dataframe tbody tr th {\n",
       "        vertical-align: top;\n",
       "    }\n",
       "\n",
       "    .dataframe thead th {\n",
       "        text-align: right;\n",
       "    }\n",
       "</style>\n",
       "<table border=\"1\" class=\"dataframe\">\n",
       "  <thead>\n",
       "    <tr style=\"text-align: right;\">\n",
       "      <th></th>\n",
       "      <th>ticket_id</th>\n",
       "      <th>address</th>\n",
       "    </tr>\n",
       "  </thead>\n",
       "  <tbody>\n",
       "    <tr>\n",
       "      <th>0</th>\n",
       "      <td>22056</td>\n",
       "      <td>2900 tyler, Detroit MI</td>\n",
       "    </tr>\n",
       "    <tr>\n",
       "      <th>1</th>\n",
       "      <td>27586</td>\n",
       "      <td>4311 central, Detroit MI</td>\n",
       "    </tr>\n",
       "    <tr>\n",
       "      <th>2</th>\n",
       "      <td>22062</td>\n",
       "      <td>1449 longfellow, Detroit MI</td>\n",
       "    </tr>\n",
       "    <tr>\n",
       "      <th>3</th>\n",
       "      <td>22084</td>\n",
       "      <td>1441 longfellow, Detroit MI</td>\n",
       "    </tr>\n",
       "    <tr>\n",
       "      <th>4</th>\n",
       "      <td>22093</td>\n",
       "      <td>2449 churchill, Detroit MI</td>\n",
       "    </tr>\n",
       "  </tbody>\n",
       "</table>\n",
       "</div>"
      ],
      "text/plain": [
       "   ticket_id                      address\n",
       "0      22056       2900 tyler, Detroit MI\n",
       "1      27586     4311 central, Detroit MI\n",
       "2      22062  1449 longfellow, Detroit MI\n",
       "3      22084  1441 longfellow, Detroit MI\n",
       "4      22093   2449 churchill, Detroit MI"
      ]
     },
     "execution_count": 8,
     "metadata": {
      "tags": []
     },
     "output_type": "execute_result"
    }
   ],
   "source": [
    "address.head()"
   ]
  },
  {
   "cell_type": "code",
   "execution_count": 9,
   "metadata": {
    "colab": {
     "base_uri": "https://localhost:8080/",
     "height": 204
    },
    "colab_type": "code",
    "collapsed": false,
    "id": "hLc0ZUvjl6dx",
    "outputId": "ba24a801-a7e9-4e6a-ac1a-f68f4364a614"
   },
   "outputs": [
    {
     "data": {
      "text/html": [
       "<div>\n",
       "<style scoped>\n",
       "    .dataframe tbody tr th:only-of-type {\n",
       "        vertical-align: middle;\n",
       "    }\n",
       "\n",
       "    .dataframe tbody tr th {\n",
       "        vertical-align: top;\n",
       "    }\n",
       "\n",
       "    .dataframe thead th {\n",
       "        text-align: right;\n",
       "    }\n",
       "</style>\n",
       "<table border=\"1\" class=\"dataframe\">\n",
       "  <thead>\n",
       "    <tr style=\"text-align: right;\">\n",
       "      <th></th>\n",
       "      <th>address</th>\n",
       "      <th>lat</th>\n",
       "      <th>lon</th>\n",
       "    </tr>\n",
       "  </thead>\n",
       "  <tbody>\n",
       "    <tr>\n",
       "      <th>0</th>\n",
       "      <td>4300 rosa parks blvd, Detroit MI 48208</td>\n",
       "      <td>42.346169</td>\n",
       "      <td>-83.079962</td>\n",
       "    </tr>\n",
       "    <tr>\n",
       "      <th>1</th>\n",
       "      <td>14512 sussex, Detroit MI</td>\n",
       "      <td>42.394657</td>\n",
       "      <td>-83.194265</td>\n",
       "    </tr>\n",
       "    <tr>\n",
       "      <th>2</th>\n",
       "      <td>3456 garland, Detroit MI</td>\n",
       "      <td>42.373779</td>\n",
       "      <td>-82.986228</td>\n",
       "    </tr>\n",
       "    <tr>\n",
       "      <th>3</th>\n",
       "      <td>5787 wayburn, Detroit MI</td>\n",
       "      <td>42.403342</td>\n",
       "      <td>-82.957805</td>\n",
       "    </tr>\n",
       "    <tr>\n",
       "      <th>4</th>\n",
       "      <td>5766 haverhill, Detroit MI</td>\n",
       "      <td>42.407255</td>\n",
       "      <td>-82.946295</td>\n",
       "    </tr>\n",
       "  </tbody>\n",
       "</table>\n",
       "</div>"
      ],
      "text/plain": [
       "                                  address        lat        lon\n",
       "0  4300 rosa parks blvd, Detroit MI 48208  42.346169 -83.079962\n",
       "1                14512 sussex, Detroit MI  42.394657 -83.194265\n",
       "2                3456 garland, Detroit MI  42.373779 -82.986228\n",
       "3                5787 wayburn, Detroit MI  42.403342 -82.957805\n",
       "4              5766 haverhill, Detroit MI  42.407255 -82.946295"
      ]
     },
     "execution_count": 9,
     "metadata": {
      "tags": []
     },
     "output_type": "execute_result"
    }
   ],
   "source": [
    "latlons.head()"
   ]
  },
  {
   "cell_type": "markdown",
   "metadata": {
    "colab_type": "text",
    "id": "NChq8ZIhl6d4"
   },
   "source": [
    "By just looking at the first sight, it appears that we can merge address and latlons dataframes by the common column \"address\"."
   ]
  },
  {
   "cell_type": "code",
   "execution_count": 0,
   "metadata": {
    "colab": {},
    "colab_type": "code",
    "collapsed": true,
    "id": "KuN_o7O0l6d5"
   },
   "outputs": [],
   "source": []
  },
  {
   "cell_type": "markdown",
   "metadata": {
    "colab_type": "text",
    "id": "iWSj6Snzl6d-"
   },
   "source": [
    "### 2.2 Merging"
   ]
  },
  {
   "cell_type": "code",
   "execution_count": 10,
   "metadata": {
    "colab": {
     "base_uri": "https://localhost:8080/",
     "height": 204
    },
    "colab_type": "code",
    "collapsed": false,
    "id": "E2RnZvefl6eA",
    "outputId": "8ed0f9a7-02e3-409c-e07c-5579949786ee"
   },
   "outputs": [
    {
     "data": {
      "text/html": [
       "<div>\n",
       "<style scoped>\n",
       "    .dataframe tbody tr th:only-of-type {\n",
       "        vertical-align: middle;\n",
       "    }\n",
       "\n",
       "    .dataframe tbody tr th {\n",
       "        vertical-align: top;\n",
       "    }\n",
       "\n",
       "    .dataframe thead th {\n",
       "        text-align: right;\n",
       "    }\n",
       "</style>\n",
       "<table border=\"1\" class=\"dataframe\">\n",
       "  <thead>\n",
       "    <tr style=\"text-align: right;\">\n",
       "      <th></th>\n",
       "      <th>ticket_id</th>\n",
       "      <th>address</th>\n",
       "      <th>lat</th>\n",
       "      <th>lon</th>\n",
       "    </tr>\n",
       "  </thead>\n",
       "  <tbody>\n",
       "    <tr>\n",
       "      <th>0</th>\n",
       "      <td>22056</td>\n",
       "      <td>2900 tyler, Detroit MI</td>\n",
       "      <td>42.390729</td>\n",
       "      <td>-83.124268</td>\n",
       "    </tr>\n",
       "    <tr>\n",
       "      <th>1</th>\n",
       "      <td>77242</td>\n",
       "      <td>2900 tyler, Detroit MI</td>\n",
       "      <td>42.390729</td>\n",
       "      <td>-83.124268</td>\n",
       "    </tr>\n",
       "    <tr>\n",
       "      <th>2</th>\n",
       "      <td>77243</td>\n",
       "      <td>2900 tyler, Detroit MI</td>\n",
       "      <td>42.390729</td>\n",
       "      <td>-83.124268</td>\n",
       "    </tr>\n",
       "    <tr>\n",
       "      <th>3</th>\n",
       "      <td>103945</td>\n",
       "      <td>2900 tyler, Detroit MI</td>\n",
       "      <td>42.390729</td>\n",
       "      <td>-83.124268</td>\n",
       "    </tr>\n",
       "    <tr>\n",
       "      <th>4</th>\n",
       "      <td>138219</td>\n",
       "      <td>2900 tyler, Detroit MI</td>\n",
       "      <td>42.390729</td>\n",
       "      <td>-83.124268</td>\n",
       "    </tr>\n",
       "  </tbody>\n",
       "</table>\n",
       "</div>"
      ],
      "text/plain": [
       "   ticket_id                 address        lat        lon\n",
       "0      22056  2900 tyler, Detroit MI  42.390729 -83.124268\n",
       "1      77242  2900 tyler, Detroit MI  42.390729 -83.124268\n",
       "2      77243  2900 tyler, Detroit MI  42.390729 -83.124268\n",
       "3     103945  2900 tyler, Detroit MI  42.390729 -83.124268\n",
       "4     138219  2900 tyler, Detroit MI  42.390729 -83.124268"
      ]
     },
     "execution_count": 10,
     "metadata": {
      "tags": []
     },
     "output_type": "execute_result"
    }
   ],
   "source": [
    "loca = address.merge(latlons, how = 'outer', left_on = 'address', right_on = 'address')\n",
    "loca.head()"
   ]
  },
  {
   "cell_type": "markdown",
   "metadata": {
    "colab_type": "text",
    "id": "OVcuvE8Jl6eD"
   },
   "source": [
    "Note that a same property can have multiple ticket_id (tickets)."
   ]
  },
  {
   "cell_type": "code",
   "execution_count": 11,
   "metadata": {
    "colab": {
     "base_uri": "https://localhost:8080/",
     "height": 593
    },
    "colab_type": "code",
    "collapsed": false,
    "id": "HG0l-d5Jl6eE",
    "outputId": "f907b097-c8aa-4f7a-effa-f7afd2df1e4a"
   },
   "outputs": [
    {
     "data": {
      "text/html": [
       "<div>\n",
       "<style scoped>\n",
       "    .dataframe tbody tr th:only-of-type {\n",
       "        vertical-align: middle;\n",
       "    }\n",
       "\n",
       "    .dataframe tbody tr th {\n",
       "        vertical-align: top;\n",
       "    }\n",
       "\n",
       "    .dataframe thead th {\n",
       "        text-align: right;\n",
       "    }\n",
       "</style>\n",
       "<table border=\"1\" class=\"dataframe\">\n",
       "  <thead>\n",
       "    <tr style=\"text-align: right;\">\n",
       "      <th></th>\n",
       "      <th>ticket_id</th>\n",
       "      <th>agency_name</th>\n",
       "      <th>inspector_name</th>\n",
       "      <th>violator_name</th>\n",
       "      <th>violation_street_number</th>\n",
       "      <th>violation_street_name</th>\n",
       "      <th>violation_zip_code</th>\n",
       "      <th>mailing_address_str_number</th>\n",
       "      <th>mailing_address_str_name</th>\n",
       "      <th>city</th>\n",
       "      <th>...</th>\n",
       "      <th>state_fee</th>\n",
       "      <th>late_fee</th>\n",
       "      <th>discount_amount</th>\n",
       "      <th>clean_up_cost</th>\n",
       "      <th>judgment_amount</th>\n",
       "      <th>grafitti_status</th>\n",
       "      <th>compliance</th>\n",
       "      <th>address</th>\n",
       "      <th>lat</th>\n",
       "      <th>lon</th>\n",
       "    </tr>\n",
       "  </thead>\n",
       "  <tbody>\n",
       "    <tr>\n",
       "      <th>0</th>\n",
       "      <td>22056</td>\n",
       "      <td>Buildings, Safety Engineering &amp; Env Department</td>\n",
       "      <td>Sims, Martinzie</td>\n",
       "      <td>INVESTMENT INC., MIDWEST MORTGAGE</td>\n",
       "      <td>2900.0</td>\n",
       "      <td>TYLER</td>\n",
       "      <td>NaN</td>\n",
       "      <td>3.0</td>\n",
       "      <td>S. WICKER</td>\n",
       "      <td>CHICAGO</td>\n",
       "      <td>...</td>\n",
       "      <td>10.0</td>\n",
       "      <td>25.0</td>\n",
       "      <td>0.0</td>\n",
       "      <td>0.0</td>\n",
       "      <td>305.0</td>\n",
       "      <td>NaN</td>\n",
       "      <td>0.0</td>\n",
       "      <td>2900 tyler, Detroit MI</td>\n",
       "      <td>42.390729</td>\n",
       "      <td>-83.124268</td>\n",
       "    </tr>\n",
       "    <tr>\n",
       "      <th>1</th>\n",
       "      <td>27586</td>\n",
       "      <td>Buildings, Safety Engineering &amp; Env Department</td>\n",
       "      <td>Williams, Darrin</td>\n",
       "      <td>Michigan, Covenant House</td>\n",
       "      <td>4311.0</td>\n",
       "      <td>CENTRAL</td>\n",
       "      <td>NaN</td>\n",
       "      <td>2959.0</td>\n",
       "      <td>Martin Luther King</td>\n",
       "      <td>Detroit</td>\n",
       "      <td>...</td>\n",
       "      <td>10.0</td>\n",
       "      <td>75.0</td>\n",
       "      <td>0.0</td>\n",
       "      <td>0.0</td>\n",
       "      <td>855.0</td>\n",
       "      <td>NaN</td>\n",
       "      <td>1.0</td>\n",
       "      <td>4311 central, Detroit MI</td>\n",
       "      <td>42.326937</td>\n",
       "      <td>-83.135118</td>\n",
       "    </tr>\n",
       "    <tr>\n",
       "      <th>2</th>\n",
       "      <td>22062</td>\n",
       "      <td>Buildings, Safety Engineering &amp; Env Department</td>\n",
       "      <td>Sims, Martinzie</td>\n",
       "      <td>SANDERS, DERRON</td>\n",
       "      <td>1449.0</td>\n",
       "      <td>LONGFELLOW</td>\n",
       "      <td>NaN</td>\n",
       "      <td>23658.0</td>\n",
       "      <td>P.O. BOX</td>\n",
       "      <td>DETROIT</td>\n",
       "      <td>...</td>\n",
       "      <td>0.0</td>\n",
       "      <td>0.0</td>\n",
       "      <td>0.0</td>\n",
       "      <td>0.0</td>\n",
       "      <td>0.0</td>\n",
       "      <td>NaN</td>\n",
       "      <td>NaN</td>\n",
       "      <td>1449 longfellow, Detroit MI</td>\n",
       "      <td>42.380516</td>\n",
       "      <td>-83.096069</td>\n",
       "    </tr>\n",
       "    <tr>\n",
       "      <th>3</th>\n",
       "      <td>22084</td>\n",
       "      <td>Buildings, Safety Engineering &amp; Env Department</td>\n",
       "      <td>Sims, Martinzie</td>\n",
       "      <td>MOROSI, MIKE</td>\n",
       "      <td>1441.0</td>\n",
       "      <td>LONGFELLOW</td>\n",
       "      <td>NaN</td>\n",
       "      <td>5.0</td>\n",
       "      <td>ST. CLAIR</td>\n",
       "      <td>DETROIT</td>\n",
       "      <td>...</td>\n",
       "      <td>0.0</td>\n",
       "      <td>0.0</td>\n",
       "      <td>0.0</td>\n",
       "      <td>0.0</td>\n",
       "      <td>0.0</td>\n",
       "      <td>NaN</td>\n",
       "      <td>NaN</td>\n",
       "      <td>1441 longfellow, Detroit MI</td>\n",
       "      <td>42.380570</td>\n",
       "      <td>-83.095919</td>\n",
       "    </tr>\n",
       "    <tr>\n",
       "      <th>4</th>\n",
       "      <td>22093</td>\n",
       "      <td>Buildings, Safety Engineering &amp; Env Department</td>\n",
       "      <td>Sims, Martinzie</td>\n",
       "      <td>NATHANIEL, NEAL</td>\n",
       "      <td>2449.0</td>\n",
       "      <td>CHURCHILL</td>\n",
       "      <td>NaN</td>\n",
       "      <td>7449.0</td>\n",
       "      <td>CHURCHILL</td>\n",
       "      <td>DETROIT</td>\n",
       "      <td>...</td>\n",
       "      <td>0.0</td>\n",
       "      <td>0.0</td>\n",
       "      <td>0.0</td>\n",
       "      <td>0.0</td>\n",
       "      <td>0.0</td>\n",
       "      <td>NaN</td>\n",
       "      <td>NaN</td>\n",
       "      <td>2449 churchill, Detroit MI</td>\n",
       "      <td>42.145257</td>\n",
       "      <td>-83.208233</td>\n",
       "    </tr>\n",
       "  </tbody>\n",
       "</table>\n",
       "<p>5 rows × 31 columns</p>\n",
       "</div>"
      ],
      "text/plain": [
       "   ticket_id                                     agency_name  \\\n",
       "0      22056  Buildings, Safety Engineering & Env Department   \n",
       "1      27586  Buildings, Safety Engineering & Env Department   \n",
       "2      22062  Buildings, Safety Engineering & Env Department   \n",
       "3      22084  Buildings, Safety Engineering & Env Department   \n",
       "4      22093  Buildings, Safety Engineering & Env Department   \n",
       "\n",
       "     inspector_name                      violator_name  \\\n",
       "0   Sims, Martinzie  INVESTMENT INC., MIDWEST MORTGAGE   \n",
       "1  Williams, Darrin           Michigan, Covenant House   \n",
       "2   Sims, Martinzie                    SANDERS, DERRON   \n",
       "3   Sims, Martinzie                       MOROSI, MIKE   \n",
       "4   Sims, Martinzie                    NATHANIEL, NEAL   \n",
       "\n",
       "   violation_street_number violation_street_name  violation_zip_code  \\\n",
       "0                   2900.0                 TYLER                 NaN   \n",
       "1                   4311.0               CENTRAL                 NaN   \n",
       "2                   1449.0            LONGFELLOW                 NaN   \n",
       "3                   1441.0            LONGFELLOW                 NaN   \n",
       "4                   2449.0             CHURCHILL                 NaN   \n",
       "\n",
       "   mailing_address_str_number mailing_address_str_name     city    ...      \\\n",
       "0                         3.0                S. WICKER  CHICAGO    ...       \n",
       "1                      2959.0       Martin Luther King  Detroit    ...       \n",
       "2                     23658.0                 P.O. BOX  DETROIT    ...       \n",
       "3                         5.0                ST. CLAIR  DETROIT    ...       \n",
       "4                      7449.0                CHURCHILL  DETROIT    ...       \n",
       "\n",
       "  state_fee late_fee discount_amount clean_up_cost judgment_amount  \\\n",
       "0      10.0     25.0             0.0           0.0           305.0   \n",
       "1      10.0     75.0             0.0           0.0           855.0   \n",
       "2       0.0      0.0             0.0           0.0             0.0   \n",
       "3       0.0      0.0             0.0           0.0             0.0   \n",
       "4       0.0      0.0             0.0           0.0             0.0   \n",
       "\n",
       "  grafitti_status compliance                      address        lat  \\\n",
       "0             NaN        0.0       2900 tyler, Detroit MI  42.390729   \n",
       "1             NaN        1.0     4311 central, Detroit MI  42.326937   \n",
       "2             NaN        NaN  1449 longfellow, Detroit MI  42.380516   \n",
       "3             NaN        NaN  1441 longfellow, Detroit MI  42.380570   \n",
       "4             NaN        NaN   2449 churchill, Detroit MI  42.145257   \n",
       "\n",
       "         lon  \n",
       "0 -83.124268  \n",
       "1 -83.135118  \n",
       "2 -83.096069  \n",
       "3 -83.095919  \n",
       "4 -83.208233  \n",
       "\n",
       "[5 rows x 31 columns]"
      ]
     },
     "execution_count": 11,
     "metadata": {
      "tags": []
     },
     "output_type": "execute_result"
    }
   ],
   "source": [
    "train = train.merge(loca, how = 'inner', left_on = 'ticket_id', right_on = 'ticket_id')\n",
    "test = test.merge(loca, how = 'inner',left_on = 'ticket_id', right_on = 'ticket_id')\n",
    "train.head()"
   ]
  },
  {
   "cell_type": "code",
   "execution_count": 12,
   "metadata": {
    "colab": {
     "base_uri": "https://localhost:8080/",
     "height": 51
    },
    "colab_type": "code",
    "collapsed": false,
    "id": "SgXyPadkl6eK",
    "outputId": "88eba76e-ec2e-4666-c9cd-ba3ff35a9628"
   },
   "outputs": [
    {
     "name": "stdout",
     "output_type": "stream",
     "text": [
      "training set: (250306, 31)\n",
      "test set: (61001, 30)\n"
     ]
    }
   ],
   "source": [
    "print('training set:', train.shape)\n",
    "print(\"test set:\",test.shape)"
   ]
  },
  {
   "cell_type": "code",
   "execution_count": 0,
   "metadata": {
    "colab": {},
    "colab_type": "code",
    "collapsed": true,
    "id": "FmIlSPoLl6eO"
   },
   "outputs": [],
   "source": []
  },
  {
   "cell_type": "markdown",
   "metadata": {
    "colab_type": "text",
    "id": "F_wcd48Ul6eV"
   },
   "source": [
    "## 3. Data Preprocessing & Missing Values"
   ]
  },
  {
   "cell_type": "code",
   "execution_count": 13,
   "metadata": {
    "colab": {
     "base_uri": "https://localhost:8080/",
     "height": 255
    },
    "colab_type": "code",
    "collapsed": false,
    "id": "1ho8G4col6ea",
    "outputId": "03beb64c-4f4c-4877-d5b4-e4bdf2fb8527"
   },
   "outputs": [
    {
     "data": {
      "text/plain": [
       "violator_name                     34\n",
       "violation_zip_code            250306\n",
       "mailing_address_str_number      3602\n",
       "mailing_address_str_name           4\n",
       "state                             93\n",
       "zip_code                           1\n",
       "non_us_str_code               250303\n",
       "hearing_date                   12491\n",
       "fine_amount                        1\n",
       "grafitti_status               250305\n",
       "compliance                     90426\n",
       "lat                                3\n",
       "lon                                3\n",
       "dtype: int64"
      ]
     },
     "execution_count": 13,
     "metadata": {
      "tags": []
     },
     "output_type": "execute_result"
    }
   ],
   "source": [
    "train.isnull().sum()[train.isnull().sum() >= 1]"
   ]
  },
  {
   "cell_type": "code",
   "execution_count": 14,
   "metadata": {
    "colab": {
     "base_uri": "https://localhost:8080/",
     "height": 238
    },
    "colab_type": "code",
    "collapsed": false,
    "id": "Nmol19A_l6ei",
    "outputId": "4f3e8444-3705-434d-b8bd-931b5e3a8bef"
   },
   "outputs": [
    {
     "data": {
      "text/plain": [
       "violator_name                    28\n",
       "violation_zip_code            36977\n",
       "mailing_address_str_number     1014\n",
       "mailing_address_str_name          3\n",
       "state                           331\n",
       "zip_code                          3\n",
       "non_us_str_code               61001\n",
       "hearing_date                   2197\n",
       "fine_amount                       0\n",
       "grafitti_status               58780\n",
       "lat                               5\n",
       "lon                               5\n",
       "dtype: int64"
      ]
     },
     "execution_count": 14,
     "metadata": {
      "tags": []
     },
     "output_type": "execute_result"
    }
   ],
   "source": [
    "test.isnull().sum()[train.isnull().sum() >= 1]"
   ]
  },
  {
   "cell_type": "markdown",
   "metadata": {
    "colab_type": "text",
    "id": "sdIcohLdl6eq"
   },
   "source": [
    "As you can see the above, three columns 'violation_zipcode','non_us_str_code','grafitti_status' have too many missing values. Therefore, remove these columns."
   ]
  },
  {
   "cell_type": "code",
   "execution_count": 0,
   "metadata": {
    "colab": {},
    "colab_type": "code",
    "collapsed": true,
    "id": "7mVwkBFll6es"
   },
   "outputs": [],
   "source": []
  },
  {
   "cell_type": "markdown",
   "metadata": {
    "colab_type": "text",
    "id": "jiX_XW-il6eu"
   },
   "source": [
    "### 3.10 Violation Zip Code, Non Us Str Code, Grafitti status"
   ]
  },
  {
   "cell_type": "code",
   "execution_count": 0,
   "metadata": {
    "colab": {},
    "colab_type": "code",
    "collapsed": true,
    "id": "vMqOxYGml6ev"
   },
   "outputs": [],
   "source": [
    "train.drop(['violation_zip_code','non_us_str_code','grafitti_status'], axis=1, inplace=True)\n",
    "test.drop(['violation_zip_code','non_us_str_code','grafitti_status'], axis=1, inplace=True)"
   ]
  },
  {
   "cell_type": "code",
   "execution_count": 0,
   "metadata": {
    "colab": {},
    "colab_type": "code",
    "collapsed": true,
    "id": "7PQ0KE3Tl6ex"
   },
   "outputs": [],
   "source": []
  },
  {
   "cell_type": "markdown",
   "metadata": {
    "colab_type": "text",
    "id": "XOHq9oTwl6e0"
   },
   "source": [
    "### 3.11 Number of NaN"
   ]
  },
  {
   "cell_type": "code",
   "execution_count": 0,
   "metadata": {
    "colab": {},
    "colab_type": "code",
    "collapsed": true,
    "id": "mJloetvPl6e1"
   },
   "outputs": [],
   "source": [
    "# For the convenience for counting the number of nulls in each row, create the new column 'num_null'\n",
    "train['num_null'] = train.isnull().sum(axis=1)\n",
    "test['num_null'] = test.isnull().sum(axis=1)"
   ]
  },
  {
   "cell_type": "code",
   "execution_count": 0,
   "metadata": {
    "colab": {},
    "colab_type": "code",
    "collapsed": true,
    "id": "u31DJ3sVl6e4"
   },
   "outputs": [],
   "source": []
  },
  {
   "cell_type": "markdown",
   "metadata": {
    "colab_type": "text",
    "id": "7Jvta5VHl6e9"
   },
   "source": [
    "### 3.12 Lat/Lon"
   ]
  },
  {
   "cell_type": "code",
   "execution_count": 17,
   "metadata": {
    "colab": {
     "base_uri": "https://localhost:8080/",
     "height": 296
    },
    "colab_type": "code",
    "collapsed": false,
    "id": "qUae2KQRl6e_",
    "outputId": "891a97ce-b32d-45cc-cc29-301cde9e785c"
   },
   "outputs": [
    {
     "name": "stdout",
     "output_type": "stream",
     "text": [
      "Missing values in training lat and lon: 2 Missing values in test lat and lon: 0\n"
     ]
    },
    {
     "data": {
      "text/html": [
       "<div>\n",
       "<style scoped>\n",
       "    .dataframe tbody tr th:only-of-type {\n",
       "        vertical-align: middle;\n",
       "    }\n",
       "\n",
       "    .dataframe tbody tr th {\n",
       "        vertical-align: top;\n",
       "    }\n",
       "\n",
       "    .dataframe thead th {\n",
       "        text-align: right;\n",
       "    }\n",
       "</style>\n",
       "<table border=\"1\" class=\"dataframe\">\n",
       "  <thead>\n",
       "    <tr style=\"text-align: right;\">\n",
       "      <th></th>\n",
       "      <th>ticket_id</th>\n",
       "      <th>agency_name</th>\n",
       "      <th>inspector_name</th>\n",
       "      <th>violator_name</th>\n",
       "      <th>violation_street_number</th>\n",
       "      <th>violation_street_name</th>\n",
       "      <th>mailing_address_str_number</th>\n",
       "      <th>mailing_address_str_name</th>\n",
       "      <th>city</th>\n",
       "      <th>state</th>\n",
       "      <th>...</th>\n",
       "      <th>state_fee</th>\n",
       "      <th>late_fee</th>\n",
       "      <th>discount_amount</th>\n",
       "      <th>clean_up_cost</th>\n",
       "      <th>judgment_amount</th>\n",
       "      <th>compliance</th>\n",
       "      <th>address</th>\n",
       "      <th>lat</th>\n",
       "      <th>lon</th>\n",
       "      <th>num_null</th>\n",
       "    </tr>\n",
       "  </thead>\n",
       "  <tbody>\n",
       "    <tr>\n",
       "      <th>191722</th>\n",
       "      <td>223598</td>\n",
       "      <td>Buildings, Safety Engineering &amp; Env Department</td>\n",
       "      <td>O'Neal, Claude</td>\n",
       "      <td>HJADJANTONI, MICHAEL</td>\n",
       "      <td>445.0</td>\n",
       "      <td>FORDYCE</td>\n",
       "      <td>437.0</td>\n",
       "      <td>FOREST</td>\n",
       "      <td>DETROIT</td>\n",
       "      <td>MI</td>\n",
       "      <td>...</td>\n",
       "      <td>10.0</td>\n",
       "      <td>25.0</td>\n",
       "      <td>0.0</td>\n",
       "      <td>0.0</td>\n",
       "      <td>305.0</td>\n",
       "      <td>0.0</td>\n",
       "      <td>445 fordyce, Detroit MI</td>\n",
       "      <td>NaN</td>\n",
       "      <td>NaN</td>\n",
       "      <td>2</td>\n",
       "    </tr>\n",
       "    <tr>\n",
       "      <th>245981</th>\n",
       "      <td>280256</td>\n",
       "      <td>Department of Public Works</td>\n",
       "      <td>McCants, Angela</td>\n",
       "      <td>HOLDINGS LLC, FORDYCE</td>\n",
       "      <td>8300.0</td>\n",
       "      <td>FORDYCE</td>\n",
       "      <td>151.0</td>\n",
       "      <td>POTOMIC</td>\n",
       "      <td>ROCHESTER HILLS</td>\n",
       "      <td>MI</td>\n",
       "      <td>...</td>\n",
       "      <td>0.0</td>\n",
       "      <td>0.0</td>\n",
       "      <td>0.0</td>\n",
       "      <td>0.0</td>\n",
       "      <td>0.0</td>\n",
       "      <td>NaN</td>\n",
       "      <td>8300 fordyce, Detroit MI</td>\n",
       "      <td>NaN</td>\n",
       "      <td>NaN</td>\n",
       "      <td>3</td>\n",
       "    </tr>\n",
       "  </tbody>\n",
       "</table>\n",
       "<p>2 rows × 29 columns</p>\n",
       "</div>"
      ],
      "text/plain": [
       "        ticket_id                                     agency_name  \\\n",
       "191722     223598  Buildings, Safety Engineering & Env Department   \n",
       "245981     280256                      Department of Public Works   \n",
       "\n",
       "         inspector_name          violator_name  violation_street_number  \\\n",
       "191722   O'Neal, Claude   HJADJANTONI, MICHAEL                    445.0   \n",
       "245981  McCants, Angela  HOLDINGS LLC, FORDYCE                   8300.0   \n",
       "\n",
       "       violation_street_name  mailing_address_str_number  \\\n",
       "191722               FORDYCE                       437.0   \n",
       "245981               FORDYCE                       151.0   \n",
       "\n",
       "       mailing_address_str_name             city state    ...    state_fee  \\\n",
       "191722                   FOREST          DETROIT    MI    ...         10.0   \n",
       "245981                  POTOMIC  ROCHESTER HILLS    MI    ...          0.0   \n",
       "\n",
       "       late_fee discount_amount clean_up_cost judgment_amount compliance  \\\n",
       "191722     25.0             0.0           0.0           305.0        0.0   \n",
       "245981      0.0             0.0           0.0             0.0        NaN   \n",
       "\n",
       "                         address  lat  lon  num_null  \n",
       "191722   445 fordyce, Detroit MI  NaN  NaN         2  \n",
       "245981  8300 fordyce, Detroit MI  NaN  NaN         3  \n",
       "\n",
       "[2 rows x 29 columns]"
      ]
     },
     "execution_count": 17,
     "metadata": {
      "tags": []
     },
     "output_type": "execute_result"
    }
   ],
   "source": [
    "# Training set lat,lon:\n",
    "# Since there are some missing values found in both training and test set, \n",
    "# we need to manually find the lat and lon coordinates from google map by searching the given addresses\n",
    "\n",
    "# 20424 bramford, Detroit MI, (42.446558,-83.022996)\n",
    "train.iloc[65578,-3] = 42.446558\n",
    "train.iloc[65578,-2] = -83.022996\n",
    "\n",
    "# Fail to find the lat and lon coordinates for the ticket_id 223598 and 280256 from google map \n",
    "# since the rest of two other places are showing too wide area (google map cannot pinpoint where it is).\n",
    "\n",
    "# Test Set lat,lon:\n",
    "\n",
    "# 20424 bramford, Detroit MI, (42.446558,-83.022996)\n",
    "test.iloc[20459,-3] = 42.446558\n",
    "test.iloc[20459,-2] = -83.022996\n",
    "\n",
    "# 8325 joy rd, Detroit MI 48204, (42.359024, -83.150799)\n",
    "test.iloc[28350,-3] = 42.359024 \n",
    "test.iloc[28350,-2] = -83.150799\n",
    "\n",
    "# 1201 elijah mccoy dr, Detroit MI 48208, (42.358760, -83.080382)\n",
    "test.iloc[28416,-3] = 42.358760\n",
    "test.iloc[28416,-2] = -83.080382\n",
    "\n",
    "# 12038 prairie, Detroit MI 482O4, (42.376943, -83.143206)\n",
    "test.iloc[31925,-3] = 42.376943\n",
    "test.iloc[31925,-2] = -83.143206\n",
    "\n",
    "# 6200 16th st, Detroit MI 48208 (42.360104, -83.095872)\n",
    "test.iloc[55400,-3] = 42.360104\n",
    "test.iloc[55400,-2] = -83.095872\n",
    "\n",
    "# Check how many null values are in train and test\n",
    "print('Missing values in training lat and lon:',len(train[train.lon.isnull()]), 'Missing values in test lat and lon:',len(test[test.lon.isnull()]))\n",
    "\n",
    "# Check the table.\n",
    "train[train.lon.isnull()]"
   ]
  },
  {
   "cell_type": "code",
   "execution_count": 0,
   "metadata": {
    "colab": {},
    "colab_type": "code",
    "collapsed": true,
    "id": "KJEPdkJwl6fD"
   },
   "outputs": [],
   "source": [
    "# As you can see, there are still two missing values which cannot be found in google map; therefore, needed to be filled with\n",
    "# 0.0 lat and lon (or some distinguishable number from other lat, lon but I decided to choose 0.0). \n",
    "# Except for these two values, all the values do not have any problem so leave the rows instead of dropping the rows.\n",
    "train.lat[train.lat.isnull()] = 0.0\n",
    "train.lon[train.lon.isnull()] = 0.0"
   ]
  },
  {
   "cell_type": "markdown",
   "metadata": {
    "colab_type": "text",
    "id": "gIEXovyal6fH"
   },
   "source": [
    "Since we converted most of violation addresses to lat and lon coordinate, 'violation_street_number','violation_street_name','address' variables are no longer needed."
   ]
  },
  {
   "cell_type": "code",
   "execution_count": 0,
   "metadata": {
    "colab": {},
    "colab_type": "code",
    "collapsed": true,
    "id": "pGDQW3Hbl6fH"
   },
   "outputs": [],
   "source": []
  },
  {
   "cell_type": "markdown",
   "metadata": {
    "colab_type": "text",
    "id": "zxlMDoFtl6fN"
   },
   "source": [
    "### 3.13 Violation Street Number , Violation Street Name, Address"
   ]
  },
  {
   "cell_type": "code",
   "execution_count": 0,
   "metadata": {
    "colab": {},
    "colab_type": "code",
    "collapsed": true,
    "id": "V5Kx7YL8l6fP"
   },
   "outputs": [],
   "source": [
    "train.drop(['violation_street_number','violation_street_name','address'], axis = 1, inplace = True)\n",
    "test.drop(['violation_street_number','violation_street_name','address'], axis = 1, inplace = True)"
   ]
  },
  {
   "cell_type": "code",
   "execution_count": 0,
   "metadata": {
    "colab": {},
    "colab_type": "code",
    "collapsed": true,
    "id": "tnDaSJaIl6fT"
   },
   "outputs": [],
   "source": []
  },
  {
   "cell_type": "markdown",
   "metadata": {
    "colab_type": "text",
    "id": "k4Uq3kAcl6fW"
   },
   "source": [
    "### 3.14 Country / State / City / New Country"
   ]
  },
  {
   "cell_type": "code",
   "execution_count": 20,
   "metadata": {
    "colab": {
     "base_uri": "https://localhost:8080/",
     "height": 343
    },
    "colab_type": "code",
    "collapsed": false,
    "id": "0mN_Gc06l6fX",
    "outputId": "8b9d806f-4b12-41cb-e9bf-14a9c8aca26d"
   },
   "outputs": [
    {
     "data": {
      "text/html": [
       "<div>\n",
       "<style scoped>\n",
       "    .dataframe tbody tr th:only-of-type {\n",
       "        vertical-align: middle;\n",
       "    }\n",
       "\n",
       "    .dataframe tbody tr th {\n",
       "        vertical-align: top;\n",
       "    }\n",
       "\n",
       "    .dataframe thead th {\n",
       "        text-align: right;\n",
       "    }\n",
       "</style>\n",
       "<table border=\"1\" class=\"dataframe\">\n",
       "  <thead>\n",
       "    <tr style=\"text-align: right;\">\n",
       "      <th></th>\n",
       "      <th>mailing_address_str_number</th>\n",
       "      <th>mailing_address_str_name</th>\n",
       "      <th>city</th>\n",
       "      <th>state</th>\n",
       "      <th>zip_code</th>\n",
       "      <th>country</th>\n",
       "      <th>ticket_issued_date</th>\n",
       "      <th>hearing_date</th>\n",
       "      <th>violation_code</th>\n",
       "      <th>violation_description</th>\n",
       "      <th>disposition</th>\n",
       "    </tr>\n",
       "  </thead>\n",
       "  <tbody>\n",
       "    <tr>\n",
       "      <th>183911</th>\n",
       "      <td>NaN</td>\n",
       "      <td>P. O. BOX 26334</td>\n",
       "      <td>MANAMA HAHRAIN</td>\n",
       "      <td>NaN</td>\n",
       "      <td>0</td>\n",
       "      <td>USA</td>\n",
       "      <td>2009-04-22 10:45:00</td>\n",
       "      <td>2009-05-28 10:30:00</td>\n",
       "      <td>22-2-88</td>\n",
       "      <td>Failure of owner to keep property, its sidewal...</td>\n",
       "      <td>Responsible by Default</td>\n",
       "    </tr>\n",
       "    <tr>\n",
       "      <th>186126</th>\n",
       "      <td>3212.0</td>\n",
       "      <td>MCCARRON CRES</td>\n",
       "      <td>MISS, ONTARIO, CANADA</td>\n",
       "      <td>NaN</td>\n",
       "      <td>L5N 3H5</td>\n",
       "      <td>USA</td>\n",
       "      <td>2009-05-08 10:40:00</td>\n",
       "      <td>2009-06-18 13:30:00</td>\n",
       "      <td>22-2-88</td>\n",
       "      <td>Failure of owner to keep property, its sidewal...</td>\n",
       "      <td>Responsible by Admission</td>\n",
       "    </tr>\n",
       "    <tr>\n",
       "      <th>188915</th>\n",
       "      <td>NaN</td>\n",
       "      <td>FOXWOOD CHALKY ROAD</td>\n",
       "      <td>STOCKBURG KENT</td>\n",
       "      <td>NaN</td>\n",
       "      <td>0</td>\n",
       "      <td>USA</td>\n",
       "      <td>2009-06-04 13:30:00</td>\n",
       "      <td>2009-10-29 10:30:00</td>\n",
       "      <td>9-1-104</td>\n",
       "      <td>Excessive weeds or plant growth one- or two-fa...</td>\n",
       "      <td>Responsible by Default</td>\n",
       "    </tr>\n",
       "    <tr>\n",
       "      <th>190375</th>\n",
       "      <td>1.0</td>\n",
       "      <td>PARTIGLIANO</td>\n",
       "      <td>LUCCA</td>\n",
       "      <td>NaN</td>\n",
       "      <td>55067</td>\n",
       "      <td>USA</td>\n",
       "      <td>2009-06-23 13:30:00</td>\n",
       "      <td>2009-08-05 13:30:00</td>\n",
       "      <td>9-1-105</td>\n",
       "      <td>Rodent harborage one-or two-family dwelling or...</td>\n",
       "      <td>Responsible by Admission</td>\n",
       "    </tr>\n",
       "    <tr>\n",
       "      <th>191245</th>\n",
       "      <td>29.0</td>\n",
       "      <td>CHERRY  TREE  CT</td>\n",
       "      <td>CHARLESTON LONDON, ENGLAND</td>\n",
       "      <td>NaN</td>\n",
       "      <td>SE 770X</td>\n",
       "      <td>USA</td>\n",
       "      <td>2009-07-07 09:50:00</td>\n",
       "      <td>2009-08-18 13:30:00</td>\n",
       "      <td>9-1-104</td>\n",
       "      <td>Excessive weeds or plant growth one- or two-fa...</td>\n",
       "      <td>Responsible by Admission</td>\n",
       "    </tr>\n",
       "  </tbody>\n",
       "</table>\n",
       "</div>"
      ],
      "text/plain": [
       "        mailing_address_str_number mailing_address_str_name  \\\n",
       "183911                         NaN          P. O. BOX 26334   \n",
       "186126                      3212.0            MCCARRON CRES   \n",
       "188915                         NaN      FOXWOOD CHALKY ROAD   \n",
       "190375                         1.0              PARTIGLIANO   \n",
       "191245                        29.0         CHERRY  TREE  CT   \n",
       "\n",
       "                              city state zip_code country  \\\n",
       "183911              MANAMA HAHRAIN   NaN        0     USA   \n",
       "186126       MISS, ONTARIO, CANADA   NaN  L5N 3H5     USA   \n",
       "188915              STOCKBURG KENT   NaN        0     USA   \n",
       "190375                       LUCCA   NaN    55067     USA   \n",
       "191245  CHARLESTON LONDON, ENGLAND   NaN  SE 770X     USA   \n",
       "\n",
       "         ticket_issued_date         hearing_date violation_code  \\\n",
       "183911  2009-04-22 10:45:00  2009-05-28 10:30:00        22-2-88   \n",
       "186126  2009-05-08 10:40:00  2009-06-18 13:30:00        22-2-88   \n",
       "188915  2009-06-04 13:30:00  2009-10-29 10:30:00        9-1-104   \n",
       "190375  2009-06-23 13:30:00  2009-08-05 13:30:00        9-1-105   \n",
       "191245  2009-07-07 09:50:00  2009-08-18 13:30:00        9-1-104   \n",
       "\n",
       "                                    violation_description  \\\n",
       "183911  Failure of owner to keep property, its sidewal...   \n",
       "186126  Failure of owner to keep property, its sidewal...   \n",
       "188915  Excessive weeds or plant growth one- or two-fa...   \n",
       "190375  Rodent harborage one-or two-family dwelling or...   \n",
       "191245  Excessive weeds or plant growth one- or two-fa...   \n",
       "\n",
       "                     disposition  \n",
       "183911    Responsible by Default  \n",
       "186126  Responsible by Admission  \n",
       "188915    Responsible by Default  \n",
       "190375  Responsible by Admission  \n",
       "191245  Responsible by Admission  "
      ]
     },
     "execution_count": 20,
     "metadata": {
      "tags": []
     },
     "output_type": "execute_result"
    }
   ],
   "source": [
    "# As you can see the country and city columns, there are some discrepancies between city and country. \n",
    "# ex) on ticket number 218570, city is Ontario, Canada but the country denotes USA.\n",
    "train[train.state.isnull()].iloc[:,4:15].head()"
   ]
  },
  {
   "cell_type": "code",
   "execution_count": 21,
   "metadata": {
    "colab": {
     "base_uri": "https://localhost:8080/",
     "height": 1969
    },
    "colab_type": "code",
    "collapsed": false,
    "id": "hclS95YAl6fb",
    "outputId": "b18ba3aa-0a22-4d9d-db6d-243365eb9ae1"
   },
   "outputs": [
    {
     "data": {
      "text/html": [
       "<div>\n",
       "<style scoped>\n",
       "    .dataframe tbody tr th:only-of-type {\n",
       "        vertical-align: middle;\n",
       "    }\n",
       "\n",
       "    .dataframe tbody tr th {\n",
       "        vertical-align: top;\n",
       "    }\n",
       "\n",
       "    .dataframe thead th {\n",
       "        text-align: right;\n",
       "    }\n",
       "</style>\n",
       "<table border=\"1\" class=\"dataframe\">\n",
       "  <thead>\n",
       "    <tr style=\"text-align: right;\">\n",
       "      <th></th>\n",
       "      <th>mailing_address_str_name</th>\n",
       "      <th>city</th>\n",
       "      <th>zip_code</th>\n",
       "      <th>country</th>\n",
       "      <th>state</th>\n",
       "    </tr>\n",
       "  </thead>\n",
       "  <tbody>\n",
       "    <tr>\n",
       "      <th>183911</th>\n",
       "      <td>P. O. BOX 26334</td>\n",
       "      <td>MANAMA HAHRAIN</td>\n",
       "      <td>0</td>\n",
       "      <td>USA</td>\n",
       "      <td>NaN</td>\n",
       "    </tr>\n",
       "    <tr>\n",
       "      <th>186126</th>\n",
       "      <td>MCCARRON CRES</td>\n",
       "      <td>MISS, ONTARIO, CANADA</td>\n",
       "      <td>L5N 3H5</td>\n",
       "      <td>USA</td>\n",
       "      <td>NaN</td>\n",
       "    </tr>\n",
       "    <tr>\n",
       "      <th>188915</th>\n",
       "      <td>FOXWOOD CHALKY ROAD</td>\n",
       "      <td>STOCKBURG KENT</td>\n",
       "      <td>0</td>\n",
       "      <td>USA</td>\n",
       "      <td>NaN</td>\n",
       "    </tr>\n",
       "    <tr>\n",
       "      <th>190375</th>\n",
       "      <td>PARTIGLIANO</td>\n",
       "      <td>LUCCA</td>\n",
       "      <td>55067</td>\n",
       "      <td>USA</td>\n",
       "      <td>NaN</td>\n",
       "    </tr>\n",
       "    <tr>\n",
       "      <th>191245</th>\n",
       "      <td>CHERRY  TREE  CT</td>\n",
       "      <td>CHARLESTON LONDON, ENGLAND</td>\n",
       "      <td>SE 770X</td>\n",
       "      <td>USA</td>\n",
       "      <td>NaN</td>\n",
       "    </tr>\n",
       "    <tr>\n",
       "      <th>193547</th>\n",
       "      <td>THORN  STREET</td>\n",
       "      <td>Woodville, United Kingdom</td>\n",
       "      <td>Deli-7DN</td>\n",
       "      <td>USA</td>\n",
       "      <td>NaN</td>\n",
       "    </tr>\n",
       "    <tr>\n",
       "      <th>194701</th>\n",
       "      <td>TOOLEY</td>\n",
       "      <td>LONDON SE12ET</td>\n",
       "      <td>0</td>\n",
       "      <td>USA</td>\n",
       "      <td>NaN</td>\n",
       "    </tr>\n",
       "    <tr>\n",
       "      <th>203041</th>\n",
       "      <td>BRIARWOOD AVE</td>\n",
       "      <td>TORONTO  ONTARIO, CANADA</td>\n",
       "      <td>M9W6C9</td>\n",
       "      <td>USA</td>\n",
       "      <td>NaN</td>\n",
       "    </tr>\n",
       "    <tr>\n",
       "      <th>203042</th>\n",
       "      <td>BRIARWOOD AVE</td>\n",
       "      <td>TORONTO  ONTARIO, CANADA</td>\n",
       "      <td>M9W6C9</td>\n",
       "      <td>USA</td>\n",
       "      <td>NaN</td>\n",
       "    </tr>\n",
       "    <tr>\n",
       "      <th>203043</th>\n",
       "      <td>BRIARWOOD AVE</td>\n",
       "      <td>TORONTO  ONTARIO, CANADA</td>\n",
       "      <td>M9W6C9</td>\n",
       "      <td>USA</td>\n",
       "      <td>NaN</td>\n",
       "    </tr>\n",
       "    <tr>\n",
       "      <th>216567</th>\n",
       "      <td>TAIMOR</td>\n",
       "      <td>ST. FATIMA SQ. HELIOPOLIS, CAIRO, EGYPT</td>\n",
       "      <td>11361</td>\n",
       "      <td>Egyp</td>\n",
       "      <td>NaN</td>\n",
       "    </tr>\n",
       "    <tr>\n",
       "      <th>216568</th>\n",
       "      <td>TAIMOR ST</td>\n",
       "      <td>ST. FATIMA SQ. HELIOPOLIS, CAIRO, EGYPT</td>\n",
       "      <td>11361</td>\n",
       "      <td>Egyp</td>\n",
       "      <td>NaN</td>\n",
       "    </tr>\n",
       "    <tr>\n",
       "      <th>216927</th>\n",
       "      <td>ELMONT  DRIVE</td>\n",
       "      <td>CALGARY, ALBERTA, CANADA</td>\n",
       "      <td>T3H-4X8</td>\n",
       "      <td>Cana</td>\n",
       "      <td>NaN</td>\n",
       "    </tr>\n",
       "    <tr>\n",
       "      <th>217529</th>\n",
       "      <td>ELMONT DR.</td>\n",
       "      <td>CALGARY, ALBERTA, CANADA</td>\n",
       "      <td>T3H-4X8</td>\n",
       "      <td>Cana</td>\n",
       "      <td>NaN</td>\n",
       "    </tr>\n",
       "    <tr>\n",
       "      <th>220371</th>\n",
       "      <td>ROBINA TOWN CENTER DR</td>\n",
       "      <td>ROBINA  QLD</td>\n",
       "      <td>4226</td>\n",
       "      <td>USA</td>\n",
       "      <td>NaN</td>\n",
       "    </tr>\n",
       "    <tr>\n",
       "      <th>220407</th>\n",
       "      <td>LAUREN MEWS HAYLING ISLAND</td>\n",
       "      <td>UNITED KINGDOM</td>\n",
       "      <td>0</td>\n",
       "      <td>USA</td>\n",
       "      <td>NaN</td>\n",
       "    </tr>\n",
       "    <tr>\n",
       "      <th>220533</th>\n",
       "      <td>MILLER  BALLARAT</td>\n",
       "      <td>VICTORIA</td>\n",
       "      <td>3350</td>\n",
       "      <td>USA</td>\n",
       "      <td>NaN</td>\n",
       "    </tr>\n",
       "    <tr>\n",
       "      <th>223243</th>\n",
       "      <td>FOXWOOD, CHALKY RD.</td>\n",
       "      <td>STOCKBURY,  KENT</td>\n",
       "      <td>ME9,7QR UK</td>\n",
       "      <td>USA</td>\n",
       "      <td>NaN</td>\n",
       "    </tr>\n",
       "    <tr>\n",
       "      <th>223334</th>\n",
       "      <td>RUE DES LILAS</td>\n",
       "      <td>ALFORTEVILLE, FRANCE</td>\n",
       "      <td>94140</td>\n",
       "      <td>USA</td>\n",
       "      <td>NaN</td>\n",
       "    </tr>\n",
       "    <tr>\n",
       "      <th>223335</th>\n",
       "      <td>RUE DES LILAS</td>\n",
       "      <td>ALFORTEVILLE, FRANCE</td>\n",
       "      <td>94140</td>\n",
       "      <td>USA</td>\n",
       "      <td>NaN</td>\n",
       "    </tr>\n",
       "    <tr>\n",
       "      <th>224720</th>\n",
       "      <td>ELMONT DR.</td>\n",
       "      <td>CALVARY ALBERTA</td>\n",
       "      <td>0</td>\n",
       "      <td>USA</td>\n",
       "      <td>NaN</td>\n",
       "    </tr>\n",
       "    <tr>\n",
       "      <th>225113</th>\n",
       "      <td>BLK 213 BATILE BATOK, STE 012</td>\n",
       "      <td>SINGAPORE</td>\n",
       "      <td>650213</td>\n",
       "      <td>USA</td>\n",
       "      <td>NaN</td>\n",
       "    </tr>\n",
       "    <tr>\n",
       "      <th>225794</th>\n",
       "      <td>P.O. BOX</td>\n",
       "      <td>BET ZAIT, ISRAEL</td>\n",
       "      <td>90815</td>\n",
       "      <td>USA</td>\n",
       "      <td>NaN</td>\n",
       "    </tr>\n",
       "    <tr>\n",
       "      <th>225795</th>\n",
       "      <td>P.O. BOX</td>\n",
       "      <td>BET ZAIT, ISRAEL</td>\n",
       "      <td>90815</td>\n",
       "      <td>USA</td>\n",
       "      <td>NaN</td>\n",
       "    </tr>\n",
       "    <tr>\n",
       "      <th>225796</th>\n",
       "      <td>P.O. BOX</td>\n",
       "      <td>BET ZAIT, ISRAEL</td>\n",
       "      <td>90815</td>\n",
       "      <td>USA</td>\n",
       "      <td>NaN</td>\n",
       "    </tr>\n",
       "    <tr>\n",
       "      <th>227074</th>\n",
       "      <td>GLENNIE PLACE</td>\n",
       "      <td>QUEANBEYAN, NSW</td>\n",
       "      <td>2620</td>\n",
       "      <td>USA</td>\n",
       "      <td>NaN</td>\n",
       "    </tr>\n",
       "    <tr>\n",
       "      <th>227161</th>\n",
       "      <td>PINE LODGE, LOWOOD, ARMATHWAIT</td>\n",
       "      <td>CARLISLE CUMBRIAN</td>\n",
       "      <td>49</td>\n",
       "      <td>USA</td>\n",
       "      <td>NaN</td>\n",
       "    </tr>\n",
       "    <tr>\n",
       "      <th>227736</th>\n",
       "      <td>CLUNE TERRACE</td>\n",
       "      <td>NEWTONMORE</td>\n",
       "      <td>0</td>\n",
       "      <td>USA</td>\n",
       "      <td>NaN</td>\n",
       "    </tr>\n",
       "    <tr>\n",
       "      <th>227737</th>\n",
       "      <td>CLUNE TERRACE</td>\n",
       "      <td>NEWTONMORE</td>\n",
       "      <td>0</td>\n",
       "      <td>USA</td>\n",
       "      <td>NaN</td>\n",
       "    </tr>\n",
       "    <tr>\n",
       "      <th>227964</th>\n",
       "      <td>ELMONT, DR.</td>\n",
       "      <td>CALGARY ALBERTA</td>\n",
       "      <td>0</td>\n",
       "      <td>USA</td>\n",
       "      <td>NaN</td>\n",
       "    </tr>\n",
       "    <tr>\n",
       "      <th>...</th>\n",
       "      <td>...</td>\n",
       "      <td>...</td>\n",
       "      <td>...</td>\n",
       "      <td>...</td>\n",
       "      <td>...</td>\n",
       "    </tr>\n",
       "    <tr>\n",
       "      <th>244324</th>\n",
       "      <td>ALBANY  HWY</td>\n",
       "      <td>MT. BARKER</td>\n",
       "      <td>6324</td>\n",
       "      <td>USA</td>\n",
       "      <td>NaN</td>\n",
       "    </tr>\n",
       "    <tr>\n",
       "      <th>244407</th>\n",
       "      <td>BUKIT BATOK CRESENT</td>\n",
       "      <td>WCEGA TOWER 03-74</td>\n",
       "      <td>658065</td>\n",
       "      <td>USA</td>\n",
       "      <td>NaN</td>\n",
       "    </tr>\n",
       "    <tr>\n",
       "      <th>244547</th>\n",
       "      <td>CORNER OF GRADUATE CRESCENT</td>\n",
       "      <td>BELIZE CITY</td>\n",
       "      <td>0</td>\n",
       "      <td>USA</td>\n",
       "      <td>NaN</td>\n",
       "    </tr>\n",
       "    <tr>\n",
       "      <th>244660</th>\n",
       "      <td>180,ON NUT S0135,SUKNHUMVIT</td>\n",
       "      <td>BANGKOK</td>\n",
       "      <td>0</td>\n",
       "      <td>USA</td>\n",
       "      <td>NaN</td>\n",
       "    </tr>\n",
       "    <tr>\n",
       "      <th>244661</th>\n",
       "      <td>180,ON NUT SOI  35  SUKHUMVIT</td>\n",
       "      <td>BONGKOK</td>\n",
       "      <td>0</td>\n",
       "      <td>USA</td>\n",
       "      <td>NaN</td>\n",
       "    </tr>\n",
       "    <tr>\n",
       "      <th>244799</th>\n",
       "      <td>MASLISANSKY ST</td>\n",
       "      <td>RAMOT JERUSALEM</td>\n",
       "      <td>97225</td>\n",
       "      <td>USA</td>\n",
       "      <td>NaN</td>\n",
       "    </tr>\n",
       "    <tr>\n",
       "      <th>244856</th>\n",
       "      <td>NAVAHO DR.</td>\n",
       "      <td>TORONTO</td>\n",
       "      <td>222</td>\n",
       "      <td>USA</td>\n",
       "      <td>NaN</td>\n",
       "    </tr>\n",
       "    <tr>\n",
       "      <th>244894</th>\n",
       "      <td>WHITEGLEN CRES</td>\n",
       "      <td>N. E. CALGARY</td>\n",
       "      <td>0</td>\n",
       "      <td>USA</td>\n",
       "      <td>NaN</td>\n",
       "    </tr>\n",
       "    <tr>\n",
       "      <th>244895</th>\n",
       "      <td>NAVAHO DR.</td>\n",
       "      <td>TORONTO</td>\n",
       "      <td>22</td>\n",
       "      <td>USA</td>\n",
       "      <td>NaN</td>\n",
       "    </tr>\n",
       "    <tr>\n",
       "      <th>245023</th>\n",
       "      <td>TURNER CLOSE CREWE</td>\n",
       "      <td>CHESHIRE</td>\n",
       "      <td>0</td>\n",
       "      <td>USA</td>\n",
       "      <td>NaN</td>\n",
       "    </tr>\n",
       "    <tr>\n",
       "      <th>245024</th>\n",
       "      <td>TURNER CREWE</td>\n",
       "      <td>CHESHIRE</td>\n",
       "      <td>0</td>\n",
       "      <td>USA</td>\n",
       "      <td>NaN</td>\n",
       "    </tr>\n",
       "    <tr>\n",
       "      <th>245302</th>\n",
       "      <td>BERKLEY CRES NW</td>\n",
       "      <td>CALGARY,ALBERTA</td>\n",
       "      <td>0</td>\n",
       "      <td>USA</td>\n",
       "      <td>NaN</td>\n",
       "    </tr>\n",
       "    <tr>\n",
       "      <th>245316</th>\n",
       "      <td>ELMONT DR. SW</td>\n",
       "      <td>CALGARY</td>\n",
       "      <td>0</td>\n",
       "      <td>USA</td>\n",
       "      <td>NaN</td>\n",
       "    </tr>\n",
       "    <tr>\n",
       "      <th>245957</th>\n",
       "      <td>MAYNARD RD</td>\n",
       "      <td>WALTHAM</td>\n",
       "      <td>179</td>\n",
       "      <td>USA</td>\n",
       "      <td>NaN</td>\n",
       "    </tr>\n",
       "    <tr>\n",
       "      <th>245958</th>\n",
       "      <td>MAYNARD RD</td>\n",
       "      <td>WALTHAM</td>\n",
       "      <td>179</td>\n",
       "      <td>USA</td>\n",
       "      <td>NaN</td>\n",
       "    </tr>\n",
       "    <tr>\n",
       "      <th>246218</th>\n",
       "      <td>ABBOTS GARDENS</td>\n",
       "      <td>LODON ,N2OJE,UK</td>\n",
       "      <td>0</td>\n",
       "      <td>USA</td>\n",
       "      <td>NaN</td>\n",
       "    </tr>\n",
       "    <tr>\n",
       "      <th>247060</th>\n",
       "      <td>HAGALIL</td>\n",
       "      <td>GANIC TIKVA ,ISRAEL</td>\n",
       "      <td>55900</td>\n",
       "      <td>USA</td>\n",
       "      <td>NaN</td>\n",
       "    </tr>\n",
       "    <tr>\n",
       "      <th>247422</th>\n",
       "      <td>DE 'I INFANTE</td>\n",
       "      <td>WATERLOO</td>\n",
       "      <td>1401</td>\n",
       "      <td>USA</td>\n",
       "      <td>NaN</td>\n",
       "    </tr>\n",
       "    <tr>\n",
       "      <th>247515</th>\n",
       "      <td>RADFORD</td>\n",
       "      <td>ONTARIO</td>\n",
       "      <td>342</td>\n",
       "      <td>USA</td>\n",
       "      <td>NaN</td>\n",
       "    </tr>\n",
       "    <tr>\n",
       "      <th>247907</th>\n",
       "      <td>KNIGHT CLOSE</td>\n",
       "      <td>NEW SOUTH WALES</td>\n",
       "      <td>2448</td>\n",
       "      <td>USA</td>\n",
       "      <td>NaN</td>\n",
       "    </tr>\n",
       "    <tr>\n",
       "      <th>248034</th>\n",
       "      <td>SASAMEMINAMI</td>\n",
       "      <td>TADA CITY</td>\n",
       "      <td>3350035</td>\n",
       "      <td>USA</td>\n",
       "      <td>NaN</td>\n",
       "    </tr>\n",
       "    <tr>\n",
       "      <th>248257</th>\n",
       "      <td>HORSESHOE WAY  UNIT 133</td>\n",
       "      <td>RICHMOND BC</td>\n",
       "      <td>0</td>\n",
       "      <td>USA</td>\n",
       "      <td>NaN</td>\n",
       "    </tr>\n",
       "    <tr>\n",
       "      <th>248379</th>\n",
       "      <td>BUKIT BATOK CRESCENT</td>\n",
       "      <td>SINGAPORE</td>\n",
       "      <td>658065</td>\n",
       "      <td>USA</td>\n",
       "      <td>NaN</td>\n",
       "    </tr>\n",
       "    <tr>\n",
       "      <th>248967</th>\n",
       "      <td>TYNE ST</td>\n",
       "      <td>BOX HILL NORTH, VICTORIA AUSTRALIA</td>\n",
       "      <td>3129</td>\n",
       "      <td>USA</td>\n",
       "      <td>NaN</td>\n",
       "    </tr>\n",
       "    <tr>\n",
       "      <th>248968</th>\n",
       "      <td>TYNE ST</td>\n",
       "      <td>BOX HILL NORTH, VICTORIA AUSTRALIA</td>\n",
       "      <td>3129</td>\n",
       "      <td>USA</td>\n",
       "      <td>NaN</td>\n",
       "    </tr>\n",
       "    <tr>\n",
       "      <th>249009</th>\n",
       "      <td>MANOR FARM,SOUTH NEWTON</td>\n",
       "      <td>SALISBURY,WILT,SP2, OQD,</td>\n",
       "      <td>0</td>\n",
       "      <td>USA</td>\n",
       "      <td>NaN</td>\n",
       "    </tr>\n",
       "    <tr>\n",
       "      <th>249505</th>\n",
       "      <td>TENTH LIVERPOOL ST.</td>\n",
       "      <td>ROSE BAY</td>\n",
       "      <td>2029</td>\n",
       "      <td>USA</td>\n",
       "      <td>NaN</td>\n",
       "    </tr>\n",
       "    <tr>\n",
       "      <th>249762</th>\n",
       "      <td>LAUNCESTON PL</td>\n",
       "      <td>UNITED KINGDOM</td>\n",
       "      <td>157</td>\n",
       "      <td>USA</td>\n",
       "      <td>NaN</td>\n",
       "    </tr>\n",
       "    <tr>\n",
       "      <th>249874</th>\n",
       "      <td>CLADE ST.</td>\n",
       "      <td>BEULAH SOUTH</td>\n",
       "      <td>5067</td>\n",
       "      <td>USA</td>\n",
       "      <td>NaN</td>\n",
       "    </tr>\n",
       "    <tr>\n",
       "      <th>250070</th>\n",
       "      <td>CRESCENT WCEGA TOWER</td>\n",
       "      <td>BUKIT BATOK</td>\n",
       "      <td>658065</td>\n",
       "      <td>USA</td>\n",
       "      <td>NaN</td>\n",
       "    </tr>\n",
       "  </tbody>\n",
       "</table>\n",
       "<p>93 rows × 5 columns</p>\n",
       "</div>"
      ],
      "text/plain": [
       "              mailing_address_str_name  \\\n",
       "183911                 P. O. BOX 26334   \n",
       "186126                   MCCARRON CRES   \n",
       "188915             FOXWOOD CHALKY ROAD   \n",
       "190375                     PARTIGLIANO   \n",
       "191245                CHERRY  TREE  CT   \n",
       "193547                   THORN  STREET   \n",
       "194701                          TOOLEY   \n",
       "203041                   BRIARWOOD AVE   \n",
       "203042                   BRIARWOOD AVE   \n",
       "203043                   BRIARWOOD AVE   \n",
       "216567                          TAIMOR   \n",
       "216568                       TAIMOR ST   \n",
       "216927                   ELMONT  DRIVE   \n",
       "217529                      ELMONT DR.   \n",
       "220371           ROBINA TOWN CENTER DR   \n",
       "220407      LAUREN MEWS HAYLING ISLAND   \n",
       "220533                MILLER  BALLARAT   \n",
       "223243             FOXWOOD, CHALKY RD.   \n",
       "223334                   RUE DES LILAS   \n",
       "223335                   RUE DES LILAS   \n",
       "224720                      ELMONT DR.   \n",
       "225113   BLK 213 BATILE BATOK, STE 012   \n",
       "225794                        P.O. BOX   \n",
       "225795                        P.O. BOX   \n",
       "225796                        P.O. BOX   \n",
       "227074                   GLENNIE PLACE   \n",
       "227161  PINE LODGE, LOWOOD, ARMATHWAIT   \n",
       "227736                   CLUNE TERRACE   \n",
       "227737                   CLUNE TERRACE   \n",
       "227964                     ELMONT, DR.   \n",
       "...                                ...   \n",
       "244324                     ALBANY  HWY   \n",
       "244407             BUKIT BATOK CRESENT   \n",
       "244547     CORNER OF GRADUATE CRESCENT   \n",
       "244660     180,ON NUT S0135,SUKNHUMVIT   \n",
       "244661   180,ON NUT SOI  35  SUKHUMVIT   \n",
       "244799                  MASLISANSKY ST   \n",
       "244856                      NAVAHO DR.   \n",
       "244894                  WHITEGLEN CRES   \n",
       "244895                      NAVAHO DR.   \n",
       "245023              TURNER CLOSE CREWE   \n",
       "245024                    TURNER CREWE   \n",
       "245302                 BERKLEY CRES NW   \n",
       "245316                   ELMONT DR. SW   \n",
       "245957                      MAYNARD RD   \n",
       "245958                      MAYNARD RD   \n",
       "246218                  ABBOTS GARDENS   \n",
       "247060                         HAGALIL   \n",
       "247422                   DE 'I INFANTE   \n",
       "247515                         RADFORD   \n",
       "247907                    KNIGHT CLOSE   \n",
       "248034                    SASAMEMINAMI   \n",
       "248257         HORSESHOE WAY  UNIT 133   \n",
       "248379            BUKIT BATOK CRESCENT   \n",
       "248967                         TYNE ST   \n",
       "248968                         TYNE ST   \n",
       "249009         MANOR FARM,SOUTH NEWTON   \n",
       "249505             TENTH LIVERPOOL ST.   \n",
       "249762                   LAUNCESTON PL   \n",
       "249874                       CLADE ST.   \n",
       "250070            CRESCENT WCEGA TOWER   \n",
       "\n",
       "                                           city    zip_code country state  \n",
       "183911                           MANAMA HAHRAIN           0     USA   NaN  \n",
       "186126                    MISS, ONTARIO, CANADA     L5N 3H5     USA   NaN  \n",
       "188915                           STOCKBURG KENT           0     USA   NaN  \n",
       "190375                                    LUCCA       55067     USA   NaN  \n",
       "191245               CHARLESTON LONDON, ENGLAND     SE 770X     USA   NaN  \n",
       "193547                Woodville, United Kingdom    Deli-7DN     USA   NaN  \n",
       "194701                            LONDON SE12ET           0     USA   NaN  \n",
       "203041                 TORONTO  ONTARIO, CANADA      M9W6C9     USA   NaN  \n",
       "203042                 TORONTO  ONTARIO, CANADA      M9W6C9     USA   NaN  \n",
       "203043                 TORONTO  ONTARIO, CANADA      M9W6C9     USA   NaN  \n",
       "216567  ST. FATIMA SQ. HELIOPOLIS, CAIRO, EGYPT       11361    Egyp   NaN  \n",
       "216568  ST. FATIMA SQ. HELIOPOLIS, CAIRO, EGYPT       11361    Egyp   NaN  \n",
       "216927                 CALGARY, ALBERTA, CANADA     T3H-4X8    Cana   NaN  \n",
       "217529                 CALGARY, ALBERTA, CANADA     T3H-4X8    Cana   NaN  \n",
       "220371                              ROBINA  QLD        4226     USA   NaN  \n",
       "220407                           UNITED KINGDOM           0     USA   NaN  \n",
       "220533                                 VICTORIA        3350     USA   NaN  \n",
       "223243                         STOCKBURY,  KENT  ME9,7QR UK     USA   NaN  \n",
       "223334                     ALFORTEVILLE, FRANCE       94140     USA   NaN  \n",
       "223335                     ALFORTEVILLE, FRANCE       94140     USA   NaN  \n",
       "224720                          CALVARY ALBERTA           0     USA   NaN  \n",
       "225113                                SINGAPORE      650213     USA   NaN  \n",
       "225794                         BET ZAIT, ISRAEL       90815     USA   NaN  \n",
       "225795                         BET ZAIT, ISRAEL       90815     USA   NaN  \n",
       "225796                         BET ZAIT, ISRAEL       90815     USA   NaN  \n",
       "227074                          QUEANBEYAN, NSW        2620     USA   NaN  \n",
       "227161                        CARLISLE CUMBRIAN          49     USA   NaN  \n",
       "227736                               NEWTONMORE           0     USA   NaN  \n",
       "227737                               NEWTONMORE           0     USA   NaN  \n",
       "227964                          CALGARY ALBERTA           0     USA   NaN  \n",
       "...                                         ...         ...     ...   ...  \n",
       "244324                               MT. BARKER        6324     USA   NaN  \n",
       "244407                        WCEGA TOWER 03-74      658065     USA   NaN  \n",
       "244547                              BELIZE CITY           0     USA   NaN  \n",
       "244660                                  BANGKOK           0     USA   NaN  \n",
       "244661                                  BONGKOK           0     USA   NaN  \n",
       "244799                          RAMOT JERUSALEM       97225     USA   NaN  \n",
       "244856                                  TORONTO         222     USA   NaN  \n",
       "244894                            N. E. CALGARY           0     USA   NaN  \n",
       "244895                                  TORONTO          22     USA   NaN  \n",
       "245023                                 CHESHIRE           0     USA   NaN  \n",
       "245024                                 CHESHIRE           0     USA   NaN  \n",
       "245302                          CALGARY,ALBERTA           0     USA   NaN  \n",
       "245316                                  CALGARY           0     USA   NaN  \n",
       "245957                                  WALTHAM         179     USA   NaN  \n",
       "245958                                  WALTHAM         179     USA   NaN  \n",
       "246218                          LODON ,N2OJE,UK           0     USA   NaN  \n",
       "247060                      GANIC TIKVA ,ISRAEL       55900     USA   NaN  \n",
       "247422                                 WATERLOO        1401     USA   NaN  \n",
       "247515                                  ONTARIO         342     USA   NaN  \n",
       "247907                          NEW SOUTH WALES        2448     USA   NaN  \n",
       "248034                                TADA CITY     3350035     USA   NaN  \n",
       "248257                              RICHMOND BC           0     USA   NaN  \n",
       "248379                                SINGAPORE      658065     USA   NaN  \n",
       "248967       BOX HILL NORTH, VICTORIA AUSTRALIA        3129     USA   NaN  \n",
       "248968       BOX HILL NORTH, VICTORIA AUSTRALIA        3129     USA   NaN  \n",
       "249009                 SALISBURY,WILT,SP2, OQD,           0     USA   NaN  \n",
       "249505                                 ROSE BAY        2029     USA   NaN  \n",
       "249762                           UNITED KINGDOM         157     USA   NaN  \n",
       "249874                             BEULAH SOUTH        5067     USA   NaN  \n",
       "250070                              BUKIT BATOK      658065     USA   NaN  \n",
       "\n",
       "[93 rows x 5 columns]"
      ]
     },
     "execution_count": 21,
     "metadata": {
      "tags": []
     },
     "output_type": "execute_result"
    }
   ],
   "source": [
    "# Let's check some info when state values are NaN\n",
    "train[train.state.isnull()][['mailing_address_str_name','city','zip_code','country','state']]"
   ]
  },
  {
   "cell_type": "markdown",
   "metadata": {
    "colab_type": "text",
    "id": "J4Dt4tIGl6ff"
   },
   "source": [
    "In order to correct the mismatches in cities and countries, search the name of the city from google map and correct the name of the country manually. As you probably notice, there are a lot of cities not only just mismatched but also erroneously spelled e.g) TOKO, OSKA, SUREY, VAN COUVER."
   ]
  },
  {
   "cell_type": "code",
   "execution_count": 0,
   "metadata": {
    "colab": {},
    "colab_type": "code",
    "collapsed": true,
    "id": "30g4zLjHl6fg"
   },
   "outputs": [],
   "source": [
    "# Below is the list of misspelled and mismatched cities.\n",
    "# While iterating over each raw, any of cities or countries in the list appears, \n",
    "# replace the erroneous labels on country column to correct labels. If there is nothing erroneous then label USA.\n",
    "def nation_conv(element):\n",
    "    \n",
    "    singapore = 'WCEGA|PLAZA|PENISULA PLAZA|PENISULA AVE|PENINSULA|PENINSALA PLAZA|SINAGAPORE|SUNGAPORE|SINGA PORE|SINGAPO|SINGAPORE|WCEGA TOWER|BUKIT BATOK|SANDY PALM|BATOK'\n",
    "    canada = 'SUN RIDGE|SURRY|RICHMOND, BC|RICHMOND|RICHMOND V7A4V3|VAN COUVER|EDMONTON|SUREY|YELLOWKNIFE|WINNIPEG MANTOBA|VANCOUVER|ALBERTA|CANADA|ONTARIO|TORONTO|RICHMOND BC|WINDSOR|CALGARY|ALDERGROVE'\n",
    "    israel = 'RAMOT|ISRAEL|RAANANA|KIRYAT MOZKIN|RAMOT JERUSALEM|RAMONT JERUSALEM'\n",
    "    uk = 'WARWICK|ROTHERHAM|PAIGNTON|ONCHAN ISLE OF MAN|NORTH PORTSMOUTH|TORTOLA|SHEFFIELD|SCARBOUROUGH|SCARBOROUGH|LANARKSHIRE|NEW CASTLE UPON TYM|MICKLEOVER|LANDONDERRY|DUNDALK|HERT FORDSHIRE|THORTON CLEVELEY\\'S|SWINDON|STAFFORDSHIRE|SOUTHERNESS|SOUTH PORT|CHINNOR ORON|CHELTENHAM|CHATHAM|BURY|CANTERBURY|CARLUKE|CHARLTON|FARNBOROUGH HANTS|CHURCH TOWN|HATFIELD|MANCHESTER|ESSEX|LANCASHIRE|WARKFIELD BERKSHIRE|WARFIELD BERKSHIRE|TRURO|BROMLEY|BRIGHT|BRIGHTON|BICKERLEY RINGWOOD|BERKSHIRE|SALISBURY|CARLISLE CUMBRIAN|UNITED KINGDOM|LONDON|ENGLAND|CHESHIRE|KENT|NEWTONMORE|UNITED KINGDO|ECKINGTON, SHEFFIELD|WISHAW|LODON ,N2OJE,UK|OJE|SALISBURY,WILT,SP2, OQD,'\n",
    "    egypt = 'NEW CIARO|EGYPT|ST FATIMA SQ HELIOP|CAIRO'\n",
    "    france = 'PARIS|FRANCE|ALQUE MORTES|MATISSE CHAMPS SUR'\n",
    "    thai = 'BANGKOK|THAILAND|BONGKOK'\n",
    "    australia = 'QUEENSLAND|SMYLHES CREEK|NEDLAND|FASSI FERN |BELLS BROOK|BULLSBRPPK|BULLSHROOK|BUNDALL|ELLES GROVE|CROYDON|CROSSOVER|COLDSTREAM|BULLSBROOK|BRISBANE OLD|BLACK TOWN|BELROSE|BASSENDEAN|AVALON CITY|ROBINA|QUEANBEYAN|NSW|AUSTRALIA|ROBINA QLD|AUSTRALI|VICTORIA|QUENSLAND|BOX HILL NORTH VICT|MT. BARKER|NEW SOUTH WALES|ROSE BAY'\n",
    "    bahrain = 'MANAMA'\n",
    "    italy = 'DI QUATIRO CA|LUCCA|ALZATE'\n",
    "    holland = 'VOORBURG|VEGHEL|NETHERLAND'\n",
    "    zealand = 'AUCKLAND|New Zealand'\n",
    "    japan = 'OSKA|KOMAE SHI|TOKYO|TOYKO|TOKO|JAPAN|CHIBA CITY'\n",
    "    china = 'TAI O|QINGXIU|QING XIU|NEW PRAYN|SHANGHAI|HONG KONG|TAIPEI|KWON TONG|KWUN TONG'\n",
    "    germany = 'WALDKRAIBURG|MUNICH|BERLIN'\n",
    "    india = 'SONEPAT HARYANA|ISLAMABAD'\n",
    "    arab = 'DUBAI'\n",
    "    malay = 'SUBANG JAYA|SALANGOR'\n",
    "    indonesia = 'SABANG JAYA'\n",
    "    lebanon = 'LEBANON'\n",
    "    nigiria = 'ALAUSA'\n",
    "    norway = 'NORWAY'\n",
    "    poland = 'POZNAN'\n",
    "    etc = 'TADA CITY|BEULAH SOUTH'\n",
    "    \n",
    "    nations = [singapore,canada,israel,uk,egypt,france,thai,australia,bahrain,italy,holland,zealand,japan,china,germany,india,arab,malay,indonesia,lebanon,nigiria,norway,poland,etc]\n",
    "    labels = ['SIN','CAN','ISR','UK','EGY','FRA','THI','AUS','BAH','ITA','HOL','NZL','JAP','CHN','GER','IND','ARA','MAL','IDN','LEB','NIG','NOR','POL','ETC']\n",
    "    \n",
    "    # If we create a dictionary, labeling would be so much easier.\n",
    "    code = dict.fromkeys([])\n",
    "    \n",
    "    for nation, label in zip(nations,labels):\n",
    "        code.update(dict.fromkeys(nation.split('|'), label))\n",
    "    \n",
    "    for nation in nations:\n",
    "        found = list(map(lambda x: x.upper(),re.findall('\\\\b' + nation + '\\\\b', element, re.IGNORECASE)))\n",
    "        if(len(found) > 0):\n",
    "            return code[found[0]]\n",
    "        continue\n",
    "    \n",
    "    return 'USA'\n"
   ]
  },
  {
   "cell_type": "code",
   "execution_count": 23,
   "metadata": {
    "colab": {
     "base_uri": "https://localhost:8080/",
     "height": 146
    },
    "colab_type": "code",
    "collapsed": false,
    "id": "yC0cWsWOl6fh",
    "outputId": "a9b4c59c-2aa7-462f-b581-483b48174523"
   },
   "outputs": [
    {
     "data": {
      "text/html": [
       "<div>\n",
       "<style scoped>\n",
       "    .dataframe tbody tr th:only-of-type {\n",
       "        vertical-align: middle;\n",
       "    }\n",
       "\n",
       "    .dataframe tbody tr th {\n",
       "        vertical-align: top;\n",
       "    }\n",
       "\n",
       "    .dataframe thead th {\n",
       "        text-align: right;\n",
       "    }\n",
       "</style>\n",
       "<table border=\"1\" class=\"dataframe\">\n",
       "  <thead>\n",
       "    <tr style=\"text-align: right;\">\n",
       "      <th></th>\n",
       "      <th>ticket_id</th>\n",
       "      <th>agency_name</th>\n",
       "      <th>inspector_name</th>\n",
       "      <th>violator_name</th>\n",
       "      <th>mailing_address_str_number</th>\n",
       "      <th>mailing_address_str_name</th>\n",
       "      <th>city</th>\n",
       "      <th>state</th>\n",
       "      <th>zip_code</th>\n",
       "      <th>country</th>\n",
       "      <th>...</th>\n",
       "      <th>fine_amount</th>\n",
       "      <th>admin_fee</th>\n",
       "      <th>state_fee</th>\n",
       "      <th>late_fee</th>\n",
       "      <th>discount_amount</th>\n",
       "      <th>clean_up_cost</th>\n",
       "      <th>judgment_amount</th>\n",
       "      <th>lat</th>\n",
       "      <th>lon</th>\n",
       "      <th>num_null</th>\n",
       "    </tr>\n",
       "  </thead>\n",
       "  <tbody>\n",
       "    <tr>\n",
       "      <th>12495</th>\n",
       "      <td>306086</td>\n",
       "      <td>Department of Public Works</td>\n",
       "      <td>May, Tanya</td>\n",
       "      <td>CHASE HOME FINANCE LLC, .</td>\n",
       "      <td>8</td>\n",
       "      <td>BROOKSEDGE BLVD</td>\n",
       "      <td>NaN</td>\n",
       "      <td>OH</td>\n",
       "      <td>43081</td>\n",
       "      <td>USA</td>\n",
       "      <td>...</td>\n",
       "      <td>200.0</td>\n",
       "      <td>20.0</td>\n",
       "      <td>10.0</td>\n",
       "      <td>20.0</td>\n",
       "      <td>0.0</td>\n",
       "      <td>0.0</td>\n",
       "      <td>250.0</td>\n",
       "      <td>42.411773</td>\n",
       "      <td>-83.155902</td>\n",
       "      <td>1</td>\n",
       "    </tr>\n",
       "  </tbody>\n",
       "</table>\n",
       "<p>1 rows × 25 columns</p>\n",
       "</div>"
      ],
      "text/plain": [
       "       ticket_id                 agency_name inspector_name  \\\n",
       "12495     306086  Department of Public Works     May, Tanya   \n",
       "\n",
       "                   violator_name mailing_address_str_number  \\\n",
       "12495  CHASE HOME FINANCE LLC, .                          8   \n",
       "\n",
       "      mailing_address_str_name city state zip_code country    ...     \\\n",
       "12495          BROOKSEDGE BLVD  NaN    OH    43081     USA    ...      \n",
       "\n",
       "      fine_amount admin_fee state_fee late_fee discount_amount  clean_up_cost  \\\n",
       "12495       200.0      20.0      10.0     20.0             0.0            0.0   \n",
       "\n",
       "       judgment_amount        lat        lon  num_null  \n",
       "12495            250.0  42.411773 -83.155902         1  \n",
       "\n",
       "[1 rows x 25 columns]"
      ]
     },
     "execution_count": 23,
     "metadata": {
      "tags": []
     },
     "output_type": "execute_result"
    }
   ],
   "source": [
    "test[test['city'].isnull()]"
   ]
  },
  {
   "cell_type": "code",
   "execution_count": 0,
   "metadata": {
    "colab": {},
    "colab_type": "code",
    "collapsed": true,
    "id": "DSINQpp7l6fm"
   },
   "outputs": [],
   "source": []
  },
  {
   "cell_type": "markdown",
   "metadata": {
    "colab_type": "text",
    "id": "3zYErvMPl6fo"
   },
   "source": [
    "As mentioned before, there are a lot of incorrect information on country column. Consequently, it is necessary to createa new column by applying the above function 'nation_conv' for describing violator's mailing country. "
   ]
  },
  {
   "cell_type": "code",
   "execution_count": 0,
   "metadata": {
    "colab": {},
    "colab_type": "code",
    "collapsed": true,
    "id": "Jj4_SPz1l6fo"
   },
   "outputs": [],
   "source": [
    "# Apply the function.\n",
    "train['new_country'] = train['city'].map(nation_conv)\n",
    "\n",
    "# Based on google map, the name of the city in test dataset considered as a missing value is actually Westerville,\n",
    "# which matches with the state and street name and zipcode.\n",
    "test.city.fillna('NULL', inplace=True)\n",
    "test.city.iloc[12495] = 'Westerville'\n",
    "\n",
    "# Apply the function on test set. \n",
    "test['new_country'] = test['city'].map(nation_conv)"
   ]
  },
  {
   "cell_type": "markdown",
   "metadata": {
    "colab_type": "text",
    "id": "PRlkHaXOl6fs"
   },
   "source": [
    "Some name of cities, for example WATERLOO, VICTORIA, are used widely in english-speaking countries. Therefore, in order to avoid misclassification, manually label those cities by using google map. In addition, as mentioned, there are some places that cannot be found in google map and label them as ETC."
   ]
  },
  {
   "cell_type": "code",
   "execution_count": 0,
   "metadata": {
    "colab": {},
    "colab_type": "code",
    "collapsed": true,
    "id": "fZXTA-93l6ft"
   },
   "outputs": [],
   "source": [
    "# Training Set:\n",
    "# city: WATERLOO, BELGIUM\n",
    "train['new_country'].iloc[236844] = 'BEL'\n",
    "train['new_country'].iloc[247422] = 'BEL'\n",
    "\n",
    "# city: BEVAN WAY ABBOTSFORD B.C V256R3\n",
    "train['new_country'].iloc[240635] = 'CAN'\n",
    "train['new_country'].iloc[240806] = 'CAN'\n",
    "\n",
    "# city: BELIZE CITY\n",
    "train['new_country'].iloc[244547] = 'BLZ'\n",
    "\n",
    "# Test Set:\n",
    "#city: BELIZE CITY\n",
    "test['new_country'].iloc[4328] = 'BLZ'\n",
    "\n",
    "# UNITED KINGDOM\n",
    "test['new_country'].iloc[20878] = 'UK'\n",
    "test['new_country'].iloc[5647] = 'UK'\n",
    "test['new_country'].iloc[5648] = 'UK'\n",
    "test['new_country'].iloc[17870] = 'UK'\n",
    "test['new_country'].iloc[17871] = 'UK'\n",
    "test['new_country'].iloc[16513] = 'UK'\n",
    "test['new_country'].iloc[21689] = 'UK'\n",
    "test['new_country'].iloc[22436] = 'UK'\n",
    "test['new_country'].iloc[22268] = 'UK'\n",
    "test['new_country'].iloc[17911] = 'JAP'\n",
    "\n",
    "# ETC list (failed to find the exact locations by google)\n",
    "test['new_country'].iloc[14051] = 'ETC'\n",
    "test['new_country'].iloc[14050] = 'ETC'\n",
    "test['new_country'].iloc[22103] = 'ETC'\n",
    "test['new_country'].iloc[14308] = 'ETC'\n",
    "test['new_country'].iloc[2482] = 'ETC'\n",
    "test['new_country'].iloc[18154] = 'ETC'\n",
    "test['new_country'].iloc[10523] = 'ETC'\n",
    "test['new_country'].iloc[568] = 'ETC'\n",
    "test['new_country'].iloc[8580] = 'ETC'\n",
    "test['new_country'].iloc[19819] = 'ETC'\n",
    "test['new_country'].iloc[10857] = 'ETC'\n",
    "test['new_country'].iloc[21689] = 'ETC'\n",
    "test['new_country'].iloc[16413] = 'ETC'\n",
    "test['new_country'].iloc[3087] = 'ETC'\n",
    "test['new_country'].iloc[10656] = 'ETC'\n",
    "test['new_country'].iloc[13203] = 'ETC'\n",
    "test['new_country'].iloc[12860] = 'ETC'\n",
    "test['new_country'].iloc[19478] = 'ETC'\n",
    "test['new_country'].iloc[19479] = 'ETC'\n",
    "test['new_country'].iloc[5656] = 'ETC'\n",
    "test['new_country'].iloc[10776] = 'ETC'\n",
    "test['new_country'].iloc[19061] = 'ETC'\n",
    "\n",
    "# MAYNARD RD, WALTHAM : MA \n",
    "train.state.iloc[[245957,245958]] = 'MA'\n",
    "test.state.iloc[20598] = 'DE'"
   ]
  },
  {
   "cell_type": "code",
   "execution_count": 0,
   "metadata": {
    "colab": {},
    "colab_type": "code",
    "collapsed": true,
    "id": "jkmn-CF2l6fv"
   },
   "outputs": [],
   "source": [
    "# If mailing addresses are not domestic, change them to 'OOS' which stands for out of states.\n",
    "train.state[train['new_country'] != 'USA'] = 'OOS'\n",
    "test.state[test['new_country'] != 'USA'] = 'OOS'"
   ]
  },
  {
   "cell_type": "code",
   "execution_count": 27,
   "metadata": {
    "colab": {
     "base_uri": "https://localhost:8080/",
     "height": 51
    },
    "colab_type": "code",
    "collapsed": false,
    "id": "GvmSxpZ1l6f1",
    "outputId": "4d97dd11-ce9d-4c7a-cd10-168ab9d02a7a"
   },
   "outputs": [
    {
     "name": "stdout",
     "output_type": "stream",
     "text": [
      "unique city names in training set: 5184\n",
      "unique city names in test set: 3266\n"
     ]
    }
   ],
   "source": [
    "# Let's see how many unique names in city column.\n",
    "print('unique city names in training set:',len(set(train.city)))\n",
    "print('unique city names in test set:',len(set(test.city)))"
   ]
  },
  {
   "cell_type": "code",
   "execution_count": 0,
   "metadata": {
    "colab": {},
    "colab_type": "code",
    "collapsed": true,
    "id": "SZL07-Mjl6f4"
   },
   "outputs": [],
   "source": [
    "# It appears that some values are duplicated due to extra space or upper or lower case difference even though they are\n",
    "# the same.\n",
    "train.city = train.city.apply(lambda x: x.upper().strip())\n",
    "test.city = test.city.apply(lambda x: x.upper().strip())"
   ]
  },
  {
   "cell_type": "code",
   "execution_count": 29,
   "metadata": {
    "colab": {
     "base_uri": "https://localhost:8080/",
     "height": 51
    },
    "colab_type": "code",
    "collapsed": false,
    "id": "qb1_eSO4l6f9",
    "outputId": "34400955-7c9a-4752-e4be-0bcaa29db82b"
   },
   "outputs": [
    {
     "name": "stdout",
     "output_type": "stream",
     "text": [
      "unique city names in training set: 4322\n",
      "unique city names in test set: 2694\n"
     ]
    }
   ],
   "source": [
    "# As you can see the results, we could greatly reduce the number of duplications.\n",
    "print('unique city names in training set:',len(set(train.city)))\n",
    "print('unique city names in test set:',len(set(test.city)))"
   ]
  },
  {
   "cell_type": "code",
   "execution_count": 0,
   "metadata": {
    "colab": {},
    "colab_type": "code",
    "collapsed": true,
    "id": "hUwSJ485l6gQ"
   },
   "outputs": [],
   "source": [
    "# Zip_code for non-us countries: 'OOS'\n",
    "train.zip_code[train.new_country != 'USA'] = 'OOS'\n",
    "test.zip_code[test.new_country != 'USA'] = 'OOS'"
   ]
  },
  {
   "cell_type": "code",
   "execution_count": 0,
   "metadata": {
    "colab": {},
    "colab_type": "code",
    "collapsed": true,
    "id": "oSXmXQ2Dl6gS"
   },
   "outputs": [],
   "source": []
  },
  {
   "cell_type": "markdown",
   "metadata": {
    "colab_type": "text",
    "id": "-xa7I0Ffl6gW"
   },
   "source": [
    "The rows whose state column value is NaN should be converted to string type since machine learning algorithms cannot take in None type as input. Especially in this case, we cannot not even infer any of city, state and zip_code by the given information (e.g mailing_address_str_name) label them 'NULL'. "
   ]
  },
  {
   "cell_type": "code",
   "execution_count": 0,
   "metadata": {
    "colab": {},
    "colab_type": "code",
    "collapsed": true,
    "id": "_eVXVgEKl6gW"
   },
   "outputs": [],
   "source": [
    "null_city_index = train[train.state.isnull()].index\n",
    "train['city'].iloc[null_city_index] = 'NULL'\n",
    "train['zip_code'].iloc[null_city_index] = 'NULL'\n",
    "train['state'].iloc[null_city_index] = 'NULL'"
   ]
  },
  {
   "cell_type": "code",
   "execution_count": 32,
   "metadata": {
    "colab": {
     "base_uri": "https://localhost:8080/",
     "height": 51
    },
    "colab_type": "code",
    "collapsed": false,
    "id": "xt9k5KJVl6gY",
    "outputId": "9e2e8a62-c6eb-4f75-c93b-0bb1dead0605"
   },
   "outputs": [
    {
     "name": "stdout",
     "output_type": "stream",
     "text": [
      "['NULL', 'QC', 'OOS', 'VI', 'UK', 'BL', 'NB', 'ON', 'QL', 'BC', 'PR']\n"
     ]
    },
    {
     "data": {
      "text/plain": [
       "['QC', 'VI', 'UK', 'BL', 'NB', 'ON', 'QL', 'BC', 'PR']"
      ]
     },
     "execution_count": 32,
     "metadata": {
      "tags": []
     },
     "output_type": "execute_result"
    }
   ],
   "source": [
    "# Check if there is any states other than us states in state columns.\n",
    "us_state = [\"AL\", \"AK\", \"AZ\", \"AR\", \"CA\", \"CO\", \"CT\", \"DC\", \"DE\", \"FL\", \"GA\", \n",
    "          \"HI\", \"ID\", \"IL\", \"IN\", \"IA\", \"KS\", \"KY\", \"LA\", \"ME\", \"MD\", \n",
    "          \"MA\", \"MI\", \"MN\", \"MS\", \"MO\", \"MT\", \"NE\", \"NV\", \"NH\", \"NJ\", \n",
    "          \"NM\", \"NY\", \"NC\", \"ND\", \"OH\", \"OK\", \"OR\", \"PA\", \"RI\", \"SC\", \n",
    "          \"SD\", \"TN\", \"TX\", \"UT\", \"VT\", \"VA\", \"WA\", \"WV\", \"WI\", \"WY\"]\n",
    "\n",
    "not_us_state = []\n",
    "all_state = set(train.state)|set(test.state)\n",
    "\n",
    "for a in all_state:\n",
    "    if(a not in us_state):\n",
    "        not_us_state.append(a)\n",
    "\n",
    "        \n",
    "print(not_us_state)\n",
    "\n",
    "# Make sure that exclude 'OOS' and 'NULL'\n",
    "not_us_state.remove('OOS')\n",
    "not_us_state.remove('NULL')\n",
    "\n",
    "not_us_state"
   ]
  },
  {
   "cell_type": "code",
   "execution_count": 0,
   "metadata": {
    "colab": {},
    "colab_type": "code",
    "collapsed": true,
    "id": "jFpVY4LRl6ga"
   },
   "outputs": [],
   "source": [
    "# Below rows are wrong abbreviation for the state.\n",
    "\n",
    "# According to google map, the state of this row supposed to be Virgina VA not VI.\n",
    "# Since the rest of VI represents Virgin Island in US so remove VI from not_us_state list\n",
    "train.state.iloc[15713] = 'VA'\n",
    "not_us_state.remove('VI')\n",
    "\n",
    "# According to google map, the state of this row supposed to be Nevada NV not NB.\n",
    "train.state.iloc[181834] = 'NV'\n",
    "train.state.iloc[181835] = 'NV'\n",
    "\n",
    "# Most of states denoted as 'NB' supposed to be 'NE'; therefore, from the not_us_state list, we need to remove it \n",
    "# to avoid an error when we create the dictionary later on. NB also stands for New Brunswick which is the province in \n",
    "# Canada but decide not to manually alter since the number of rows actually New Brunswick is negligible.\n",
    "\n",
    "train.state[train.state == 'NB'] = 'NE'\n",
    "test.state[test.state == 'NB'] = 'NE'\n",
    "\n",
    "not_us_state.remove('NB')\n",
    "\n",
    "# Many rows are wrongly classified as USA. \n",
    "train.state.iloc[248498] = 'OOS'\n",
    "train.new_country.iloc[248498] = 'SIN'\n",
    "train.state.iloc[241977] = 'OOS'\n",
    "train.new_country.iloc[241977] = 'SIN'\n",
    "\n",
    "train.state.iloc[107274] = 'OOS'\n",
    "train.new_country.iloc[107274] = 'CAN'\n",
    "train.state.iloc[107275] = 'OOS'\n",
    "train.new_country.iloc[107275] = 'CAN'\n",
    "\n",
    "train.state.iloc[20801] = 'OOS'\n",
    "train.new_country.iloc[20801] = 'CHN'\n",
    "train.state.iloc[20802] = 'OOS'\n",
    "train.new_country.iloc[20802] = 'CHN'\n",
    "\n",
    "#test.state.iloc[338993] = 'OOS'\n",
    "#test.new_country.iloc[338993] = 'JAP'\n",
    "#test.state.iloc[338995] = 'OOS'\n",
    "#test.new_country.iloc[338995] = 'JAP'\n",
    "\n",
    "test.state.iloc[6550] = 'OOS'\n",
    "test.new_country.iloc[6550] = 'JAP'\n",
    "\n",
    "test.state.iloc[6551] = 'OOS'\n",
    "test.new_country.iloc[6551] = 'JAP'\n",
    "\n",
    "test.state.iloc[9266] = 'OOS'\n",
    "test.new_country.iloc[9266] = 'JAP'\n",
    "\n",
    "#test.state.iloc[357567] = 'OOS'\n",
    "#test.new_country.iloc[357567] = 'SIN'\n",
    "\n",
    "test.state.iloc[33881] = 'OOS'\n",
    "test.new_country.iloc[33881] = 'SIN'\n",
    "test.state.iloc[2736] = 'OOS'\n",
    "test.new_country.iloc[2736] = 'SIN'\n",
    "test.state.iloc[3570] = 'OOS'\n",
    "test.new_country.iloc[3570] = 'ETC'\n",
    "test.state.iloc[5427] = 'OOS'\n",
    "test.new_country.iloc[5427] = 'ETC'\n",
    "test.state.iloc[11289] = 'OOS'\n",
    "test.new_country.iloc[11289] = 'ETC'\n",
    "test.state.iloc[20175] = 'OOS'\n",
    "test.new_country.iloc[20175] = 'ETC'\n",
    "test.state.iloc[20176] = 'OOS'\n",
    "test.new_country.iloc[20176] = 'ETC'\n",
    "test.state.iloc[20234] = 'OOS'\n",
    "test.new_country.iloc[20234] = 'ETC'\n",
    "\n",
    "test.state.iloc[34188] = 'OOS'\n",
    "test.new_country.iloc[34188] = 'CAN'\n",
    "test.state.iloc[34189] = 'OOS'\n",
    "test.new_country.iloc[34189] = 'CAN'\n",
    "\n",
    "test.state.iloc[48595] = 'OOS'\n",
    "test.new_country.iloc[48595] = 'AUS'\n",
    "test.state.iloc[48596] = 'OOS'\n",
    "test.new_country.iloc[48596] = 'AUS'\n",
    "\n",
    "# The country denoted as USA but has non-us states in state column should be converted to the proper labels.\n",
    "nation_map = dict.fromkeys(['BC','ON','QC'],'CAN')\n",
    "nation_map['BL'] = 'GER'\n",
    "nation_map['UK'] = 'UK'\n",
    "nation_map['QL'] = 'AUS'\n",
    "nation_map['PR'] = 'ETC'\n",
    "\n",
    "for st in set(not_us_state):\n",
    "    train.new_country[train.state == st] = nation_map[st]\n",
    "    test.new_country[test.state == st] = nation_map[st]\n",
    "    \n",
    "    train.state[train.state == st] = 'OOS'\n",
    "    test.state[test.state == st] = 'OOS'\n",
    "\n"
   ]
  },
  {
   "cell_type": "code",
   "execution_count": 34,
   "metadata": {
    "colab": {
     "base_uri": "https://localhost:8080/",
     "height": 51
    },
    "colab_type": "code",
    "collapsed": false,
    "id": "gCMCazfYl6gc",
    "outputId": "295a626d-32c0-420f-9c7f-56b2477caaea"
   },
   "outputs": [
    {
     "name": "stdout",
     "output_type": "stream",
     "text": [
      "# of states in training set: 54\n",
      "# of states in test set: 53\n"
     ]
    }
   ],
   "source": [
    "# Including NULL and OOS ('Out of States'), there should be 54 states in training set and 53 states in test set (no NULL value).\n",
    "print('# of states in training set:',len(set(train.state)))\n",
    "print('# of states in test set:',len(set(test.state)))"
   ]
  },
  {
   "cell_type": "code",
   "execution_count": 0,
   "metadata": {
    "colab": {},
    "colab_type": "code",
    "collapsed": true,
    "id": "NW8oILcgl6gh"
   },
   "outputs": [],
   "source": [
    "# Some rows whose city column has ST THOMAS are classified as VA which supposed to be VI (Virgin Irland)\n",
    "va_island = train[train.state == 'VA'].city.str.extractall(r'(.* THOMAS)').index.levels[0]\n",
    "train.state.iloc[va_island] = 'VI'\n",
    "\n",
    "va_island_test = test[test.state == 'VA'].city.str.extractall(r'(.* THOMAS)').index.levels[0]\n",
    "test.state.iloc[va_island_test] = 'VI'"
   ]
  },
  {
   "cell_type": "code",
   "execution_count": 0,
   "metadata": {
    "colab": {},
    "colab_type": "code",
    "collapsed": true,
    "id": "r8B2uXEAl6gi"
   },
   "outputs": [],
   "source": []
  },
  {
   "cell_type": "markdown",
   "metadata": {
    "colab_type": "text",
    "id": "tPkI1RtJl6gk"
   },
   "source": [
    "### 3.15 Zip Code\n",
    "\n",
    "Zipcode column comprises string and integer; therefore, first thing to do is to convert all the zipcode to string. Also, simplify the international zipcodes as OOS 'Out Of States'. If there is invalid place cannot be found even in google map, then label them as 'NULL'. In addition, we could find many invalid zipcode which consist of three digits or less. These should be also converted to 'NULL'. Lastly, remove hyphen sign which connects main zipcode (usually 5 digits) between detail zipcodes for unity."
   ]
  },
  {
   "cell_type": "code",
   "execution_count": 0,
   "metadata": {
    "colab": {},
    "colab_type": "code",
    "collapsed": true,
    "id": "YlypMchgl6gk"
   },
   "outputs": [],
   "source": [
    "# Need to standardized the zip_code type. (Some of them are string and some of them are integer)\n",
    "train.zip_code = train.zip_code.apply(lambda x: str(x))\n",
    "test.zip_code = test.zip_code.apply(lambda x: str(x))"
   ]
  },
  {
   "cell_type": "code",
   "execution_count": 0,
   "metadata": {
    "colab": {},
    "colab_type": "code",
    "collapsed": true,
    "id": "yUgv7JZXl6gm"
   },
   "outputs": [],
   "source": [
    "# Zipcode for Out of states is OOS\n",
    "train.zip_code[train.state == 'OOS'] = 'OOS'\n",
    "test.zip_code[test.state == 'OOS'] = 'OOS'\n",
    "\n",
    "# US zipcode whose default value is 0 changes to NULL\n",
    "train.zip_code[((train.zip_code == '0') | (train.zip_code == 0)) & (train.new_country == 'USA')] = 'NULL'\n",
    "test.zip_code[((test.zip_code == '0') | (test.zip_code == 0)) & (test.new_country == 'USA')] = 'NULL'"
   ]
  },
  {
   "cell_type": "code",
   "execution_count": 0,
   "metadata": {
    "colab": {},
    "colab_type": "code",
    "collapsed": true,
    "id": "R4LLJioAl6gt"
   },
   "outputs": [],
   "source": [
    "# Find wrong format zipcode which consists from 0 to 3 digits. We can safely assume that upto 3 digits zipcode\n",
    "# are wrong type format; even though 4 digits can be problematic as well, the case starts with 0 postal code can be\n",
    "# 5 digits only if the type is string. ex) 04513. \n",
    "train.zip_code[train.zip_code.str.match(r'^([0-9]{0,3})?$')] = 'NULL'\n",
    "test.zip_code[test.zip_code.str.match(r'^([0-9]{0,3})?$')] = 'NULL'"
   ]
  },
  {
   "cell_type": "code",
   "execution_count": 0,
   "metadata": {
    "colab": {},
    "colab_type": "code",
    "collapsed": true,
    "id": "-SIcKzCGl6gy"
   },
   "outputs": [],
   "source": [
    "# Unify the format of 9 digits or 8 digits postal code as non-hyphen(or non-special characters) postal code. \n",
    "# ex) 12345-6789 => 123456789\n",
    "train.zip_code = train.zip_code.apply(lambda x: re.sub('[^A-Za-z0-9]','',x))\n",
    "test.zip_code = test.zip_code.apply(lambda x: re.sub('[^A-Za-z0-9]','',x))"
   ]
  },
  {
   "cell_type": "code",
   "execution_count": 0,
   "metadata": {
    "colab": {},
    "colab_type": "code",
    "collapsed": true,
    "id": "FCs3Q4wGl6g0"
   },
   "outputs": [],
   "source": []
  },
  {
   "cell_type": "markdown",
   "metadata": {
    "colab_type": "text",
    "id": "Gclod7Ygl6g3"
   },
   "source": [
    "### 3.16 Hearing Date\n",
    "\n",
    "The reason why I chose to treate the hearing date column as nominal rather than interval is that hearing time has only 6 unique values which can be easier to classify."
   ]
  },
  {
   "cell_type": "code",
   "execution_count": 0,
   "metadata": {
    "colab": {},
    "colab_type": "code",
    "collapsed": true,
    "id": "qS4RYMgFl6g4"
   },
   "outputs": [],
   "source": [
    "# Fill missing values with xxxx-xx-xx xx:xx:xx.\n",
    "train.hearing_date.fillna('xxxx-xx-xx xx:xx:xx', inplace=True)\n",
    "test.hearing_date.fillna('xxxx-xx-xx xx:xx:xx', inplace=True)"
   ]
  },
  {
   "cell_type": "code",
   "execution_count": 0,
   "metadata": {
    "colab": {},
    "colab_type": "code",
    "collapsed": true,
    "id": "qSBB3CwVl6g6"
   },
   "outputs": [],
   "source": [
    "# Split hearing dates by four: YR, MM, DD, time\n",
    "train['HR_YR'] = train.hearing_date.apply(lambda x:x.split()[0].split('-')[0])\n",
    "train['HR_MO'] = train.hearing_date.apply(lambda x:x.split()[0].split('-')[1])\n",
    "train['HR_DD'] = train.hearing_date.apply(lambda x:x.split()[0].split('-')[2])\n",
    "\n",
    "train['HR_time'] = train.hearing_date.apply(lambda x:x.split( )[1])\n",
    "\n",
    "test['HR_YR'] = test.hearing_date.apply(lambda x:x.split()[0].split('-')[0])\n",
    "test['HR_MO'] = test.hearing_date.apply(lambda x:x.split()[0].split('-')[1])\n",
    "test['HR_DD'] = test.hearing_date.apply(lambda x:x.split()[0].split('-')[2])\n",
    "\n",
    "test['HR_time'] = test.hearing_date.apply(lambda x:x.split( )[1])"
   ]
  },
  {
   "cell_type": "code",
   "execution_count": 0,
   "metadata": {
    "colab": {},
    "colab_type": "code",
    "collapsed": true,
    "id": "EI-uv8gDl6g8"
   },
   "outputs": [],
   "source": []
  },
  {
   "cell_type": "markdown",
   "metadata": {
    "colab_type": "text",
    "id": "YAY1TV-cl6hB"
   },
   "source": [
    "### 3.17 Ticket Issued Date\n",
    "\n",
    "Year, month, and day of the ticket issued date are treated as hearing date column except for the time part. Unlike the hearing time, it should be converted to minute basis to treat as interval type since it increases every 5 minutes, which can be too many if we create binary columns by pd.get_dummies."
   ]
  },
  {
   "cell_type": "code",
   "execution_count": 0,
   "metadata": {
    "colab": {},
    "colab_type": "code",
    "collapsed": true,
    "id": "RPrszzrml6hC"
   },
   "outputs": [],
   "source": [
    "# Split ticket issued date by four: YR, MM, DD, time\n",
    "train['TI_YR'] = train.ticket_issued_date.apply(lambda x:x.split()[0].split('-')[0])\n",
    "train['TI_MO'] = train.ticket_issued_date.apply(lambda x:x.split()[0].split('-')[1])\n",
    "train['TI_DD'] = train.ticket_issued_date.apply(lambda x:x.split()[0].split('-')[2])\n",
    "\n",
    "train['TI_MI'] = train.ticket_issued_date.apply(lambda x:int(x.split()[1].split(':')[0])*60 + int(x.split()[1].split(':')[1]))\n",
    "\n",
    "test['TI_YR'] = test.ticket_issued_date.apply(lambda x:x.split()[0].split('-')[0])\n",
    "test['TI_MO'] = test.ticket_issued_date.apply(lambda x:x.split()[0].split('-')[1])\n",
    "test['TI_DD'] = test.ticket_issued_date.apply(lambda x:x.split()[0].split('-')[2])\n",
    "\n",
    "test['TI_MI'] = test.ticket_issued_date.apply(lambda x:int(x.split()[1].split(':')[0])*60 + int(x.split()[1].split(':')[1]))"
   ]
  },
  {
   "cell_type": "code",
   "execution_count": 0,
   "metadata": {
    "colab": {},
    "colab_type": "code",
    "collapsed": true,
    "id": "2ox5ZvrYl6hE"
   },
   "outputs": [],
   "source": []
  },
  {
   "cell_type": "markdown",
   "metadata": {
    "colab_type": "text",
    "id": "AM2FmsLll6hG"
   },
   "source": [
    "### 3.18 Violation Code / Violation Description"
   ]
  },
  {
   "cell_type": "code",
   "execution_count": 43,
   "metadata": {
    "colab": {
     "base_uri": "https://localhost:8080/",
     "height": 204
    },
    "colab_type": "code",
    "collapsed": false,
    "id": "82XUw-LLl6hG",
    "outputId": "bfacb4e3-bdfc-44d6-f5ff-dd6dd517825e"
   },
   "outputs": [
    {
     "data": {
      "text/html": [
       "<div>\n",
       "<style scoped>\n",
       "    .dataframe tbody tr th:only-of-type {\n",
       "        vertical-align: middle;\n",
       "    }\n",
       "\n",
       "    .dataframe tbody tr th {\n",
       "        vertical-align: top;\n",
       "    }\n",
       "\n",
       "    .dataframe thead th {\n",
       "        text-align: right;\n",
       "    }\n",
       "</style>\n",
       "<table border=\"1\" class=\"dataframe\">\n",
       "  <thead>\n",
       "    <tr style=\"text-align: right;\">\n",
       "      <th></th>\n",
       "      <th>violation_code</th>\n",
       "      <th>violation_description</th>\n",
       "    </tr>\n",
       "  </thead>\n",
       "  <tbody>\n",
       "    <tr>\n",
       "      <th>0</th>\n",
       "      <td>9-1-36(a)</td>\n",
       "      <td>Failure of owner to obtain certificate of comp...</td>\n",
       "    </tr>\n",
       "    <tr>\n",
       "      <th>1</th>\n",
       "      <td>61-63.0600</td>\n",
       "      <td>Failed To Secure Permit For Lawful Use Of Buil...</td>\n",
       "    </tr>\n",
       "    <tr>\n",
       "      <th>2</th>\n",
       "      <td>9-1-36(a)</td>\n",
       "      <td>Failure of owner to obtain certificate of comp...</td>\n",
       "    </tr>\n",
       "    <tr>\n",
       "      <th>3</th>\n",
       "      <td>9-1-36(a)</td>\n",
       "      <td>Failure of owner to obtain certificate of comp...</td>\n",
       "    </tr>\n",
       "    <tr>\n",
       "      <th>4</th>\n",
       "      <td>9-1-36(a)</td>\n",
       "      <td>Failure of owner to obtain certificate of comp...</td>\n",
       "    </tr>\n",
       "  </tbody>\n",
       "</table>\n",
       "</div>"
      ],
      "text/plain": [
       "  violation_code                              violation_description\n",
       "0      9-1-36(a)  Failure of owner to obtain certificate of comp...\n",
       "1     61-63.0600  Failed To Secure Permit For Lawful Use Of Buil...\n",
       "2      9-1-36(a)  Failure of owner to obtain certificate of comp...\n",
       "3      9-1-36(a)  Failure of owner to obtain certificate of comp...\n",
       "4      9-1-36(a)  Failure of owner to obtain certificate of comp..."
      ]
     },
     "execution_count": 43,
     "metadata": {
      "tags": []
     },
     "output_type": "execute_result"
    }
   ],
   "source": [
    "train[['violation_code','violation_description']].head()"
   ]
  },
  {
   "cell_type": "markdown",
   "metadata": {
    "colab_type": "text",
    "id": "68RFjjB4l6hI"
   },
   "source": [
    "As we can see some duplicated values, violation codes and descriptions are corresponding each other, which means we can eliminate violation_description column at the end of the preprocessing. (e.g 9-1-36(a) -> Failure of owner to obtain certificate of comp...)"
   ]
  },
  {
   "cell_type": "code",
   "execution_count": 0,
   "metadata": {
    "colab": {},
    "colab_type": "code",
    "collapsed": true,
    "id": "i4BmUGpZl6hI"
   },
   "outputs": [],
   "source": [
    "# Even though we drop violation_description column, for the later purpose, let's appropriate the two columns.\n",
    "code_description = train[['violation_code','violation_description']].drop_duplicates()"
   ]
  },
  {
   "cell_type": "code",
   "execution_count": 0,
   "metadata": {
    "colab": {},
    "colab_type": "code",
    "collapsed": true,
    "id": "cUDV-Dm9l6hK"
   },
   "outputs": [],
   "source": []
  },
  {
   "cell_type": "markdown",
   "metadata": {
    "colab_type": "text",
    "id": "gqaZPtBml6hN"
   },
   "source": [
    "### 3.19 Fine Amount"
   ]
  },
  {
   "cell_type": "code",
   "execution_count": 45,
   "metadata": {
    "colab": {
     "base_uri": "https://localhost:8080/",
     "height": 146
    },
    "colab_type": "code",
    "collapsed": false,
    "id": "Z_2lUjtkl6hO",
    "outputId": "5c2fd0ce-a637-4857-eed1-800798bc752b"
   },
   "outputs": [
    {
     "data": {
      "text/html": [
       "<div>\n",
       "<style scoped>\n",
       "    .dataframe tbody tr th:only-of-type {\n",
       "        vertical-align: middle;\n",
       "    }\n",
       "\n",
       "    .dataframe tbody tr th {\n",
       "        vertical-align: top;\n",
       "    }\n",
       "\n",
       "    .dataframe thead th {\n",
       "        text-align: right;\n",
       "    }\n",
       "</style>\n",
       "<table border=\"1\" class=\"dataframe\">\n",
       "  <thead>\n",
       "    <tr style=\"text-align: right;\">\n",
       "      <th></th>\n",
       "      <th>violation_code</th>\n",
       "      <th>violation_description</th>\n",
       "      <th>disposition</th>\n",
       "      <th>fine_amount</th>\n",
       "      <th>admin_fee</th>\n",
       "      <th>state_fee</th>\n",
       "      <th>late_fee</th>\n",
       "      <th>discount_amount</th>\n",
       "      <th>clean_up_cost</th>\n",
       "      <th>judgment_amount</th>\n",
       "      <th>...</th>\n",
       "      <th>num_null</th>\n",
       "      <th>new_country</th>\n",
       "      <th>HR_YR</th>\n",
       "      <th>HR_MO</th>\n",
       "      <th>HR_DD</th>\n",
       "      <th>HR_time</th>\n",
       "      <th>TI_YR</th>\n",
       "      <th>TI_MO</th>\n",
       "      <th>TI_DD</th>\n",
       "      <th>TI_MI</th>\n",
       "    </tr>\n",
       "  </thead>\n",
       "  <tbody>\n",
       "    <tr>\n",
       "      <th>81440</th>\n",
       "      <td>22-2-88</td>\n",
       "      <td>Failure of owner to keep property, its sidewal...</td>\n",
       "      <td>Not responsible by Dismissal</td>\n",
       "      <td>NaN</td>\n",
       "      <td>0.0</td>\n",
       "      <td>0.0</td>\n",
       "      <td>0.0</td>\n",
       "      <td>0.0</td>\n",
       "      <td>0.0</td>\n",
       "      <td>0.0</td>\n",
       "      <td>...</td>\n",
       "      <td>2</td>\n",
       "      <td>USA</td>\n",
       "      <td>2007</td>\n",
       "      <td>01</td>\n",
       "      <td>29</td>\n",
       "      <td>13:30:00</td>\n",
       "      <td>2007</td>\n",
       "      <td>01</td>\n",
       "      <td>03</td>\n",
       "      <td>795</td>\n",
       "    </tr>\n",
       "  </tbody>\n",
       "</table>\n",
       "<p>1 rows × 23 columns</p>\n",
       "</div>"
      ],
      "text/plain": [
       "      violation_code                              violation_description  \\\n",
       "81440        22-2-88  Failure of owner to keep property, its sidewal...   \n",
       "\n",
       "                        disposition  fine_amount  admin_fee  state_fee  \\\n",
       "81440  Not responsible by Dismissal          NaN        0.0        0.0   \n",
       "\n",
       "       late_fee  discount_amount  clean_up_cost  judgment_amount  ...   \\\n",
       "81440       0.0              0.0            0.0              0.0  ...    \n",
       "\n",
       "       num_null  new_country  HR_YR  HR_MO HR_DD   HR_time TI_YR TI_MO TI_DD  \\\n",
       "81440         2          USA   2007     01    29  13:30:00  2007    01    03   \n",
       "\n",
       "      TI_MI  \n",
       "81440   795  \n",
       "\n",
       "[1 rows x 23 columns]"
      ]
     },
     "execution_count": 45,
     "metadata": {
      "tags": []
     },
     "output_type": "execute_result"
    }
   ],
   "source": [
    "# As you can see below, there is one missing value in training fine amount column (no missing value in test set).\n",
    "train[train.fine_amount.isnull()].iloc[:,12:]"
   ]
  },
  {
   "cell_type": "code",
   "execution_count": 46,
   "metadata": {
    "colab": {
     "base_uri": "https://localhost:8080/",
     "height": 34
    },
    "colab_type": "code",
    "collapsed": false,
    "id": "XGxtAwRrl6hQ",
    "outputId": "ddff9354-d0cf-464b-afbf-520bd5077081"
   },
   "outputs": [
    {
     "name": "stdout",
     "output_type": "stream",
     "text": [
      "Counter({200.0: 1729, 3500.0: 1100, 1000.0: 875, 500.0: 722, 2500.0: 503, 10000.0: 59, 5000.0: 30, 345.0: 2, nan: 1})\n"
     ]
    }
   ],
   "source": [
    "# Although I searched rows of the fine amount that shares the same violation code and disposition \n",
    "# in order to fill the missing value with reasonable amount, there is no common value. \n",
    "print(Counter(train[(train.violation_code == '22-2-88') & (train.disposition == 'Not responsible by Dismissal')].iloc[:,15:].fine_amount))\n",
    "\n",
    "# Therefore, decided to use the most frequent fine amount 200.0 to fill the missing value.\n",
    "train.fine_amount.fillna(200.0, inplace=True)"
   ]
  },
  {
   "cell_type": "code",
   "execution_count": 0,
   "metadata": {
    "colab": {},
    "colab_type": "code",
    "collapsed": true,
    "id": "AUofOVxDl6hS"
   },
   "outputs": [],
   "source": []
  },
  {
   "cell_type": "markdown",
   "metadata": {
    "colab_type": "text",
    "id": "YvcjWGgnl6hU"
   },
   "source": [
    "### 3.20 Redundant Columns\n"
   ]
  },
  {
   "cell_type": "code",
   "execution_count": 47,
   "metadata": {
    "colab": {
     "base_uri": "https://localhost:8080/",
     "height": 612
    },
    "colab_type": "code",
    "collapsed": false,
    "id": "z5SqOdA4l6hW",
    "outputId": "95abcc26-884f-406f-c7e6-a4362f92ad72"
   },
   "outputs": [
    {
     "data": {
      "text/plain": [
       "['ticket_id',\n",
       " 'agency_name',\n",
       " 'inspector_name',\n",
       " 'violator_name',\n",
       " 'mailing_address_str_number',\n",
       " 'mailing_address_str_name',\n",
       " 'city',\n",
       " 'state',\n",
       " 'zip_code',\n",
       " 'country',\n",
       " 'ticket_issued_date',\n",
       " 'hearing_date',\n",
       " 'violation_code',\n",
       " 'violation_description',\n",
       " 'disposition',\n",
       " 'fine_amount',\n",
       " 'admin_fee',\n",
       " 'state_fee',\n",
       " 'late_fee',\n",
       " 'discount_amount',\n",
       " 'clean_up_cost',\n",
       " 'judgment_amount',\n",
       " 'compliance',\n",
       " 'lat',\n",
       " 'lon',\n",
       " 'num_null',\n",
       " 'new_country',\n",
       " 'HR_YR',\n",
       " 'HR_MO',\n",
       " 'HR_DD',\n",
       " 'HR_time',\n",
       " 'TI_YR',\n",
       " 'TI_MO',\n",
       " 'TI_DD',\n",
       " 'TI_MI']"
      ]
     },
     "execution_count": 47,
     "metadata": {
      "tags": []
     },
     "output_type": "execute_result"
    }
   ],
   "source": [
    "# Take a look at what columns are left.\n",
    "list(train.columns)"
   ]
  },
  {
   "cell_type": "code",
   "execution_count": 0,
   "metadata": {
    "colab": {},
    "colab_type": "code",
    "collapsed": true,
    "id": "AjK5MGoHl6hX"
   },
   "outputs": [],
   "source": [
    "redundant = ['violator_name','mailing_address_str_number','mailing_address_str_name','city','country','violation_description','num_null','hearing_date','ticket_issued_date']\n",
    "train.drop(redundant, inplace = True, axis = 1)\n",
    "test.drop(redundant, inplace = True, axis = 1)"
   ]
  },
  {
   "cell_type": "markdown",
   "metadata": {
    "colab_type": "text",
    "id": "HXEW2Qusl6ha"
   },
   "source": [
    "__hearing_date, ticket_issued_date__: Since we already split the time of these two columns in detail so they are not needed.<br>\n",
    "__num_null__: As mentioned, this column is created for the convenience to check how many missing values in each row for preprocessing. For the later process, it is not needed.<br>\n",
    "__mailing_address_str_name, mailing_address_str_number, violator_name, city__: There are too many unique values and too many typos to use them as machine learning algorithms' input.<br>\n",
    "__country__: Many values are wronly classified, for example, the label supposed to be USA but Canada or vice versa.<br>\n",
    "__violation_description__: It is tanamount to violation_code, just violation_description is described as english and violation_code is encoded; however, violation_code is much easier to display so decided to remove 'violation_description' column."
   ]
  },
  {
   "cell_type": "code",
   "execution_count": 0,
   "metadata": {
    "colab": {},
    "colab_type": "code",
    "collapsed": true,
    "id": "XlnV3HFhl6ha"
   },
   "outputs": [],
   "source": []
  },
  {
   "cell_type": "markdown",
   "metadata": {
    "colab_type": "text",
    "id": "Emc4EgQ9l6hc"
   },
   "source": [
    "### 3.21 Compliance"
   ]
  },
  {
   "cell_type": "markdown",
   "metadata": {
    "colab_type": "text",
    "id": "_4aR_KZCl6hc"
   },
   "source": [
    "For this assignment, our task is to predict whether a given blight ticket will be paid on time. Therefore, all we want to know is to 'will be paid on time' or not. Label 1 if the ticket will be paid on time. Otherwise, label 0 (Fill missing values with 0)."
   ]
  },
  {
   "cell_type": "code",
   "execution_count": 0,
   "metadata": {
    "colab": {},
    "colab_type": "code",
    "collapsed": true,
    "id": "wQsXOXfEl6hd"
   },
   "outputs": [],
   "source": [
    "train.compliance.fillna(0.0,inplace=True)"
   ]
  },
  {
   "cell_type": "code",
   "execution_count": 0,
   "metadata": {
    "colab": {},
    "colab_type": "code",
    "collapsed": true,
    "id": "8e8g3zxhl6hf"
   },
   "outputs": [],
   "source": [
    "# Also for modeling purpose, split the column from training set.\n",
    "y = train.compliance.astype(int)\n",
    "train.drop('compliance',axis=1, inplace = True)"
   ]
  },
  {
   "cell_type": "code",
   "execution_count": 0,
   "metadata": {
    "colab": {},
    "colab_type": "code",
    "collapsed": true,
    "id": "W8gvSJjBl6hh"
   },
   "outputs": [],
   "source": []
  },
  {
   "cell_type": "markdown",
   "metadata": {
    "colab_type": "text",
    "id": "w3wx1Uspl6hj"
   },
   "source": [
    "### 3.22 Ticket ID\n",
    "\n",
    "Ticket ID for test is important for the final result. It will be used for index of our final prediction."
   ]
  },
  {
   "cell_type": "code",
   "execution_count": 0,
   "metadata": {
    "colab": {},
    "colab_type": "code",
    "collapsed": true,
    "id": "Zn1B8ETYl6hj"
   },
   "outputs": [],
   "source": [
    "test_id = test.ticket_id\n",
    "test.drop('ticket_id',axis=1, inplace=True)\n",
    "\n",
    "train_id = train.ticket_id\n",
    "train.drop('ticket_id', axis=1, inplace=True)"
   ]
  },
  {
   "cell_type": "code",
   "execution_count": 0,
   "metadata": {
    "colab": {},
    "colab_type": "code",
    "collapsed": true,
    "id": "yyKtBr_xl6hk"
   },
   "outputs": [],
   "source": []
  },
  {
   "cell_type": "markdown",
   "metadata": {
    "colab_type": "text",
    "id": "u5WCJ-Yol6hl"
   },
   "source": [
    "### 3.23 Encoding"
   ]
  },
  {
   "cell_type": "markdown",
   "metadata": {
    "colab_type": "text",
    "id": "zkzqS7kcl6hl"
   },
   "source": [
    "#### 3.231 Nominal Variable"
   ]
  },
  {
   "cell_type": "code",
   "execution_count": 52,
   "metadata": {
    "colab": {
     "base_uri": "https://localhost:8080/",
     "height": 593
    },
    "colab_type": "code",
    "collapsed": false,
    "id": "vXu9WEKJl6hl",
    "outputId": "abdb2940-dc7f-4f8f-df3d-23d9100ff33f"
   },
   "outputs": [
    {
     "data": {
      "text/html": [
       "<div>\n",
       "<style scoped>\n",
       "    .dataframe tbody tr th:only-of-type {\n",
       "        vertical-align: middle;\n",
       "    }\n",
       "\n",
       "    .dataframe tbody tr th {\n",
       "        vertical-align: top;\n",
       "    }\n",
       "\n",
       "    .dataframe thead th {\n",
       "        text-align: right;\n",
       "    }\n",
       "</style>\n",
       "<table border=\"1\" class=\"dataframe\">\n",
       "  <thead>\n",
       "    <tr style=\"text-align: right;\">\n",
       "      <th></th>\n",
       "      <th>agency_name</th>\n",
       "      <th>inspector_name</th>\n",
       "      <th>state</th>\n",
       "      <th>zip_code</th>\n",
       "      <th>violation_code</th>\n",
       "      <th>disposition</th>\n",
       "      <th>fine_amount</th>\n",
       "      <th>admin_fee</th>\n",
       "      <th>state_fee</th>\n",
       "      <th>late_fee</th>\n",
       "      <th>...</th>\n",
       "      <th>lon</th>\n",
       "      <th>new_country</th>\n",
       "      <th>HR_YR</th>\n",
       "      <th>HR_MO</th>\n",
       "      <th>HR_DD</th>\n",
       "      <th>HR_time</th>\n",
       "      <th>TI_YR</th>\n",
       "      <th>TI_MO</th>\n",
       "      <th>TI_DD</th>\n",
       "      <th>TI_MI</th>\n",
       "    </tr>\n",
       "  </thead>\n",
       "  <tbody>\n",
       "    <tr>\n",
       "      <th>0</th>\n",
       "      <td>Buildings, Safety Engineering &amp; Env Department</td>\n",
       "      <td>Sims, Martinzie</td>\n",
       "      <td>IL</td>\n",
       "      <td>60606</td>\n",
       "      <td>9-1-36(a)</td>\n",
       "      <td>Responsible by Default</td>\n",
       "      <td>250.0</td>\n",
       "      <td>20.0</td>\n",
       "      <td>10.0</td>\n",
       "      <td>25.0</td>\n",
       "      <td>...</td>\n",
       "      <td>-83.124268</td>\n",
       "      <td>USA</td>\n",
       "      <td>2005</td>\n",
       "      <td>03</td>\n",
       "      <td>21</td>\n",
       "      <td>10:30:00</td>\n",
       "      <td>2004</td>\n",
       "      <td>03</td>\n",
       "      <td>16</td>\n",
       "      <td>700</td>\n",
       "    </tr>\n",
       "    <tr>\n",
       "      <th>1</th>\n",
       "      <td>Buildings, Safety Engineering &amp; Env Department</td>\n",
       "      <td>Williams, Darrin</td>\n",
       "      <td>MI</td>\n",
       "      <td>48208</td>\n",
       "      <td>61-63.0600</td>\n",
       "      <td>Responsible by Determination</td>\n",
       "      <td>750.0</td>\n",
       "      <td>20.0</td>\n",
       "      <td>10.0</td>\n",
       "      <td>75.0</td>\n",
       "      <td>...</td>\n",
       "      <td>-83.135118</td>\n",
       "      <td>USA</td>\n",
       "      <td>2005</td>\n",
       "      <td>05</td>\n",
       "      <td>06</td>\n",
       "      <td>13:30:00</td>\n",
       "      <td>2004</td>\n",
       "      <td>04</td>\n",
       "      <td>23</td>\n",
       "      <td>750</td>\n",
       "    </tr>\n",
       "    <tr>\n",
       "      <th>2</th>\n",
       "      <td>Buildings, Safety Engineering &amp; Env Department</td>\n",
       "      <td>Sims, Martinzie</td>\n",
       "      <td>MI</td>\n",
       "      <td>48223</td>\n",
       "      <td>9-1-36(a)</td>\n",
       "      <td>Not responsible by Dismissal</td>\n",
       "      <td>250.0</td>\n",
       "      <td>0.0</td>\n",
       "      <td>0.0</td>\n",
       "      <td>0.0</td>\n",
       "      <td>...</td>\n",
       "      <td>-83.096069</td>\n",
       "      <td>USA</td>\n",
       "      <td>2005</td>\n",
       "      <td>03</td>\n",
       "      <td>29</td>\n",
       "      <td>10:30:00</td>\n",
       "      <td>2004</td>\n",
       "      <td>04</td>\n",
       "      <td>26</td>\n",
       "      <td>820</td>\n",
       "    </tr>\n",
       "    <tr>\n",
       "      <th>3</th>\n",
       "      <td>Buildings, Safety Engineering &amp; Env Department</td>\n",
       "      <td>Sims, Martinzie</td>\n",
       "      <td>MI</td>\n",
       "      <td>48214</td>\n",
       "      <td>9-1-36(a)</td>\n",
       "      <td>Not responsible by City Dismissal</td>\n",
       "      <td>250.0</td>\n",
       "      <td>0.0</td>\n",
       "      <td>0.0</td>\n",
       "      <td>0.0</td>\n",
       "      <td>...</td>\n",
       "      <td>-83.095919</td>\n",
       "      <td>USA</td>\n",
       "      <td>xxxx</td>\n",
       "      <td>xx</td>\n",
       "      <td>xx</td>\n",
       "      <td>xx:xx:xx</td>\n",
       "      <td>2004</td>\n",
       "      <td>04</td>\n",
       "      <td>26</td>\n",
       "      <td>810</td>\n",
       "    </tr>\n",
       "    <tr>\n",
       "      <th>4</th>\n",
       "      <td>Buildings, Safety Engineering &amp; Env Department</td>\n",
       "      <td>Sims, Martinzie</td>\n",
       "      <td>MI</td>\n",
       "      <td>48206</td>\n",
       "      <td>9-1-36(a)</td>\n",
       "      <td>Not responsible by Dismissal</td>\n",
       "      <td>250.0</td>\n",
       "      <td>0.0</td>\n",
       "      <td>0.0</td>\n",
       "      <td>0.0</td>\n",
       "      <td>...</td>\n",
       "      <td>-83.208233</td>\n",
       "      <td>USA</td>\n",
       "      <td>2005</td>\n",
       "      <td>03</td>\n",
       "      <td>29</td>\n",
       "      <td>10:30:00</td>\n",
       "      <td>2004</td>\n",
       "      <td>04</td>\n",
       "      <td>26</td>\n",
       "      <td>780</td>\n",
       "    </tr>\n",
       "  </tbody>\n",
       "</table>\n",
       "<p>5 rows × 24 columns</p>\n",
       "</div>"
      ],
      "text/plain": [
       "                                      agency_name    inspector_name state  \\\n",
       "0  Buildings, Safety Engineering & Env Department   Sims, Martinzie    IL   \n",
       "1  Buildings, Safety Engineering & Env Department  Williams, Darrin    MI   \n",
       "2  Buildings, Safety Engineering & Env Department   Sims, Martinzie    MI   \n",
       "3  Buildings, Safety Engineering & Env Department   Sims, Martinzie    MI   \n",
       "4  Buildings, Safety Engineering & Env Department   Sims, Martinzie    MI   \n",
       "\n",
       "  zip_code violation_code                        disposition  fine_amount  \\\n",
       "0    60606      9-1-36(a)             Responsible by Default        250.0   \n",
       "1    48208     61-63.0600       Responsible by Determination        750.0   \n",
       "2    48223      9-1-36(a)       Not responsible by Dismissal        250.0   \n",
       "3    48214      9-1-36(a)  Not responsible by City Dismissal        250.0   \n",
       "4    48206      9-1-36(a)       Not responsible by Dismissal        250.0   \n",
       "\n",
       "   admin_fee  state_fee  late_fee  ...         lon  new_country  HR_YR  HR_MO  \\\n",
       "0       20.0       10.0      25.0  ...  -83.124268          USA   2005     03   \n",
       "1       20.0       10.0      75.0  ...  -83.135118          USA   2005     05   \n",
       "2        0.0        0.0       0.0  ...  -83.096069          USA   2005     03   \n",
       "3        0.0        0.0       0.0  ...  -83.095919          USA   xxxx     xx   \n",
       "4        0.0        0.0       0.0  ...  -83.208233          USA   2005     03   \n",
       "\n",
       "   HR_DD   HR_time TI_YR TI_MO TI_DD TI_MI  \n",
       "0     21  10:30:00  2004    03    16   700  \n",
       "1     06  13:30:00  2004    04    23   750  \n",
       "2     29  10:30:00  2004    04    26   820  \n",
       "3     xx  xx:xx:xx  2004    04    26   810  \n",
       "4     29  10:30:00  2004    04    26   780  \n",
       "\n",
       "[5 rows x 24 columns]"
      ]
     },
     "execution_count": 52,
     "metadata": {
      "tags": []
     },
     "output_type": "execute_result"
    }
   ],
   "source": [
    "train.head()"
   ]
  },
  {
   "cell_type": "code",
   "execution_count": 0,
   "metadata": {
    "colab": {},
    "colab_type": "code",
    "collapsed": true,
    "id": "luGQPRrWl6hq"
   },
   "outputs": [],
   "source": [
    "ordinal_list = list(train.dtypes[train.dtypes=='object'].index)"
   ]
  },
  {
   "cell_type": "code",
   "execution_count": 54,
   "metadata": {
    "colab": {
     "base_uri": "https://localhost:8080/",
     "height": 71
    },
    "colab_type": "code",
    "collapsed": false,
    "id": "aaTYIaNHl6ht",
    "outputId": "bda97394-1f7b-4a51-da94-e82fe7473739"
   },
   "outputs": [
    {
     "name": "stdout",
     "output_type": "stream",
     "text": [
      "['agency_name', 'inspector_name', 'state', 'zip_code', 'violation_code', 'disposition', 'new_country', 'HR_YR', 'HR_MO', 'HR_DD', 'HR_time', 'TI_YR', 'TI_MO', 'TI_DD']\n"
     ]
    },
    {
     "data": {
      "text/plain": [
       "[5, 173, 54, 4111, 235, 9, 18, 13, 13, 32, 6, 11, 12, 31]"
      ]
     },
     "execution_count": 54,
     "metadata": {
      "tags": []
     },
     "output_type": "execute_result"
    }
   ],
   "source": [
    "print(ordinal_list)\n",
    "list(map(lambda x: len(set(train[x])),ordinal_list))"
   ]
  },
  {
   "cell_type": "code",
   "execution_count": 0,
   "metadata": {
    "colab": {},
    "colab_type": "code",
    "collapsed": true,
    "id": "7HH5SKsil6hw"
   },
   "outputs": [],
   "source": []
  },
  {
   "cell_type": "markdown",
   "metadata": {
    "colab_type": "text",
    "id": "ghLs0-ZZl6h0"
   },
   "source": [
    "#### 3.232 Number of Features"
   ]
  },
  {
   "cell_type": "markdown",
   "metadata": {
    "colab_type": "text",
    "id": "6cKplTwNl6h1"
   },
   "source": [
    "The list above is the length of each ordinal variable's unique value. Among many numbers, 4112 is noteceable which comes from 'zip_code' column. In order to work ordinal variables in machine learning algorithms, they must be binarized; however, in the process of binarization, the number of columns increases as the number of unique values in the original column, which can cause increasing variance of the model. This leads to overfitting.<br>\n",
    "As a rule of thumb for a number of features, if we assume that variables are theoretically (perfectly) not correlated each other, N (number of samples) - 1 is allowable. If variables are perfectly correlated, N^(1/2) is the desirable number of features. If we follow this logic, as mentioned, zipcode can be potential threat to overfitting. Besides, 'zip_code' is not the only variable to represent geographical information but 'state' column (mailing_state) can represent where the violator's mailing address is. Therefore, I decide to remove 'zip_code' column. "
   ]
  },
  {
   "cell_type": "code",
   "execution_count": 0,
   "metadata": {
    "colab": {},
    "colab_type": "code",
    "collapsed": true,
    "id": "XOm82pVFl6h2"
   },
   "outputs": [],
   "source": [
    "train.drop('zip_code',axis=1, inplace=True)\n",
    "test.drop('zip_code',axis=1, inplace=True)"
   ]
  },
  {
   "cell_type": "code",
   "execution_count": 56,
   "metadata": {
    "colab": {
     "base_uri": "https://localhost:8080/",
     "height": 34
    },
    "colab_type": "code",
    "collapsed": false,
    "id": "ZY89Fq7Sl6h6",
    "outputId": "307dc7fc-a0b4-457b-9244-954083402fc0"
   },
   "outputs": [
    {
     "data": {
      "text/plain": [
       "612"
      ]
     },
     "execution_count": 56,
     "metadata": {
      "tags": []
     },
     "output_type": "execute_result"
    }
   ],
   "source": [
    "ordinal_list.remove('zip_code')\n",
    "sum(list(map(lambda x: len(set(train[x])), ordinal_list)))"
   ]
  },
  {
   "cell_type": "markdown",
   "metadata": {
    "colab_type": "text",
    "id": "4jZ4YLWSl6h8"
   },
   "source": [
    "Before we binarize the nominal variables, check the types of each columns."
   ]
  },
  {
   "cell_type": "code",
   "execution_count": 57,
   "metadata": {
    "colab": {
     "base_uri": "https://localhost:8080/",
     "height": 425
    },
    "colab_type": "code",
    "collapsed": false,
    "id": "l6wQVijrl6h9",
    "outputId": "b20668fa-0922-4031-c1e4-709c3f19cb8d"
   },
   "outputs": [
    {
     "data": {
      "text/plain": [
       "agency_name         object\n",
       "inspector_name      object\n",
       "state               object\n",
       "violation_code      object\n",
       "disposition         object\n",
       "fine_amount        float64\n",
       "admin_fee          float64\n",
       "state_fee          float64\n",
       "late_fee           float64\n",
       "discount_amount    float64\n",
       "clean_up_cost      float64\n",
       "judgment_amount    float64\n",
       "lat                float64\n",
       "lon                float64\n",
       "new_country         object\n",
       "HR_YR               object\n",
       "HR_MO               object\n",
       "HR_DD               object\n",
       "HR_time             object\n",
       "TI_YR               object\n",
       "TI_MO               object\n",
       "TI_DD               object\n",
       "TI_MI                int64\n",
       "dtype: object"
      ]
     },
     "execution_count": 57,
     "metadata": {
      "tags": []
     },
     "output_type": "execute_result"
    }
   ],
   "source": [
    "train.dtypes"
   ]
  },
  {
   "cell_type": "code",
   "execution_count": 58,
   "metadata": {
    "colab": {
     "base_uri": "https://localhost:8080/",
     "height": 68
    },
    "colab_type": "code",
    "collapsed": false,
    "id": "Ew4ZMGIQl6h_",
    "outputId": "d48329a1-9a42-43f6-9495-2db6a33267b2"
   },
   "outputs": [
    {
     "data": {
      "text/plain": [
       "array([ True,  True,  True,  True,  True,  True,  True,  True,  True,\n",
       "        True,  True,  True,  True,  True,  True,  True,  True,  True,\n",
       "        True,  True,  True,  True,  True])"
      ]
     },
     "execution_count": 58,
     "metadata": {
      "tags": []
     },
     "output_type": "execute_result"
    }
   ],
   "source": [
    "# Check if two datasets have same columns.\n",
    "train.columns == test.columns"
   ]
  },
  {
   "cell_type": "code",
   "execution_count": 59,
   "metadata": {
    "colab": {
     "base_uri": "https://localhost:8080/",
     "height": 425
    },
    "colab_type": "code",
    "collapsed": false,
    "id": "CMn4p1nIl6iD",
    "outputId": "0dbd8a11-2c04-4c2d-e280-725b42f654bd"
   },
   "outputs": [
    {
     "data": {
      "text/plain": [
       "agency_name        True\n",
       "inspector_name     True\n",
       "state              True\n",
       "violation_code     True\n",
       "disposition        True\n",
       "fine_amount        True\n",
       "admin_fee          True\n",
       "state_fee          True\n",
       "late_fee           True\n",
       "discount_amount    True\n",
       "clean_up_cost      True\n",
       "judgment_amount    True\n",
       "lat                True\n",
       "lon                True\n",
       "new_country        True\n",
       "HR_YR              True\n",
       "HR_MO              True\n",
       "HR_DD              True\n",
       "HR_time            True\n",
       "TI_YR              True\n",
       "TI_MO              True\n",
       "TI_DD              True\n",
       "TI_MI              True\n",
       "dtype: bool"
      ]
     },
     "execution_count": 59,
     "metadata": {
      "tags": []
     },
     "output_type": "execute_result"
    }
   ],
   "source": [
    "# Check types as well.\n",
    "test.dtypes == train.dtypes"
   ]
  },
  {
   "cell_type": "code",
   "execution_count": 0,
   "metadata": {
    "colab": {},
    "colab_type": "code",
    "collapsed": true,
    "id": "_hVvhPv4l6iF"
   },
   "outputs": [],
   "source": []
  },
  {
   "cell_type": "markdown",
   "metadata": {
    "colab_type": "text",
    "id": "sEdTmtmBl6iG"
   },
   "source": [
    "#### 3.233 Dummies"
   ]
  },
  {
   "cell_type": "markdown",
   "metadata": {
    "colab_type": "text",
    "id": "Wwhv36zFl6iG"
   },
   "source": [
    "__ Make sure that features are represented in the same way in the training and test set before we apply machine learning algorithms__; if training and test sets have different numbers of features (or even if the numbers are the same, they must be equal columns) and we can't apply the model we learned on the training set to the test set anymore. Therefore, we need to concatnenate before using get_dummies."
   ]
  },
  {
   "cell_type": "code",
   "execution_count": 0,
   "metadata": {
    "colab": {},
    "colab_type": "code",
    "collapsed": true,
    "id": "y5q2l0Cnl6iG"
   },
   "outputs": [],
   "source": [
    "border = len(train)\n",
    "comb = pd.concat([train,test])"
   ]
  },
  {
   "cell_type": "code",
   "execution_count": 0,
   "metadata": {
    "colab": {},
    "colab_type": "code",
    "collapsed": true,
    "id": "8lPJa7NVl6iH"
   },
   "outputs": [],
   "source": [
    "# Convert object type columns to dummies.\n",
    "df_dummy = pd.get_dummies(comb)"
   ]
  },
  {
   "cell_type": "code",
   "execution_count": 62,
   "metadata": {
    "colab": {
     "base_uri": "https://localhost:8080/",
     "height": 34
    },
    "colab_type": "code",
    "collapsed": false,
    "id": "MWEgVemyl6iI",
    "outputId": "9476979c-3d9e-41d3-84e9-62db282102db"
   },
   "outputs": [
    {
     "data": {
      "text/plain": [
       "0"
      ]
     },
     "execution_count": 62,
     "metadata": {
      "tags": []
     },
     "output_type": "execute_result"
    }
   ],
   "source": [
    "# Double check if there is any missing values.\n",
    "df_dummy.isnull().sum().sum()"
   ]
  },
  {
   "cell_type": "code",
   "execution_count": 0,
   "metadata": {
    "colab": {},
    "colab_type": "code",
    "collapsed": true,
    "id": "htlwkLtVl6iK"
   },
   "outputs": [],
   "source": [
    "# For modeling, split train and test as before.\n",
    "X_train = df_dummy.iloc[:border,:]\n",
    "X_test = df_dummy.iloc[border:,:]"
   ]
  },
  {
   "cell_type": "code",
   "execution_count": 64,
   "metadata": {
    "colab": {
     "base_uri": "https://localhost:8080/",
     "height": 34
    },
    "colab_type": "code",
    "collapsed": false,
    "id": "iPQwOltjl6iK",
    "outputId": "c1cf9f16-c8fa-4ea5-e850-28a4c6be2281"
   },
   "outputs": [
    {
     "name": "stdout",
     "output_type": "stream",
     "text": [
      "Training set dim: (250306, 717) , Test set dim: (61001, 717)\n"
     ]
    }
   ],
   "source": [
    "print('Training set dim:',X_train.shape, ',', 'Test set dim:', X_test.shape)"
   ]
  },
  {
   "cell_type": "code",
   "execution_count": 0,
   "metadata": {
    "colab": {},
    "colab_type": "code",
    "collapsed": true,
    "id": "ElRgM_cZl6iO"
   },
   "outputs": [],
   "source": []
  },
  {
   "cell_type": "markdown",
   "metadata": {
    "colab_type": "text",
    "id": "FUbd96PQl6iP"
   },
   "source": [
    "## 4. Feature Selection"
   ]
  },
  {
   "cell_type": "code",
   "execution_count": 0,
   "metadata": {
    "colab": {},
    "colab_type": "code",
    "collapsed": true,
    "id": "k8G56q5Hl6iQ"
   },
   "outputs": [],
   "source": [
    "from sklearn.feature_selection import SelectFromModel\n",
    "from sklearn.ensemble import RandomForestClassifier"
   ]
  },
  {
   "cell_type": "code",
   "execution_count": 0,
   "metadata": {
    "colab": {},
    "colab_type": "code",
    "collapsed": true,
    "id": "sb_VdZ-el6iT"
   },
   "outputs": [],
   "source": [
    "select = SelectFromModel(RandomForestClassifier(n_estimators=300, random_state=1), threshold='median')\n",
    "select.fit(X_train,y)\n",
    "X_train_sel = select.transform(X_train)\n",
    "X_test_sel = select.transform(X_test)"
   ]
  },
  {
   "cell_type": "code",
   "execution_count": 67,
   "metadata": {
    "colab": {
     "base_uri": "https://localhost:8080/",
     "height": 34
    },
    "colab_type": "code",
    "collapsed": false,
    "id": "x_Mr_-q3l6iU",
    "outputId": "0aa13403-00f6-4c91-a732-5575c88a0bc7"
   },
   "outputs": [
    {
     "name": "stdout",
     "output_type": "stream",
     "text": [
      "Training set dim: (250306, 359) , Test set dim: (61001, 359)\n"
     ]
    }
   ],
   "source": [
    "print('Training set dim:',X_train_sel.shape, ',', 'Test set dim:', X_test_sel.shape)"
   ]
  },
  {
   "cell_type": "code",
   "execution_count": 68,
   "metadata": {
    "colab": {
     "base_uri": "https://localhost:8080/",
     "height": 391
    },
    "colab_type": "code",
    "collapsed": false,
    "id": "2C2IPvKMl6iW",
    "outputId": "09c54191-5b53-4e3a-b1ae-d31a3d0517bb"
   },
   "outputs": [
    {
     "name": "stdout",
     "output_type": "stream",
     "text": [
      "total features: 717\n",
      "selected features' index:\n",
      " [  0   1   2   3   4   6   7   8   9  10  11  12  13  15  16  23  25  26\n",
      "  28  29  32  33  36  38  39  40  42  43  50  51  59  60  61  62  64  66\n",
      "  67  71  73  76  79  80  83  84  85  87  88  89  90  93  94  98  99 103\n",
      " 104 105 107 110 111 114 117 120 121 123 125 126 128 130 131 134 135 137\n",
      " 139 141 143 144 145 146 147 148 154 155 157 158 159 160 161 162 164 165\n",
      " 172 173 176 180 181 182 184 185 186 188 189 191 192 194 195 196 197 198\n",
      " 200 201 207 208 209 210 212 213 217 219 220 221 225 226 230 231 234 235\n",
      " 236 242 243 245 246 247 248 249 250 251 253 254 255 256 258 259 260 261\n",
      " 262 263 264 265 266 267 268 271 273 274 275 278 279 280 281 282 283 284\n",
      " 285 286 288 289 290 291 294 295 297 299 300 302 305 307 309 310 315 316\n",
      " 317 318 321 325 326 327 334 336 337 338 339 340 343 357 358 359 402 408\n",
      " 409 411 412 414 415 416 420 441 444 445 446 448 451 453 459 460 461 464\n",
      " 465 468 475 486 490 499 500 501 508 509 510 543 548 553 554 555 556 558\n",
      " 561 562 563 565 567 568 571 573 580 583 591 592 593 594 595 596 597 598\n",
      " 599 600 601 606 607 608 609 610 611 612 613 614 615 616 617 618 619 620\n",
      " 621 622 623 624 625 626 627 628 629 630 631 632 633 634 635 636 637 638\n",
      " 639 640 641 642 643 644 645 646 647 648 649 650 651 652 653 654 655 656\n",
      " 657 660 661 662 663 664 665 666 667 668 674 675 676 677 678 679 680 681\n",
      " 682 683 684 685 686 687 688 689 690 691 692 693 694 695 696 697 698 699\n",
      " 700 701 702 703 704 705 706 707 708 709 710 711 712 713 714 715 716]\n"
     ]
    }
   ],
   "source": [
    "# By the function get_support(), we can actually see which features are chosen.\n",
    "# We can use the variable mask later.\n",
    "mask = select.get_support()\n",
    "print('total features:',len(mask))\n",
    "print('selected features\\' index:\\n',np.where(mask == True)[0])"
   ]
  },
  {
   "cell_type": "code",
   "execution_count": 69,
   "metadata": {
    "colab": {
     "base_uri": "https://localhost:8080/",
     "height": 136
    },
    "colab_type": "code",
    "collapsed": false,
    "id": "0S8Yu44yl6iX",
    "outputId": "10624f43-e63d-4838-e946-dc2fb5c20589"
   },
   "outputs": [
    {
     "data": {
      "text/plain": [
       "array([[ 250.,   20.,   10., ...,    0.,    0.,    0.],\n",
       "       [ 750.,   20.,   10., ...,    0.,    0.,    0.],\n",
       "       [ 250.,    0.,    0., ...,    0.,    0.,    0.],\n",
       "       ...,\n",
       "       [1000.,    0.,    0., ...,    0.,    0.,    0.],\n",
       "       [1000.,    0.,    0., ...,    0.,    0.,    0.],\n",
       "       [1000.,    0.,    0., ...,    0.,    0.,    0.]])"
      ]
     },
     "execution_count": 69,
     "metadata": {
      "tags": []
     },
     "output_type": "execute_result"
    }
   ],
   "source": [
    "X_train_sel"
   ]
  },
  {
   "cell_type": "code",
   "execution_count": 0,
   "metadata": {
    "colab": {},
    "colab_type": "code",
    "collapsed": true,
    "id": "tebPL2_xl6iY"
   },
   "outputs": [],
   "source": []
  },
  {
   "cell_type": "markdown",
   "metadata": {
    "colab_type": "text",
    "id": "vF1SBjn8l6ia"
   },
   "source": [
    "## 5. Visualization"
   ]
  },
  {
   "cell_type": "code",
   "execution_count": 0,
   "metadata": {
    "colab": {},
    "colab_type": "code",
    "collapsed": true,
    "id": "eTjEf00Al6ic"
   },
   "outputs": [],
   "source": [
    "from matplotlib import pyplot as plt\n",
    "import seaborn as sns\n",
    "from sklearn.preprocessing import LabelEncoder"
   ]
  },
  {
   "cell_type": "code",
   "execution_count": 0,
   "metadata": {
    "colab": {},
    "colab_type": "code",
    "collapsed": true,
    "id": "6PbsJ6K1l6id"
   },
   "outputs": [],
   "source": []
  },
  {
   "cell_type": "markdown",
   "metadata": {
    "colab_type": "text",
    "id": "WpHf0ebBl6il"
   },
   "source": [
    "### 5.1 Target Variable"
   ]
  },
  {
   "cell_type": "code",
   "execution_count": 71,
   "metadata": {
    "colab": {
     "base_uri": "https://localhost:8080/",
     "height": 34
    },
    "colab_type": "code",
    "collapsed": false,
    "id": "FCpaOEnUl6im",
    "outputId": "2d21071c-443a-4c3a-97a5-3a1c92f94229"
   },
   "outputs": [
    {
     "name": "stdout",
     "output_type": "stream",
     "text": [
      "training set %: 95.36687094995725 test set %: 4.633129050042747\n"
     ]
    }
   ],
   "source": [
    "cc = Counter(y)\n",
    "print('training set %:',cc[0]/len(train)*100, 'test set %:',cc[1]/len(train)*100)"
   ]
  },
  {
   "cell_type": "code",
   "execution_count": 72,
   "metadata": {
    "colab": {
     "base_uri": "https://localhost:8080/",
     "height": 335
    },
    "colab_type": "code",
    "collapsed": false,
    "id": "6ggxWlF5l6in",
    "outputId": "9b2e2eda-3ed2-44d0-8249-e7da5d24031f"
   },
   "outputs": [
    {
     "data": {
      "image/png": "[encoded data removed]",
      "text/plain": [
       "<matplotlib.figure.Figure at 0x7fc398ec4748>"
      ]
     },
     "metadata": {
      "tags": []
     },
     "output_type": "display_data"
    }
   ],
   "source": [
    "plt.figure(figsize=(9,5))\n",
    "labels, values = zip(*Counter(y).items())\n",
    "indexes = np.arange(len(labels))\n",
    "width = 0.8\n",
    "plt.bar(indexes, values,width,color=['grey','r'])\n",
    "plt.xticks(indexes + width*.045,['non-compliance','compliance'])\n",
    "plt.title('Target Variable')\n",
    "plt.show()\n"
   ]
  },
  {
   "cell_type": "markdown",
   "metadata": {
    "colab_type": "text",
    "id": "MlQSUa-rl6iq"
   },
   "source": [
    "The graph and the Counter function are showing that the data is highly imbalanced. Most of data is 0, which means as a measure of accuracy, auc_roc method is more encouraged to use."
   ]
  },
  {
   "cell_type": "code",
   "execution_count": 0,
   "metadata": {
    "colab": {},
    "colab_type": "code",
    "collapsed": true,
    "id": "1LGtOcqQl6iq"
   },
   "outputs": [],
   "source": []
  },
  {
   "cell_type": "markdown",
   "metadata": {
    "colab_type": "text",
    "id": "5124xH7xl6iq"
   },
   "source": [
    "### 5.2 Correlation\n",
    "\n",
    "In statistics, the correlation coefficient measures the strength and direction of a linear relationship between two variables. The value is always between -1 and +1. Correlation implies how two variables (X and y) are correlated but not the causation. Pandas Correlation function only displays the data whose type is non-object so the dimensionality of the correlation table will be 11 X 11."
   ]
  },
  {
   "cell_type": "code",
   "execution_count": 73,
   "metadata": {
    "colab": {
     "base_uri": "https://localhost:8080/",
     "height": 483
    },
    "colab_type": "code",
    "collapsed": false,
    "id": "fWFubirPl6ir",
    "outputId": "0aa49b54-80f3-4e42-ea55-a3e3e5f57a27"
   },
   "outputs": [
    {
     "data": {
      "image/png": "[encoded data removed]",
      "text/plain": [
       "<matplotlib.figure.Figure at 0x7fc398b62da0>"
      ]
     },
     "metadata": {
      "tags": []
     },
     "output_type": "display_data"
    }
   ],
   "source": [
    "plt.figure(figsize=(18,8))\n",
    "temp = pd.concat([comb.iloc[:border,:],y],axis=1)\n",
    "sns.heatmap(temp.corr(), annot = True, linewidth=3, linecolor='yellow');"
   ]
  },
  {
   "cell_type": "markdown",
   "metadata": {
    "colab_type": "text",
    "id": "EB4auLt_l6it"
   },
   "source": [
    "Among many features, admin_fee and state_fee are noticeable; therefore we will be looking at these two more in depth later."
   ]
  },
  {
   "cell_type": "code",
   "execution_count": 0,
   "metadata": {
    "colab": {},
    "colab_type": "code",
    "collapsed": true,
    "id": "ih-6WfjRl6it"
   },
   "outputs": [],
   "source": []
  },
  {
   "cell_type": "markdown",
   "metadata": {
    "colab_type": "text",
    "id": "utCTKxpFl6iv"
   },
   "source": [
    "### 5.3 PairPlot\n",
    "\n",
    "For plotting, object type features should be excluded from the dataframe."
   ]
  },
  {
   "cell_type": "code",
   "execution_count": 74,
   "metadata": {
    "colab": {
     "base_uri": "https://localhost:8080/",
     "height": 2005
    },
    "colab_type": "code",
    "collapsed": false,
    "id": "Rm1uOTfZl6iw",
    "outputId": "0b24ddc0-30a8-482b-91ed-800ccd2a37ba"
   },
   "outputs": [
    {
     "data": {
      "image/png": "[encoded data removed]",
      "text/plain": [
       "<matplotlib.figure.Figure at 0x7fc398fd8780>"
      ]
     },
     "metadata": {
      "tags": []
     },
     "output_type": "display_data"
    }
   ],
   "source": [
    "sns.pairplot(temp[temp.dtypes[temp.dtypes != 'object'].index]);"
   ]
  },
  {
   "cell_type": "markdown",
   "metadata": {
    "colab_type": "text",
    "id": "q5zyynB8l6i3"
   },
   "source": [
    "At first sight, the plots capture linearly separable patterns instead of completely non-linear random. Most of pairplots are either vertical line or horizontal line ,which represents the fact that the data is highly imbalanced or concentrated around specific area. Especially, the relationship between independent variables and dependent variables is the first thing to look closely. All of the graphs are showing two vertical lines (or even a dot) located at the end and start of x-axis."
   ]
  },
  {
   "cell_type": "code",
   "execution_count": 0,
   "metadata": {
    "colab": {},
    "colab_type": "code",
    "collapsed": true,
    "id": "YHrgdH9hl6i5"
   },
   "outputs": [],
   "source": []
  },
  {
   "cell_type": "markdown",
   "metadata": {
    "colab_type": "text",
    "id": "bkJH43-Ul6i7"
   },
   "source": [
    "### 5.4 State (mailing address state)"
   ]
  },
  {
   "cell_type": "code",
   "execution_count": 75,
   "metadata": {
    "colab": {
     "base_uri": "https://localhost:8080/",
     "height": 623
    },
    "colab_type": "code",
    "collapsed": false,
    "id": "7EKSDZtMl6i7",
    "outputId": "0d6aa938-641b-4c33-c119-97008a0e93eb"
   },
   "outputs": [
    {
     "data": {
      "text/plain": [
       "<matplotlib.axes._subplots.AxesSubplot at 0x7fc3884484e0>"
      ]
     },
     "execution_count": 75,
     "metadata": {
      "tags": []
     },
     "output_type": "execute_result"
    },
    {
     "data": {
      "image/png": "[encoded data removed]",
      "text/plain": [
       "<matplotlib.figure.Figure at 0x7fc3992b2b00>"
      ]
     },
     "metadata": {
      "tags": []
     },
     "output_type": "display_data"
    }
   ],
   "source": [
    "plt.figure(figsize=(20,10))\n",
    "sns.countplot('state',data=comb)"
   ]
  },
  {
   "cell_type": "markdown",
   "metadata": {
    "colab_type": "text",
    "id": "O0AWmAmPl6i8"
   },
   "source": [
    "As you can see, Michigan outnumbers other states, which is obvious since the project is about the city of Detroit. Therefore, I decide to visualize without Michigan."
   ]
  },
  {
   "cell_type": "code",
   "execution_count": 0,
   "metadata": {
    "colab": {},
    "colab_type": "code",
    "collapsed": true,
    "id": "UA_NPVEil6i9"
   },
   "outputs": [],
   "source": []
  },
  {
   "cell_type": "code",
   "execution_count": 76,
   "metadata": {
    "colab": {
     "base_uri": "https://localhost:8080/",
     "height": 606
    },
    "colab_type": "code",
    "collapsed": false,
    "id": "f2aKVR46l6i9",
    "outputId": "d871661e-f020-4ad5-a509-715d82b4ce47"
   },
   "outputs": [
    {
     "data": {
      "image/png": "[encoded data removed]",
      "text/plain": [
       "<matplotlib.figure.Figure at 0x7fc387dce240>"
      ]
     },
     "metadata": {
      "tags": []
     },
     "output_type": "display_data"
    }
   ],
   "source": [
    "temp_MI = comb[comb.state != 'MI']\n",
    "plt.figure(figsize=(20,10))\n",
    "sns.countplot('state',data = temp_MI);"
   ]
  },
  {
   "cell_type": "markdown",
   "metadata": {
    "colab_type": "text",
    "id": "Imr_2nsXl6i-"
   },
   "source": [
    "Except Michigan, the top three states are California, Texas, and Florida which exactly matches with the most populous U.S states data from United States Census. Instead of interpreting the result that people from these top states are likely to commit the blight, we can roughly analyze that the population size of the states plays important role."
   ]
  },
  {
   "cell_type": "code",
   "execution_count": 0,
   "metadata": {
    "colab": {},
    "colab_type": "code",
    "collapsed": true,
    "id": "gvcVQoall6i-"
   },
   "outputs": [],
   "source": []
  },
  {
   "cell_type": "markdown",
   "metadata": {
    "colab_type": "text",
    "id": "kL4IiL6ul6jA"
   },
   "source": [
    "### 5.5 Violation Code\n",
    "\n",
    "For visualization purpose, violation code is converted to numbers by using LabelEncoder to avoid ticks overlapped each other on the graph, which is hard to see."
   ]
  },
  {
   "cell_type": "code",
   "execution_count": 77,
   "metadata": {
    "colab": {
     "base_uri": "https://localhost:8080/",
     "height": 297
    },
    "colab_type": "code",
    "collapsed": false,
    "id": "wTbUGYtYl6jB",
    "outputId": "c4a911ec-b5e3-4981-a0f9-bcc06b8eb102"
   },
   "outputs": [
    {
     "data": {
      "text/html": [
       "<div>\n",
       "<style scoped>\n",
       "    .dataframe tbody tr th:only-of-type {\n",
       "        vertical-align: middle;\n",
       "    }\n",
       "\n",
       "    .dataframe tbody tr th {\n",
       "        vertical-align: top;\n",
       "    }\n",
       "\n",
       "    .dataframe thead th {\n",
       "        text-align: right;\n",
       "    }\n",
       "</style>\n",
       "<table border=\"1\" class=\"dataframe\">\n",
       "  <thead>\n",
       "    <tr style=\"text-align: right;\">\n",
       "      <th></th>\n",
       "      <th>code</th>\n",
       "      <th>compliance</th>\n",
       "    </tr>\n",
       "  </thead>\n",
       "  <tbody>\n",
       "    <tr>\n",
       "      <th>0</th>\n",
       "      <td>182</td>\n",
       "      <td>0</td>\n",
       "    </tr>\n",
       "    <tr>\n",
       "      <th>1</th>\n",
       "      <td>102</td>\n",
       "      <td>1</td>\n",
       "    </tr>\n",
       "    <tr>\n",
       "      <th>2</th>\n",
       "      <td>182</td>\n",
       "      <td>0</td>\n",
       "    </tr>\n",
       "    <tr>\n",
       "      <th>3</th>\n",
       "      <td>182</td>\n",
       "      <td>0</td>\n",
       "    </tr>\n",
       "    <tr>\n",
       "      <th>4</th>\n",
       "      <td>182</td>\n",
       "      <td>0</td>\n",
       "    </tr>\n",
       "    <tr>\n",
       "      <th>5</th>\n",
       "      <td>182</td>\n",
       "      <td>0</td>\n",
       "    </tr>\n",
       "    <tr>\n",
       "      <th>6</th>\n",
       "      <td>101</td>\n",
       "      <td>0</td>\n",
       "    </tr>\n",
       "    <tr>\n",
       "      <th>7</th>\n",
       "      <td>100</td>\n",
       "      <td>0</td>\n",
       "    </tr>\n",
       "  </tbody>\n",
       "</table>\n",
       "</div>"
      ],
      "text/plain": [
       "   code  compliance\n",
       "0   182           0\n",
       "1   102           1\n",
       "2   182           0\n",
       "3   182           0\n",
       "4   182           0\n",
       "5   182           0\n",
       "6   101           0\n",
       "7   100           0"
      ]
     },
     "execution_count": 77,
     "metadata": {
      "tags": []
     },
     "output_type": "execute_result"
    }
   ],
   "source": [
    "le = LabelEncoder().fit(train.violation_code)\n",
    "vc = pd.Series(le.transform(train.violation_code))\n",
    "df_vc = pd.concat([vc,y], axis=1)\n",
    "df_vc.columns = ['code','compliance']\n",
    "df_vc.head(8)"
   ]
  },
  {
   "cell_type": "code",
   "execution_count": 78,
   "metadata": {
    "colab": {
     "base_uri": "https://localhost:8080/",
     "height": 71
    },
    "colab_type": "code",
    "collapsed": false,
    "id": "inRV4pjwl6jC",
    "outputId": "0d800c4d-8c2d-4090-c82e-044dfe2505c3"
   },
   "outputs": [
    {
     "name": "stderr",
     "output_type": "stream",
     "text": [
      "/usr/local/lib/python3.6/dist-packages/sklearn/preprocessing/label.py:151: DeprecationWarning: The truth value of an empty array is ambiguous. Returning False, but in future this will result in an error. Use `array.size > 0` to check that an array is not empty.\n",
      "  if diff:\n"
     ]
    }
   ],
   "source": [
    "# Count how many tickets were complied on time.\n",
    "df_code = df_vc.groupby('code').agg('sum')\n",
    "\n",
    "# Add a new column how many time codes occurred.\n",
    "df_code['count'] = df_vc.groupby('code').count()\n",
    "\n",
    "# Create a new column by dividing count column and compliance, which is the compliance rate.\n",
    "df_code['rate'] = df_code['compliance']/df_code['count']\n",
    "\n",
    "# Sort the dataframe by 'count' column.\n",
    "df_code = df_code.sort_values('count',ascending=False)\n",
    "\n",
    "# Remove the case violation code occurred less than one hundred times.\n",
    "df_code = df_code[df_code['count'] > 100]\n",
    "\n",
    "# Select only top 20 count values.\n",
    "df_code = df_code.iloc[:20,:]\n",
    "\n",
    "# Create the column for actual violation code.\n",
    "df_code['actual'] = list(le.inverse_transform(df_code.index))\n",
    "\n",
    "# Create the column for violation code description.\n",
    "code_description.index = code_description.violation_code\n",
    "code_description.drop('violation_code',inplace=True)\n",
    "df_code['code'] = df_code.index\n",
    "df_code = df_code.merge(code_description, left_on = 'actual',right_on='violation_code',how='inner')\n",
    "df_code.index = df_code['code']\n",
    "df_code.drop(['actual','code'],inplace=True,axis=1)\n",
    "df_code.drop_duplicates('violation_code',inplace=True)"
   ]
  },
  {
   "cell_type": "code",
   "execution_count": 79,
   "metadata": {
    "colab": {
     "base_uri": "https://localhost:8080/",
     "height": 700
    },
    "colab_type": "code",
    "collapsed": false,
    "id": "DN5Aci94l6jF",
    "outputId": "ac01909f-f750-4daf-9673-96dc6175ee42"
   },
   "outputs": [
    {
     "data": {
      "text/html": [
       "<div>\n",
       "<style scoped>\n",
       "    .dataframe tbody tr th:only-of-type {\n",
       "        vertical-align: middle;\n",
       "    }\n",
       "\n",
       "    .dataframe tbody tr th {\n",
       "        vertical-align: top;\n",
       "    }\n",
       "\n",
       "    .dataframe thead th {\n",
       "        text-align: right;\n",
       "    }\n",
       "</style>\n",
       "<table border=\"1\" class=\"dataframe\">\n",
       "  <thead>\n",
       "    <tr style=\"text-align: right;\">\n",
       "      <th></th>\n",
       "      <th>compliance</th>\n",
       "      <th>count</th>\n",
       "      <th>rate</th>\n",
       "      <th>violation_code</th>\n",
       "      <th>violation_description</th>\n",
       "    </tr>\n",
       "    <tr>\n",
       "      <th>code</th>\n",
       "      <th></th>\n",
       "      <th></th>\n",
       "      <th></th>\n",
       "      <th></th>\n",
       "      <th></th>\n",
       "    </tr>\n",
       "  </thead>\n",
       "  <tbody>\n",
       "    <tr>\n",
       "      <th>182</th>\n",
       "      <td>4767</td>\n",
       "      <td>99091</td>\n",
       "      <td>0.048107</td>\n",
       "      <td>9-1-36(a)</td>\n",
       "      <td>Failure of owner to obtain certificate of comp...</td>\n",
       "    </tr>\n",
       "    <tr>\n",
       "      <th>225</th>\n",
       "      <td>742</td>\n",
       "      <td>43471</td>\n",
       "      <td>0.017069</td>\n",
       "      <td>9-1-81(a)</td>\n",
       "      <td>Failure to obtain certificate of registration ...</td>\n",
       "    </tr>\n",
       "    <tr>\n",
       "      <th>53</th>\n",
       "      <td>1352</td>\n",
       "      <td>28720</td>\n",
       "      <td>0.047075</td>\n",
       "      <td>22-2-88</td>\n",
       "      <td>Failure of owner to keep property, its sidewal...</td>\n",
       "    </tr>\n",
       "    <tr>\n",
       "      <th>131</th>\n",
       "      <td>1392</td>\n",
       "      <td>22536</td>\n",
       "      <td>0.061768</td>\n",
       "      <td>9-1-104</td>\n",
       "      <td>Excessive weeds or plant growth one- or two-fa...</td>\n",
       "    </tr>\n",
       "    <tr>\n",
       "      <th>55</th>\n",
       "      <td>308</td>\n",
       "      <td>7238</td>\n",
       "      <td>0.042553</td>\n",
       "      <td>22-2-88(b)</td>\n",
       "      <td>Allowing bulk solid waste to lie or accumulate...</td>\n",
       "    </tr>\n",
       "    <tr>\n",
       "      <th>28</th>\n",
       "      <td>554</td>\n",
       "      <td>5394</td>\n",
       "      <td>0.102707</td>\n",
       "      <td>22-2-45</td>\n",
       "      <td>Violation of time limit for approved container...</td>\n",
       "    </tr>\n",
       "    <tr>\n",
       "      <th>190</th>\n",
       "      <td>58</td>\n",
       "      <td>5332</td>\n",
       "      <td>0.010878</td>\n",
       "      <td>9-1-43(a) - (Dwellin</td>\n",
       "      <td>Failure of owner of one- or two-family dwellin...</td>\n",
       "    </tr>\n",
       "    <tr>\n",
       "      <th>132</th>\n",
       "      <td>321</td>\n",
       "      <td>5072</td>\n",
       "      <td>0.063289</td>\n",
       "      <td>9-1-105</td>\n",
       "      <td>Rodent harborage one-or two-family dwelling or...</td>\n",
       "    </tr>\n",
       "    <tr>\n",
       "      <th>137</th>\n",
       "      <td>387</td>\n",
       "      <td>4814</td>\n",
       "      <td>0.080391</td>\n",
       "      <td>9-1-110(a)</td>\n",
       "      <td>Inoperable motor vehicle(s) one- or two-family...</td>\n",
       "    </tr>\n",
       "    <tr>\n",
       "      <th>17</th>\n",
       "      <td>262</td>\n",
       "      <td>3755</td>\n",
       "      <td>0.069774</td>\n",
       "      <td>22-2-22</td>\n",
       "      <td>Bulk solid waste deposited more than 24 hours ...</td>\n",
       "    </tr>\n",
       "    <tr>\n",
       "      <th>130</th>\n",
       "      <td>386</td>\n",
       "      <td>3537</td>\n",
       "      <td>0.109132</td>\n",
       "      <td>9-1-103(C)</td>\n",
       "      <td>Removal of snow and ice from sidewalks</td>\n",
       "    </tr>\n",
       "    <tr>\n",
       "      <th>2</th>\n",
       "      <td>45</td>\n",
       "      <td>2963</td>\n",
       "      <td>0.015187</td>\n",
       "      <td>19450901</td>\n",
       "      <td>Failure of owner to comply with an emergency o...</td>\n",
       "    </tr>\n",
       "    <tr>\n",
       "      <th>26</th>\n",
       "      <td>272</td>\n",
       "      <td>2903</td>\n",
       "      <td>0.093696</td>\n",
       "      <td>22-2-43</td>\n",
       "      <td>Improper placement of Courville container betw...</td>\n",
       "    </tr>\n",
       "    <tr>\n",
       "      <th>10</th>\n",
       "      <td>100</td>\n",
       "      <td>1940</td>\n",
       "      <td>0.051546</td>\n",
       "      <td>22-2-17</td>\n",
       "      <td>Improper storage and separation of solid waste...</td>\n",
       "    </tr>\n",
       "    <tr>\n",
       "      <th>37</th>\n",
       "      <td>175</td>\n",
       "      <td>1456</td>\n",
       "      <td>0.120192</td>\n",
       "      <td>22-2-61</td>\n",
       "      <td>Failing to secure City or Private solid waste ...</td>\n",
       "    </tr>\n",
       "    <tr>\n",
       "      <th>230</th>\n",
       "      <td>13</td>\n",
       "      <td>895</td>\n",
       "      <td>0.014525</td>\n",
       "      <td>9-1-82(d) - (Dwellin</td>\n",
       "      <td>Unlawful occupation of rental property without...</td>\n",
       "    </tr>\n",
       "    <tr>\n",
       "      <th>39</th>\n",
       "      <td>16</td>\n",
       "      <td>849</td>\n",
       "      <td>0.018846</td>\n",
       "      <td>22-2-83(a)(b)(c)</td>\n",
       "      <td>Dumping,  or deposting solid waste of five (5)...</td>\n",
       "    </tr>\n",
       "    <tr>\n",
       "      <th>108</th>\n",
       "      <td>73</td>\n",
       "      <td>812</td>\n",
       "      <td>0.089901</td>\n",
       "      <td>61-81.0100/32.0066</td>\n",
       "      <td>Open Storage/ Residential/ Inoperable Vehicles...</td>\n",
       "    </tr>\n",
       "    <tr>\n",
       "      <th>192</th>\n",
       "      <td>11</td>\n",
       "      <td>765</td>\n",
       "      <td>0.014379</td>\n",
       "      <td>9-1-43(a) - (Structu</td>\n",
       "      <td>Failure of owner of any other structure, excep...</td>\n",
       "    </tr>\n",
       "    <tr>\n",
       "      <th>38</th>\n",
       "      <td>15</td>\n",
       "      <td>633</td>\n",
       "      <td>0.023697</td>\n",
       "      <td>22-2-83</td>\n",
       "      <td>Dumping, storing or depositing solid waste on ...</td>\n",
       "    </tr>\n",
       "  </tbody>\n",
       "</table>\n",
       "</div>"
      ],
      "text/plain": [
       "      compliance  count      rate        violation_code  \\\n",
       "code                                                      \n",
       "182         4767  99091  0.048107             9-1-36(a)   \n",
       "225          742  43471  0.017069             9-1-81(a)   \n",
       "53          1352  28720  0.047075               22-2-88   \n",
       "131         1392  22536  0.061768               9-1-104   \n",
       "55           308   7238  0.042553            22-2-88(b)   \n",
       "28           554   5394  0.102707               22-2-45   \n",
       "190           58   5332  0.010878  9-1-43(a) - (Dwellin   \n",
       "132          321   5072  0.063289               9-1-105   \n",
       "137          387   4814  0.080391            9-1-110(a)   \n",
       "17           262   3755  0.069774               22-2-22   \n",
       "130          386   3537  0.109132            9-1-103(C)   \n",
       "2             45   2963  0.015187              19450901   \n",
       "26           272   2903  0.093696               22-2-43   \n",
       "10           100   1940  0.051546               22-2-17   \n",
       "37           175   1456  0.120192               22-2-61   \n",
       "230           13    895  0.014525  9-1-82(d) - (Dwellin   \n",
       "39            16    849  0.018846      22-2-83(a)(b)(c)   \n",
       "108           73    812  0.089901    61-81.0100/32.0066   \n",
       "192           11    765  0.014379  9-1-43(a) - (Structu   \n",
       "38            15    633  0.023697               22-2-83   \n",
       "\n",
       "                                  violation_description  \n",
       "code                                                     \n",
       "182   Failure of owner to obtain certificate of comp...  \n",
       "225   Failure to obtain certificate of registration ...  \n",
       "53    Failure of owner to keep property, its sidewal...  \n",
       "131   Excessive weeds or plant growth one- or two-fa...  \n",
       "55    Allowing bulk solid waste to lie or accumulate...  \n",
       "28    Violation of time limit for approved container...  \n",
       "190   Failure of owner of one- or two-family dwellin...  \n",
       "132   Rodent harborage one-or two-family dwelling or...  \n",
       "137   Inoperable motor vehicle(s) one- or two-family...  \n",
       "17    Bulk solid waste deposited more than 24 hours ...  \n",
       "130              Removal of snow and ice from sidewalks  \n",
       "2     Failure of owner to comply with an emergency o...  \n",
       "26    Improper placement of Courville container betw...  \n",
       "10    Improper storage and separation of solid waste...  \n",
       "37    Failing to secure City or Private solid waste ...  \n",
       "230   Unlawful occupation of rental property without...  \n",
       "39    Dumping,  or deposting solid waste of five (5)...  \n",
       "108   Open Storage/ Residential/ Inoperable Vehicles...  \n",
       "192   Failure of owner of any other structure, excep...  \n",
       "38    Dumping, storing or depositing solid waste on ...  "
      ]
     },
     "execution_count": 79,
     "metadata": {
      "tags": []
     },
     "output_type": "execute_result"
    }
   ],
   "source": [
    "df_code"
   ]
  },
  {
   "cell_type": "code",
   "execution_count": 80,
   "metadata": {
    "colab": {
     "base_uri": "https://localhost:8080/",
     "height": 654
    },
    "colab_type": "code",
    "collapsed": false,
    "id": "yEB_U88El6jH",
    "outputId": "79ac4cdc-bce1-4f4f-963d-aebacc5c86c0"
   },
   "outputs": [
    {
     "data": {
      "image/png": "[encoded data removed]",
      "text/plain": [
       "<matplotlib.figure.Figure at 0x7fc387cece80>"
      ]
     },
     "metadata": {
      "tags": []
     },
     "output_type": "display_data"
    }
   ],
   "source": [
    "df_code[['compliance','count']].plot(kind='bar',stacked=True,colors=['red','grey'],figsize=(20,10));\n",
    "ax = plt.gca();\n",
    "ax.tick_params(axis='both', labelsize=20);\n",
    "plt.legend(prop={'size':20});\n",
    "plt.title('Violation Code', fontsize=25);"
   ]
  },
  {
   "cell_type": "markdown",
   "metadata": {
    "colab_type": "text",
    "id": "pjfeCpGYl6jI"
   },
   "source": [
    "The code '9-1-43(a) - (Dwelling)' ('Failure of owner to obtain certificate of compliance') has the worst compliance rate 0.010878 and the code 22-2-61 ('Failing to secure City or Private solid waste collection containers and services') has the best compliance rate 0.120192. The best one's rate is approximately eleven times bigger than the worst one."
   ]
  },
  {
   "cell_type": "code",
   "execution_count": 0,
   "metadata": {
    "colab": {},
    "colab_type": "code",
    "collapsed": true,
    "id": "_hW3oadYl6jI"
   },
   "outputs": [],
   "source": []
  },
  {
   "cell_type": "markdown",
   "metadata": {
    "colab_type": "text",
    "id": "UI4D8-Uil6jJ"
   },
   "source": [
    "### 5.6 Administrative Fee & State Fee\n",
    "\n",
    "Administrative Fee and State Fee are the most highly correlated non-object variables with target variable 0.17 respectively. Besides, we can assume that the fees how much violators have to pay may play an important role in prediction. Consequently it is worth analyzing the relationship between these variables and target variables."
   ]
  },
  {
   "cell_type": "code",
   "execution_count": 81,
   "metadata": {
    "colab": {
     "base_uri": "https://localhost:8080/",
     "height": 34
    },
    "colab_type": "code",
    "collapsed": false,
    "id": "mzRmaYDBl6jJ",
    "outputId": "0d774f5c-0d79-48b3-8dd7-34d5cefe0670"
   },
   "outputs": [
    {
     "data": {
      "text/plain": [
       "Counter({0.0: 90426, 20.0: 159880})"
      ]
     },
     "execution_count": 81,
     "metadata": {
      "tags": []
     },
     "output_type": "execute_result"
    }
   ],
   "source": [
    "Counter(train.admin_fee)"
   ]
  },
  {
   "cell_type": "code",
   "execution_count": 82,
   "metadata": {
    "colab": {
     "base_uri": "https://localhost:8080/",
     "height": 34
    },
    "colab_type": "code",
    "collapsed": false,
    "id": "oGGM-4Asl6jK",
    "outputId": "fccafb5b-1c87-411e-cab4-40cd565283f2"
   },
   "outputs": [
    {
     "data": {
      "text/plain": [
       "Counter({0.0: 90426, 10.0: 159880})"
      ]
     },
     "execution_count": 82,
     "metadata": {
      "tags": []
     },
     "output_type": "execute_result"
    }
   ],
   "source": [
    "Counter(train.state_fee)"
   ]
  },
  {
   "cell_type": "markdown",
   "metadata": {
    "colab_type": "text",
    "id": "DRmOKpYql6jN"
   },
   "source": [
    "There are only two cases on each variable: \\$0 or \\$20 for administrative fee or \\$0 or \\$10 for state fee. Maybe it is better to extract the columns from training set and combine them as separate dataframe. Also, in order to see if there is any interaction among these columns, create a new column by adding admin_fee and state_fee."
   ]
  },
  {
   "cell_type": "code",
   "execution_count": 0,
   "metadata": {
    "colab": {},
    "colab_type": "code",
    "collapsed": true,
    "id": "CmjXbj1Yl6jN"
   },
   "outputs": [],
   "source": [
    "fee = pd.concat([train[['admin_fee','state_fee']],y],axis=1)\n",
    "fee['summ'] = fee.admin_fee + fee.state_fee"
   ]
  },
  {
   "cell_type": "code",
   "execution_count": 84,
   "metadata": {
    "colab": {
     "base_uri": "https://localhost:8080/",
     "height": 68
    },
    "colab_type": "code",
    "collapsed": false,
    "id": "jDEpMcR1l6jO",
    "outputId": "f3078be0-26aa-4c8d-d314-72ce235d82eb"
   },
   "outputs": [
    {
     "name": "stdout",
     "output_type": "stream",
     "text": [
      "Counter({0: 238709, 1: 11597})\n",
      "Not Paid on time: 0.9536687094995725\n",
      "Paid on time: 0.046331290500427474\n"
     ]
    }
   ],
   "source": [
    "print(Counter(fee.compliance))\n",
    "print('Not Paid on time:',list(Counter(fee.compliance).values())[0]/len(fee))\n",
    "print('Paid on time:',list(Counter(fee.compliance).values())[1]/len(fee))"
   ]
  },
  {
   "cell_type": "markdown",
   "metadata": {
    "colab_type": "text",
    "id": "IWWDS88Wl6jO"
   },
   "source": [
    "Let's check if there is any pattern when the violator paid on time."
   ]
  },
  {
   "cell_type": "code",
   "execution_count": 85,
   "metadata": {
    "colab": {
     "base_uri": "https://localhost:8080/",
     "height": 204
    },
    "colab_type": "code",
    "collapsed": false,
    "id": "_KJi492Fl6jP",
    "outputId": "3ef133cf-bcf7-41e1-8342-54b851d9dfcb"
   },
   "outputs": [
    {
     "data": {
      "text/plain": [
       "1     30.0\n",
       "18    30.0\n",
       "19    30.0\n",
       "37    30.0\n",
       "41    30.0\n",
       "44    30.0\n",
       "59    30.0\n",
       "60    30.0\n",
       "61    30.0\n",
       "77    30.0\n",
       "Name: summ, dtype: float64"
      ]
     },
     "execution_count": 85,
     "metadata": {
      "tags": []
     },
     "output_type": "execute_result"
    }
   ],
   "source": [
    "fee[fee['compliance']==1].summ.head(10)"
   ]
  },
  {
   "cell_type": "code",
   "execution_count": 86,
   "metadata": {
    "colab": {
     "base_uri": "https://localhost:8080/",
     "height": 34
    },
    "colab_type": "code",
    "collapsed": false,
    "id": "PXlWcSmvl6jP",
    "outputId": "106079d4-30cf-4e2a-c906-b44fe35c8cbb"
   },
   "outputs": [
    {
     "data": {
      "text/plain": [
       "{30.0}"
      ]
     },
     "execution_count": 86,
     "metadata": {
      "tags": []
     },
     "output_type": "execute_result"
    }
   ],
   "source": [
    "set(fee[fee['compliance']==1].summ)"
   ]
  },
  {
   "cell_type": "markdown",
   "metadata": {
    "colab_type": "text",
    "id": "MnMG1qXll6jT"
   },
   "source": [
    "The pattern found is that all violators who paid on time were charged for both administrative and state fee. Now let's take a look at the other case: the violators who did not pay on time."
   ]
  },
  {
   "cell_type": "code",
   "execution_count": 87,
   "metadata": {
    "colab": {
     "base_uri": "https://localhost:8080/",
     "height": 68
    },
    "colab_type": "code",
    "collapsed": false,
    "id": "QVm4eDjHl6jT",
    "outputId": "9f81f8d0-a99a-4327-9ad5-50ad99464fe6"
   },
   "outputs": [
    {
     "name": "stdout",
     "output_type": "stream",
     "text": [
      "Counter({30.0: 148283, 0.0: 90426})\n",
      "Not paid on time & Charged: 0.6211873033693744\n",
      "Not paid on time & No Charged at all: 0.37881269663062556\n"
     ]
    }
   ],
   "source": [
    "print(Counter(fee[fee['compliance'] == 0].summ))\n",
    "print('Not paid on time & Charged:',list(Counter(fee[fee['compliance'] == 0].summ).values())[0]/len(fee[fee['compliance'] == 0]))\n",
    "print('Not paid on time & No Charged at all:',list(Counter(fee[fee['compliance'] == 0].summ).values())[1]/len(fee[fee['compliance'] == 0]))"
   ]
  },
  {
   "cell_type": "markdown",
   "metadata": {
    "colab_type": "text",
    "id": "Kp6tmFnJl6jV"
   },
   "source": [
    "Without visualization, the relationship between the violators who paid on time and fees were evident. Therefore, it is worth focusing on violators not paid on time."
   ]
  },
  {
   "cell_type": "code",
   "execution_count": 88,
   "metadata": {
    "colab": {
     "base_uri": "https://localhost:8080/",
     "height": 522
    },
    "colab_type": "code",
    "collapsed": false,
    "id": "jZkZ8FNil6jV",
    "outputId": "e4e0e7c8-69fc-405c-bd2e-b2d8972e910f"
   },
   "outputs": [
    {
     "data": {
      "image/png": "[encoded data removed]",
      "text/plain": [
       "<matplotlib.figure.Figure at 0x7fc395ed1b70>"
      ]
     },
     "metadata": {
      "tags": []
     },
     "output_type": "display_data"
    }
   ],
   "source": [
    "fee[fee['compliance']==0].groupby('summ').agg('count')['compliance'].plot(kind='bar',color=['green'],figsize=(10,8));\n",
    "ax = plt.gca();\n",
    "plt.title('Not paid on time',fontsize=20);\n",
    "plt.xticks(np.arange(2),['No Charged','Charged'],rotation=0,fontsize=15);\n",
    "plt.ylabel('count',fontsize=15);"
   ]
  },
  {
   "cell_type": "markdown",
   "metadata": {
    "colab_type": "text",
    "id": "k2M3qiuVl6jX"
   },
   "source": [
    "From this analysis, there are some important takeaways. First as mentioned, all the violators who paid on time had been charged both administrative and state fees \\$30. The violators who did not pay on time consist of two groups: Not charged any of these fees or fully charged as the groups paid on time. However, the charged group is approximately twice bigger than the group with no charge. We may be able to gain a better insight by considering other variables which engender the ratio difference. ex. maybe the violation code or explanation code can help explaining such a difference between the group with charge and no charge in the violators who did not pay on time."
   ]
  },
  {
   "cell_type": "code",
   "execution_count": 0,
   "metadata": {
    "colab": {},
    "colab_type": "code",
    "collapsed": true,
    "id": "5PPQDUYal6jY"
   },
   "outputs": [],
   "source": []
  },
  {
   "cell_type": "markdown",
   "metadata": {
    "colab_type": "text",
    "id": "QaUUSRqtl6jZ"
   },
   "source": [
    "## 6. Modeling"
   ]
  },
  {
   "cell_type": "code",
   "execution_count": 0,
   "metadata": {
    "colab": {},
    "colab_type": "code",
    "collapsed": true,
    "id": "JXrUny_pl6jZ"
   },
   "outputs": [],
   "source": [
    "from sklearn.model_selection import GridSearchCV, StratifiedKFold\n",
    "from sklearn.linear_model import LogisticRegression\n",
    "from sklearn.svm import LinearSVC\n",
    "from sklearn.naive_bayes import BernoulliNB"
   ]
  },
  {
   "cell_type": "markdown",
   "metadata": {
    "colab_type": "text",
    "id": "phXY9-Uel6jZ"
   },
   "source": [
    "Since the dataset is highly imbalanced, it is important to keep the ratio of two classes in each cross validation split. Among many cross-validation methodologies, StratifiedKFold is the first thing we need to consider."
   ]
  },
  {
   "cell_type": "code",
   "execution_count": 0,
   "metadata": {
    "colab": {},
    "colab_type": "code",
    "collapsed": true,
    "id": "ZVMVbMwAl6jZ"
   },
   "outputs": [],
   "source": [
    "kfold = StratifiedKFold(10, random_state = 1)"
   ]
  },
  {
   "cell_type": "code",
   "execution_count": 91,
   "metadata": {
    "colab": {
     "base_uri": "https://localhost:8080/",
     "height": 136
    },
    "colab_type": "code",
    "collapsed": false,
    "id": "DEPdhpaFl6jc",
    "outputId": "66a0e8de-7dc7-48ef-ebb2-f4b94cda6ab7"
   },
   "outputs": [
    {
     "data": {
      "text/plain": [
       "array([[ 250.,   20.,   10., ...,    0.,    0.,    0.],\n",
       "       [ 750.,   20.,   10., ...,    0.,    0.,    0.],\n",
       "       [ 250.,    0.,    0., ...,    0.,    0.,    0.],\n",
       "       ...,\n",
       "       [1000.,    0.,    0., ...,    0.,    0.,    0.],\n",
       "       [1000.,    0.,    0., ...,    0.,    0.,    0.],\n",
       "       [1000.,    0.,    0., ...,    0.,    0.,    0.]])"
      ]
     },
     "execution_count": 91,
     "metadata": {
      "tags": []
     },
     "output_type": "execute_result"
    }
   ],
   "source": [
    "X_train_sel"
   ]
  },
  {
   "cell_type": "code",
   "execution_count": 0,
   "metadata": {
    "colab": {},
    "colab_type": "code",
    "collapsed": true,
    "id": "2FDGe2g0l6je"
   },
   "outputs": [],
   "source": []
  },
  {
   "cell_type": "markdown",
   "metadata": {
    "colab_type": "text",
    "id": "jiudPykEl6je"
   },
   "source": [
    "### 6.1 Logistic Regression"
   ]
  },
  {
   "cell_type": "markdown",
   "metadata": {
    "colab_type": "text",
    "id": "mB8fxl-0l6jf"
   },
   "source": [
    "250,000 samples are definitely not small sized dataset and due to the limit of my laptop's CPU and memory, I decide to use Logistic Regression as a first attempt. Logistic Regression is a simple well-behaved, as the problem is linearly separable. Also it is pretty robust to noise with proper regularization (L1/L2). "
   ]
  },
  {
   "cell_type": "code",
   "execution_count": 92,
   "metadata": {
    "colab": {
     "base_uri": "https://localhost:8080/",
     "height": 68
    },
    "colab_type": "code",
    "collapsed": false,
    "id": "2nGdkffnl6jf",
    "outputId": "e248baff-fd75-4de4-9c9d-5d58aeb67c72"
   },
   "outputs": [
    {
     "name": "stdout",
     "output_type": "stream",
     "text": [
      "Fitting 10 folds for each of 1 candidates, totalling 10 fits\n"
     ]
    },
    {
     "name": "stderr",
     "output_type": "stream",
     "text": [
      "[Parallel(n_jobs=1)]: Done  10 out of  10 | elapsed:  7.4min finished\n"
     ]
    },
    {
     "name": "stdout",
     "output_type": "stream",
     "text": [
      "{'C': 0.001, 'class_weight': {1: 2}, 'penalty': 'l1'}\n"
     ]
    }
   ],
   "source": [
    "lr = LogisticRegression(random_state=1)\n",
    "\n",
    "param = {\n",
    "            'C': [0.001],\n",
    "            'penalty':['l1'],\n",
    "            'class_weight':[{1:2}]\n",
    "        }\n",
    "\n",
    "lrCV = GridSearchCV(lr, param_grid=param, cv=kfold, verbose=True, n_jobs=1, scoring='roc_auc')\n",
    "lrCV.fit(X_train_sel,y)\n",
    "lrCV_best = lrCV.best_estimator_\n",
    "print(lrCV.best_params_)\n",
    "\n",
    "# CV = 10 (ORIGINAL WITHOUT INSPECTOR NAME) - preserved in original file.\n",
    "# * {'C': 0.001, 'class_weight': {1: 2}, 'penalty': 'l1'} - 0.8642844\n",
    "\n",
    "# CV = 10 (SELECTFROMMODEL)\n",
    "# * {'C': 0.001, 'class_weight': {1: 2}, 'penalty': 'l1'} - 0.86427307750706317\n"
   ]
  },
  {
   "cell_type": "code",
   "execution_count": 93,
   "metadata": {
    "colab": {
     "base_uri": "https://localhost:8080/",
     "height": 34
    },
    "colab_type": "code",
    "collapsed": false,
    "id": "wq4fdaJJl6jg",
    "outputId": "9ecf94c7-2228-4fad-ca89-8530c9d69607"
   },
   "outputs": [
    {
     "data": {
      "text/plain": [
       "0.8642847742511651"
      ]
     },
     "execution_count": 93,
     "metadata": {
      "tags": []
     },
     "output_type": "execute_result"
    }
   ],
   "source": [
    "lrCV.best_score_"
   ]
  },
  {
   "cell_type": "code",
   "execution_count": 94,
   "metadata": {
    "colab": {
     "base_uri": "https://localhost:8080/",
     "height": 2000
    },
    "colab_type": "code",
    "collapsed": false,
    "id": "btrlgV3Sl6jh",
    "outputId": "723e0ed0-f31f-46d0-879c-b2653f7c2c14"
   },
   "outputs": [
    {
     "data": {
      "text/html": [
       "<div>\n",
       "<style scoped>\n",
       "    .dataframe tbody tr th:only-of-type {\n",
       "        vertical-align: middle;\n",
       "    }\n",
       "\n",
       "    .dataframe tbody tr th {\n",
       "        vertical-align: top;\n",
       "    }\n",
       "\n",
       "    .dataframe thead th {\n",
       "        text-align: right;\n",
       "    }\n",
       "</style>\n",
       "<table border=\"1\" class=\"dataframe\">\n",
       "  <thead>\n",
       "    <tr style=\"text-align: right;\">\n",
       "      <th></th>\n",
       "      <th>0</th>\n",
       "    </tr>\n",
       "    <tr>\n",
       "      <th>ticket_id</th>\n",
       "      <th></th>\n",
       "    </tr>\n",
       "  </thead>\n",
       "  <tbody>\n",
       "    <tr>\n",
       "      <th>284932</th>\n",
       "      <td>0</td>\n",
       "    </tr>\n",
       "    <tr>\n",
       "      <th>285362</th>\n",
       "      <td>0</td>\n",
       "    </tr>\n",
       "    <tr>\n",
       "      <th>285361</th>\n",
       "      <td>0</td>\n",
       "    </tr>\n",
       "    <tr>\n",
       "      <th>285338</th>\n",
       "      <td>0</td>\n",
       "    </tr>\n",
       "    <tr>\n",
       "      <th>285346</th>\n",
       "      <td>0</td>\n",
       "    </tr>\n",
       "    <tr>\n",
       "      <th>285345</th>\n",
       "      <td>0</td>\n",
       "    </tr>\n",
       "    <tr>\n",
       "      <th>285347</th>\n",
       "      <td>0</td>\n",
       "    </tr>\n",
       "    <tr>\n",
       "      <th>285342</th>\n",
       "      <td>0</td>\n",
       "    </tr>\n",
       "    <tr>\n",
       "      <th>285530</th>\n",
       "      <td>0</td>\n",
       "    </tr>\n",
       "    <tr>\n",
       "      <th>284989</th>\n",
       "      <td>0</td>\n",
       "    </tr>\n",
       "    <tr>\n",
       "      <th>285344</th>\n",
       "      <td>0</td>\n",
       "    </tr>\n",
       "    <tr>\n",
       "      <th>285343</th>\n",
       "      <td>0</td>\n",
       "    </tr>\n",
       "    <tr>\n",
       "      <th>285340</th>\n",
       "      <td>0</td>\n",
       "    </tr>\n",
       "    <tr>\n",
       "      <th>285341</th>\n",
       "      <td>0</td>\n",
       "    </tr>\n",
       "    <tr>\n",
       "      <th>285349</th>\n",
       "      <td>0</td>\n",
       "    </tr>\n",
       "    <tr>\n",
       "      <th>285348</th>\n",
       "      <td>0</td>\n",
       "    </tr>\n",
       "    <tr>\n",
       "      <th>284991</th>\n",
       "      <td>0</td>\n",
       "    </tr>\n",
       "    <tr>\n",
       "      <th>285532</th>\n",
       "      <td>0</td>\n",
       "    </tr>\n",
       "    <tr>\n",
       "      <th>285406</th>\n",
       "      <td>0</td>\n",
       "    </tr>\n",
       "    <tr>\n",
       "      <th>285001</th>\n",
       "      <td>0</td>\n",
       "    </tr>\n",
       "    <tr>\n",
       "      <th>285006</th>\n",
       "      <td>0</td>\n",
       "    </tr>\n",
       "    <tr>\n",
       "      <th>285405</th>\n",
       "      <td>0</td>\n",
       "    </tr>\n",
       "    <tr>\n",
       "      <th>285337</th>\n",
       "      <td>0</td>\n",
       "    </tr>\n",
       "    <tr>\n",
       "      <th>285496</th>\n",
       "      <td>0</td>\n",
       "    </tr>\n",
       "    <tr>\n",
       "      <th>285497</th>\n",
       "      <td>0</td>\n",
       "    </tr>\n",
       "    <tr>\n",
       "      <th>285378</th>\n",
       "      <td>0</td>\n",
       "    </tr>\n",
       "    <tr>\n",
       "      <th>285589</th>\n",
       "      <td>0</td>\n",
       "    </tr>\n",
       "    <tr>\n",
       "      <th>285585</th>\n",
       "      <td>0</td>\n",
       "    </tr>\n",
       "    <tr>\n",
       "      <th>285501</th>\n",
       "      <td>0</td>\n",
       "    </tr>\n",
       "    <tr>\n",
       "      <th>285581</th>\n",
       "      <td>0</td>\n",
       "    </tr>\n",
       "    <tr>\n",
       "      <th>...</th>\n",
       "      <td>...</td>\n",
       "    </tr>\n",
       "    <tr>\n",
       "      <th>376367</th>\n",
       "      <td>0</td>\n",
       "    </tr>\n",
       "    <tr>\n",
       "      <th>376366</th>\n",
       "      <td>0</td>\n",
       "    </tr>\n",
       "    <tr>\n",
       "      <th>376362</th>\n",
       "      <td>0</td>\n",
       "    </tr>\n",
       "    <tr>\n",
       "      <th>376363</th>\n",
       "      <td>0</td>\n",
       "    </tr>\n",
       "    <tr>\n",
       "      <th>376365</th>\n",
       "      <td>0</td>\n",
       "    </tr>\n",
       "    <tr>\n",
       "      <th>376364</th>\n",
       "      <td>0</td>\n",
       "    </tr>\n",
       "    <tr>\n",
       "      <th>376228</th>\n",
       "      <td>0</td>\n",
       "    </tr>\n",
       "    <tr>\n",
       "      <th>376265</th>\n",
       "      <td>0</td>\n",
       "    </tr>\n",
       "    <tr>\n",
       "      <th>376286</th>\n",
       "      <td>0</td>\n",
       "    </tr>\n",
       "    <tr>\n",
       "      <th>376320</th>\n",
       "      <td>0</td>\n",
       "    </tr>\n",
       "    <tr>\n",
       "      <th>376314</th>\n",
       "      <td>0</td>\n",
       "    </tr>\n",
       "    <tr>\n",
       "      <th>376327</th>\n",
       "      <td>0</td>\n",
       "    </tr>\n",
       "    <tr>\n",
       "      <th>376385</th>\n",
       "      <td>0</td>\n",
       "    </tr>\n",
       "    <tr>\n",
       "      <th>376435</th>\n",
       "      <td>1</td>\n",
       "    </tr>\n",
       "    <tr>\n",
       "      <th>376370</th>\n",
       "      <td>0</td>\n",
       "    </tr>\n",
       "    <tr>\n",
       "      <th>376434</th>\n",
       "      <td>0</td>\n",
       "    </tr>\n",
       "    <tr>\n",
       "      <th>376459</th>\n",
       "      <td>0</td>\n",
       "    </tr>\n",
       "    <tr>\n",
       "      <th>376478</th>\n",
       "      <td>0</td>\n",
       "    </tr>\n",
       "    <tr>\n",
       "      <th>376473</th>\n",
       "      <td>0</td>\n",
       "    </tr>\n",
       "    <tr>\n",
       "      <th>376484</th>\n",
       "      <td>0</td>\n",
       "    </tr>\n",
       "    <tr>\n",
       "      <th>376482</th>\n",
       "      <td>0</td>\n",
       "    </tr>\n",
       "    <tr>\n",
       "      <th>376480</th>\n",
       "      <td>0</td>\n",
       "    </tr>\n",
       "    <tr>\n",
       "      <th>376479</th>\n",
       "      <td>0</td>\n",
       "    </tr>\n",
       "    <tr>\n",
       "      <th>376481</th>\n",
       "      <td>0</td>\n",
       "    </tr>\n",
       "    <tr>\n",
       "      <th>376483</th>\n",
       "      <td>0</td>\n",
       "    </tr>\n",
       "    <tr>\n",
       "      <th>376496</th>\n",
       "      <td>0</td>\n",
       "    </tr>\n",
       "    <tr>\n",
       "      <th>376497</th>\n",
       "      <td>0</td>\n",
       "    </tr>\n",
       "    <tr>\n",
       "      <th>376499</th>\n",
       "      <td>0</td>\n",
       "    </tr>\n",
       "    <tr>\n",
       "      <th>376500</th>\n",
       "      <td>0</td>\n",
       "    </tr>\n",
       "    <tr>\n",
       "      <th>369851</th>\n",
       "      <td>0</td>\n",
       "    </tr>\n",
       "  </tbody>\n",
       "</table>\n",
       "<p>61001 rows × 1 columns</p>\n",
       "</div>"
      ],
      "text/plain": [
       "           0\n",
       "ticket_id   \n",
       "284932     0\n",
       "285362     0\n",
       "285361     0\n",
       "285338     0\n",
       "285346     0\n",
       "285345     0\n",
       "285347     0\n",
       "285342     0\n",
       "285530     0\n",
       "284989     0\n",
       "285344     0\n",
       "285343     0\n",
       "285340     0\n",
       "285341     0\n",
       "285349     0\n",
       "285348     0\n",
       "284991     0\n",
       "285532     0\n",
       "285406     0\n",
       "285001     0\n",
       "285006     0\n",
       "285405     0\n",
       "285337     0\n",
       "285496     0\n",
       "285497     0\n",
       "285378     0\n",
       "285589     0\n",
       "285585     0\n",
       "285501     0\n",
       "285581     0\n",
       "...       ..\n",
       "376367     0\n",
       "376366     0\n",
       "376362     0\n",
       "376363     0\n",
       "376365     0\n",
       "376364     0\n",
       "376228     0\n",
       "376265     0\n",
       "376286     0\n",
       "376320     0\n",
       "376314     0\n",
       "376327     0\n",
       "376385     0\n",
       "376435     1\n",
       "376370     0\n",
       "376434     0\n",
       "376459     0\n",
       "376478     0\n",
       "376473     0\n",
       "376484     0\n",
       "376482     0\n",
       "376480     0\n",
       "376479     0\n",
       "376481     0\n",
       "376483     0\n",
       "376496     0\n",
       "376497     0\n",
       "376499     0\n",
       "376500     0\n",
       "369851     0\n",
       "\n",
       "[61001 rows x 1 columns]"
      ]
     },
     "execution_count": 94,
     "metadata": {
      "tags": []
     },
     "output_type": "execute_result"
    }
   ],
   "source": [
    "result_log = pd.DataFrame(lrCV.predict(X_test_sel), index = test_id)\n",
    "result_log"
   ]
  },
  {
   "cell_type": "code",
   "execution_count": 0,
   "metadata": {
    "colab": {},
    "colab_type": "code",
    "collapsed": true,
    "id": "SoLejExLl6ji"
   },
   "outputs": [],
   "source": [
    "# To check, we can count how many 0 and how many 1 are predicted\n",
    "result_summary = result_log.apply(pd.value_counts)\n",
    "result_summary['%'] = result_summary.apply(lambda x:x/np.sum(result_summary[0])*100)\n",
    "result_summary.columns = ['count','%']"
   ]
  },
  {
   "cell_type": "code",
   "execution_count": 96,
   "metadata": {
    "colab": {
     "base_uri": "https://localhost:8080/",
     "height": 111
    },
    "colab_type": "code",
    "collapsed": false,
    "id": "LOSBYQ_Xl6jj",
    "outputId": "a48b4067-f794-4685-a854-55b3559bd851"
   },
   "outputs": [
    {
     "data": {
      "text/html": [
       "<div>\n",
       "<style scoped>\n",
       "    .dataframe tbody tr th:only-of-type {\n",
       "        vertical-align: middle;\n",
       "    }\n",
       "\n",
       "    .dataframe tbody tr th {\n",
       "        vertical-align: top;\n",
       "    }\n",
       "\n",
       "    .dataframe thead th {\n",
       "        text-align: right;\n",
       "    }\n",
       "</style>\n",
       "<table border=\"1\" class=\"dataframe\">\n",
       "  <thead>\n",
       "    <tr style=\"text-align: right;\">\n",
       "      <th></th>\n",
       "      <th>count</th>\n",
       "      <th>%</th>\n",
       "    </tr>\n",
       "  </thead>\n",
       "  <tbody>\n",
       "    <tr>\n",
       "      <th>0</th>\n",
       "      <td>58477</td>\n",
       "      <td>95.862363</td>\n",
       "    </tr>\n",
       "    <tr>\n",
       "      <th>1</th>\n",
       "      <td>2524</td>\n",
       "      <td>4.137637</td>\n",
       "    </tr>\n",
       "  </tbody>\n",
       "</table>\n",
       "</div>"
      ],
      "text/plain": [
       "   count          %\n",
       "0  58477  95.862363\n",
       "1   2524   4.137637"
      ]
     },
     "execution_count": 96,
     "metadata": {
      "tags": []
     },
     "output_type": "execute_result"
    }
   ],
   "source": [
    "result_summary"
   ]
  },
  {
   "cell_type": "markdown",
   "metadata": {
    "colab_type": "text",
    "id": "GskmjISel6jk"
   },
   "source": [
    "This 0 and 1 ratio and that of original dataset are very alike."
   ]
  },
  {
   "cell_type": "code",
   "execution_count": 0,
   "metadata": {
    "colab": {},
    "colab_type": "code",
    "collapsed": true,
    "id": "YvVY4xs4l6jk"
   },
   "outputs": [],
   "source": []
  },
  {
   "cell_type": "markdown",
   "metadata": {
    "colab_type": "text",
    "id": "1LCP0X1Al6jl"
   },
   "source": [
    "### 6.2 Support Vector Machine\n",
    "\n",
    "Similar to SVC with parameter kernel=’linear’, but implemented in terms of liblinear rather than libsvm, so it has more flexibility in the choice of penalties and loss functions and should scale better to large numbers of samples."
   ]
  },
  {
   "cell_type": "code",
   "execution_count": 97,
   "metadata": {
    "colab": {
     "base_uri": "https://localhost:8080/",
     "height": 68
    },
    "colab_type": "code",
    "collapsed": false,
    "id": "Icu5-qqSl6jl",
    "outputId": "921d047d-c8d9-4ecb-efee-115e9aadfde8"
   },
   "outputs": [
    {
     "name": "stdout",
     "output_type": "stream",
     "text": [
      "Fitting 10 folds for each of 1 candidates, totalling 10 fits\n"
     ]
    },
    {
     "name": "stderr",
     "output_type": "stream",
     "text": [
      "[Parallel(n_jobs=1)]: Done  10 out of  10 | elapsed:  2.8min finished\n"
     ]
    },
    {
     "name": "stdout",
     "output_type": "stream",
     "text": [
      "{'C': 0.001, 'class_weight': {1: 1}, 'dual': False, 'loss': 'squared_hinge', 'penalty': 'l1'}\n"
     ]
    }
   ],
   "source": [
    "sv = LinearSVC(random_state=2018)\n",
    "\n",
    "param_grid = {\n",
    "    'loss':['squared_hinge'],\n",
    "    'class_weight':[{1:1}],\n",
    "    'C': [0.001],\n",
    "    'penalty':['l1'],\n",
    "    'dual':[False]\n",
    "}\n",
    "\n",
    "gs_sv = GridSearchCV(sv, param_grid = param_grid, verbose = 1, cv = kfold, n_jobs = 1, scoring = \"roc_auc\")\n",
    "gs_sv.fit(X_train_sel,y)\n",
    "gs_sv_best = gs_sv.best_estimator_\n",
    "print(gs_sv.best_params_)\n",
    "\n",
    "# L2 + Squared Hinge (default) + dual True\n",
    "# {'C': 0.03, 'class_weight': {1: 1}, 'penalty': 'l2'} - 0.8221119743329911\n",
    "\n",
    "# L2 + Hinge + dual True\n",
    "# {'C': 0.001, 'class_weight': 'balanced', 'loss': 'hinge', 'penalty': 'l2'} - 0.83519746888834068 (15%)\n",
    "\n",
    "# L1 + Squared Hinge + dual False - 0.8585770577014018 (1.17%)\n",
    "# {'C': 0.001, 'class_weight': {1: 1}, 'dual': False, 'loss': 'squared_hinge', 'penalty': 'l1'}\n",
    "\n",
    "# L2 + Squared Hinge + dual False - 0.82509376943573753\n",
    "# {'C': 0.001, 'class_weight': {1: 2}, 'dual': False, 'loss': 'squared_hinge', 'penalty': 'l2'}\n",
    "\n"
   ]
  },
  {
   "cell_type": "code",
   "execution_count": 98,
   "metadata": {
    "colab": {
     "base_uri": "https://localhost:8080/",
     "height": 34
    },
    "colab_type": "code",
    "collapsed": false,
    "id": "8mDyYKqVl6jn",
    "outputId": "8ded35e7-7377-4088-99e0-d5aaf92c6002"
   },
   "outputs": [
    {
     "data": {
      "text/plain": [
       "0.8580141116938326"
      ]
     },
     "execution_count": 98,
     "metadata": {
      "tags": []
     },
     "output_type": "execute_result"
    }
   ],
   "source": [
    "gs_sv.best_score_"
   ]
  },
  {
   "cell_type": "code",
   "execution_count": 99,
   "metadata": {
    "colab": {
     "base_uri": "https://localhost:8080/",
     "height": 2000
    },
    "colab_type": "code",
    "collapsed": false,
    "id": "KOnouga-l6jo",
    "outputId": "8a276ef1-a0e0-474d-e52d-c92d28cb30dd"
   },
   "outputs": [
    {
     "data": {
      "text/html": [
       "<div>\n",
       "<style scoped>\n",
       "    .dataframe tbody tr th:only-of-type {\n",
       "        vertical-align: middle;\n",
       "    }\n",
       "\n",
       "    .dataframe tbody tr th {\n",
       "        vertical-align: top;\n",
       "    }\n",
       "\n",
       "    .dataframe thead th {\n",
       "        text-align: right;\n",
       "    }\n",
       "</style>\n",
       "<table border=\"1\" class=\"dataframe\">\n",
       "  <thead>\n",
       "    <tr style=\"text-align: right;\">\n",
       "      <th></th>\n",
       "      <th>0</th>\n",
       "    </tr>\n",
       "    <tr>\n",
       "      <th>ticket_id</th>\n",
       "      <th></th>\n",
       "    </tr>\n",
       "  </thead>\n",
       "  <tbody>\n",
       "    <tr>\n",
       "      <th>284932</th>\n",
       "      <td>0</td>\n",
       "    </tr>\n",
       "    <tr>\n",
       "      <th>285362</th>\n",
       "      <td>0</td>\n",
       "    </tr>\n",
       "    <tr>\n",
       "      <th>285361</th>\n",
       "      <td>0</td>\n",
       "    </tr>\n",
       "    <tr>\n",
       "      <th>285338</th>\n",
       "      <td>0</td>\n",
       "    </tr>\n",
       "    <tr>\n",
       "      <th>285346</th>\n",
       "      <td>0</td>\n",
       "    </tr>\n",
       "    <tr>\n",
       "      <th>285345</th>\n",
       "      <td>0</td>\n",
       "    </tr>\n",
       "    <tr>\n",
       "      <th>285347</th>\n",
       "      <td>0</td>\n",
       "    </tr>\n",
       "    <tr>\n",
       "      <th>285342</th>\n",
       "      <td>0</td>\n",
       "    </tr>\n",
       "    <tr>\n",
       "      <th>285530</th>\n",
       "      <td>0</td>\n",
       "    </tr>\n",
       "    <tr>\n",
       "      <th>284989</th>\n",
       "      <td>0</td>\n",
       "    </tr>\n",
       "    <tr>\n",
       "      <th>285344</th>\n",
       "      <td>0</td>\n",
       "    </tr>\n",
       "    <tr>\n",
       "      <th>285343</th>\n",
       "      <td>0</td>\n",
       "    </tr>\n",
       "    <tr>\n",
       "      <th>285340</th>\n",
       "      <td>0</td>\n",
       "    </tr>\n",
       "    <tr>\n",
       "      <th>285341</th>\n",
       "      <td>0</td>\n",
       "    </tr>\n",
       "    <tr>\n",
       "      <th>285349</th>\n",
       "      <td>0</td>\n",
       "    </tr>\n",
       "    <tr>\n",
       "      <th>285348</th>\n",
       "      <td>0</td>\n",
       "    </tr>\n",
       "    <tr>\n",
       "      <th>284991</th>\n",
       "      <td>0</td>\n",
       "    </tr>\n",
       "    <tr>\n",
       "      <th>285532</th>\n",
       "      <td>0</td>\n",
       "    </tr>\n",
       "    <tr>\n",
       "      <th>285406</th>\n",
       "      <td>0</td>\n",
       "    </tr>\n",
       "    <tr>\n",
       "      <th>285001</th>\n",
       "      <td>0</td>\n",
       "    </tr>\n",
       "    <tr>\n",
       "      <th>285006</th>\n",
       "      <td>0</td>\n",
       "    </tr>\n",
       "    <tr>\n",
       "      <th>285405</th>\n",
       "      <td>0</td>\n",
       "    </tr>\n",
       "    <tr>\n",
       "      <th>285337</th>\n",
       "      <td>0</td>\n",
       "    </tr>\n",
       "    <tr>\n",
       "      <th>285496</th>\n",
       "      <td>0</td>\n",
       "    </tr>\n",
       "    <tr>\n",
       "      <th>285497</th>\n",
       "      <td>0</td>\n",
       "    </tr>\n",
       "    <tr>\n",
       "      <th>285378</th>\n",
       "      <td>0</td>\n",
       "    </tr>\n",
       "    <tr>\n",
       "      <th>285589</th>\n",
       "      <td>0</td>\n",
       "    </tr>\n",
       "    <tr>\n",
       "      <th>285585</th>\n",
       "      <td>0</td>\n",
       "    </tr>\n",
       "    <tr>\n",
       "      <th>285501</th>\n",
       "      <td>0</td>\n",
       "    </tr>\n",
       "    <tr>\n",
       "      <th>285581</th>\n",
       "      <td>0</td>\n",
       "    </tr>\n",
       "    <tr>\n",
       "      <th>...</th>\n",
       "      <td>...</td>\n",
       "    </tr>\n",
       "    <tr>\n",
       "      <th>376367</th>\n",
       "      <td>0</td>\n",
       "    </tr>\n",
       "    <tr>\n",
       "      <th>376366</th>\n",
       "      <td>0</td>\n",
       "    </tr>\n",
       "    <tr>\n",
       "      <th>376362</th>\n",
       "      <td>0</td>\n",
       "    </tr>\n",
       "    <tr>\n",
       "      <th>376363</th>\n",
       "      <td>0</td>\n",
       "    </tr>\n",
       "    <tr>\n",
       "      <th>376365</th>\n",
       "      <td>0</td>\n",
       "    </tr>\n",
       "    <tr>\n",
       "      <th>376364</th>\n",
       "      <td>0</td>\n",
       "    </tr>\n",
       "    <tr>\n",
       "      <th>376228</th>\n",
       "      <td>0</td>\n",
       "    </tr>\n",
       "    <tr>\n",
       "      <th>376265</th>\n",
       "      <td>0</td>\n",
       "    </tr>\n",
       "    <tr>\n",
       "      <th>376286</th>\n",
       "      <td>0</td>\n",
       "    </tr>\n",
       "    <tr>\n",
       "      <th>376320</th>\n",
       "      <td>0</td>\n",
       "    </tr>\n",
       "    <tr>\n",
       "      <th>376314</th>\n",
       "      <td>0</td>\n",
       "    </tr>\n",
       "    <tr>\n",
       "      <th>376327</th>\n",
       "      <td>0</td>\n",
       "    </tr>\n",
       "    <tr>\n",
       "      <th>376385</th>\n",
       "      <td>0</td>\n",
       "    </tr>\n",
       "    <tr>\n",
       "      <th>376435</th>\n",
       "      <td>0</td>\n",
       "    </tr>\n",
       "    <tr>\n",
       "      <th>376370</th>\n",
       "      <td>0</td>\n",
       "    </tr>\n",
       "    <tr>\n",
       "      <th>376434</th>\n",
       "      <td>0</td>\n",
       "    </tr>\n",
       "    <tr>\n",
       "      <th>376459</th>\n",
       "      <td>0</td>\n",
       "    </tr>\n",
       "    <tr>\n",
       "      <th>376478</th>\n",
       "      <td>0</td>\n",
       "    </tr>\n",
       "    <tr>\n",
       "      <th>376473</th>\n",
       "      <td>0</td>\n",
       "    </tr>\n",
       "    <tr>\n",
       "      <th>376484</th>\n",
       "      <td>0</td>\n",
       "    </tr>\n",
       "    <tr>\n",
       "      <th>376482</th>\n",
       "      <td>0</td>\n",
       "    </tr>\n",
       "    <tr>\n",
       "      <th>376480</th>\n",
       "      <td>0</td>\n",
       "    </tr>\n",
       "    <tr>\n",
       "      <th>376479</th>\n",
       "      <td>0</td>\n",
       "    </tr>\n",
       "    <tr>\n",
       "      <th>376481</th>\n",
       "      <td>0</td>\n",
       "    </tr>\n",
       "    <tr>\n",
       "      <th>376483</th>\n",
       "      <td>0</td>\n",
       "    </tr>\n",
       "    <tr>\n",
       "      <th>376496</th>\n",
       "      <td>0</td>\n",
       "    </tr>\n",
       "    <tr>\n",
       "      <th>376497</th>\n",
       "      <td>0</td>\n",
       "    </tr>\n",
       "    <tr>\n",
       "      <th>376499</th>\n",
       "      <td>0</td>\n",
       "    </tr>\n",
       "    <tr>\n",
       "      <th>376500</th>\n",
       "      <td>0</td>\n",
       "    </tr>\n",
       "    <tr>\n",
       "      <th>369851</th>\n",
       "      <td>0</td>\n",
       "    </tr>\n",
       "  </tbody>\n",
       "</table>\n",
       "<p>61001 rows × 1 columns</p>\n",
       "</div>"
      ],
      "text/plain": [
       "           0\n",
       "ticket_id   \n",
       "284932     0\n",
       "285362     0\n",
       "285361     0\n",
       "285338     0\n",
       "285346     0\n",
       "285345     0\n",
       "285347     0\n",
       "285342     0\n",
       "285530     0\n",
       "284989     0\n",
       "285344     0\n",
       "285343     0\n",
       "285340     0\n",
       "285341     0\n",
       "285349     0\n",
       "285348     0\n",
       "284991     0\n",
       "285532     0\n",
       "285406     0\n",
       "285001     0\n",
       "285006     0\n",
       "285405     0\n",
       "285337     0\n",
       "285496     0\n",
       "285497     0\n",
       "285378     0\n",
       "285589     0\n",
       "285585     0\n",
       "285501     0\n",
       "285581     0\n",
       "...       ..\n",
       "376367     0\n",
       "376366     0\n",
       "376362     0\n",
       "376363     0\n",
       "376365     0\n",
       "376364     0\n",
       "376228     0\n",
       "376265     0\n",
       "376286     0\n",
       "376320     0\n",
       "376314     0\n",
       "376327     0\n",
       "376385     0\n",
       "376435     0\n",
       "376370     0\n",
       "376434     0\n",
       "376459     0\n",
       "376478     0\n",
       "376473     0\n",
       "376484     0\n",
       "376482     0\n",
       "376480     0\n",
       "376479     0\n",
       "376481     0\n",
       "376483     0\n",
       "376496     0\n",
       "376497     0\n",
       "376499     0\n",
       "376500     0\n",
       "369851     0\n",
       "\n",
       "[61001 rows x 1 columns]"
      ]
     },
     "execution_count": 99,
     "metadata": {
      "tags": []
     },
     "output_type": "execute_result"
    }
   ],
   "source": [
    "result_svm = pd.DataFrame(gs_sv.predict(X_test_sel), index = test_id)\n",
    "result_svm"
   ]
  },
  {
   "cell_type": "code",
   "execution_count": 0,
   "metadata": {
    "colab": {},
    "colab_type": "code",
    "collapsed": true,
    "id": "nsAqCH0el6jp"
   },
   "outputs": [],
   "source": [
    "# To check, we can count how many 0 and how many 1 are predicted\n",
    "result_summary = result_svm.apply(pd.value_counts)\n",
    "result_summary['%'] = result_summary.apply(lambda x:x/np.sum(result_summary[0])*100)\n",
    "result_summary.columns = ['count','%']"
   ]
  },
  {
   "cell_type": "code",
   "execution_count": 101,
   "metadata": {
    "colab": {
     "base_uri": "https://localhost:8080/",
     "height": 111
    },
    "colab_type": "code",
    "collapsed": false,
    "id": "bNQVYL0kl6jq",
    "outputId": "9438f209-0d25-4f8d-87df-67d37af3c2b3"
   },
   "outputs": [
    {
     "data": {
      "text/html": [
       "<div>\n",
       "<style scoped>\n",
       "    .dataframe tbody tr th:only-of-type {\n",
       "        vertical-align: middle;\n",
       "    }\n",
       "\n",
       "    .dataframe tbody tr th {\n",
       "        vertical-align: top;\n",
       "    }\n",
       "\n",
       "    .dataframe thead th {\n",
       "        text-align: right;\n",
       "    }\n",
       "</style>\n",
       "<table border=\"1\" class=\"dataframe\">\n",
       "  <thead>\n",
       "    <tr style=\"text-align: right;\">\n",
       "      <th></th>\n",
       "      <th>count</th>\n",
       "      <th>%</th>\n",
       "    </tr>\n",
       "  </thead>\n",
       "  <tbody>\n",
       "    <tr>\n",
       "      <th>0</th>\n",
       "      <td>60378</td>\n",
       "      <td>98.978705</td>\n",
       "    </tr>\n",
       "    <tr>\n",
       "      <th>1</th>\n",
       "      <td>623</td>\n",
       "      <td>1.021295</td>\n",
       "    </tr>\n",
       "  </tbody>\n",
       "</table>\n",
       "</div>"
      ],
      "text/plain": [
       "   count          %\n",
       "0  60378  98.978705\n",
       "1    623   1.021295"
      ]
     },
     "execution_count": 101,
     "metadata": {
      "tags": []
     },
     "output_type": "execute_result"
    }
   ],
   "source": [
    "result_summary"
   ]
  },
  {
   "cell_type": "code",
   "execution_count": 0,
   "metadata": {
    "colab": {},
    "colab_type": "code",
    "collapsed": true,
    "id": "FfR64xkEl6jr"
   },
   "outputs": [],
   "source": []
  },
  {
   "cell_type": "markdown",
   "metadata": {
    "colab_type": "text",
    "id": "_LkSJ6g8l6jt"
   },
   "source": [
    "### 6.3 Bernoulli Naive Bayes Classifier\n",
    "\n",
    "Compared to other models, Naive Bayes is simple and less prone to overfitting. Also it is not sensitive to parameter tuning and most of all, it is a fast, highly scalable algorithm."
   ]
  },
  {
   "cell_type": "code",
   "execution_count": 102,
   "metadata": {
    "colab": {
     "base_uri": "https://localhost:8080/",
     "height": 68
    },
    "colab_type": "code",
    "collapsed": false,
    "id": "atctD1Yil6jt",
    "outputId": "3a32c69a-7ed3-4557-fa0b-151585dac87c"
   },
   "outputs": [
    {
     "name": "stdout",
     "output_type": "stream",
     "text": [
      "Fitting 10 folds for each of 1 candidates, totalling 10 fits\n"
     ]
    },
    {
     "name": "stderr",
     "output_type": "stream",
     "text": [
      "[Parallel(n_jobs=1)]: Done  10 out of  10 | elapsed:   33.6s finished\n"
     ]
    },
    {
     "name": "stdout",
     "output_type": "stream",
     "text": [
      "{'alpha': 0.001, 'binarize': 1}\n"
     ]
    }
   ],
   "source": [
    "bnb = BernoulliNB()\n",
    "gs_bnb = GridSearchCV(bnb, param_grid = {'alpha': [0.001],\n",
    "                                         'binarize': [1]}, verbose = 1, cv = kfold, n_jobs = 1, scoring = \"roc_auc\")\n",
    "gs_bnb.fit(X_train_sel,y)\n",
    "gs_bnb_best = gs_bnb.best_estimator_\n",
    "print(gs_bnb.best_params_)"
   ]
  },
  {
   "cell_type": "code",
   "execution_count": 103,
   "metadata": {
    "colab": {
     "base_uri": "https://localhost:8080/",
     "height": 34
    },
    "colab_type": "code",
    "collapsed": false,
    "id": "GzeBRiVpl6ju",
    "outputId": "62d0ac5a-a57c-431c-90d3-354d4077493b"
   },
   "outputs": [
    {
     "data": {
      "text/plain": [
       "0.8211412574528567"
      ]
     },
     "execution_count": 103,
     "metadata": {
      "tags": []
     },
     "output_type": "execute_result"
    }
   ],
   "source": [
    "gs_bnb.best_score_"
   ]
  },
  {
   "cell_type": "code",
   "execution_count": 104,
   "metadata": {
    "colab": {
     "base_uri": "https://localhost:8080/",
     "height": 2000
    },
    "colab_type": "code",
    "collapsed": false,
    "id": "2ADWjOIZl6jw",
    "outputId": "e41046a4-8638-4db0-f79b-7cdce4cc12ac"
   },
   "outputs": [
    {
     "data": {
      "text/html": [
       "<div>\n",
       "<style scoped>\n",
       "    .dataframe tbody tr th:only-of-type {\n",
       "        vertical-align: middle;\n",
       "    }\n",
       "\n",
       "    .dataframe tbody tr th {\n",
       "        vertical-align: top;\n",
       "    }\n",
       "\n",
       "    .dataframe thead th {\n",
       "        text-align: right;\n",
       "    }\n",
       "</style>\n",
       "<table border=\"1\" class=\"dataframe\">\n",
       "  <thead>\n",
       "    <tr style=\"text-align: right;\">\n",
       "      <th></th>\n",
       "      <th>0</th>\n",
       "    </tr>\n",
       "    <tr>\n",
       "      <th>ticket_id</th>\n",
       "      <th></th>\n",
       "    </tr>\n",
       "  </thead>\n",
       "  <tbody>\n",
       "    <tr>\n",
       "      <th>284932</th>\n",
       "      <td>0</td>\n",
       "    </tr>\n",
       "    <tr>\n",
       "      <th>285362</th>\n",
       "      <td>0</td>\n",
       "    </tr>\n",
       "    <tr>\n",
       "      <th>285361</th>\n",
       "      <td>0</td>\n",
       "    </tr>\n",
       "    <tr>\n",
       "      <th>285338</th>\n",
       "      <td>0</td>\n",
       "    </tr>\n",
       "    <tr>\n",
       "      <th>285346</th>\n",
       "      <td>0</td>\n",
       "    </tr>\n",
       "    <tr>\n",
       "      <th>285345</th>\n",
       "      <td>0</td>\n",
       "    </tr>\n",
       "    <tr>\n",
       "      <th>285347</th>\n",
       "      <td>0</td>\n",
       "    </tr>\n",
       "    <tr>\n",
       "      <th>285342</th>\n",
       "      <td>0</td>\n",
       "    </tr>\n",
       "    <tr>\n",
       "      <th>285530</th>\n",
       "      <td>0</td>\n",
       "    </tr>\n",
       "    <tr>\n",
       "      <th>284989</th>\n",
       "      <td>0</td>\n",
       "    </tr>\n",
       "    <tr>\n",
       "      <th>285344</th>\n",
       "      <td>0</td>\n",
       "    </tr>\n",
       "    <tr>\n",
       "      <th>285343</th>\n",
       "      <td>0</td>\n",
       "    </tr>\n",
       "    <tr>\n",
       "      <th>285340</th>\n",
       "      <td>0</td>\n",
       "    </tr>\n",
       "    <tr>\n",
       "      <th>285341</th>\n",
       "      <td>0</td>\n",
       "    </tr>\n",
       "    <tr>\n",
       "      <th>285349</th>\n",
       "      <td>0</td>\n",
       "    </tr>\n",
       "    <tr>\n",
       "      <th>285348</th>\n",
       "      <td>0</td>\n",
       "    </tr>\n",
       "    <tr>\n",
       "      <th>284991</th>\n",
       "      <td>0</td>\n",
       "    </tr>\n",
       "    <tr>\n",
       "      <th>285532</th>\n",
       "      <td>0</td>\n",
       "    </tr>\n",
       "    <tr>\n",
       "      <th>285406</th>\n",
       "      <td>0</td>\n",
       "    </tr>\n",
       "    <tr>\n",
       "      <th>285001</th>\n",
       "      <td>0</td>\n",
       "    </tr>\n",
       "    <tr>\n",
       "      <th>285006</th>\n",
       "      <td>0</td>\n",
       "    </tr>\n",
       "    <tr>\n",
       "      <th>285405</th>\n",
       "      <td>0</td>\n",
       "    </tr>\n",
       "    <tr>\n",
       "      <th>285337</th>\n",
       "      <td>0</td>\n",
       "    </tr>\n",
       "    <tr>\n",
       "      <th>285496</th>\n",
       "      <td>0</td>\n",
       "    </tr>\n",
       "    <tr>\n",
       "      <th>285497</th>\n",
       "      <td>0</td>\n",
       "    </tr>\n",
       "    <tr>\n",
       "      <th>285378</th>\n",
       "      <td>0</td>\n",
       "    </tr>\n",
       "    <tr>\n",
       "      <th>285589</th>\n",
       "      <td>0</td>\n",
       "    </tr>\n",
       "    <tr>\n",
       "      <th>285585</th>\n",
       "      <td>0</td>\n",
       "    </tr>\n",
       "    <tr>\n",
       "      <th>285501</th>\n",
       "      <td>0</td>\n",
       "    </tr>\n",
       "    <tr>\n",
       "      <th>285581</th>\n",
       "      <td>0</td>\n",
       "    </tr>\n",
       "    <tr>\n",
       "      <th>...</th>\n",
       "      <td>...</td>\n",
       "    </tr>\n",
       "    <tr>\n",
       "      <th>376367</th>\n",
       "      <td>0</td>\n",
       "    </tr>\n",
       "    <tr>\n",
       "      <th>376366</th>\n",
       "      <td>0</td>\n",
       "    </tr>\n",
       "    <tr>\n",
       "      <th>376362</th>\n",
       "      <td>0</td>\n",
       "    </tr>\n",
       "    <tr>\n",
       "      <th>376363</th>\n",
       "      <td>0</td>\n",
       "    </tr>\n",
       "    <tr>\n",
       "      <th>376365</th>\n",
       "      <td>0</td>\n",
       "    </tr>\n",
       "    <tr>\n",
       "      <th>376364</th>\n",
       "      <td>0</td>\n",
       "    </tr>\n",
       "    <tr>\n",
       "      <th>376228</th>\n",
       "      <td>0</td>\n",
       "    </tr>\n",
       "    <tr>\n",
       "      <th>376265</th>\n",
       "      <td>0</td>\n",
       "    </tr>\n",
       "    <tr>\n",
       "      <th>376286</th>\n",
       "      <td>0</td>\n",
       "    </tr>\n",
       "    <tr>\n",
       "      <th>376320</th>\n",
       "      <td>0</td>\n",
       "    </tr>\n",
       "    <tr>\n",
       "      <th>376314</th>\n",
       "      <td>0</td>\n",
       "    </tr>\n",
       "    <tr>\n",
       "      <th>376327</th>\n",
       "      <td>0</td>\n",
       "    </tr>\n",
       "    <tr>\n",
       "      <th>376385</th>\n",
       "      <td>0</td>\n",
       "    </tr>\n",
       "    <tr>\n",
       "      <th>376435</th>\n",
       "      <td>0</td>\n",
       "    </tr>\n",
       "    <tr>\n",
       "      <th>376370</th>\n",
       "      <td>0</td>\n",
       "    </tr>\n",
       "    <tr>\n",
       "      <th>376434</th>\n",
       "      <td>0</td>\n",
       "    </tr>\n",
       "    <tr>\n",
       "      <th>376459</th>\n",
       "      <td>0</td>\n",
       "    </tr>\n",
       "    <tr>\n",
       "      <th>376478</th>\n",
       "      <td>0</td>\n",
       "    </tr>\n",
       "    <tr>\n",
       "      <th>376473</th>\n",
       "      <td>0</td>\n",
       "    </tr>\n",
       "    <tr>\n",
       "      <th>376484</th>\n",
       "      <td>0</td>\n",
       "    </tr>\n",
       "    <tr>\n",
       "      <th>376482</th>\n",
       "      <td>0</td>\n",
       "    </tr>\n",
       "    <tr>\n",
       "      <th>376480</th>\n",
       "      <td>0</td>\n",
       "    </tr>\n",
       "    <tr>\n",
       "      <th>376479</th>\n",
       "      <td>0</td>\n",
       "    </tr>\n",
       "    <tr>\n",
       "      <th>376481</th>\n",
       "      <td>0</td>\n",
       "    </tr>\n",
       "    <tr>\n",
       "      <th>376483</th>\n",
       "      <td>0</td>\n",
       "    </tr>\n",
       "    <tr>\n",
       "      <th>376496</th>\n",
       "      <td>0</td>\n",
       "    </tr>\n",
       "    <tr>\n",
       "      <th>376497</th>\n",
       "      <td>0</td>\n",
       "    </tr>\n",
       "    <tr>\n",
       "      <th>376499</th>\n",
       "      <td>0</td>\n",
       "    </tr>\n",
       "    <tr>\n",
       "      <th>376500</th>\n",
       "      <td>0</td>\n",
       "    </tr>\n",
       "    <tr>\n",
       "      <th>369851</th>\n",
       "      <td>0</td>\n",
       "    </tr>\n",
       "  </tbody>\n",
       "</table>\n",
       "<p>61001 rows × 1 columns</p>\n",
       "</div>"
      ],
      "text/plain": [
       "           0\n",
       "ticket_id   \n",
       "284932     0\n",
       "285362     0\n",
       "285361     0\n",
       "285338     0\n",
       "285346     0\n",
       "285345     0\n",
       "285347     0\n",
       "285342     0\n",
       "285530     0\n",
       "284989     0\n",
       "285344     0\n",
       "285343     0\n",
       "285340     0\n",
       "285341     0\n",
       "285349     0\n",
       "285348     0\n",
       "284991     0\n",
       "285532     0\n",
       "285406     0\n",
       "285001     0\n",
       "285006     0\n",
       "285405     0\n",
       "285337     0\n",
       "285496     0\n",
       "285497     0\n",
       "285378     0\n",
       "285589     0\n",
       "285585     0\n",
       "285501     0\n",
       "285581     0\n",
       "...       ..\n",
       "376367     0\n",
       "376366     0\n",
       "376362     0\n",
       "376363     0\n",
       "376365     0\n",
       "376364     0\n",
       "376228     0\n",
       "376265     0\n",
       "376286     0\n",
       "376320     0\n",
       "376314     0\n",
       "376327     0\n",
       "376385     0\n",
       "376435     0\n",
       "376370     0\n",
       "376434     0\n",
       "376459     0\n",
       "376478     0\n",
       "376473     0\n",
       "376484     0\n",
       "376482     0\n",
       "376480     0\n",
       "376479     0\n",
       "376481     0\n",
       "376483     0\n",
       "376496     0\n",
       "376497     0\n",
       "376499     0\n",
       "376500     0\n",
       "369851     0\n",
       "\n",
       "[61001 rows x 1 columns]"
      ]
     },
     "execution_count": 104,
     "metadata": {
      "tags": []
     },
     "output_type": "execute_result"
    }
   ],
   "source": [
    "result = pd.DataFrame(gs_bnb.predict(X_test_sel), index = test_id)\n",
    "result"
   ]
  },
  {
   "cell_type": "code",
   "execution_count": 0,
   "metadata": {
    "colab": {},
    "colab_type": "code",
    "collapsed": true,
    "id": "eRgEUaGVl6jy"
   },
   "outputs": [],
   "source": [
    "# To check, we can count how many 0 and how many 1 are predicted\n",
    "result_summary = result.apply(pd.value_counts)\n",
    "result_summary['%'] = result_summary.apply(lambda x:x/np.sum(result_summary[0])*100)\n",
    "result_summary.columns = ['count','%']"
   ]
  },
  {
   "cell_type": "code",
   "execution_count": 106,
   "metadata": {
    "colab": {
     "base_uri": "https://localhost:8080/",
     "height": 111
    },
    "colab_type": "code",
    "collapsed": false,
    "id": "u9kOJrtll6jz",
    "outputId": "98fcd10b-6156-4640-a27f-c483b33e1d05"
   },
   "outputs": [
    {
     "data": {
      "text/html": [
       "<div>\n",
       "<style scoped>\n",
       "    .dataframe tbody tr th:only-of-type {\n",
       "        vertical-align: middle;\n",
       "    }\n",
       "\n",
       "    .dataframe tbody tr th {\n",
       "        vertical-align: top;\n",
       "    }\n",
       "\n",
       "    .dataframe thead th {\n",
       "        text-align: right;\n",
       "    }\n",
       "</style>\n",
       "<table border=\"1\" class=\"dataframe\">\n",
       "  <thead>\n",
       "    <tr style=\"text-align: right;\">\n",
       "      <th></th>\n",
       "      <th>count</th>\n",
       "      <th>%</th>\n",
       "    </tr>\n",
       "  </thead>\n",
       "  <tbody>\n",
       "    <tr>\n",
       "      <th>0</th>\n",
       "      <td>59457</td>\n",
       "      <td>97.468894</td>\n",
       "    </tr>\n",
       "    <tr>\n",
       "      <th>1</th>\n",
       "      <td>1544</td>\n",
       "      <td>2.531106</td>\n",
       "    </tr>\n",
       "  </tbody>\n",
       "</table>\n",
       "</div>"
      ],
      "text/plain": [
       "   count          %\n",
       "0  59457  97.468894\n",
       "1   1544   2.531106"
      ]
     },
     "execution_count": 106,
     "metadata": {
      "tags": []
     },
     "output_type": "execute_result"
    }
   ],
   "source": [
    "result_summary"
   ]
  },
  {
   "cell_type": "code",
   "execution_count": 0,
   "metadata": {
    "colab": {},
    "colab_type": "code",
    "collapsed": true,
    "id": "iroAp1g4l6j0"
   },
   "outputs": [],
   "source": []
  },
  {
   "cell_type": "markdown",
   "metadata": {
    "colab_type": "text",
    "id": "k8SlVeFj7dKP"
   },
   "source": [
    "### 6.4 Ensemble\n",
    "\n",
    "So far the scores we obtained were 0.864 (Logistic Regression), 0.858 (Linear SVM), 0.821 (Naive Bayes) respectively. It has proved by many data scientists and scholars that ensembling many models performs better than the single model performs the best among other base models. In addition, the algorithms we experimented are diverse, which means the way how they computed for prediction is different from each other. Therefore, in order to maximize the ROC_AUC score, I decide to choose Voting method among many ensemble techniques because it is classification problem and we know how much weight (importance) should be allocated to each diverse model (Logistic Regression is definitely the most important and Naive Bayes is the least)."
   ]
  },
  {
   "cell_type": "code",
   "execution_count": 0,
   "metadata": {
    "colab": {},
    "colab_type": "code",
    "collapsed": true,
    "id": "WIo1vRTknLIF"
   },
   "outputs": [],
   "source": [
    "from sklearn.ensemble import VotingClassifier"
   ]
  },
  {
   "cell_type": "code",
   "execution_count": 0,
   "metadata": {
    "colab": {},
    "colab_type": "code",
    "collapsed": true,
    "id": "PCb5-BjOnLZ4"
   },
   "outputs": [],
   "source": [
    "votingC = VotingClassifier(estimators = [('lr',lrCV_best), ('svm',gs_sv_best), ('bnb',gs_bnb_best)\n",
    "                                        ],weights = [3,2,1], voting='hard',n_jobs=1)\n",
    "votingC = votingC.fit(X_train_sel,y)"
   ]
  },
  {
   "cell_type": "code",
   "execution_count": 109,
   "metadata": {
    "colab": {
     "base_uri": "https://localhost:8080/",
     "height": 88
    },
    "colab_type": "code",
    "collapsed": false,
    "id": "6-PiDo7JVGPo",
    "outputId": "6f025a3d-884c-4421-e68a-adf7a6da5e01"
   },
   "outputs": [
    {
     "name": "stderr",
     "output_type": "stream",
     "text": [
      "/usr/local/lib/python3.6/dist-packages/sklearn/preprocessing/label.py:151: DeprecationWarning: The truth value of an empty array is ambiguous. Returning False, but in future this will result in an error. Use `array.size > 0` to check that an array is not empty.\n",
      "  if diff:\n"
     ]
    },
    {
     "name": "stdout",
     "output_type": "stream",
     "text": [
      "Ensemble Training Score: 0.9576678145949358 , Best base model Training Score (Logistic): 0.8671301955105634\n"
     ]
    }
   ],
   "source": [
    "print('Ensemble Training Score:',votingC.score(X_train_sel,y),',','Best base model Training Score (Logistic):', lrCV.score(X_train_sel,y))"
   ]
  },
  {
   "cell_type": "markdown",
   "metadata": {
    "colab_type": "text",
    "id": "C6WJdY0KJ_DE"
   },
   "source": [
    "The above scores are only based on training set; therefore it is not compeletely trustworthy. However, by just looking at the comparison between the results of ensemble and best base model (logistic regression), it improves by almost 10% which is a huge improvement and we can carefully assume that the test set score would not improve as much as the training score does but we can say ensemble definitely improves our performance.\n",
    "\n"
   ]
  },
  {
   "cell_type": "code",
   "execution_count": 110,
   "metadata": {
    "colab": {
     "base_uri": "https://localhost:8080/",
     "height": 71
    },
    "colab_type": "code",
    "collapsed": false,
    "id": "6KHq4mmB19CH",
    "outputId": "20272ecb-1261-45ed-cdf4-54ce649d02cb"
   },
   "outputs": [
    {
     "name": "stderr",
     "output_type": "stream",
     "text": [
      "/usr/local/lib/python3.6/dist-packages/sklearn/preprocessing/label.py:151: DeprecationWarning: The truth value of an empty array is ambiguous. Returning False, but in future this will result in an error. Use `array.size > 0` to check that an array is not empty.\n",
      "  if diff:\n"
     ]
    }
   ],
   "source": [
    "result = pd.DataFrame(votingC.predict(X_test_sel), index = test_id)"
   ]
  },
  {
   "cell_type": "code",
   "execution_count": 0,
   "metadata": {
    "colab": {},
    "colab_type": "code",
    "collapsed": true,
    "id": "6O_peiCE2cSF"
   },
   "outputs": [],
   "source": [
    "# To check, we can count how many 0 and how many 1 are predicted\n",
    "result_summary = result.apply(pd.value_counts)\n",
    "result_summary['%'] = result_summary.apply(lambda x:x/np.sum(result_summary[0])*100)\n",
    "result_summary.columns = ['count','%']"
   ]
  },
  {
   "cell_type": "code",
   "execution_count": 112,
   "metadata": {
    "colab": {
     "base_uri": "https://localhost:8080/",
     "height": 111
    },
    "colab_type": "code",
    "collapsed": false,
    "id": "Ap34KeUF2cfu",
    "outputId": "e6405689-f6d4-4f32-ff5b-2986bbc11cce"
   },
   "outputs": [
    {
     "data": {
      "text/html": [
       "<div>\n",
       "<style scoped>\n",
       "    .dataframe tbody tr th:only-of-type {\n",
       "        vertical-align: middle;\n",
       "    }\n",
       "\n",
       "    .dataframe tbody tr th {\n",
       "        vertical-align: top;\n",
       "    }\n",
       "\n",
       "    .dataframe thead th {\n",
       "        text-align: right;\n",
       "    }\n",
       "</style>\n",
       "<table border=\"1\" class=\"dataframe\">\n",
       "  <thead>\n",
       "    <tr style=\"text-align: right;\">\n",
       "      <th></th>\n",
       "      <th>count</th>\n",
       "      <th>%</th>\n",
       "    </tr>\n",
       "  </thead>\n",
       "  <tbody>\n",
       "    <tr>\n",
       "      <th>0</th>\n",
       "      <td>60195</td>\n",
       "      <td>98.67871</td>\n",
       "    </tr>\n",
       "    <tr>\n",
       "      <th>1</th>\n",
       "      <td>806</td>\n",
       "      <td>1.32129</td>\n",
       "    </tr>\n",
       "  </tbody>\n",
       "</table>\n",
       "</div>"
      ],
      "text/plain": [
       "   count         %\n",
       "0  60195  98.67871\n",
       "1    806   1.32129"
      ]
     },
     "execution_count": 112,
     "metadata": {
      "tags": []
     },
     "output_type": "execute_result"
    }
   ],
   "source": [
    "result_summary"
   ]
  },
  {
   "cell_type": "code",
   "execution_count": 0,
   "metadata": {
    "colab": {},
    "colab_type": "code",
    "collapsed": true,
    "id": "uuunlDEahEcS"
   },
   "outputs": [],
   "source": []
  },
  {
   "cell_type": "markdown",
   "metadata": {
    "colab_type": "text",
    "id": "fH_fWhmfl6j1"
   },
   "source": [
    "## 7. Feature Importance\n",
    "\n"
   ]
  },
  {
   "cell_type": "markdown",
   "metadata": {
    "colab_type": "text",
    "id": "hTaW1NTsl6j1"
   },
   "source": [
    "### 7.1 Logistic Regression\n",
    "\n",
    "Although we have already done measuring the feature importance by Random Forest at the feature selection stage, this time we can try it with fully tuned Logistic Regression."
   ]
  },
  {
   "cell_type": "code",
   "execution_count": 113,
   "metadata": {
    "colab": {
     "base_uri": "https://localhost:8080/",
     "height": 2074
    },
    "colab_type": "code",
    "collapsed": false,
    "id": "Vf7ACYrwl6j2",
    "outputId": "cd8766d7-9289-481c-8640-26b542c12f88"
   },
   "outputs": [
    {
     "name": "stdout",
     "output_type": "stream",
     "text": [
      "Dimension of coefficient: (1, 359)\n"
     ]
    },
    {
     "data": {
      "text/plain": [
       "array([[-8.33008220e-03,  2.25680656e-01,  0.00000000e+00,\n",
       "        -3.75681086e-02,  1.82475168e-01,  9.91304308e-03,\n",
       "         0.00000000e+00,  7.07033193e-02,  5.56517940e-04,\n",
       "        -9.85265259e-02,  0.00000000e+00,  0.00000000e+00,\n",
       "         0.00000000e+00,  0.00000000e+00,  0.00000000e+00,\n",
       "         0.00000000e+00,  0.00000000e+00,  0.00000000e+00,\n",
       "         0.00000000e+00,  0.00000000e+00,  0.00000000e+00,\n",
       "         0.00000000e+00,  0.00000000e+00,  0.00000000e+00,\n",
       "         0.00000000e+00,  0.00000000e+00,  0.00000000e+00,\n",
       "         0.00000000e+00,  0.00000000e+00,  0.00000000e+00,\n",
       "         0.00000000e+00,  0.00000000e+00,  0.00000000e+00,\n",
       "         0.00000000e+00,  0.00000000e+00,  0.00000000e+00,\n",
       "         0.00000000e+00,  0.00000000e+00,  0.00000000e+00,\n",
       "         0.00000000e+00,  0.00000000e+00,  0.00000000e+00,\n",
       "         0.00000000e+00,  0.00000000e+00,  0.00000000e+00,\n",
       "         0.00000000e+00,  0.00000000e+00,  0.00000000e+00,\n",
       "         0.00000000e+00,  0.00000000e+00,  0.00000000e+00,\n",
       "         0.00000000e+00,  0.00000000e+00,  0.00000000e+00,\n",
       "         0.00000000e+00,  0.00000000e+00,  0.00000000e+00,\n",
       "         0.00000000e+00,  0.00000000e+00,  0.00000000e+00,\n",
       "         0.00000000e+00,  0.00000000e+00,  0.00000000e+00,\n",
       "         0.00000000e+00,  0.00000000e+00,  0.00000000e+00,\n",
       "         0.00000000e+00,  0.00000000e+00,  0.00000000e+00,\n",
       "         0.00000000e+00,  0.00000000e+00,  0.00000000e+00,\n",
       "         0.00000000e+00,  0.00000000e+00,  0.00000000e+00,\n",
       "         0.00000000e+00,  0.00000000e+00,  0.00000000e+00,\n",
       "         0.00000000e+00,  0.00000000e+00,  0.00000000e+00,\n",
       "         0.00000000e+00,  0.00000000e+00,  0.00000000e+00,\n",
       "         0.00000000e+00,  0.00000000e+00,  0.00000000e+00,\n",
       "         0.00000000e+00,  0.00000000e+00,  0.00000000e+00,\n",
       "         0.00000000e+00,  0.00000000e+00,  0.00000000e+00,\n",
       "         0.00000000e+00,  0.00000000e+00,  0.00000000e+00,\n",
       "         0.00000000e+00,  0.00000000e+00,  0.00000000e+00,\n",
       "         0.00000000e+00,  0.00000000e+00,  0.00000000e+00,\n",
       "         0.00000000e+00,  0.00000000e+00,  0.00000000e+00,\n",
       "         0.00000000e+00,  0.00000000e+00,  0.00000000e+00,\n",
       "         0.00000000e+00,  0.00000000e+00,  0.00000000e+00,\n",
       "         0.00000000e+00,  0.00000000e+00,  0.00000000e+00,\n",
       "         0.00000000e+00,  0.00000000e+00,  0.00000000e+00,\n",
       "         0.00000000e+00,  0.00000000e+00,  0.00000000e+00,\n",
       "         0.00000000e+00,  0.00000000e+00,  0.00000000e+00,\n",
       "         0.00000000e+00,  0.00000000e+00,  0.00000000e+00,\n",
       "         0.00000000e+00,  0.00000000e+00,  0.00000000e+00,\n",
       "         0.00000000e+00,  0.00000000e+00,  0.00000000e+00,\n",
       "         0.00000000e+00,  0.00000000e+00,  0.00000000e+00,\n",
       "         0.00000000e+00,  0.00000000e+00,  0.00000000e+00,\n",
       "         0.00000000e+00,  0.00000000e+00,  0.00000000e+00,\n",
       "         0.00000000e+00,  0.00000000e+00,  0.00000000e+00,\n",
       "         0.00000000e+00,  0.00000000e+00,  0.00000000e+00,\n",
       "         0.00000000e+00,  0.00000000e+00,  0.00000000e+00,\n",
       "         0.00000000e+00,  0.00000000e+00,  0.00000000e+00,\n",
       "         0.00000000e+00,  0.00000000e+00,  0.00000000e+00,\n",
       "         0.00000000e+00,  0.00000000e+00,  0.00000000e+00,\n",
       "         0.00000000e+00,  0.00000000e+00,  0.00000000e+00,\n",
       "         0.00000000e+00,  0.00000000e+00,  0.00000000e+00,\n",
       "         0.00000000e+00,  0.00000000e+00,  0.00000000e+00,\n",
       "         0.00000000e+00,  0.00000000e+00,  0.00000000e+00,\n",
       "         0.00000000e+00,  0.00000000e+00,  0.00000000e+00,\n",
       "         0.00000000e+00,  0.00000000e+00,  0.00000000e+00,\n",
       "         0.00000000e+00,  0.00000000e+00,  0.00000000e+00,\n",
       "         0.00000000e+00,  0.00000000e+00,  0.00000000e+00,\n",
       "         0.00000000e+00,  0.00000000e+00,  0.00000000e+00,\n",
       "         0.00000000e+00,  0.00000000e+00,  0.00000000e+00,\n",
       "         0.00000000e+00,  0.00000000e+00,  0.00000000e+00,\n",
       "         0.00000000e+00,  0.00000000e+00,  0.00000000e+00,\n",
       "         0.00000000e+00,  0.00000000e+00,  0.00000000e+00,\n",
       "         0.00000000e+00,  0.00000000e+00,  0.00000000e+00,\n",
       "         0.00000000e+00,  0.00000000e+00,  0.00000000e+00,\n",
       "         0.00000000e+00,  0.00000000e+00,  0.00000000e+00,\n",
       "         0.00000000e+00,  0.00000000e+00,  0.00000000e+00,\n",
       "         0.00000000e+00,  0.00000000e+00,  0.00000000e+00,\n",
       "         0.00000000e+00,  0.00000000e+00,  0.00000000e+00,\n",
       "         0.00000000e+00,  0.00000000e+00,  0.00000000e+00,\n",
       "         0.00000000e+00,  0.00000000e+00,  0.00000000e+00,\n",
       "         0.00000000e+00,  0.00000000e+00,  0.00000000e+00,\n",
       "         0.00000000e+00,  0.00000000e+00,  0.00000000e+00,\n",
       "         0.00000000e+00,  0.00000000e+00,  0.00000000e+00,\n",
       "         0.00000000e+00,  0.00000000e+00,  0.00000000e+00,\n",
       "         0.00000000e+00, -1.38561364e+00,  3.52071531e-01,\n",
       "         0.00000000e+00,  0.00000000e+00,  0.00000000e+00,\n",
       "         0.00000000e+00,  0.00000000e+00,  0.00000000e+00,\n",
       "         0.00000000e+00,  0.00000000e+00,  0.00000000e+00,\n",
       "         0.00000000e+00,  0.00000000e+00,  0.00000000e+00,\n",
       "         0.00000000e+00,  0.00000000e+00,  0.00000000e+00,\n",
       "         0.00000000e+00,  0.00000000e+00,  0.00000000e+00,\n",
       "         0.00000000e+00,  0.00000000e+00,  0.00000000e+00,\n",
       "         0.00000000e+00,  0.00000000e+00,  0.00000000e+00,\n",
       "         0.00000000e+00,  0.00000000e+00,  0.00000000e+00,\n",
       "         0.00000000e+00,  0.00000000e+00,  0.00000000e+00,\n",
       "         0.00000000e+00,  0.00000000e+00,  0.00000000e+00,\n",
       "         0.00000000e+00,  0.00000000e+00,  0.00000000e+00,\n",
       "         0.00000000e+00,  0.00000000e+00,  0.00000000e+00,\n",
       "         0.00000000e+00,  0.00000000e+00,  0.00000000e+00,\n",
       "         0.00000000e+00,  0.00000000e+00,  0.00000000e+00,\n",
       "         0.00000000e+00,  0.00000000e+00,  0.00000000e+00,\n",
       "         0.00000000e+00,  0.00000000e+00,  0.00000000e+00,\n",
       "         0.00000000e+00,  0.00000000e+00,  0.00000000e+00,\n",
       "         0.00000000e+00,  0.00000000e+00,  0.00000000e+00,\n",
       "         0.00000000e+00,  0.00000000e+00,  0.00000000e+00,\n",
       "         0.00000000e+00,  0.00000000e+00,  0.00000000e+00,\n",
       "         0.00000000e+00,  0.00000000e+00,  0.00000000e+00,\n",
       "         0.00000000e+00,  0.00000000e+00,  0.00000000e+00,\n",
       "         0.00000000e+00,  0.00000000e+00,  0.00000000e+00,\n",
       "         0.00000000e+00,  0.00000000e+00,  0.00000000e+00,\n",
       "         0.00000000e+00,  0.00000000e+00,  0.00000000e+00,\n",
       "         0.00000000e+00,  0.00000000e+00,  0.00000000e+00,\n",
       "         0.00000000e+00,  0.00000000e+00,  0.00000000e+00,\n",
       "         0.00000000e+00,  0.00000000e+00,  0.00000000e+00,\n",
       "         0.00000000e+00,  0.00000000e+00,  0.00000000e+00,\n",
       "         0.00000000e+00,  0.00000000e+00,  0.00000000e+00,\n",
       "         0.00000000e+00,  0.00000000e+00,  0.00000000e+00,\n",
       "         0.00000000e+00,  0.00000000e+00,  0.00000000e+00,\n",
       "         0.00000000e+00,  0.00000000e+00,  0.00000000e+00,\n",
       "         0.00000000e+00,  0.00000000e+00,  0.00000000e+00,\n",
       "         0.00000000e+00,  0.00000000e+00,  0.00000000e+00,\n",
       "         0.00000000e+00,  0.00000000e+00,  0.00000000e+00,\n",
       "         0.00000000e+00,  0.00000000e+00,  0.00000000e+00,\n",
       "         0.00000000e+00,  0.00000000e+00,  0.00000000e+00,\n",
       "         0.00000000e+00,  0.00000000e+00,  0.00000000e+00,\n",
       "         0.00000000e+00,  0.00000000e+00]])"
      ]
     },
     "execution_count": 113,
     "metadata": {
      "tags": []
     },
     "output_type": "execute_result"
    }
   ],
   "source": [
    "coef_lr = lrCV.best_estimator_.coef_\n",
    "print('Dimension of coefficient:',coef_lr.shape)\n",
    "coef_lr"
   ]
  },
  {
   "cell_type": "markdown",
   "metadata": {
    "colab_type": "text",
    "id": "Lzdj3AH9l6j2"
   },
   "source": [
    "Due to L1 regularization (Lasso), many coefficient estimates shrink to 0 since the absolute values of that least squares coefficient is less than lambda/2. This fact works as a main advantage for feature selection. There are less features for analysts to concern and significantly become easier to analyze as well."
   ]
  },
  {
   "cell_type": "code",
   "execution_count": 0,
   "metadata": {
    "colab": {},
    "colab_type": "code",
    "collapsed": true,
    "id": "R2PQ3aV8l6j3"
   },
   "outputs": [],
   "source": []
  },
  {
   "cell_type": "code",
   "execution_count": 114,
   "metadata": {
    "colab": {
     "base_uri": "https://localhost:8080/",
     "height": 34
    },
    "colab_type": "code",
    "collapsed": false,
    "id": "RVEeCbPul6j4",
    "outputId": "0ee5bf75-d57e-494e-dd7d-9390b4d14a2c"
   },
   "outputs": [
    {
     "name": "stdout",
     "output_type": "stream",
     "text": [
      "Number of selected columns: (359,)\n"
     ]
    }
   ],
   "source": [
    "# Check the number of columns.\n",
    "sel_col = X_train.loc[:,mask].columns\n",
    "print('Number of selected columns:', sel_col.shape)"
   ]
  },
  {
   "cell_type": "markdown",
   "metadata": {
    "colab_type": "text",
    "id": "Ojs8I95fl6j5"
   },
   "source": [
    "The mask variable comes from the feature selection part and this is from get_support function from feature selection. What it does is represent which features are chosen for feature selection as a form of binary(True or False) in an array. With the True and False list, we can extract the name of the features from X_train so that we can see which coefficients are corresponding to which features."
   ]
  },
  {
   "cell_type": "code",
   "execution_count": 0,
   "metadata": {
    "colab": {},
    "colab_type": "code",
    "collapsed": true,
    "id": "CFwxxlCHl6j5"
   },
   "outputs": [],
   "source": []
  },
  {
   "cell_type": "code",
   "execution_count": 115,
   "metadata": {
    "colab": {
     "base_uri": "https://localhost:8080/",
     "height": 359
    },
    "colab_type": "code",
    "collapsed": false,
    "id": "T4tc491Sl6j7",
    "outputId": "d06db3b1-f8cd-4fb6-848a-4eb1a431d85a"
   },
   "outputs": [
    {
     "data": {
      "text/html": [
       "<div>\n",
       "<style scoped>\n",
       "    .dataframe tbody tr th:only-of-type {\n",
       "        vertical-align: middle;\n",
       "    }\n",
       "\n",
       "    .dataframe tbody tr th {\n",
       "        vertical-align: top;\n",
       "    }\n",
       "\n",
       "    .dataframe thead th {\n",
       "        text-align: right;\n",
       "    }\n",
       "</style>\n",
       "<table border=\"1\" class=\"dataframe\">\n",
       "  <thead>\n",
       "    <tr style=\"text-align: right;\">\n",
       "      <th></th>\n",
       "      <th>importance</th>\n",
       "      <th>abs</th>\n",
       "    </tr>\n",
       "  </thead>\n",
       "  <tbody>\n",
       "    <tr>\n",
       "      <th>disposition_Responsible by Default</th>\n",
       "      <td>-1.385614</td>\n",
       "      <td>1.385614</td>\n",
       "    </tr>\n",
       "    <tr>\n",
       "      <th>disposition_Responsible by Determination</th>\n",
       "      <td>0.352072</td>\n",
       "      <td>0.352072</td>\n",
       "    </tr>\n",
       "    <tr>\n",
       "      <th>admin_fee</th>\n",
       "      <td>0.225681</td>\n",
       "      <td>0.225681</td>\n",
       "    </tr>\n",
       "    <tr>\n",
       "      <th>discount_amount</th>\n",
       "      <td>0.182475</td>\n",
       "      <td>0.182475</td>\n",
       "    </tr>\n",
       "    <tr>\n",
       "      <th>agency_name_Buildings, Safety Engineering &amp; Env Department</th>\n",
       "      <td>-0.098527</td>\n",
       "      <td>0.098527</td>\n",
       "    </tr>\n",
       "    <tr>\n",
       "      <th>lon</th>\n",
       "      <td>0.070703</td>\n",
       "      <td>0.070703</td>\n",
       "    </tr>\n",
       "    <tr>\n",
       "      <th>late_fee</th>\n",
       "      <td>-0.037568</td>\n",
       "      <td>0.037568</td>\n",
       "    </tr>\n",
       "    <tr>\n",
       "      <th>judgment_amount</th>\n",
       "      <td>0.009913</td>\n",
       "      <td>0.009913</td>\n",
       "    </tr>\n",
       "    <tr>\n",
       "      <th>fine_amount</th>\n",
       "      <td>-0.008330</td>\n",
       "      <td>0.008330</td>\n",
       "    </tr>\n",
       "    <tr>\n",
       "      <th>TI_MI</th>\n",
       "      <td>0.000557</td>\n",
       "      <td>0.000557</td>\n",
       "    </tr>\n",
       "  </tbody>\n",
       "</table>\n",
       "</div>"
      ],
      "text/plain": [
       "                                                    importance       abs\n",
       "disposition_Responsible by Default                   -1.385614  1.385614\n",
       "disposition_Responsible by Determination              0.352072  0.352072\n",
       "admin_fee                                             0.225681  0.225681\n",
       "discount_amount                                       0.182475  0.182475\n",
       "agency_name_Buildings, Safety Engineering & Env...   -0.098527  0.098527\n",
       "lon                                                   0.070703  0.070703\n",
       "late_fee                                             -0.037568  0.037568\n",
       "judgment_amount                                       0.009913  0.009913\n",
       "fine_amount                                          -0.008330  0.008330\n",
       "TI_MI                                                 0.000557  0.000557"
      ]
     },
     "execution_count": 115,
     "metadata": {
      "tags": []
     },
     "output_type": "execute_result"
    }
   ],
   "source": [
    "# Create a dataframe \n",
    "df_imp_lr = pd.DataFrame(np.reshape(coef_lr,-1),index=sel_col)\n",
    "df_imp_lr.columns = ['importance']\n",
    "\n",
    "# Create a new column for absolute values to sort elements efficiently.\n",
    "df_imp_lr['abs'] = abs(df_imp_lr['importance'])\n",
    "\n",
    "# Exclude 0 coefficients.\n",
    "df_imp_lr = df_imp_lr[df_imp_lr['abs']>0]\n",
    "\n",
    "# Sort\n",
    "df_imp_lr.sort_values('abs',ascending=False)"
   ]
  },
  {
   "cell_type": "code",
   "execution_count": 116,
   "metadata": {
    "colab": {
     "base_uri": "https://localhost:8080/",
     "height": 518
    },
    "colab_type": "code",
    "collapsed": false,
    "id": "hTKUl77Gl6j7",
    "outputId": "5cc56411-5585-4689-ef47-be83fcc5c958"
   },
   "outputs": [
    {
     "data": {
      "image/png": "[encoded data removed]",
      "text/plain": [
       "<matplotlib.figure.Figure at 0x7fc399471f98>"
      ]
     },
     "metadata": {
      "tags": []
     },
     "output_type": "display_data"
    }
   ],
   "source": [
    "plt.figure(figsize=(10,8))\n",
    "sns.barplot(x=df_imp_lr['abs'], y=df_imp_lr.index);\n",
    "plt.title('Feature Importance sorted by absolute coefficients', fontsize=20);\n",
    "ax = plt.gca();\n",
    "plt.yticks(fontsize=13);"
   ]
  },
  {
   "cell_type": "code",
   "execution_count": 0,
   "metadata": {
    "colab": {},
    "colab_type": "code",
    "collapsed": true,
    "id": "I4N6PH1Fl6j8"
   },
   "outputs": [],
   "source": []
  },
  {
   "cell_type": "markdown",
   "metadata": {
    "colab_type": "text",
    "id": "74hb24B8l6j9"
   },
   "source": [
    "### 7.2 Support Vector Machine"
   ]
  },
  {
   "cell_type": "code",
   "execution_count": 117,
   "metadata": {
    "colab": {
     "base_uri": "https://localhost:8080/",
     "height": 2074
    },
    "colab_type": "code",
    "collapsed": false,
    "id": "JQMjD8Rbl6j9",
    "outputId": "2e5f80db-9845-4f68-a307-bc17555f6c67"
   },
   "outputs": [
    {
     "name": "stdout",
     "output_type": "stream",
     "text": [
      "Dimension of coefficient: (1, 359)\n"
     ]
    },
    {
     "data": {
      "text/plain": [
       "array([[-9.85431717e-05,  1.53837767e-02,  1.09374998e-02,\n",
       "        -5.42472890e-03,  5.42352345e-02,  4.54564947e-04,\n",
       "        -1.11171844e-02,  6.58143881e-03,  3.92063453e-05,\n",
       "        -2.11693761e-02,  0.00000000e+00,  0.00000000e+00,\n",
       "         0.00000000e+00,  0.00000000e+00,  0.00000000e+00,\n",
       "         0.00000000e+00,  0.00000000e+00,  0.00000000e+00,\n",
       "         0.00000000e+00,  0.00000000e+00,  0.00000000e+00,\n",
       "         0.00000000e+00,  0.00000000e+00,  0.00000000e+00,\n",
       "         0.00000000e+00,  0.00000000e+00,  0.00000000e+00,\n",
       "         0.00000000e+00,  0.00000000e+00,  0.00000000e+00,\n",
       "         0.00000000e+00,  0.00000000e+00,  0.00000000e+00,\n",
       "         0.00000000e+00,  0.00000000e+00,  0.00000000e+00,\n",
       "         0.00000000e+00,  0.00000000e+00,  0.00000000e+00,\n",
       "         0.00000000e+00,  0.00000000e+00,  0.00000000e+00,\n",
       "         0.00000000e+00,  0.00000000e+00,  0.00000000e+00,\n",
       "         0.00000000e+00,  0.00000000e+00,  0.00000000e+00,\n",
       "         0.00000000e+00,  0.00000000e+00,  0.00000000e+00,\n",
       "         0.00000000e+00,  0.00000000e+00,  0.00000000e+00,\n",
       "         0.00000000e+00,  0.00000000e+00,  0.00000000e+00,\n",
       "         0.00000000e+00,  0.00000000e+00,  0.00000000e+00,\n",
       "         0.00000000e+00,  0.00000000e+00,  0.00000000e+00,\n",
       "         0.00000000e+00,  0.00000000e+00,  0.00000000e+00,\n",
       "         0.00000000e+00,  0.00000000e+00,  0.00000000e+00,\n",
       "         0.00000000e+00,  0.00000000e+00,  0.00000000e+00,\n",
       "         0.00000000e+00,  0.00000000e+00,  0.00000000e+00,\n",
       "         0.00000000e+00,  0.00000000e+00,  0.00000000e+00,\n",
       "         0.00000000e+00,  0.00000000e+00,  0.00000000e+00,\n",
       "         0.00000000e+00,  0.00000000e+00,  0.00000000e+00,\n",
       "         0.00000000e+00,  0.00000000e+00,  0.00000000e+00,\n",
       "         0.00000000e+00,  0.00000000e+00,  0.00000000e+00,\n",
       "         0.00000000e+00,  0.00000000e+00,  0.00000000e+00,\n",
       "         0.00000000e+00,  0.00000000e+00,  0.00000000e+00,\n",
       "         0.00000000e+00,  0.00000000e+00,  0.00000000e+00,\n",
       "         0.00000000e+00,  0.00000000e+00,  0.00000000e+00,\n",
       "         0.00000000e+00,  0.00000000e+00,  0.00000000e+00,\n",
       "         0.00000000e+00,  0.00000000e+00,  0.00000000e+00,\n",
       "         0.00000000e+00,  0.00000000e+00,  0.00000000e+00,\n",
       "         0.00000000e+00,  0.00000000e+00,  0.00000000e+00,\n",
       "         0.00000000e+00,  0.00000000e+00,  0.00000000e+00,\n",
       "         0.00000000e+00,  0.00000000e+00,  0.00000000e+00,\n",
       "         0.00000000e+00,  0.00000000e+00,  0.00000000e+00,\n",
       "         0.00000000e+00,  0.00000000e+00,  0.00000000e+00,\n",
       "         0.00000000e+00,  0.00000000e+00,  0.00000000e+00,\n",
       "         0.00000000e+00,  0.00000000e+00,  0.00000000e+00,\n",
       "         0.00000000e+00,  0.00000000e+00,  0.00000000e+00,\n",
       "         0.00000000e+00,  0.00000000e+00,  0.00000000e+00,\n",
       "         0.00000000e+00,  0.00000000e+00,  0.00000000e+00,\n",
       "         0.00000000e+00,  0.00000000e+00,  0.00000000e+00,\n",
       "         0.00000000e+00,  0.00000000e+00,  0.00000000e+00,\n",
       "         0.00000000e+00,  0.00000000e+00,  0.00000000e+00,\n",
       "         0.00000000e+00,  0.00000000e+00,  0.00000000e+00,\n",
       "         0.00000000e+00,  0.00000000e+00,  0.00000000e+00,\n",
       "         0.00000000e+00,  0.00000000e+00,  0.00000000e+00,\n",
       "         0.00000000e+00,  0.00000000e+00,  0.00000000e+00,\n",
       "         0.00000000e+00,  0.00000000e+00,  0.00000000e+00,\n",
       "         0.00000000e+00,  0.00000000e+00,  0.00000000e+00,\n",
       "         0.00000000e+00,  0.00000000e+00,  0.00000000e+00,\n",
       "         0.00000000e+00,  0.00000000e+00,  0.00000000e+00,\n",
       "         0.00000000e+00,  0.00000000e+00,  0.00000000e+00,\n",
       "         0.00000000e+00,  0.00000000e+00,  0.00000000e+00,\n",
       "         0.00000000e+00,  0.00000000e+00,  0.00000000e+00,\n",
       "         0.00000000e+00,  0.00000000e+00,  0.00000000e+00,\n",
       "         0.00000000e+00,  0.00000000e+00,  0.00000000e+00,\n",
       "         0.00000000e+00,  0.00000000e+00,  0.00000000e+00,\n",
       "         0.00000000e+00,  0.00000000e+00,  0.00000000e+00,\n",
       "         0.00000000e+00,  0.00000000e+00,  0.00000000e+00,\n",
       "         0.00000000e+00,  0.00000000e+00,  0.00000000e+00,\n",
       "         0.00000000e+00,  0.00000000e+00,  0.00000000e+00,\n",
       "         0.00000000e+00,  0.00000000e+00,  0.00000000e+00,\n",
       "         0.00000000e+00,  0.00000000e+00,  0.00000000e+00,\n",
       "         0.00000000e+00,  0.00000000e+00,  0.00000000e+00,\n",
       "         0.00000000e+00,  0.00000000e+00,  0.00000000e+00,\n",
       "         0.00000000e+00,  0.00000000e+00,  0.00000000e+00,\n",
       "         0.00000000e+00,  0.00000000e+00,  0.00000000e+00,\n",
       "         0.00000000e+00,  0.00000000e+00,  0.00000000e+00,\n",
       "         0.00000000e+00,  0.00000000e+00, -2.07462795e-02,\n",
       "         0.00000000e+00,  0.00000000e+00,  0.00000000e+00,\n",
       "         0.00000000e+00,  0.00000000e+00,  0.00000000e+00,\n",
       "         0.00000000e+00, -3.00102875e-01,  1.54695649e-01,\n",
       "         0.00000000e+00,  0.00000000e+00,  0.00000000e+00,\n",
       "         0.00000000e+00,  0.00000000e+00,  0.00000000e+00,\n",
       "         0.00000000e+00,  0.00000000e+00,  0.00000000e+00,\n",
       "         0.00000000e+00, -3.85666782e-03,  0.00000000e+00,\n",
       "         0.00000000e+00,  0.00000000e+00,  0.00000000e+00,\n",
       "         0.00000000e+00,  0.00000000e+00,  0.00000000e+00,\n",
       "         0.00000000e+00,  0.00000000e+00,  0.00000000e+00,\n",
       "         0.00000000e+00,  0.00000000e+00,  0.00000000e+00,\n",
       "         0.00000000e+00,  0.00000000e+00,  0.00000000e+00,\n",
       "         0.00000000e+00,  0.00000000e+00,  0.00000000e+00,\n",
       "        -4.20747302e-02,  0.00000000e+00,  0.00000000e+00,\n",
       "         0.00000000e+00,  0.00000000e+00,  0.00000000e+00,\n",
       "         0.00000000e+00,  0.00000000e+00,  0.00000000e+00,\n",
       "         0.00000000e+00,  0.00000000e+00,  0.00000000e+00,\n",
       "         0.00000000e+00,  0.00000000e+00,  0.00000000e+00,\n",
       "         0.00000000e+00,  0.00000000e+00,  0.00000000e+00,\n",
       "         0.00000000e+00,  0.00000000e+00,  0.00000000e+00,\n",
       "         0.00000000e+00,  0.00000000e+00,  0.00000000e+00,\n",
       "         0.00000000e+00,  0.00000000e+00,  0.00000000e+00,\n",
       "         0.00000000e+00,  0.00000000e+00,  0.00000000e+00,\n",
       "         0.00000000e+00,  0.00000000e+00,  0.00000000e+00,\n",
       "         0.00000000e+00,  0.00000000e+00,  0.00000000e+00,\n",
       "         0.00000000e+00,  0.00000000e+00,  0.00000000e+00,\n",
       "         0.00000000e+00,  0.00000000e+00,  0.00000000e+00,\n",
       "         0.00000000e+00,  0.00000000e+00,  0.00000000e+00,\n",
       "         0.00000000e+00,  0.00000000e+00,  0.00000000e+00,\n",
       "         0.00000000e+00,  0.00000000e+00,  0.00000000e+00,\n",
       "         0.00000000e+00,  0.00000000e+00,  0.00000000e+00,\n",
       "         0.00000000e+00,  0.00000000e+00,  0.00000000e+00,\n",
       "         0.00000000e+00,  0.00000000e+00,  0.00000000e+00,\n",
       "         0.00000000e+00,  0.00000000e+00,  0.00000000e+00,\n",
       "         0.00000000e+00,  0.00000000e+00,  0.00000000e+00,\n",
       "         0.00000000e+00,  0.00000000e+00,  0.00000000e+00,\n",
       "         0.00000000e+00,  0.00000000e+00,  0.00000000e+00,\n",
       "         0.00000000e+00,  0.00000000e+00,  0.00000000e+00,\n",
       "         0.00000000e+00,  0.00000000e+00,  0.00000000e+00,\n",
       "         0.00000000e+00,  0.00000000e+00,  0.00000000e+00,\n",
       "         0.00000000e+00,  0.00000000e+00,  0.00000000e+00,\n",
       "         0.00000000e+00,  0.00000000e+00,  0.00000000e+00,\n",
       "         0.00000000e+00,  0.00000000e+00,  0.00000000e+00,\n",
       "         0.00000000e+00,  0.00000000e+00]])"
      ]
     },
     "execution_count": 117,
     "metadata": {
      "tags": []
     },
     "output_type": "execute_result"
    }
   ],
   "source": [
    "coef = gs_sv.best_estimator_.coef_\n",
    "print('Dimension of coefficient:',coef.shape)\n",
    "coef"
   ]
  },
  {
   "cell_type": "code",
   "execution_count": 118,
   "metadata": {
    "colab": {
     "base_uri": "https://localhost:8080/",
     "height": 34
    },
    "colab_type": "code",
    "collapsed": false,
    "id": "qA9usXsAl6j_",
    "outputId": "f8913010-1d73-49db-e564-9890cfa7dcf8"
   },
   "outputs": [
    {
     "name": "stdout",
     "output_type": "stream",
     "text": [
      "Number of selected columns: (359,)\n"
     ]
    }
   ],
   "source": [
    "# Check the number of columns.\n",
    "sel_col = X_train.loc[:,mask].columns\n",
    "print('Number of selected columns:', sel_col.shape)"
   ]
  },
  {
   "cell_type": "code",
   "execution_count": 119,
   "metadata": {
    "colab": {
     "base_uri": "https://localhost:8080/",
     "height": 514
    },
    "colab_type": "code",
    "collapsed": false,
    "id": "dd7ZANGWl6kE",
    "outputId": "30bf0f24-8eb6-4039-bd23-6188890e74da"
   },
   "outputs": [
    {
     "data": {
      "text/html": [
       "<div>\n",
       "<style scoped>\n",
       "    .dataframe tbody tr th:only-of-type {\n",
       "        vertical-align: middle;\n",
       "    }\n",
       "\n",
       "    .dataframe tbody tr th {\n",
       "        vertical-align: top;\n",
       "    }\n",
       "\n",
       "    .dataframe thead th {\n",
       "        text-align: right;\n",
       "    }\n",
       "</style>\n",
       "<table border=\"1\" class=\"dataframe\">\n",
       "  <thead>\n",
       "    <tr style=\"text-align: right;\">\n",
       "      <th></th>\n",
       "      <th>importance</th>\n",
       "      <th>abs</th>\n",
       "    </tr>\n",
       "  </thead>\n",
       "  <tbody>\n",
       "    <tr>\n",
       "      <th>disposition_Responsible by Default</th>\n",
       "      <td>-0.300103</td>\n",
       "      <td>0.300103</td>\n",
       "    </tr>\n",
       "    <tr>\n",
       "      <th>disposition_Responsible by Determination</th>\n",
       "      <td>0.154696</td>\n",
       "      <td>0.154696</td>\n",
       "    </tr>\n",
       "    <tr>\n",
       "      <th>discount_amount</th>\n",
       "      <td>0.054235</td>\n",
       "      <td>0.054235</td>\n",
       "    </tr>\n",
       "    <tr>\n",
       "      <th>HR_MO_12</th>\n",
       "      <td>-0.042075</td>\n",
       "      <td>0.042075</td>\n",
       "    </tr>\n",
       "    <tr>\n",
       "      <th>agency_name_Buildings, Safety Engineering &amp; Env Department</th>\n",
       "      <td>-0.021169</td>\n",
       "      <td>0.021169</td>\n",
       "    </tr>\n",
       "    <tr>\n",
       "      <th>violation_code_9-1-81(a)</th>\n",
       "      <td>-0.020746</td>\n",
       "      <td>0.020746</td>\n",
       "    </tr>\n",
       "    <tr>\n",
       "      <th>admin_fee</th>\n",
       "      <td>0.015384</td>\n",
       "      <td>0.015384</td>\n",
       "    </tr>\n",
       "    <tr>\n",
       "      <th>lat</th>\n",
       "      <td>-0.011117</td>\n",
       "      <td>0.011117</td>\n",
       "    </tr>\n",
       "    <tr>\n",
       "      <th>state_fee</th>\n",
       "      <td>0.010937</td>\n",
       "      <td>0.010937</td>\n",
       "    </tr>\n",
       "    <tr>\n",
       "      <th>lon</th>\n",
       "      <td>0.006581</td>\n",
       "      <td>0.006581</td>\n",
       "    </tr>\n",
       "    <tr>\n",
       "      <th>late_fee</th>\n",
       "      <td>-0.005425</td>\n",
       "      <td>0.005425</td>\n",
       "    </tr>\n",
       "    <tr>\n",
       "      <th>HR_YR_2006</th>\n",
       "      <td>-0.003857</td>\n",
       "      <td>0.003857</td>\n",
       "    </tr>\n",
       "    <tr>\n",
       "      <th>judgment_amount</th>\n",
       "      <td>0.000455</td>\n",
       "      <td>0.000455</td>\n",
       "    </tr>\n",
       "    <tr>\n",
       "      <th>fine_amount</th>\n",
       "      <td>-0.000099</td>\n",
       "      <td>0.000099</td>\n",
       "    </tr>\n",
       "    <tr>\n",
       "      <th>TI_MI</th>\n",
       "      <td>0.000039</td>\n",
       "      <td>0.000039</td>\n",
       "    </tr>\n",
       "  </tbody>\n",
       "</table>\n",
       "</div>"
      ],
      "text/plain": [
       "                                                    importance       abs\n",
       "disposition_Responsible by Default                   -0.300103  0.300103\n",
       "disposition_Responsible by Determination              0.154696  0.154696\n",
       "discount_amount                                       0.054235  0.054235\n",
       "HR_MO_12                                             -0.042075  0.042075\n",
       "agency_name_Buildings, Safety Engineering & Env...   -0.021169  0.021169\n",
       "violation_code_9-1-81(a)                             -0.020746  0.020746\n",
       "admin_fee                                             0.015384  0.015384\n",
       "lat                                                  -0.011117  0.011117\n",
       "state_fee                                             0.010937  0.010937\n",
       "lon                                                   0.006581  0.006581\n",
       "late_fee                                             -0.005425  0.005425\n",
       "HR_YR_2006                                           -0.003857  0.003857\n",
       "judgment_amount                                       0.000455  0.000455\n",
       "fine_amount                                          -0.000099  0.000099\n",
       "TI_MI                                                 0.000039  0.000039"
      ]
     },
     "execution_count": 119,
     "metadata": {
      "tags": []
     },
     "output_type": "execute_result"
    }
   ],
   "source": [
    "# Create a dataframe \n",
    "df_imp = pd.DataFrame(np.reshape(coef,-1),index=sel_col)\n",
    "df_imp.columns = ['importance']\n",
    "\n",
    "# Create a new column for absolute values to sort elements efficiently.\n",
    "df_imp['abs'] = abs(df_imp['importance'])\n",
    "\n",
    "# Exclude 0 coefficients.\n",
    "df_imp = df_imp[df_imp['abs']>0]\n",
    "\n",
    "# Sort\n",
    "df_imp.sort_values('abs',ascending=False)"
   ]
  },
  {
   "cell_type": "code",
   "execution_count": 120,
   "metadata": {
    "colab": {
     "base_uri": "https://localhost:8080/",
     "height": 518
    },
    "colab_type": "code",
    "collapsed": false,
    "id": "JPkC6mSkl6kG",
    "outputId": "c6cc8f24-e3d0-431e-ad11-e6bb5aa3d72b"
   },
   "outputs": [
    {
     "data": {
      "image/png": "[encoded data removed]",
      "text/plain": [
       "<matplotlib.figure.Figure at 0x7fc39a05a518>"
      ]
     },
     "metadata": {
      "tags": []
     },
     "output_type": "display_data"
    }
   ],
   "source": [
    "plt.figure(figsize=(10,8))\n",
    "sns.barplot(x=df_imp['abs'], y=df_imp.index);\n",
    "plt.title('Feature Importance sorted by absolute coefficients', fontsize=20);\n",
    "ax = plt.gca();\n",
    "plt.yticks(fontsize=13);"
   ]
  },
  {
   "cell_type": "markdown",
   "metadata": {
    "colab_type": "text",
    "id": "qMAQAIl-l6kH"
   },
   "source": [
    "An important thing to notice here is that the top five most important features selected by both models linearSVM and logistic regression are very similar. Especially, the top two \"disposition_Responsible by Default\" and \"disposition_Responsible by Determination\" are noticeably larger than any other features. By the fact that these two features are originally from \"disposition (judgement and judgement type)\", we can infer that among many factors, the decision made by Michigan (or Detroit city) court is very important whether the tickets will be paid on time or not. "
   ]
  },
  {
   "cell_type": "code",
   "execution_count": 0,
   "metadata": {
    "colab": {},
    "colab_type": "code",
    "collapsed": true,
    "id": "CFYtcY2Il6kH"
   },
   "outputs": [],
   "source": []
  },
  {
   "cell_type": "markdown",
   "metadata": {
    "colab_type": "text",
    "id": "mJJN3aFYl6kH"
   },
   "source": [
    "## 8 Learning Curve\n",
    "Below is the criterion how well the models perform:<br>\n",
    "- If two curves are close to each other and both of them have a low score. The model suffers from an under-fitting problem (High Bias)\n",
    "- If training curve performs much better but validation curve has a lower score, then we can say the model suffers from an over-fitting problem (High Variance)"
   ]
  },
  {
   "cell_type": "code",
   "execution_count": 0,
   "metadata": {
    "colab": {},
    "colab_type": "code",
    "collapsed": true,
    "id": "Kht_7qsGl6kH"
   },
   "outputs": [],
   "source": [
    "from sklearn.model_selection import learning_curve"
   ]
  },
  {
   "cell_type": "code",
   "execution_count": 122,
   "metadata": {
    "colab": {
     "base_uri": "https://localhost:8080/",
     "height": 848
    },
    "colab_type": "code",
    "collapsed": false,
    "id": "bCFZeoqZl6kJ",
    "outputId": "ea354aee-a8e0-48e1-c336-9235862e717e"
   },
   "outputs": [
    {
     "data": {
      "image/png": "[encoded data removed]",
      "text/plain": [
       "<matplotlib.figure.Figure at 0x7fc388761860>"
      ]
     },
     "metadata": {
      "tags": []
     },
     "output_type": "display_data"
    },
    {
     "data": {
      "image/png": "[encoded data removed]",
      "text/plain": [
       "<matplotlib.figure.Figure at 0x7fc388564668>"
      ]
     },
     "metadata": {
      "tags": []
     },
     "output_type": "display_data"
    },
    {
     "data": {
      "image/png": "[encoded data removed]",
      "text/plain": [
       "<matplotlib.figure.Figure at 0x7fc3884f70b8>"
      ]
     },
     "metadata": {
      "tags": []
     },
     "output_type": "display_data"
    }
   ],
   "source": [
    "def lcplot(model,X,y,title,train_sizes=np.linspace(0.1,1.0,5)):\n",
    "    \n",
    "    train_sizes, train_scores, test_scores = learning_curve(model,X,y,cv=kfold,n_jobs=1,train_sizes=train_sizes,scoring='roc_auc')\n",
    "    \n",
    "    train_scores_mean = np.mean(train_scores,axis=1)\n",
    "    train_scores_std = np.std(train_scores,axis=1)\n",
    "    \n",
    "    test_scores_mean = np.mean(test_scores,axis=1)\n",
    "    test_scores_std = np.std(test_scores,axis=1)\n",
    "    \n",
    "    plt.figure()\n",
    "    plt.title(title)\n",
    "    plt.xlabel(\"Training size\")\n",
    "    plt.ylabel(\"ROC_AUC Score\")\n",
    "    plt.grid()\n",
    "    \n",
    "    plt.fill_between(train_sizes, train_scores_mean - train_scores_std,\n",
    "                    train_scores_mean + train_scores_std, alpha = 0.1, color='r')\n",
    "    plt.fill_between(train_sizes, test_scores_mean - test_scores_std,\n",
    "                    test_scores_mean + test_scores_std, alpha = 0.1, color='g')\n",
    "    plt.plot(train_sizes,train_scores_mean, 'o-', color='r', label='Training Score')\n",
    "    plt.plot(train_sizes,test_scores_mean, 'o-', color='g', label='CV score')\n",
    "    plt.legend(loc='best')\n",
    "    return plt\n",
    "\n",
    "g = lcplot(lrCV.best_estimator_,X_train_sel,y,\"Logistic Regression\")\n",
    "g = lcplot(gs_sv.best_estimator_,X_train_sel,y,\"Support Vector Machine\")\n",
    "g = lcplot(gs_bnb.best_estimator_,X_train_sel,y,\"Naive Bayes\")\n"
   ]
  },
  {
   "cell_type": "markdown",
   "metadata": {
    "colab_type": "text",
    "id": "VzUlIF2Sl6kK"
   },
   "source": [
    "   Let's start with logistic regression learning curves. By the fact that the plot is showing the two curves are close to each other, we can say it is not clearly over-fitted model. Also, the validation score is not too low and at the same time the training score is not too high. As the sample size increases along x-axis, the initial segment of the validation curve is increasing as well; however, as the curve reaches the end, both curves are plateaued out. We can conclude that the model is neither over-fitted nor under-fitted. \n",
    "   For SVM learning curves, the gap between two curves indicates that the model suffers from variance (but not significantly high) and it would be improved by getting more samples (because the validation curve could converge toward the training curve if more training samples were added) or reducing more features. \n",
    "   On the other hand, Naive Bayes learning curves seem to suffer from bias, which means the model is under-fitted. As evidences, the score is not that high compared to other models and at the same time, the curves are roughly horizontal line (not increasing or decreasing). Unlike the SVM case, adding more data is very unlikely to help since the two curves have already converged. Perhaps we can fix the problem by adding more complexity by adding more features such as polynomial or any features representing interactions between features."
   ]
  },
  {
   "cell_type": "code",
   "execution_count": 0,
   "metadata": {
    "colab": {},
    "colab_type": "code",
    "collapsed": true,
    "id": "U9eHTRwal6kK"
   },
   "outputs": [],
   "source": []
  },
  {
   "cell_type": "markdown",
   "metadata": {
    "colab_type": "text",
    "id": "A3uqlkNhl6kL"
   },
   "source": [
    "## 9. Conclusion\n",
    "\n",
    "As instructed at the beginning, the source of the dataset is from Coursera. Therefore this project is originally designed for the students who register the course Applied Machine Learning in Python held by University of Michigan, Ann Arbor. I took this course and submitted my first copy about an year ago. I was able to score 79 percent (above 75 is the passing with full credit) of accuracy (roc_auc) in test data set.\n",
    "This notebook is completely different than the notebook that I submitted an year ago and put definitely more effort to polish and used various approaches to achieve better performance.\n",
    "\n",
    "By redoing this project, I could refresh my knowledge that I have not used for a long time and reinforce important machine learning concepts that I thought that I understood.\n",
    "\n",
    "There are a few difficulties I encountered while I was working on the project. One of them was that I could not check my predictions directly with test dataset labels (y-test). \n",
    "As mentioned,  I took this course about an year ago so I cannot access to this course any more. Seemingly, Kaggle also provides the same dataset; however, the competition is open for only limited participants and blocked a submission. It is a shame that many metrics for imbalanced datasets such as __F score, AUC_ROC score, recall, precision, etc__ cannot be used due to a dearth of test target variable data. As a solution for this, I used a learning curve to check the validity of my models.  \n",
    "\n",
    "The other difficulty that I can think of is there are a lot of typos and erroneous data in the dataset especially geographical information such as address, state, country etc. I had to do a lot of manual work with google map to correct these errors. Luckily a lot of typos are concentrated in international mailing address e.g. Tokyo is classified as city in US or Waterloo which is very popular city name in many western countries is considered as missing values on country column or the address even does not exist in google map, etc. Also the abbreviation for US states are erroneously denoted e.g Nebraska should be denoted as NE not NB. Virginia should be VA not VI which is Virgin Island. \n",
    "\n",
    "Lastly, due to the constraint of my laptop's memory and lack of CPU power, I only considered simple models such as Logistic Regression, Linear Support Vector Machine and Naive Bayes; however, if your system is sustanable enough to run more complex models including Random Forest or Boostings, I highly recommend using them or attempting to combine them by other ensemble methods (e.g stacking or blending) to improve the performance. For feature selection, feel free to try other methods, some of which are recursive feature engineering, univariate ANOVA, manuel selection (I was able to score slightly higher accuracy by dropping inspector_name column instead of feature selection by Random Forest; however, I decided to stick with feature selection method here.) or even PCA. "
   ]
  },
  {
   "cell_type": "code",
   "execution_count": null,
   "metadata": {
    "collapsed": true
   },
   "outputs": [],
   "source": []
  }
 ],
 "metadata": {
  "accelerator": "GPU",
  "colab": {
   "collapsed_sections": [],
   "name": "Assignment+4-re.ipynb",
   "provenance": [],
   "version": "0.3.2"
  },
  "kernelspec": {
   "display_name": "Python 3",
   "language": "python",
   "name": "python3"
  },
  "language_info": {
   "codemirror_mode": {
    "name": "ipython",
    "version": 3
   },
   "file_extension": ".py",
   "mimetype": "text/x-python",
   "name": "python",
   "nbconvert_exporter": "python",
   "pygments_lexer": "ipython3",
   "version": "3.6.0"
  }
 },
 "nbformat": 4,
 "nbformat_minor": 0
}
